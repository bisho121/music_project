{
 "cells": [
  {
   "cell_type": "code",
   "execution_count": 116,
   "id": "99f49738",
   "metadata": {},
   "outputs": [],
   "source": [
    "import pandas as pd\n",
    "import numpy as np\n",
    "import matplotlib.pyplot as plt\n",
    "from sklearn.model_selection import GridSearchCV\n",
    "from sklearn.metrics import classification_report\n",
    "from sklearn.metrics import confusion_matrix\n",
    "from sklearn.svm import SVC\n",
    "from sklearn.datasets import load_digits\n",
    "from sklearn.datasets import fetch_lfw_people\n",
    "import time\n",
    "from sklearn.datasets import make_circles\n",
    "from mpl_toolkits.mplot3d import Axes3D\n",
    "from sklearn.model_selection import train_test_split\n",
    "import statsmodels.api as sm\n",
    "from sklearn.neighbors import KNeighborsClassifier\n",
    "from sklearn.metrics import accuracy_score, classification_report\n"
   ]
  },
  {
   "cell_type": "code",
   "execution_count": 117,
   "id": "31be9882",
   "metadata": {},
   "outputs": [],
   "source": [
    "import os\n",
    "import spotipy\n",
    "from spotipy.oauth2 import SpotifyClientCredentials\n",
    "from youtubesearchpython import VideosSearch\n",
    "\n",
    "\n",
    "# Replace with your own credentials\n",
    "client_id = '733b9bea3f154a83be8779e9180bf784'\n",
    "client_secret = '2c5a00122b8940a9969092fc798bb595'\n",
    "\n",
    "# Set environment variables\n",
    "os.environ['SPOTIPY_CLIENT_ID'] = client_id\n",
    "os.environ['SPOTIPY_CLIENT_SECRET'] = client_secret\n",
    "\n",
    "spotify = spotipy.Spotify(client_credentials_manager=SpotifyClientCredentials())"
   ]
  },
  {
   "cell_type": "code",
   "execution_count": 118,
   "id": "09c1c4bc",
   "metadata": {},
   "outputs": [
    {
     "data": {
      "text/html": [
       "<div>\n",
       "<style scoped>\n",
       "    .dataframe tbody tr th:only-of-type {\n",
       "        vertical-align: middle;\n",
       "    }\n",
       "\n",
       "    .dataframe tbody tr th {\n",
       "        vertical-align: top;\n",
       "    }\n",
       "\n",
       "    .dataframe thead th {\n",
       "        text-align: right;\n",
       "    }\n",
       "</style>\n",
       "<table border=\"1\" class=\"dataframe\">\n",
       "  <thead>\n",
       "    <tr style=\"text-align: right;\">\n",
       "      <th></th>\n",
       "      <th>acousticness</th>\n",
       "      <th>danceability</th>\n",
       "      <th>energy</th>\n",
       "      <th>instrumentalness</th>\n",
       "      <th>liveness</th>\n",
       "      <th>loudness</th>\n",
       "      <th>speechiness</th>\n",
       "      <th>tempo</th>\n",
       "      <th>valence</th>\n",
       "      <th>popularity</th>\n",
       "    </tr>\n",
       "  </thead>\n",
       "  <tbody>\n",
       "    <tr>\n",
       "      <th>0</th>\n",
       "      <td>0.979333</td>\n",
       "      <td>0.162883</td>\n",
       "      <td>0.071317</td>\n",
       "      <td>0.606834</td>\n",
       "      <td>0.361600</td>\n",
       "      <td>-31.514333</td>\n",
       "      <td>0.040567</td>\n",
       "      <td>75.336500</td>\n",
       "      <td>0.103783</td>\n",
       "      <td>27.833333</td>\n",
       "    </tr>\n",
       "    <tr>\n",
       "      <th>1</th>\n",
       "      <td>0.494780</td>\n",
       "      <td>0.299333</td>\n",
       "      <td>0.450678</td>\n",
       "      <td>0.477762</td>\n",
       "      <td>0.131000</td>\n",
       "      <td>-16.854000</td>\n",
       "      <td>0.076817</td>\n",
       "      <td>120.285667</td>\n",
       "      <td>0.221750</td>\n",
       "      <td>52.500000</td>\n",
       "    </tr>\n",
       "    <tr>\n",
       "      <th>2</th>\n",
       "      <td>0.762000</td>\n",
       "      <td>0.712000</td>\n",
       "      <td>0.818000</td>\n",
       "      <td>0.876000</td>\n",
       "      <td>0.126000</td>\n",
       "      <td>-9.180000</td>\n",
       "      <td>0.047000</td>\n",
       "      <td>133.444000</td>\n",
       "      <td>0.975000</td>\n",
       "      <td>48.000000</td>\n",
       "    </tr>\n",
       "    <tr>\n",
       "      <th>3</th>\n",
       "      <td>0.651417</td>\n",
       "      <td>0.529093</td>\n",
       "      <td>0.419146</td>\n",
       "      <td>0.205309</td>\n",
       "      <td>0.218696</td>\n",
       "      <td>-12.288965</td>\n",
       "      <td>0.107872</td>\n",
       "      <td>112.857352</td>\n",
       "      <td>0.513604</td>\n",
       "      <td>20.859882</td>\n",
       "    </tr>\n",
       "    <tr>\n",
       "      <th>4</th>\n",
       "      <td>0.676557</td>\n",
       "      <td>0.538961</td>\n",
       "      <td>0.316434</td>\n",
       "      <td>0.003003</td>\n",
       "      <td>0.172254</td>\n",
       "      <td>-12.479387</td>\n",
       "      <td>0.082851</td>\n",
       "      <td>112.110362</td>\n",
       "      <td>0.448249</td>\n",
       "      <td>45.820071</td>\n",
       "    </tr>\n",
       "    <tr>\n",
       "      <th>...</th>\n",
       "      <td>...</td>\n",
       "      <td>...</td>\n",
       "      <td>...</td>\n",
       "      <td>...</td>\n",
       "      <td>...</td>\n",
       "      <td>...</td>\n",
       "      <td>...</td>\n",
       "      <td>...</td>\n",
       "      <td>...</td>\n",
       "      <td>...</td>\n",
       "    </tr>\n",
       "    <tr>\n",
       "      <th>2968</th>\n",
       "      <td>0.222625</td>\n",
       "      <td>0.547082</td>\n",
       "      <td>0.610240</td>\n",
       "      <td>0.143872</td>\n",
       "      <td>0.204206</td>\n",
       "      <td>-11.295878</td>\n",
       "      <td>0.061088</td>\n",
       "      <td>125.494919</td>\n",
       "      <td>0.596155</td>\n",
       "      <td>33.778943</td>\n",
       "    </tr>\n",
       "    <tr>\n",
       "      <th>2969</th>\n",
       "      <td>0.161000</td>\n",
       "      <td>0.863000</td>\n",
       "      <td>0.909000</td>\n",
       "      <td>0.000000</td>\n",
       "      <td>0.108000</td>\n",
       "      <td>-5.985000</td>\n",
       "      <td>0.081300</td>\n",
       "      <td>119.038000</td>\n",
       "      <td>0.845000</td>\n",
       "      <td>58.000000</td>\n",
       "    </tr>\n",
       "    <tr>\n",
       "      <th>2970</th>\n",
       "      <td>0.263261</td>\n",
       "      <td>0.748889</td>\n",
       "      <td>0.622444</td>\n",
       "      <td>0.257227</td>\n",
       "      <td>0.089678</td>\n",
       "      <td>-10.289222</td>\n",
       "      <td>0.038778</td>\n",
       "      <td>101.965222</td>\n",
       "      <td>0.824111</td>\n",
       "      <td>46.666667</td>\n",
       "    </tr>\n",
       "    <tr>\n",
       "      <th>2971</th>\n",
       "      <td>0.993000</td>\n",
       "      <td>0.705667</td>\n",
       "      <td>0.172667</td>\n",
       "      <td>0.468633</td>\n",
       "      <td>0.179667</td>\n",
       "      <td>-11.453333</td>\n",
       "      <td>0.348667</td>\n",
       "      <td>91.278000</td>\n",
       "      <td>0.739000</td>\n",
       "      <td>0.000000</td>\n",
       "    </tr>\n",
       "    <tr>\n",
       "      <th>2972</th>\n",
       "      <td>0.421038</td>\n",
       "      <td>0.629409</td>\n",
       "      <td>0.609369</td>\n",
       "      <td>0.019248</td>\n",
       "      <td>0.255877</td>\n",
       "      <td>-9.854825</td>\n",
       "      <td>0.050491</td>\n",
       "      <td>126.366087</td>\n",
       "      <td>0.808544</td>\n",
       "      <td>30.261905</td>\n",
       "    </tr>\n",
       "  </tbody>\n",
       "</table>\n",
       "<p>2973 rows × 10 columns</p>\n",
       "</div>"
      ],
      "text/plain": [
       "      acousticness  danceability    energy  instrumentalness  liveness  \\\n",
       "0         0.979333      0.162883  0.071317          0.606834  0.361600   \n",
       "1         0.494780      0.299333  0.450678          0.477762  0.131000   \n",
       "2         0.762000      0.712000  0.818000          0.876000  0.126000   \n",
       "3         0.651417      0.529093  0.419146          0.205309  0.218696   \n",
       "4         0.676557      0.538961  0.316434          0.003003  0.172254   \n",
       "...            ...           ...       ...               ...       ...   \n",
       "2968      0.222625      0.547082  0.610240          0.143872  0.204206   \n",
       "2969      0.161000      0.863000  0.909000          0.000000  0.108000   \n",
       "2970      0.263261      0.748889  0.622444          0.257227  0.089678   \n",
       "2971      0.993000      0.705667  0.172667          0.468633  0.179667   \n",
       "2972      0.421038      0.629409  0.609369          0.019248  0.255877   \n",
       "\n",
       "       loudness  speechiness       tempo   valence  popularity  \n",
       "0    -31.514333     0.040567   75.336500  0.103783   27.833333  \n",
       "1    -16.854000     0.076817  120.285667  0.221750   52.500000  \n",
       "2     -9.180000     0.047000  133.444000  0.975000   48.000000  \n",
       "3    -12.288965     0.107872  112.857352  0.513604   20.859882  \n",
       "4    -12.479387     0.082851  112.110362  0.448249   45.820071  \n",
       "...         ...          ...         ...       ...         ...  \n",
       "2968 -11.295878     0.061088  125.494919  0.596155   33.778943  \n",
       "2969  -5.985000     0.081300  119.038000  0.845000   58.000000  \n",
       "2970 -10.289222     0.038778  101.965222  0.824111   46.666667  \n",
       "2971 -11.453333     0.348667   91.278000  0.739000    0.000000  \n",
       "2972  -9.854825     0.050491  126.366087  0.808544   30.261905  \n",
       "\n",
       "[2973 rows x 10 columns]"
      ]
     },
     "execution_count": 118,
     "metadata": {},
     "output_type": "execute_result"
    }
   ],
   "source": [
    "new_data = pd.read_csv(\"data_by_genres.csv\")\n",
    "\n",
    "new_data.drop(columns = ['mode', 'genres', 'key', 'duration_ms'], inplace = True)\n",
    "\n",
    "new_data\n"
   ]
  },
  {
   "cell_type": "code",
   "execution_count": 76,
   "id": "4c4beef4",
   "metadata": {},
   "outputs": [
    {
     "name": "stdout",
     "output_type": "stream",
     "text": [
      "{'acousticness': 0.185, 'danceability': 0.673, 'energy': 0.886, 'instrumentalness': 0, 'liveness': 0.0826, 'loudness': -4.44, 'speechiness': 0.0431, 'tempo': 97.012, 'valence': 0.795, 'popularity': 83}\n"
     ]
    },
    {
     "name": "stderr",
     "output_type": "stream",
     "text": [
      "/var/folders/_g/d3gd43912fnd1ygsn8rm91dw0000gn/T/ipykernel_49151/3526264110.py:46: FutureWarning: The frame.append method is deprecated and will be removed from pandas in a future version. Use pandas.concat instead.\n",
      "  new_data = new_data.append(row, ignore_index=True)\n"
     ]
    },
    {
     "name": "stdout",
     "output_type": "stream",
     "text": [
      "{'acousticness': 0.241, 'danceability': 0.749, 'energy': 0.925, 'instrumentalness': 0, 'liveness': 0.52, 'loudness': -5.034, 'speechiness': 0.227, 'tempo': 86.989, 'valence': 0.641, 'popularity': 85}\n"
     ]
    },
    {
     "name": "stderr",
     "output_type": "stream",
     "text": [
      "/var/folders/_g/d3gd43912fnd1ygsn8rm91dw0000gn/T/ipykernel_49151/3526264110.py:46: FutureWarning: The frame.append method is deprecated and will be removed from pandas in a future version. Use pandas.concat instead.\n",
      "  new_data = new_data.append(row, ignore_index=True)\n"
     ]
    },
    {
     "name": "stdout",
     "output_type": "stream",
     "text": [
      "{'acousticness': 0.0991, 'danceability': 0.755, 'energy': 0.837, 'instrumentalness': 0, 'liveness': 0.289, 'loudness': -2.718, 'speechiness': 0.142, 'tempo': 120.028, 'valence': 0.714, 'popularity': 83}\n"
     ]
    },
    {
     "name": "stderr",
     "output_type": "stream",
     "text": [
      "/var/folders/_g/d3gd43912fnd1ygsn8rm91dw0000gn/T/ipykernel_49151/3526264110.py:46: FutureWarning: The frame.append method is deprecated and will be removed from pandas in a future version. Use pandas.concat instead.\n",
      "  new_data = new_data.append(row, ignore_index=True)\n"
     ]
    },
    {
     "name": "stdout",
     "output_type": "stream",
     "text": [
      "{'acousticness': 0.00314, 'danceability': 0.696, 'energy': 0.921, 'instrumentalness': 5.24e-05, 'liveness': 0.0842, 'loudness': -3.755, 'speechiness': 0.0363, 'tempo': 119.001, 'valence': 0.714, 'popularity': 84}\n"
     ]
    },
    {
     "name": "stderr",
     "output_type": "stream",
     "text": [
      "/var/folders/_g/d3gd43912fnd1ygsn8rm91dw0000gn/T/ipykernel_49151/3526264110.py:46: FutureWarning: The frame.append method is deprecated and will be removed from pandas in a future version. Use pandas.concat instead.\n",
      "  new_data = new_data.append(row, ignore_index=True)\n"
     ]
    },
    {
     "name": "stdout",
     "output_type": "stream",
     "text": [
      "{'acousticness': 0.0134, 'danceability': 0.635, 'energy': 0.841, 'instrumentalness': 0, 'liveness': 0.0622, 'loudness': -5.379, 'speechiness': 0.0422, 'tempo': 109.021, 'valence': 0.424, 'popularity': 84}\n"
     ]
    },
    {
     "name": "stderr",
     "output_type": "stream",
     "text": [
      "/var/folders/_g/d3gd43912fnd1ygsn8rm91dw0000gn/T/ipykernel_49151/3526264110.py:46: FutureWarning: The frame.append method is deprecated and will be removed from pandas in a future version. Use pandas.concat instead.\n",
      "  new_data = new_data.append(row, ignore_index=True)\n"
     ]
    },
    {
     "name": "stdout",
     "output_type": "stream",
     "text": [
      "{'acousticness': 0.0401, 'danceability': 0.728, 'energy': 0.859, 'instrumentalness': 0, 'liveness': 0.111, 'loudness': -5.237, 'speechiness': 0.137, 'tempo': 65.043, 'valence': 0.535, 'popularity': 83}\n"
     ]
    },
    {
     "name": "stderr",
     "output_type": "stream",
     "text": [
      "/var/folders/_g/d3gd43912fnd1ygsn8rm91dw0000gn/T/ipykernel_49151/3526264110.py:46: FutureWarning: The frame.append method is deprecated and will be removed from pandas in a future version. Use pandas.concat instead.\n",
      "  new_data = new_data.append(row, ignore_index=True)\n"
     ]
    },
    {
     "name": "stdout",
     "output_type": "stream",
     "text": [
      "{'acousticness': 0.00379, 'danceability': 0.751, 'energy': 0.783, 'instrumentalness': 0, 'liveness': 0.036, 'loudness': -3.724, 'speechiness': 0.0859, 'tempo': 119.975, 'valence': 0.816, 'popularity': 82}\n"
     ]
    },
    {
     "name": "stderr",
     "output_type": "stream",
     "text": [
      "/var/folders/_g/d3gd43912fnd1ygsn8rm91dw0000gn/T/ipykernel_49151/3526264110.py:46: FutureWarning: The frame.append method is deprecated and will be removed from pandas in a future version. Use pandas.concat instead.\n",
      "  new_data = new_data.append(row, ignore_index=True)\n"
     ]
    },
    {
     "name": "stdout",
     "output_type": "stream",
     "text": [
      "{'acousticness': 0.0717, 'danceability': 0.516, 'energy': 0.764, 'instrumentalness': 0, 'liveness': 0.115, 'loudness': -6.223, 'speechiness': 0.0366, 'tempo': 148.021, 'valence': 0.376, 'popularity': 77}\n"
     ]
    },
    {
     "name": "stderr",
     "output_type": "stream",
     "text": [
      "/var/folders/_g/d3gd43912fnd1ygsn8rm91dw0000gn/T/ipykernel_49151/3526264110.py:46: FutureWarning: The frame.append method is deprecated and will be removed from pandas in a future version. Use pandas.concat instead.\n",
      "  new_data = new_data.append(row, ignore_index=True)\n"
     ]
    },
    {
     "name": "stdout",
     "output_type": "stream",
     "text": [
      "{'acousticness': 0.74, 'danceability': 0.484, 'energy': 0.368, 'instrumentalness': 3.82e-05, 'liveness': 0.118, 'loudness': -7.784, 'speechiness': 0.0341, 'tempo': 92.923, 'valence': 0.142, 'popularity': 73}\n"
     ]
    },
    {
     "name": "stderr",
     "output_type": "stream",
     "text": [
      "/var/folders/_g/d3gd43912fnd1ygsn8rm91dw0000gn/T/ipykernel_49151/3526264110.py:46: FutureWarning: The frame.append method is deprecated and will be removed from pandas in a future version. Use pandas.concat instead.\n",
      "  new_data = new_data.append(row, ignore_index=True)\n"
     ]
    },
    {
     "name": "stdout",
     "output_type": "stream",
     "text": [
      "{'acousticness': 0.112, 'danceability': 0.789, 'energy': 0.706, 'instrumentalness': 1.71e-05, 'liveness': 0.0586, 'loudness': -4.233, 'speechiness': 0.0429, 'tempo': 125.911, 'valence': 0.638, 'popularity': 84}\n"
     ]
    },
    {
     "name": "stderr",
     "output_type": "stream",
     "text": [
      "/var/folders/_g/d3gd43912fnd1ygsn8rm91dw0000gn/T/ipykernel_49151/3526264110.py:46: FutureWarning: The frame.append method is deprecated and will be removed from pandas in a future version. Use pandas.concat instead.\n",
      "  new_data = new_data.append(row, ignore_index=True)\n"
     ]
    },
    {
     "name": "stdout",
     "output_type": "stream",
     "text": [
      "{'acousticness': 0.0283, 'danceability': 0.616, 'energy': 0.869, 'instrumentalness': 0, 'liveness': 0.064, 'loudness': -3.911, 'speechiness': 0.0327, 'tempo': 127.966, 'valence': 0.473, 'popularity': 78}\n"
     ]
    },
    {
     "name": "stderr",
     "output_type": "stream",
     "text": [
      "/var/folders/_g/d3gd43912fnd1ygsn8rm91dw0000gn/T/ipykernel_49151/3526264110.py:46: FutureWarning: The frame.append method is deprecated and will be removed from pandas in a future version. Use pandas.concat instead.\n",
      "  new_data = new_data.append(row, ignore_index=True)\n"
     ]
    },
    {
     "name": "stdout",
     "output_type": "stream",
     "text": [
      "{'acousticness': 0.332, 'danceability': 0.621, 'energy': 0.82, 'instrumentalness': 0, 'liveness': 0.104, 'loudness': -4.865, 'speechiness': 0.0367, 'tempo': 144.905, 'valence': 0.452, 'popularity': 76}\n"
     ]
    },
    {
     "name": "stderr",
     "output_type": "stream",
     "text": [
      "/var/folders/_g/d3gd43912fnd1ygsn8rm91dw0000gn/T/ipykernel_49151/3526264110.py:46: FutureWarning: The frame.append method is deprecated and will be removed from pandas in a future version. Use pandas.concat instead.\n",
      "  new_data = new_data.append(row, ignore_index=True)\n"
     ]
    },
    {
     "name": "stdout",
     "output_type": "stream",
     "text": [
      "{'acousticness': 0.179, 'danceability': 0.768, 'energy': 0.82, 'instrumentalness': 0, 'liveness': 0.689, 'loudness': -4.63, 'speechiness': 0.0474, 'tempo': 129.965, 'valence': 0.625, 'popularity': 77}\n"
     ]
    },
    {
     "name": "stderr",
     "output_type": "stream",
     "text": [
      "/var/folders/_g/d3gd43912fnd1ygsn8rm91dw0000gn/T/ipykernel_49151/3526264110.py:46: FutureWarning: The frame.append method is deprecated and will be removed from pandas in a future version. Use pandas.concat instead.\n",
      "  new_data = new_data.append(row, ignore_index=True)\n"
     ]
    },
    {
     "name": "stdout",
     "output_type": "stream",
     "text": [
      "{'acousticness': 0.00587, 'danceability': 0.825, 'energy': 0.832, 'instrumentalness': 0.000789, 'liveness': 0.114, 'loudness': -5.853, 'speechiness': 0.0403, 'tempo': 122.021, 'valence': 0.713, 'popularity': 73}\n"
     ]
    },
    {
     "name": "stderr",
     "output_type": "stream",
     "text": [
      "/var/folders/_g/d3gd43912fnd1ygsn8rm91dw0000gn/T/ipykernel_49151/3526264110.py:46: FutureWarning: The frame.append method is deprecated and will be removed from pandas in a future version. Use pandas.concat instead.\n",
      "  new_data = new_data.append(row, ignore_index=True)\n"
     ]
    },
    {
     "name": "stdout",
     "output_type": "stream",
     "text": [
      "{'acousticness': 0.00676, 'danceability': 0.435, 'energy': 0.837, 'instrumentalness': 0, 'liveness': 0.117, 'loudness': -8.126, 'speechiness': 0.449, 'tempo': 124.913, 'valence': 0.778, 'popularity': 71}\n"
     ]
    },
    {
     "name": "stderr",
     "output_type": "stream",
     "text": [
      "/var/folders/_g/d3gd43912fnd1ygsn8rm91dw0000gn/T/ipykernel_49151/3526264110.py:46: FutureWarning: The frame.append method is deprecated and will be removed from pandas in a future version. Use pandas.concat instead.\n",
      "  new_data = new_data.append(row, ignore_index=True)\n"
     ]
    },
    {
     "name": "stdout",
     "output_type": "stream",
     "text": [
      "{'acousticness': 0.198, 'danceability': 0.781, 'energy': 0.745, 'instrumentalness': 1.14e-05, 'liveness': 0.36, 'loudness': -5.81, 'speechiness': 0.0332, 'tempo': 129.998, 'valence': 0.326, 'popularity': 75}\n"
     ]
    },
    {
     "name": "stderr",
     "output_type": "stream",
     "text": [
      "/var/folders/_g/d3gd43912fnd1ygsn8rm91dw0000gn/T/ipykernel_49151/3526264110.py:46: FutureWarning: The frame.append method is deprecated and will be removed from pandas in a future version. Use pandas.concat instead.\n",
      "  new_data = new_data.append(row, ignore_index=True)\n"
     ]
    },
    {
     "name": "stdout",
     "output_type": "stream",
     "text": [
      "{'acousticness': 0.0348, 'danceability': 0.734, 'energy': 0.639, 'instrumentalness': 0, 'liveness': 0.102, 'loudness': -3.241, 'speechiness': 0.0316, 'tempo': 121.212, 'valence': 0.836, 'popularity': 66}\n"
     ]
    },
    {
     "name": "stderr",
     "output_type": "stream",
     "text": [
      "/var/folders/_g/d3gd43912fnd1ygsn8rm91dw0000gn/T/ipykernel_49151/3526264110.py:46: FutureWarning: The frame.append method is deprecated and will be removed from pandas in a future version. Use pandas.concat instead.\n",
      "  new_data = new_data.append(row, ignore_index=True)\n"
     ]
    },
    {
     "name": "stdout",
     "output_type": "stream",
     "text": [
      "{'acousticness': 0.0661, 'danceability': 0.816, 'energy': 0.814, 'instrumentalness': 2.76e-06, 'liveness': 0.602, 'loudness': -7.798, 'speechiness': 0.0663, 'tempo': 127.978, 'valence': 0.436, 'popularity': 21}\n"
     ]
    },
    {
     "name": "stderr",
     "output_type": "stream",
     "text": [
      "/var/folders/_g/d3gd43912fnd1ygsn8rm91dw0000gn/T/ipykernel_49151/3526264110.py:46: FutureWarning: The frame.append method is deprecated and will be removed from pandas in a future version. Use pandas.concat instead.\n",
      "  new_data = new_data.append(row, ignore_index=True)\n"
     ]
    },
    {
     "name": "stdout",
     "output_type": "stream",
     "text": [
      "{'acousticness': 0.000358, 'danceability': 0.626, 'energy': 0.799, 'instrumentalness': 0.00155, 'liveness': 0.36, 'loudness': -6.612, 'speechiness': 0.046, 'tempo': 98.992, 'valence': 0.369, 'popularity': 69}\n"
     ]
    },
    {
     "name": "stderr",
     "output_type": "stream",
     "text": [
      "/var/folders/_g/d3gd43912fnd1ygsn8rm91dw0000gn/T/ipykernel_49151/3526264110.py:46: FutureWarning: The frame.append method is deprecated and will be removed from pandas in a future version. Use pandas.concat instead.\n",
      "  new_data = new_data.append(row, ignore_index=True)\n"
     ]
    },
    {
     "name": "stdout",
     "output_type": "stream",
     "text": [
      "{'acousticness': 0.00681, 'danceability': 0.826, 'energy': 0.612, 'instrumentalness': 0, 'liveness': 0.0889, 'loudness': -3.891, 'speechiness': 0.0982, 'tempo': 120.057, 'valence': 0.756, 'popularity': 71}\n"
     ]
    },
    {
     "name": "stderr",
     "output_type": "stream",
     "text": [
      "/var/folders/_g/d3gd43912fnd1ygsn8rm91dw0000gn/T/ipykernel_49151/3526264110.py:46: FutureWarning: The frame.append method is deprecated and will be removed from pandas in a future version. Use pandas.concat instead.\n",
      "  new_data = new_data.append(row, ignore_index=True)\n"
     ]
    },
    {
     "name": "stdout",
     "output_type": "stream",
     "text": [
      "{'acousticness': 0.00442, 'danceability': 0.799, 'energy': 0.629, 'instrumentalness': 3.91e-05, 'liveness': 0.301, 'loudness': -6.844, 'speechiness': 0.0949, 'tempo': 130.008, 'valence': 0.392, 'popularity': 25}\n"
     ]
    },
    {
     "name": "stderr",
     "output_type": "stream",
     "text": [
      "/var/folders/_g/d3gd43912fnd1ygsn8rm91dw0000gn/T/ipykernel_49151/3526264110.py:46: FutureWarning: The frame.append method is deprecated and will be removed from pandas in a future version. Use pandas.concat instead.\n",
      "  new_data = new_data.append(row, ignore_index=True)\n"
     ]
    },
    {
     "name": "stdout",
     "output_type": "stream",
     "text": [
      "{'acousticness': 0.00706, 'danceability': 0.44, 'energy': 0.683, 'instrumentalness': 0, 'liveness': 0.0593, 'loudness': -4.732, 'speechiness': 0.0489, 'tempo': 185.948, 'valence': 0.445, 'popularity': 64}\n"
     ]
    },
    {
     "name": "stderr",
     "output_type": "stream",
     "text": [
      "/var/folders/_g/d3gd43912fnd1ygsn8rm91dw0000gn/T/ipykernel_49151/3526264110.py:46: FutureWarning: The frame.append method is deprecated and will be removed from pandas in a future version. Use pandas.concat instead.\n",
      "  new_data = new_data.append(row, ignore_index=True)\n"
     ]
    },
    {
     "name": "stdout",
     "output_type": "stream",
     "text": [
      "{'acousticness': 4.14e-05, 'danceability': 0.729, 'energy': 0.675, 'instrumentalness': 0.00126, 'liveness': 0.0867, 'loudness': -5.292, 'speechiness': 0.0286, 'tempo': 125.036, 'valence': 0.74, 'popularity': 70}\n"
     ]
    },
    {
     "name": "stderr",
     "output_type": "stream",
     "text": [
      "/var/folders/_g/d3gd43912fnd1ygsn8rm91dw0000gn/T/ipykernel_49151/3526264110.py:46: FutureWarning: The frame.append method is deprecated and will be removed from pandas in a future version. Use pandas.concat instead.\n",
      "  new_data = new_data.append(row, ignore_index=True)\n"
     ]
    },
    {
     "name": "stdout",
     "output_type": "stream",
     "text": [
      "{'acousticness': 0.0363, 'danceability': 0.712, 'energy': 0.835, 'instrumentalness': 0, 'liveness': 0.654, 'loudness': -4.177, 'speechiness': 0.0548, 'tempo': 128.788, 'valence': 0.846, 'popularity': 3}\n"
     ]
    },
    {
     "name": "stderr",
     "output_type": "stream",
     "text": [
      "/var/folders/_g/d3gd43912fnd1ygsn8rm91dw0000gn/T/ipykernel_49151/3526264110.py:46: FutureWarning: The frame.append method is deprecated and will be removed from pandas in a future version. Use pandas.concat instead.\n",
      "  new_data = new_data.append(row, ignore_index=True)\n"
     ]
    },
    {
     "name": "stdout",
     "output_type": "stream",
     "text": [
      "{'acousticness': 0.258, 'danceability': 0.529, 'energy': 0.948, 'instrumentalness': 9.35e-06, 'liveness': 0.283, 'loudness': -3.527, 'speechiness': 0.0474, 'tempo': 146.024, 'valence': 0.65, 'popularity': 68}\n"
     ]
    },
    {
     "name": "stderr",
     "output_type": "stream",
     "text": [
      "/var/folders/_g/d3gd43912fnd1ygsn8rm91dw0000gn/T/ipykernel_49151/3526264110.py:46: FutureWarning: The frame.append method is deprecated and will be removed from pandas in a future version. Use pandas.concat instead.\n",
      "  new_data = new_data.append(row, ignore_index=True)\n"
     ]
    },
    {
     "name": "stdout",
     "output_type": "stream",
     "text": [
      "{'acousticness': 0.000346, 'danceability': 0.482, 'energy': 0.833, 'instrumentalness': 0, 'liveness': 0.365, 'loudness': -5.611, 'speechiness': 0.0449, 'tempo': 148.039, 'valence': 0.74, 'popularity': 72}\n"
     ]
    },
    {
     "name": "stderr",
     "output_type": "stream",
     "text": [
      "/var/folders/_g/d3gd43912fnd1ygsn8rm91dw0000gn/T/ipykernel_49151/3526264110.py:46: FutureWarning: The frame.append method is deprecated and will be removed from pandas in a future version. Use pandas.concat instead.\n",
      "  new_data = new_data.append(row, ignore_index=True)\n"
     ]
    },
    {
     "name": "stdout",
     "output_type": "stream",
     "text": [
      "{'acousticness': 0.0185, 'danceability': 0.605, 'energy': 0.902, 'instrumentalness': 1.01e-06, 'liveness': 0.0534, 'loudness': -5.406, 'speechiness': 0.0511, 'tempo': 132.612, 'valence': 0.875, 'popularity': 68}\n"
     ]
    },
    {
     "name": "stderr",
     "output_type": "stream",
     "text": [
      "/var/folders/_g/d3gd43912fnd1ygsn8rm91dw0000gn/T/ipykernel_49151/3526264110.py:46: FutureWarning: The frame.append method is deprecated and will be removed from pandas in a future version. Use pandas.concat instead.\n",
      "  new_data = new_data.append(row, ignore_index=True)\n"
     ]
    },
    {
     "name": "stdout",
     "output_type": "stream",
     "text": [
      "{'acousticness': 0.0209, 'danceability': 0.646, 'energy': 0.94, 'instrumentalness': 0, 'liveness': 0.0691, 'loudness': -2.856, 'speechiness': 0.0838, 'tempo': 129.011, 'valence': 0.704, 'popularity': 66}\n"
     ]
    },
    {
     "name": "stderr",
     "output_type": "stream",
     "text": [
      "/var/folders/_g/d3gd43912fnd1ygsn8rm91dw0000gn/T/ipykernel_49151/3526264110.py:46: FutureWarning: The frame.append method is deprecated and will be removed from pandas in a future version. Use pandas.concat instead.\n",
      "  new_data = new_data.append(row, ignore_index=True)\n"
     ]
    },
    {
     "name": "stdout",
     "output_type": "stream",
     "text": [
      "{'acousticness': 0.0162, 'danceability': 0.719, 'energy': 0.798, 'instrumentalness': 2.34e-06, 'liveness': 0.134, 'loudness': -4.582, 'speechiness': 0.0361, 'tempo': 120.011, 'valence': 0.591, 'popularity': 75}\n"
     ]
    },
    {
     "name": "stderr",
     "output_type": "stream",
     "text": [
      "/var/folders/_g/d3gd43912fnd1ygsn8rm91dw0000gn/T/ipykernel_49151/3526264110.py:46: FutureWarning: The frame.append method is deprecated and will be removed from pandas in a future version. Use pandas.concat instead.\n",
      "  new_data = new_data.append(row, ignore_index=True)\n"
     ]
    },
    {
     "name": "stdout",
     "output_type": "stream",
     "text": [
      "{'acousticness': 0.0038, 'danceability': 0.788, 'energy': 0.753, 'instrumentalness': 0, 'liveness': 0.18, 'loudness': -3.71, 'speechiness': 0.0536, 'tempo': 125.005, 'valence': 0.403, 'popularity': 73}\n"
     ]
    },
    {
     "name": "stderr",
     "output_type": "stream",
     "text": [
      "/var/folders/_g/d3gd43912fnd1ygsn8rm91dw0000gn/T/ipykernel_49151/3526264110.py:46: FutureWarning: The frame.append method is deprecated and will be removed from pandas in a future version. Use pandas.concat instead.\n",
      "  new_data = new_data.append(row, ignore_index=True)\n"
     ]
    },
    {
     "name": "stdout",
     "output_type": "stream",
     "text": [
      "{'acousticness': 0.0452, 'danceability': 0.697, 'energy': 0.709, 'instrumentalness': 0, 'liveness': 0.138, 'loudness': -1.917, 'speechiness': 0.0455, 'tempo': 134.91, 'valence': 0.787, 'popularity': 63}\n"
     ]
    },
    {
     "name": "stderr",
     "output_type": "stream",
     "text": [
      "/var/folders/_g/d3gd43912fnd1ygsn8rm91dw0000gn/T/ipykernel_49151/3526264110.py:46: FutureWarning: The frame.append method is deprecated and will be removed from pandas in a future version. Use pandas.concat instead.\n",
      "  new_data = new_data.append(row, ignore_index=True)\n"
     ]
    },
    {
     "name": "stdout",
     "output_type": "stream",
     "text": [
      "{'acousticness': 0.0843, 'danceability': 0.752, 'energy': 0.836, 'instrumentalness': 0.000425, 'liveness': 0.424, 'loudness': -3.173, 'speechiness': 0.115, 'tempo': 120.003, 'valence': 0.519, 'popularity': 64}\n"
     ]
    },
    {
     "name": "stderr",
     "output_type": "stream",
     "text": [
      "/var/folders/_g/d3gd43912fnd1ygsn8rm91dw0000gn/T/ipykernel_49151/3526264110.py:46: FutureWarning: The frame.append method is deprecated and will be removed from pandas in a future version. Use pandas.concat instead.\n",
      "  new_data = new_data.append(row, ignore_index=True)\n"
     ]
    },
    {
     "name": "stdout",
     "output_type": "stream",
     "text": [
      "{'acousticness': 0.0981, 'danceability': 0.595, 'energy': 0.352, 'instrumentalness': 0, 'liveness': 0.359, 'loudness': -11.306, 'speechiness': 0.378, 'tempo': 183.956, 'valence': 0.497, 'popularity': 0}\n"
     ]
    },
    {
     "name": "stderr",
     "output_type": "stream",
     "text": [
      "/var/folders/_g/d3gd43912fnd1ygsn8rm91dw0000gn/T/ipykernel_49151/3526264110.py:46: FutureWarning: The frame.append method is deprecated and will be removed from pandas in a future version. Use pandas.concat instead.\n",
      "  new_data = new_data.append(row, ignore_index=True)\n"
     ]
    },
    {
     "name": "stdout",
     "output_type": "stream",
     "text": [
      "{'acousticness': 0.158, 'danceability': 0.496, 'energy': 0.821, 'instrumentalness': 0.246, 'liveness': 0.13, 'loudness': -5.155, 'speechiness': 0.112, 'tempo': 110.977, 'valence': 0.549, 'popularity': 62}\n"
     ]
    },
    {
     "name": "stderr",
     "output_type": "stream",
     "text": [
      "/var/folders/_g/d3gd43912fnd1ygsn8rm91dw0000gn/T/ipykernel_49151/3526264110.py:46: FutureWarning: The frame.append method is deprecated and will be removed from pandas in a future version. Use pandas.concat instead.\n",
      "  new_data = new_data.append(row, ignore_index=True)\n"
     ]
    },
    {
     "name": "stdout",
     "output_type": "stream",
     "text": [
      "{'acousticness': 0.0771, 'danceability': 0.813, 'energy': 0.627, 'instrumentalness': 0.000616, 'liveness': 0.131, 'loudness': -5.018, 'speechiness': 0.0486, 'tempo': 130.011, 'valence': 0.801, 'popularity': 68}\n"
     ]
    },
    {
     "name": "stderr",
     "output_type": "stream",
     "text": [
      "/var/folders/_g/d3gd43912fnd1ygsn8rm91dw0000gn/T/ipykernel_49151/3526264110.py:46: FutureWarning: The frame.append method is deprecated and will be removed from pandas in a future version. Use pandas.concat instead.\n",
      "  new_data = new_data.append(row, ignore_index=True)\n"
     ]
    },
    {
     "name": "stdout",
     "output_type": "stream",
     "text": [
      "{'acousticness': 0.834, 'danceability': 0.286, 'energy': 0.411, 'instrumentalness': 0, 'liveness': 0.132, 'loudness': -4.94, 'speechiness': 0.0315, 'tempo': 164.1, 'valence': 0.0703, 'popularity': 53}\n"
     ]
    },
    {
     "name": "stderr",
     "output_type": "stream",
     "text": [
      "/var/folders/_g/d3gd43912fnd1ygsn8rm91dw0000gn/T/ipykernel_49151/3526264110.py:46: FutureWarning: The frame.append method is deprecated and will be removed from pandas in a future version. Use pandas.concat instead.\n",
      "  new_data = new_data.append(row, ignore_index=True)\n"
     ]
    },
    {
     "name": "stdout",
     "output_type": "stream",
     "text": [
      "{'acousticness': 0.0113, 'danceability': 0.648, 'energy': 0.908, 'instrumentalness': 0, 'liveness': 0.374, 'loudness': -4.251, 'speechiness': 0.108, 'tempo': 131.147, 'valence': 0.793, 'popularity': 58}\n"
     ]
    },
    {
     "name": "stderr",
     "output_type": "stream",
     "text": [
      "/var/folders/_g/d3gd43912fnd1ygsn8rm91dw0000gn/T/ipykernel_49151/3526264110.py:46: FutureWarning: The frame.append method is deprecated and will be removed from pandas in a future version. Use pandas.concat instead.\n",
      "  new_data = new_data.append(row, ignore_index=True)\n"
     ]
    },
    {
     "name": "stdout",
     "output_type": "stream",
     "text": [
      "{'acousticness': 0.0172, 'danceability': 0.715, 'energy': 0.907, 'instrumentalness': 8.39e-05, 'liveness': 0.426, 'loudness': -6.025, 'speechiness': 0.0993, 'tempo': 124.991, 'valence': 0.841, 'popularity': 19}\n"
     ]
    },
    {
     "name": "stderr",
     "output_type": "stream",
     "text": [
      "/var/folders/_g/d3gd43912fnd1ygsn8rm91dw0000gn/T/ipykernel_49151/3526264110.py:46: FutureWarning: The frame.append method is deprecated and will be removed from pandas in a future version. Use pandas.concat instead.\n",
      "  new_data = new_data.append(row, ignore_index=True)\n"
     ]
    },
    {
     "name": "stdout",
     "output_type": "stream",
     "text": [
      "{'acousticness': 0.0416, 'danceability': 0.492, 'energy': 0.81, 'instrumentalness': 0.00379, 'liveness': 0.117, 'loudness': -5.315, 'speechiness': 0.0847, 'tempo': 149.954, 'valence': 0.245, 'popularity': 74}\n"
     ]
    },
    {
     "name": "stderr",
     "output_type": "stream",
     "text": [
      "/var/folders/_g/d3gd43912fnd1ygsn8rm91dw0000gn/T/ipykernel_49151/3526264110.py:46: FutureWarning: The frame.append method is deprecated and will be removed from pandas in a future version. Use pandas.concat instead.\n",
      "  new_data = new_data.append(row, ignore_index=True)\n"
     ]
    },
    {
     "name": "stdout",
     "output_type": "stream",
     "text": [
      "{'acousticness': 0.473, 'danceability': 0.509, 'energy': 0.853, 'instrumentalness': 0, 'liveness': 0.122, 'loudness': -3.64, 'speechiness': 0.268, 'tempo': 150.343, 'valence': 0.72, 'popularity': 48}\n"
     ]
    },
    {
     "name": "stderr",
     "output_type": "stream",
     "text": [
      "/var/folders/_g/d3gd43912fnd1ygsn8rm91dw0000gn/T/ipykernel_49151/3526264110.py:46: FutureWarning: The frame.append method is deprecated and will be removed from pandas in a future version. Use pandas.concat instead.\n",
      "  new_data = new_data.append(row, ignore_index=True)\n"
     ]
    },
    {
     "name": "stdout",
     "output_type": "stream",
     "text": [
      "{'acousticness': 0.0121, 'danceability': 0.31, 'energy': 0.746, 'instrumentalness': 0, 'liveness': 0.649, 'loudness': -3.599, 'speechiness': 0.111, 'tempo': 182.032, 'valence': 0.163, 'popularity': 58}\n"
     ]
    },
    {
     "name": "stderr",
     "output_type": "stream",
     "text": [
      "/var/folders/_g/d3gd43912fnd1ygsn8rm91dw0000gn/T/ipykernel_49151/3526264110.py:46: FutureWarning: The frame.append method is deprecated and will be removed from pandas in a future version. Use pandas.concat instead.\n",
      "  new_data = new_data.append(row, ignore_index=True)\n"
     ]
    },
    {
     "name": "stdout",
     "output_type": "stream",
     "text": [
      "{'acousticness': 0.342, 'danceability': 0.8, 'energy': 0.692, 'instrumentalness': 1.92e-06, 'liveness': 0.0554, 'loudness': -5.57, 'speechiness': 0.0614, 'tempo': 112.002, 'valence': 0.917, 'popularity': 72}\n"
     ]
    },
    {
     "name": "stderr",
     "output_type": "stream",
     "text": [
      "/var/folders/_g/d3gd43912fnd1ygsn8rm91dw0000gn/T/ipykernel_49151/3526264110.py:46: FutureWarning: The frame.append method is deprecated and will be removed from pandas in a future version. Use pandas.concat instead.\n",
      "  new_data = new_data.append(row, ignore_index=True)\n"
     ]
    },
    {
     "name": "stdout",
     "output_type": "stream",
     "text": [
      "{'acousticness': 0.854, 'danceability': 0.227, 'energy': 0.393, 'instrumentalness': 0, 'liveness': 0.139, 'loudness': -5.99, 'speechiness': 0.0387, 'tempo': 43.26, 'valence': 0.0709, 'popularity': 52}\n"
     ]
    },
    {
     "name": "stderr",
     "output_type": "stream",
     "text": [
      "/var/folders/_g/d3gd43912fnd1ygsn8rm91dw0000gn/T/ipykernel_49151/3526264110.py:46: FutureWarning: The frame.append method is deprecated and will be removed from pandas in a future version. Use pandas.concat instead.\n",
      "  new_data = new_data.append(row, ignore_index=True)\n"
     ]
    },
    {
     "name": "stdout",
     "output_type": "stream",
     "text": [
      "{'acousticness': 0.00137, 'danceability': 0.757, 'energy': 0.812, 'instrumentalness': 0.018, 'liveness': 0.563, 'loudness': -5.178, 'speechiness': 0.0395, 'tempo': 120.015, 'valence': 0.542, 'popularity': 54}\n"
     ]
    },
    {
     "name": "stderr",
     "output_type": "stream",
     "text": [
      "/var/folders/_g/d3gd43912fnd1ygsn8rm91dw0000gn/T/ipykernel_49151/3526264110.py:46: FutureWarning: The frame.append method is deprecated and will be removed from pandas in a future version. Use pandas.concat instead.\n",
      "  new_data = new_data.append(row, ignore_index=True)\n"
     ]
    },
    {
     "name": "stdout",
     "output_type": "stream",
     "text": [
      "{'acousticness': 0.0587, 'danceability': 0.644, 'energy': 0.945, 'instrumentalness': 0, 'liveness': 0.184, 'loudness': -3.534, 'speechiness': 0.0717, 'tempo': 91.017, 'valence': 0.573, 'popularity': 54}\n"
     ]
    },
    {
     "name": "stderr",
     "output_type": "stream",
     "text": [
      "/var/folders/_g/d3gd43912fnd1ygsn8rm91dw0000gn/T/ipykernel_49151/3526264110.py:46: FutureWarning: The frame.append method is deprecated and will be removed from pandas in a future version. Use pandas.concat instead.\n",
      "  new_data = new_data.append(row, ignore_index=True)\n"
     ]
    },
    {
     "name": "stdout",
     "output_type": "stream",
     "text": [
      "{'acousticness': 0.0338, 'danceability': 0.663, 'energy': 0.861, 'instrumentalness': 0, 'liveness': 0.082, 'loudness': -3.398, 'speechiness': 0.109, 'tempo': 119.963, 'valence': 0.654, 'popularity': 81}\n"
     ]
    },
    {
     "name": "stderr",
     "output_type": "stream",
     "text": [
      "/var/folders/_g/d3gd43912fnd1ygsn8rm91dw0000gn/T/ipykernel_49151/3526264110.py:46: FutureWarning: The frame.append method is deprecated and will be removed from pandas in a future version. Use pandas.concat instead.\n",
      "  new_data = new_data.append(row, ignore_index=True)\n"
     ]
    },
    {
     "name": "stdout",
     "output_type": "stream",
     "text": [
      "{'acousticness': 0.0327, 'danceability': 0.607, 'energy': 0.934, 'instrumentalness': 0, 'liveness': 0.0909, 'loudness': -4.217, 'speechiness': 0.0314, 'tempo': 122.01, 'valence': 0.568, 'popularity': 77}\n"
     ]
    },
    {
     "name": "stderr",
     "output_type": "stream",
     "text": [
      "/var/folders/_g/d3gd43912fnd1ygsn8rm91dw0000gn/T/ipykernel_49151/3526264110.py:46: FutureWarning: The frame.append method is deprecated and will be removed from pandas in a future version. Use pandas.concat instead.\n",
      "  new_data = new_data.append(row, ignore_index=True)\n"
     ]
    },
    {
     "name": "stdout",
     "output_type": "stream",
     "text": [
      "{'acousticness': 0.0135, 'danceability': 0.666, 'energy': 0.975, 'instrumentalness': 0.000925, 'liveness': 0.105, 'loudness': -3.47, 'speechiness': 0.0345, 'tempo': 128.005, 'valence': 0.452, 'popularity': 64}\n"
     ]
    },
    {
     "name": "stderr",
     "output_type": "stream",
     "text": [
      "/var/folders/_g/d3gd43912fnd1ygsn8rm91dw0000gn/T/ipykernel_49151/3526264110.py:46: FutureWarning: The frame.append method is deprecated and will be removed from pandas in a future version. Use pandas.concat instead.\n",
      "  new_data = new_data.append(row, ignore_index=True)\n"
     ]
    },
    {
     "name": "stdout",
     "output_type": "stream",
     "text": [
      "{'acousticness': 0.309, 'danceability': 0.421, 'energy': 0.407, 'instrumentalness': 0.000961, 'liveness': 0.11, 'loudness': -7.445, 'speechiness': 0.0267, 'tempo': 139.028, 'valence': 0.161, 'popularity': 82}\n"
     ]
    },
    {
     "name": "stderr",
     "output_type": "stream",
     "text": [
      "/var/folders/_g/d3gd43912fnd1ygsn8rm91dw0000gn/T/ipykernel_49151/3526264110.py:46: FutureWarning: The frame.append method is deprecated and will be removed from pandas in a future version. Use pandas.concat instead.\n",
      "  new_data = new_data.append(row, ignore_index=True)\n"
     ]
    },
    {
     "name": "stdout",
     "output_type": "stream",
     "text": [
      "{'acousticness': 0.893, 'danceability': 0.556, 'energy': 0.319, 'instrumentalness': 0, 'liveness': 0.0996, 'loudness': -8.251, 'speechiness': 0.0281, 'tempo': 135.187, 'valence': 0.294, 'popularity': 81}\n"
     ]
    },
    {
     "name": "stderr",
     "output_type": "stream",
     "text": [
      "/var/folders/_g/d3gd43912fnd1ygsn8rm91dw0000gn/T/ipykernel_49151/3526264110.py:46: FutureWarning: The frame.append method is deprecated and will be removed from pandas in a future version. Use pandas.concat instead.\n",
      "  new_data = new_data.append(row, ignore_index=True)\n"
     ]
    },
    {
     "name": "stdout",
     "output_type": "stream",
     "text": [
      "{'acousticness': 0.191, 'danceability': 0.671, 'energy': 0.939, 'instrumentalness': 0, 'liveness': 0.298, 'loudness': -3.206, 'speechiness': 0.161, 'tempo': 129.024, 'valence': 0.53, 'popularity': 83}\n"
     ]
    },
    {
     "name": "stderr",
     "output_type": "stream",
     "text": [
      "/var/folders/_g/d3gd43912fnd1ygsn8rm91dw0000gn/T/ipykernel_49151/3526264110.py:46: FutureWarning: The frame.append method is deprecated and will be removed from pandas in a future version. Use pandas.concat instead.\n",
      "  new_data = new_data.append(row, ignore_index=True)\n"
     ]
    },
    {
     "name": "stdout",
     "output_type": "stream",
     "text": [
      "{'acousticness': 0.0134, 'danceability': 0.635, 'energy': 0.841, 'instrumentalness': 0, 'liveness': 0.0622, 'loudness': -5.379, 'speechiness': 0.0422, 'tempo': 109.021, 'valence': 0.424, 'popularity': 84}\n"
     ]
    },
    {
     "name": "stderr",
     "output_type": "stream",
     "text": [
      "/var/folders/_g/d3gd43912fnd1ygsn8rm91dw0000gn/T/ipykernel_49151/3526264110.py:46: FutureWarning: The frame.append method is deprecated and will be removed from pandas in a future version. Use pandas.concat instead.\n",
      "  new_data = new_data.append(row, ignore_index=True)\n"
     ]
    },
    {
     "name": "stdout",
     "output_type": "stream",
     "text": [
      "{'acousticness': 0.138, 'danceability': 0.73, 'energy': 0.769, 'instrumentalness': 0, 'liveness': 0.0473, 'loudness': -5.114, 'speechiness': 0.0298, 'tempo': 104.948, 'valence': 0.507, 'popularity': 81}\n"
     ]
    },
    {
     "name": "stderr",
     "output_type": "stream",
     "text": [
      "/var/folders/_g/d3gd43912fnd1ygsn8rm91dw0000gn/T/ipykernel_49151/3526264110.py:46: FutureWarning: The frame.append method is deprecated and will be removed from pandas in a future version. Use pandas.concat instead.\n",
      "  new_data = new_data.append(row, ignore_index=True)\n"
     ]
    },
    {
     "name": "stdout",
     "output_type": "stream",
     "text": [
      "{'acousticness': 0.00496, 'danceability': 0.732, 'energy': 0.899, 'instrumentalness': 4.64e-05, 'liveness': 0.372, 'loudness': -4.237, 'speechiness': 0.143, 'tempo': 127.091, 'valence': 0.759, 'popularity': 74}\n"
     ]
    },
    {
     "name": "stderr",
     "output_type": "stream",
     "text": [
      "/var/folders/_g/d3gd43912fnd1ygsn8rm91dw0000gn/T/ipykernel_49151/3526264110.py:46: FutureWarning: The frame.append method is deprecated and will be removed from pandas in a future version. Use pandas.concat instead.\n",
      "  new_data = new_data.append(row, ignore_index=True)\n"
     ]
    },
    {
     "name": "stdout",
     "output_type": "stream",
     "text": [
      "{'acousticness': 0.0111, 'danceability': 0.722, 'energy': 0.758, 'instrumentalness': 0, 'liveness': 0.308, 'loudness': -4.477, 'speechiness': 0.0471, 'tempo': 128.047, 'valence': 0.62, 'popularity': 74}\n"
     ]
    },
    {
     "name": "stderr",
     "output_type": "stream",
     "text": [
      "/var/folders/_g/d3gd43912fnd1ygsn8rm91dw0000gn/T/ipykernel_49151/3526264110.py:46: FutureWarning: The frame.append method is deprecated and will be removed from pandas in a future version. Use pandas.concat instead.\n",
      "  new_data = new_data.append(row, ignore_index=True)\n"
     ]
    },
    {
     "name": "stdout",
     "output_type": "stream",
     "text": [
      "{'acousticness': 0.0848, 'danceability': 0.652, 'energy': 0.749, 'instrumentalness': 0, 'liveness': 0.604, 'loudness': -5.248, 'speechiness': 0.0886, 'tempo': 94.103, 'valence': 0.651, 'popularity': 76}\n"
     ]
    },
    {
     "name": "stderr",
     "output_type": "stream",
     "text": [
      "/var/folders/_g/d3gd43912fnd1ygsn8rm91dw0000gn/T/ipykernel_49151/3526264110.py:46: FutureWarning: The frame.append method is deprecated and will be removed from pandas in a future version. Use pandas.concat instead.\n",
      "  new_data = new_data.append(row, ignore_index=True)\n"
     ]
    },
    {
     "name": "stdout",
     "output_type": "stream",
     "text": [
      "{'acousticness': 0.148, 'danceability': 0.704, 'energy': 0.558, 'instrumentalness': 0, 'liveness': 0.107, 'loudness': -7.273, 'speechiness': 0.0542, 'tempo': 110.444, 'valence': 0.245, 'popularity': 79}\n"
     ]
    },
    {
     "name": "stderr",
     "output_type": "stream",
     "text": [
      "/var/folders/_g/d3gd43912fnd1ygsn8rm91dw0000gn/T/ipykernel_49151/3526264110.py:46: FutureWarning: The frame.append method is deprecated and will be removed from pandas in a future version. Use pandas.concat instead.\n",
      "  new_data = new_data.append(row, ignore_index=True)\n"
     ]
    },
    {
     "name": "stdout",
     "output_type": "stream",
     "text": [
      "{'acousticness': 0.0764, 'danceability': 0.686, 'energy': 0.783, 'instrumentalness': 0, 'liveness': 0.163, 'loudness': -4.977, 'speechiness': 0.119, 'tempo': 99.978, 'valence': 0.814, 'popularity': 72}\n"
     ]
    },
    {
     "name": "stderr",
     "output_type": "stream",
     "text": [
      "/var/folders/_g/d3gd43912fnd1ygsn8rm91dw0000gn/T/ipykernel_49151/3526264110.py:46: FutureWarning: The frame.append method is deprecated and will be removed from pandas in a future version. Use pandas.concat instead.\n",
      "  new_data = new_data.append(row, ignore_index=True)\n"
     ]
    },
    {
     "name": "stdout",
     "output_type": "stream",
     "text": [
      "{'acousticness': 0.00472, 'danceability': 0.578, 'energy': 0.926, 'instrumentalness': 0.0127, 'liveness': 0.14, 'loudness': -3.689, 'speechiness': 0.0548, 'tempo': 149.976, 'valence': 0.877, 'popularity': 75}\n"
     ]
    },
    {
     "name": "stderr",
     "output_type": "stream",
     "text": [
      "/var/folders/_g/d3gd43912fnd1ygsn8rm91dw0000gn/T/ipykernel_49151/3526264110.py:46: FutureWarning: The frame.append method is deprecated and will be removed from pandas in a future version. Use pandas.concat instead.\n",
      "  new_data = new_data.append(row, ignore_index=True)\n"
     ]
    },
    {
     "name": "stdout",
     "output_type": "stream",
     "text": [
      "{'acousticness': 0.00327, 'danceability': 0.587, 'energy': 0.828, 'instrumentalness': 0, 'liveness': 0.331, 'loudness': -5.108, 'speechiness': 0.161, 'tempo': 123.907, 'valence': 0.494, 'popularity': 71}\n"
     ]
    },
    {
     "name": "stderr",
     "output_type": "stream",
     "text": [
      "/var/folders/_g/d3gd43912fnd1ygsn8rm91dw0000gn/T/ipykernel_49151/3526264110.py:46: FutureWarning: The frame.append method is deprecated and will be removed from pandas in a future version. Use pandas.concat instead.\n",
      "  new_data = new_data.append(row, ignore_index=True)\n"
     ]
    },
    {
     "name": "stdout",
     "output_type": "stream",
     "text": [
      "{'acousticness': 0.00244, 'danceability': 0.628, 'energy': 0.692, 'instrumentalness': 0.0129, 'liveness': 0.668, 'loudness': -5.64, 'speechiness': 0.202, 'tempo': 124.887, 'valence': 0.0963, 'popularity': 73}\n"
     ]
    },
    {
     "name": "stderr",
     "output_type": "stream",
     "text": [
      "/var/folders/_g/d3gd43912fnd1ygsn8rm91dw0000gn/T/ipykernel_49151/3526264110.py:46: FutureWarning: The frame.append method is deprecated and will be removed from pandas in a future version. Use pandas.concat instead.\n",
      "  new_data = new_data.append(row, ignore_index=True)\n"
     ]
    },
    {
     "name": "stdout",
     "output_type": "stream",
     "text": [
      "{'acousticness': 0.332, 'danceability': 0.621, 'energy': 0.82, 'instrumentalness': 0, 'liveness': 0.104, 'loudness': -4.865, 'speechiness': 0.0367, 'tempo': 144.905, 'valence': 0.452, 'popularity': 76}\n"
     ]
    },
    {
     "name": "stderr",
     "output_type": "stream",
     "text": [
      "/var/folders/_g/d3gd43912fnd1ygsn8rm91dw0000gn/T/ipykernel_49151/3526264110.py:46: FutureWarning: The frame.append method is deprecated and will be removed from pandas in a future version. Use pandas.concat instead.\n",
      "  new_data = new_data.append(row, ignore_index=True)\n"
     ]
    },
    {
     "name": "stdout",
     "output_type": "stream",
     "text": [
      "{'acousticness': 0.143, 'danceability': 0.546, 'energy': 0.649, 'instrumentalness': 1.55e-05, 'liveness': 0.0894, 'loudness': -4.056, 'speechiness': 0.0324, 'tempo': 99.05, 'valence': 0.298, 'popularity': 70}\n"
     ]
    },
    {
     "name": "stderr",
     "output_type": "stream",
     "text": [
      "/var/folders/_g/d3gd43912fnd1ygsn8rm91dw0000gn/T/ipykernel_49151/3526264110.py:46: FutureWarning: The frame.append method is deprecated and will be removed from pandas in a future version. Use pandas.concat instead.\n",
      "  new_data = new_data.append(row, ignore_index=True)\n"
     ]
    },
    {
     "name": "stdout",
     "output_type": "stream",
     "text": [
      "{'acousticness': 0.0189, 'danceability': 0.75, 'energy': 0.727, 'instrumentalness': 0, 'liveness': 0.266, 'loudness': -4.21, 'speechiness': 0.142, 'tempo': 129.993, 'valence': 0.359, 'popularity': 70}\n"
     ]
    },
    {
     "name": "stderr",
     "output_type": "stream",
     "text": [
      "/var/folders/_g/d3gd43912fnd1ygsn8rm91dw0000gn/T/ipykernel_49151/3526264110.py:46: FutureWarning: The frame.append method is deprecated and will be removed from pandas in a future version. Use pandas.concat instead.\n",
      "  new_data = new_data.append(row, ignore_index=True)\n"
     ]
    },
    {
     "name": "stdout",
     "output_type": "stream",
     "text": [
      "{'acousticness': 0.00987, 'danceability': 0.736, 'energy': 0.817, 'instrumentalness': 0.00167, 'liveness': 0.117, 'loudness': -4.9, 'speechiness': 0.0407, 'tempo': 119.95, 'valence': 0.653, 'popularity': 73}\n"
     ]
    },
    {
     "name": "stderr",
     "output_type": "stream",
     "text": [
      "/var/folders/_g/d3gd43912fnd1ygsn8rm91dw0000gn/T/ipykernel_49151/3526264110.py:46: FutureWarning: The frame.append method is deprecated and will be removed from pandas in a future version. Use pandas.concat instead.\n",
      "  new_data = new_data.append(row, ignore_index=True)\n"
     ]
    },
    {
     "name": "stdout",
     "output_type": "stream",
     "text": [
      "{'acousticness': 0.0281, 'danceability': 0.638, 'energy': 0.831, 'instrumentalness': 3.06e-06, 'liveness': 0.277, 'loudness': -3.944, 'speechiness': 0.182, 'tempo': 175.038, 'valence': 0.685, 'popularity': 65}\n"
     ]
    },
    {
     "name": "stderr",
     "output_type": "stream",
     "text": [
      "/var/folders/_g/d3gd43912fnd1ygsn8rm91dw0000gn/T/ipykernel_49151/3526264110.py:46: FutureWarning: The frame.append method is deprecated and will be removed from pandas in a future version. Use pandas.concat instead.\n",
      "  new_data = new_data.append(row, ignore_index=True)\n"
     ]
    },
    {
     "name": "stdout",
     "output_type": "stream",
     "text": [
      "{'acousticness': 0.0771, 'danceability': 0.634, 'energy': 0.69, 'instrumentalness': 0, 'liveness': 0.132, 'loudness': -7.804, 'speechiness': 0.052, 'tempo': 94.988, 'valence': 0.645, 'popularity': 74}\n"
     ]
    },
    {
     "name": "stderr",
     "output_type": "stream",
     "text": [
      "/var/folders/_g/d3gd43912fnd1ygsn8rm91dw0000gn/T/ipykernel_49151/3526264110.py:46: FutureWarning: The frame.append method is deprecated and will be removed from pandas in a future version. Use pandas.concat instead.\n",
      "  new_data = new_data.append(row, ignore_index=True)\n"
     ]
    },
    {
     "name": "stdout",
     "output_type": "stream",
     "text": [
      "{'acousticness': 0.164, 'danceability': 0.482, 'energy': 0.622, 'instrumentalness': 0, 'liveness': 0.0903, 'loudness': -8.642, 'speechiness': 0.259, 'tempo': 94.056, 'valence': 0.219, 'popularity': 23}\n"
     ]
    },
    {
     "name": "stderr",
     "output_type": "stream",
     "text": [
      "/var/folders/_g/d3gd43912fnd1ygsn8rm91dw0000gn/T/ipykernel_49151/3526264110.py:46: FutureWarning: The frame.append method is deprecated and will be removed from pandas in a future version. Use pandas.concat instead.\n",
      "  new_data = new_data.append(row, ignore_index=True)\n"
     ]
    },
    {
     "name": "stdout",
     "output_type": "stream",
     "text": [
      "{'acousticness': 0.105, 'danceability': 0.73, 'energy': 0.777, 'instrumentalness': 0.000478, 'liveness': 0.0691, 'loudness': -5.194, 'speechiness': 0.0496, 'tempo': 130.0, 'valence': 0.575, 'popularity': 80}\n"
     ]
    },
    {
     "name": "stderr",
     "output_type": "stream",
     "text": [
      "/var/folders/_g/d3gd43912fnd1ygsn8rm91dw0000gn/T/ipykernel_49151/3526264110.py:46: FutureWarning: The frame.append method is deprecated and will be removed from pandas in a future version. Use pandas.concat instead.\n",
      "  new_data = new_data.append(row, ignore_index=True)\n"
     ]
    },
    {
     "name": "stdout",
     "output_type": "stream",
     "text": [
      "{'acousticness': 0.182, 'danceability': 0.689, 'energy': 0.784, 'instrumentalness': 0, 'liveness': 0.0843, 'loudness': -2.972, 'speechiness': 0.074, 'tempo': 99.954, 'valence': 0.561, 'popularity': 75}\n"
     ]
    },
    {
     "name": "stderr",
     "output_type": "stream",
     "text": [
      "/var/folders/_g/d3gd43912fnd1ygsn8rm91dw0000gn/T/ipykernel_49151/3526264110.py:46: FutureWarning: The frame.append method is deprecated and will be removed from pandas in a future version. Use pandas.concat instead.\n",
      "  new_data = new_data.append(row, ignore_index=True)\n"
     ]
    },
    {
     "name": "stdout",
     "output_type": "stream",
     "text": [
      "{'acousticness': 0.000369, 'danceability': 0.705, 'energy': 0.882, 'instrumentalness': 1.16e-06, 'liveness': 0.0934, 'loudness': -3.201, 'speechiness': 0.0445, 'tempo': 130.0, 'valence': 0.7, 'popularity': 71}\n"
     ]
    },
    {
     "name": "stderr",
     "output_type": "stream",
     "text": [
      "/var/folders/_g/d3gd43912fnd1ygsn8rm91dw0000gn/T/ipykernel_49151/3526264110.py:46: FutureWarning: The frame.append method is deprecated and will be removed from pandas in a future version. Use pandas.concat instead.\n",
      "  new_data = new_data.append(row, ignore_index=True)\n"
     ]
    },
    {
     "name": "stdout",
     "output_type": "stream",
     "text": [
      "{'acousticness': 0.227, 'danceability': 0.608, 'energy': 0.614, 'instrumentalness': 3.82e-06, 'liveness': 0.157, 'loudness': -3.727, 'speechiness': 0.0285, 'tempo': 127.885, 'valence': 0.402, 'popularity': 66}\n"
     ]
    },
    {
     "name": "stderr",
     "output_type": "stream",
     "text": [
      "/var/folders/_g/d3gd43912fnd1ygsn8rm91dw0000gn/T/ipykernel_49151/3526264110.py:46: FutureWarning: The frame.append method is deprecated and will be removed from pandas in a future version. Use pandas.concat instead.\n",
      "  new_data = new_data.append(row, ignore_index=True)\n"
     ]
    },
    {
     "name": "stdout",
     "output_type": "stream",
     "text": [
      "{'acousticness': 0.1, 'danceability': 0.707, 'energy': 0.861, 'instrumentalness': 0, 'liveness': 0.191, 'loudness': -4.225, 'speechiness': 0.316, 'tempo': 130.021, 'valence': 0.795, 'popularity': 66}\n"
     ]
    },
    {
     "name": "stderr",
     "output_type": "stream",
     "text": [
      "/var/folders/_g/d3gd43912fnd1ygsn8rm91dw0000gn/T/ipykernel_49151/3526264110.py:46: FutureWarning: The frame.append method is deprecated and will be removed from pandas in a future version. Use pandas.concat instead.\n",
      "  new_data = new_data.append(row, ignore_index=True)\n"
     ]
    },
    {
     "name": "stdout",
     "output_type": "stream",
     "text": [
      "{'acousticness': 0.000348, 'danceability': 0.583, 'energy': 0.766, 'instrumentalness': 0.0125, 'liveness': 0.108, 'loudness': -6.47, 'speechiness': 0.0408, 'tempo': 127.95, 'valence': 0.395, 'popularity': 0}\n"
     ]
    },
    {
     "name": "stderr",
     "output_type": "stream",
     "text": [
      "/var/folders/_g/d3gd43912fnd1ygsn8rm91dw0000gn/T/ipykernel_49151/3526264110.py:46: FutureWarning: The frame.append method is deprecated and will be removed from pandas in a future version. Use pandas.concat instead.\n",
      "  new_data = new_data.append(row, ignore_index=True)\n"
     ]
    },
    {
     "name": "stdout",
     "output_type": "stream",
     "text": [
      "{'acousticness': 0.0178, 'danceability': 0.603, 'energy': 0.863, 'instrumentalness': 0, 'liveness': 0.389, 'loudness': -5.423, 'speechiness': 0.0773, 'tempo': 150.054, 'valence': 0.731, 'popularity': 0}\n"
     ]
    },
    {
     "name": "stderr",
     "output_type": "stream",
     "text": [
      "/var/folders/_g/d3gd43912fnd1ygsn8rm91dw0000gn/T/ipykernel_49151/3526264110.py:46: FutureWarning: The frame.append method is deprecated and will be removed from pandas in a future version. Use pandas.concat instead.\n",
      "  new_data = new_data.append(row, ignore_index=True)\n"
     ]
    },
    {
     "name": "stdout",
     "output_type": "stream",
     "text": [
      "{'acousticness': 0.0228, 'danceability': 0.693, 'energy': 0.705, 'instrumentalness': 0, 'liveness': 0.202, 'loudness': -5.747, 'speechiness': 0.0665, 'tempo': 131.951, 'valence': 0.45, 'popularity': 66}\n"
     ]
    },
    {
     "name": "stderr",
     "output_type": "stream",
     "text": [
      "/var/folders/_g/d3gd43912fnd1ygsn8rm91dw0000gn/T/ipykernel_49151/3526264110.py:46: FutureWarning: The frame.append method is deprecated and will be removed from pandas in a future version. Use pandas.concat instead.\n",
      "  new_data = new_data.append(row, ignore_index=True)\n"
     ]
    },
    {
     "name": "stdout",
     "output_type": "stream",
     "text": [
      "{'acousticness': 0.00379, 'danceability': 0.696, 'energy': 0.546, 'instrumentalness': 3.8e-06, 'liveness': 0.332, 'loudness': -6.55, 'speechiness': 0.0414, 'tempo': 130.002, 'valence': 0.787, 'popularity': 68}\n"
     ]
    },
    {
     "name": "stderr",
     "output_type": "stream",
     "text": [
      "/var/folders/_g/d3gd43912fnd1ygsn8rm91dw0000gn/T/ipykernel_49151/3526264110.py:46: FutureWarning: The frame.append method is deprecated and will be removed from pandas in a future version. Use pandas.concat instead.\n",
      "  new_data = new_data.append(row, ignore_index=True)\n"
     ]
    },
    {
     "name": "stdout",
     "output_type": "stream",
     "text": [
      "{'acousticness': 0.00334, 'danceability': 0.753, 'energy': 0.729, 'instrumentalness': 5.66e-05, 'liveness': 0.073, 'loudness': -3.862, 'speechiness': 0.0392, 'tempo': 120.013, 'valence': 0.812, 'popularity': 69}\n"
     ]
    },
    {
     "name": "stderr",
     "output_type": "stream",
     "text": [
      "/var/folders/_g/d3gd43912fnd1ygsn8rm91dw0000gn/T/ipykernel_49151/3526264110.py:46: FutureWarning: The frame.append method is deprecated and will be removed from pandas in a future version. Use pandas.concat instead.\n",
      "  new_data = new_data.append(row, ignore_index=True)\n"
     ]
    },
    {
     "name": "stdout",
     "output_type": "stream",
     "text": [
      "{'acousticness': 0.075, 'danceability': 0.518, 'energy': 0.709, 'instrumentalness': 0, 'liveness': 0.0935, 'loudness': -5.234, 'speechiness': 0.0476, 'tempo': 127.083, 'valence': 0.514, 'popularity': 61}\n"
     ]
    },
    {
     "name": "stderr",
     "output_type": "stream",
     "text": [
      "/var/folders/_g/d3gd43912fnd1ygsn8rm91dw0000gn/T/ipykernel_49151/3526264110.py:46: FutureWarning: The frame.append method is deprecated and will be removed from pandas in a future version. Use pandas.concat instead.\n",
      "  new_data = new_data.append(row, ignore_index=True)\n"
     ]
    },
    {
     "name": "stdout",
     "output_type": "stream",
     "text": [
      "{'acousticness': 0.000967, 'danceability': 0.661, 'energy': 0.937, 'instrumentalness': 1.59e-05, 'liveness': 0.355, 'loudness': -3.83, 'speechiness': 0.0744, 'tempo': 131.001, 'valence': 0.535, 'popularity': 72}\n"
     ]
    },
    {
     "name": "stderr",
     "output_type": "stream",
     "text": [
      "/var/folders/_g/d3gd43912fnd1ygsn8rm91dw0000gn/T/ipykernel_49151/3526264110.py:46: FutureWarning: The frame.append method is deprecated and will be removed from pandas in a future version. Use pandas.concat instead.\n",
      "  new_data = new_data.append(row, ignore_index=True)\n"
     ]
    },
    {
     "name": "stdout",
     "output_type": "stream",
     "text": [
      "{'acousticness': 0.0294, 'danceability': 0.648, 'energy': 0.89, 'instrumentalness': 3.58e-06, 'liveness': 0.116, 'loudness': -3.982, 'speechiness': 0.0523, 'tempo': 125.953, 'valence': 0.321, 'popularity': 66}\n"
     ]
    },
    {
     "name": "stderr",
     "output_type": "stream",
     "text": [
      "/var/folders/_g/d3gd43912fnd1ygsn8rm91dw0000gn/T/ipykernel_49151/3526264110.py:46: FutureWarning: The frame.append method is deprecated and will be removed from pandas in a future version. Use pandas.concat instead.\n",
      "  new_data = new_data.append(row, ignore_index=True)\n"
     ]
    },
    {
     "name": "stdout",
     "output_type": "stream",
     "text": [
      "{'acousticness': 0.00296, 'danceability': 0.699, 'energy': 0.882, 'instrumentalness': 0.0544, 'liveness': 0.13, 'loudness': -3.896, 'speechiness': 0.0311, 'tempo': 120.016, 'valence': 0.657, 'popularity': 68}\n"
     ]
    },
    {
     "name": "stderr",
     "output_type": "stream",
     "text": [
      "/var/folders/_g/d3gd43912fnd1ygsn8rm91dw0000gn/T/ipykernel_49151/3526264110.py:46: FutureWarning: The frame.append method is deprecated and will be removed from pandas in a future version. Use pandas.concat instead.\n",
      "  new_data = new_data.append(row, ignore_index=True)\n"
     ]
    },
    {
     "name": "stdout",
     "output_type": "stream",
     "text": [
      "{'acousticness': 0.025, 'danceability': 0.734, 'energy': 0.766, 'instrumentalness': 0.00138, 'liveness': 0.108, 'loudness': -4.485, 'speechiness': 0.0383, 'tempo': 127.986, 'valence': 0.6, 'popularity': 85}\n"
     ]
    },
    {
     "name": "stderr",
     "output_type": "stream",
     "text": [
      "/var/folders/_g/d3gd43912fnd1ygsn8rm91dw0000gn/T/ipykernel_49151/3526264110.py:46: FutureWarning: The frame.append method is deprecated and will be removed from pandas in a future version. Use pandas.concat instead.\n",
      "  new_data = new_data.append(row, ignore_index=True)\n"
     ]
    },
    {
     "name": "stdout",
     "output_type": "stream",
     "text": [
      "{'acousticness': 0.000949, 'danceability': 0.615, 'energy': 0.88, 'instrumentalness': 0.00515, 'liveness': 0.5, 'loudness': -4.418, 'speechiness': 0.0571, 'tempo': 131.076, 'valence': 0.383, 'popularity': 1}\n"
     ]
    },
    {
     "name": "stderr",
     "output_type": "stream",
     "text": [
      "/var/folders/_g/d3gd43912fnd1ygsn8rm91dw0000gn/T/ipykernel_49151/3526264110.py:46: FutureWarning: The frame.append method is deprecated and will be removed from pandas in a future version. Use pandas.concat instead.\n",
      "  new_data = new_data.append(row, ignore_index=True)\n"
     ]
    },
    {
     "name": "stdout",
     "output_type": "stream",
     "text": [
      "{'acousticness': 0.382, 'danceability': 0.365, 'energy': 0.382, 'instrumentalness': 5.08e-06, 'liveness': 0.0661, 'loudness': -7.344, 'speechiness': 0.0295, 'tempo': 148.363, 'valence': 0.268, 'popularity': 57}\n"
     ]
    },
    {
     "name": "stderr",
     "output_type": "stream",
     "text": [
      "/var/folders/_g/d3gd43912fnd1ygsn8rm91dw0000gn/T/ipykernel_49151/3526264110.py:46: FutureWarning: The frame.append method is deprecated and will be removed from pandas in a future version. Use pandas.concat instead.\n",
      "  new_data = new_data.append(row, ignore_index=True)\n"
     ]
    },
    {
     "name": "stdout",
     "output_type": "stream",
     "text": [
      "{'acousticness': 0.0103, 'danceability': 0.648, 'energy': 0.722, 'instrumentalness': 0, 'liveness': 0.24, 'loudness': -4.813, 'speechiness': 0.0427, 'tempo': 132.973, 'valence': 0.389, 'popularity': 59}\n"
     ]
    },
    {
     "name": "stderr",
     "output_type": "stream",
     "text": [
      "/var/folders/_g/d3gd43912fnd1ygsn8rm91dw0000gn/T/ipykernel_49151/3526264110.py:46: FutureWarning: The frame.append method is deprecated and will be removed from pandas in a future version. Use pandas.concat instead.\n",
      "  new_data = new_data.append(row, ignore_index=True)\n"
     ]
    },
    {
     "name": "stdout",
     "output_type": "stream",
     "text": [
      "{'acousticness': 0.134, 'danceability': 0.705, 'energy': 0.805, 'instrumentalness': 0.000139, 'liveness': 0.367, 'loudness': -4.887, 'speechiness': 0.0595, 'tempo': 120.022, 'valence': 0.887, 'popularity': 61}\n"
     ]
    },
    {
     "name": "stderr",
     "output_type": "stream",
     "text": [
      "/var/folders/_g/d3gd43912fnd1ygsn8rm91dw0000gn/T/ipykernel_49151/3526264110.py:46: FutureWarning: The frame.append method is deprecated and will be removed from pandas in a future version. Use pandas.concat instead.\n",
      "  new_data = new_data.append(row, ignore_index=True)\n"
     ]
    },
    {
     "name": "stdout",
     "output_type": "stream",
     "text": [
      "{'acousticness': 0.0182, 'danceability': 0.576, 'energy': 0.912, 'instrumentalness': 0, 'liveness': 0.293, 'loudness': -3.623, 'speechiness': 0.0403, 'tempo': 79.981, 'valence': 0.727, 'popularity': 53}\n"
     ]
    },
    {
     "name": "stderr",
     "output_type": "stream",
     "text": [
      "/var/folders/_g/d3gd43912fnd1ygsn8rm91dw0000gn/T/ipykernel_49151/3526264110.py:46: FutureWarning: The frame.append method is deprecated and will be removed from pandas in a future version. Use pandas.concat instead.\n",
      "  new_data = new_data.append(row, ignore_index=True)\n"
     ]
    },
    {
     "name": "stdout",
     "output_type": "stream",
     "text": [
      "{'acousticness': 0.0506, 'danceability': 0.824, 'energy': 0.806, 'instrumentalness': 0, 'liveness': 0.0535, 'loudness': -3.438, 'speechiness': 0.0509, 'tempo': 127.961, 'valence': 0.894, 'popularity': 62}\n"
     ]
    },
    {
     "name": "stderr",
     "output_type": "stream",
     "text": [
      "/var/folders/_g/d3gd43912fnd1ygsn8rm91dw0000gn/T/ipykernel_49151/3526264110.py:46: FutureWarning: The frame.append method is deprecated and will be removed from pandas in a future version. Use pandas.concat instead.\n",
      "  new_data = new_data.append(row, ignore_index=True)\n"
     ]
    },
    {
     "name": "stdout",
     "output_type": "stream",
     "text": [
      "{'acousticness': 0.0587, 'danceability': 0.644, 'energy': 0.945, 'instrumentalness': 0, 'liveness': 0.184, 'loudness': -3.534, 'speechiness': 0.0717, 'tempo': 91.017, 'valence': 0.573, 'popularity': 54}\n"
     ]
    },
    {
     "name": "stderr",
     "output_type": "stream",
     "text": [
      "/var/folders/_g/d3gd43912fnd1ygsn8rm91dw0000gn/T/ipykernel_49151/3526264110.py:46: FutureWarning: The frame.append method is deprecated and will be removed from pandas in a future version. Use pandas.concat instead.\n",
      "  new_data = new_data.append(row, ignore_index=True)\n"
     ]
    },
    {
     "name": "stdout",
     "output_type": "stream",
     "text": [
      "{'acousticness': 0.726, 'danceability': 0.349, 'energy': 0.348, 'instrumentalness': 0, 'liveness': 0.12, 'loudness': -6.142, 'speechiness': 0.0316, 'tempo': 74.541, 'valence': 0.0886, 'popularity': 74}\n"
     ]
    },
    {
     "name": "stderr",
     "output_type": "stream",
     "text": [
      "/var/folders/_g/d3gd43912fnd1ygsn8rm91dw0000gn/T/ipykernel_49151/3526264110.py:46: FutureWarning: The frame.append method is deprecated and will be removed from pandas in a future version. Use pandas.concat instead.\n",
      "  new_data = new_data.append(row, ignore_index=True)\n"
     ]
    },
    {
     "name": "stdout",
     "output_type": "stream",
     "text": [
      "{'acousticness': 0.923, 'danceability': 0.307, 'energy': 0.371, 'instrumentalness': 0.0253, 'liveness': 0.11, 'loudness': -8.498, 'speechiness': 0.0288, 'tempo': 115.241, 'valence': 0.189, 'popularity': 71}\n"
     ]
    },
    {
     "name": "stderr",
     "output_type": "stream",
     "text": [
      "/var/folders/_g/d3gd43912fnd1ygsn8rm91dw0000gn/T/ipykernel_49151/3526264110.py:46: FutureWarning: The frame.append method is deprecated and will be removed from pandas in a future version. Use pandas.concat instead.\n",
      "  new_data = new_data.append(row, ignore_index=True)\n"
     ]
    },
    {
     "name": "stdout",
     "output_type": "stream",
     "text": [
      "{'acousticness': 0.271, 'danceability': 0.723, 'energy': 0.86, 'instrumentalness': 4.56e-06, 'liveness': 0.598, 'loudness': -4.357, 'speechiness': 0.203, 'tempo': 126.979, 'valence': 0.667, 'popularity': 80}\n"
     ]
    },
    {
     "name": "stderr",
     "output_type": "stream",
     "text": [
      "/var/folders/_g/d3gd43912fnd1ygsn8rm91dw0000gn/T/ipykernel_49151/3526264110.py:46: FutureWarning: The frame.append method is deprecated and will be removed from pandas in a future version. Use pandas.concat instead.\n",
      "  new_data = new_data.append(row, ignore_index=True)\n"
     ]
    },
    {
     "name": "stdout",
     "output_type": "stream",
     "text": [
      "{'acousticness': 0.0048, 'danceability': 0.7, 'energy': 0.709, 'instrumentalness': 0, 'liveness': 0.029, 'loudness': -5.006, 'speechiness': 0.0838, 'tempo': 122.019, 'valence': 0.624, 'popularity': 80}\n"
     ]
    },
    {
     "name": "stderr",
     "output_type": "stream",
     "text": [
      "/var/folders/_g/d3gd43912fnd1ygsn8rm91dw0000gn/T/ipykernel_49151/3526264110.py:46: FutureWarning: The frame.append method is deprecated and will be removed from pandas in a future version. Use pandas.concat instead.\n",
      "  new_data = new_data.append(row, ignore_index=True)\n"
     ]
    },
    {
     "name": "stdout",
     "output_type": "stream",
     "text": [
      "{'acousticness': 0.0211, 'danceability': 0.726, 'energy': 0.881, 'instrumentalness': 0.177, 'liveness': 0.315, 'loudness': -4.474, 'speechiness': 0.0689, 'tempo': 128.953, 'valence': 0.692, 'popularity': 32}\n"
     ]
    },
    {
     "name": "stderr",
     "output_type": "stream",
     "text": [
      "/var/folders/_g/d3gd43912fnd1ygsn8rm91dw0000gn/T/ipykernel_49151/3526264110.py:46: FutureWarning: The frame.append method is deprecated and will be removed from pandas in a future version. Use pandas.concat instead.\n",
      "  new_data = new_data.append(row, ignore_index=True)\n"
     ]
    },
    {
     "name": "stdout",
     "output_type": "stream",
     "text": [
      "{'acousticness': 0.385, 'danceability': 0.498, 'energy': 0.884, 'instrumentalness': 0, 'liveness': 0.215, 'loudness': -3.835, 'speechiness': 0.375, 'tempo': 130.274, 'valence': 0.37, 'popularity': 32}\n"
     ]
    },
    {
     "name": "stderr",
     "output_type": "stream",
     "text": [
      "/var/folders/_g/d3gd43912fnd1ygsn8rm91dw0000gn/T/ipykernel_49151/3526264110.py:46: FutureWarning: The frame.append method is deprecated and will be removed from pandas in a future version. Use pandas.concat instead.\n",
      "  new_data = new_data.append(row, ignore_index=True)\n"
     ]
    },
    {
     "name": "stdout",
     "output_type": "stream",
     "text": [
      "{'acousticness': 0.00125, 'danceability': 0.652, 'energy': 0.812, 'instrumentalness': 3.01e-05, 'liveness': 0.667, 'loudness': -3.797, 'speechiness': 0.0409, 'tempo': 126.023, 'valence': 0.72, 'popularity': 76}\n"
     ]
    },
    {
     "name": "stderr",
     "output_type": "stream",
     "text": [
      "/var/folders/_g/d3gd43912fnd1ygsn8rm91dw0000gn/T/ipykernel_49151/3526264110.py:46: FutureWarning: The frame.append method is deprecated and will be removed from pandas in a future version. Use pandas.concat instead.\n",
      "  new_data = new_data.append(row, ignore_index=True)\n"
     ]
    },
    {
     "name": "stdout",
     "output_type": "stream",
     "text": [
      "{'acousticness': 0.141, 'danceability': 0.638, 'energy': 0.832, 'instrumentalness': 0, 'liveness': 0.113, 'loudness': -5.039, 'speechiness': 0.049, 'tempo': 124.071, 'valence': 0.648, 'popularity': 72}\n"
     ]
    },
    {
     "name": "stderr",
     "output_type": "stream",
     "text": [
      "/var/folders/_g/d3gd43912fnd1ygsn8rm91dw0000gn/T/ipykernel_49151/3526264110.py:46: FutureWarning: The frame.append method is deprecated and will be removed from pandas in a future version. Use pandas.concat instead.\n",
      "  new_data = new_data.append(row, ignore_index=True)\n"
     ]
    },
    {
     "name": "stdout",
     "output_type": "stream",
     "text": [
      "{'acousticness': 0.565, 'danceability': 0.818, 'energy': 0.727, 'instrumentalness': 0.000152, 'liveness': 0.189, 'loudness': -4.671, 'speechiness': 0.29, 'tempo': 98.028, 'valence': 0.555, 'popularity': 21}\n"
     ]
    },
    {
     "name": "stderr",
     "output_type": "stream",
     "text": [
      "/var/folders/_g/d3gd43912fnd1ygsn8rm91dw0000gn/T/ipykernel_49151/3526264110.py:46: FutureWarning: The frame.append method is deprecated and will be removed from pandas in a future version. Use pandas.concat instead.\n",
      "  new_data = new_data.append(row, ignore_index=True)\n"
     ]
    },
    {
     "name": "stdout",
     "output_type": "stream",
     "text": [
      "{'acousticness': 0.0678, 'danceability': 0.604, 'energy': 0.788, 'instrumentalness': 0.153, 'liveness': 0.127, 'loudness': -3.673, 'speechiness': 0.103, 'tempo': 126.06, 'valence': 0.301, 'popularity': 71}\n"
     ]
    },
    {
     "name": "stderr",
     "output_type": "stream",
     "text": [
      "/var/folders/_g/d3gd43912fnd1ygsn8rm91dw0000gn/T/ipykernel_49151/3526264110.py:46: FutureWarning: The frame.append method is deprecated and will be removed from pandas in a future version. Use pandas.concat instead.\n",
      "  new_data = new_data.append(row, ignore_index=True)\n"
     ]
    },
    {
     "name": "stdout",
     "output_type": "stream",
     "text": [
      "{'acousticness': 0.049, 'danceability': 0.726, 'energy': 0.698, 'instrumentalness': 0, 'liveness': 0.309, 'loudness': -4.165, 'speechiness': 0.0431, 'tempo': 143.994, 'valence': 0.867, 'popularity': 88}\n"
     ]
    },
    {
     "name": "stderr",
     "output_type": "stream",
     "text": [
      "/var/folders/_g/d3gd43912fnd1ygsn8rm91dw0000gn/T/ipykernel_49151/3526264110.py:46: FutureWarning: The frame.append method is deprecated and will be removed from pandas in a future version. Use pandas.concat instead.\n",
      "  new_data = new_data.append(row, ignore_index=True)\n"
     ]
    },
    {
     "name": "stdout",
     "output_type": "stream",
     "text": [
      "{'acousticness': 0.0509, 'danceability': 0.449, 'energy': 0.585, 'instrumentalness': 8.75e-05, 'liveness': 0.0833, 'loudness': -6.761, 'speechiness': 0.0268, 'tempo': 139.631, 'valence': 0.212, 'popularity': 85}\n"
     ]
    },
    {
     "name": "stderr",
     "output_type": "stream",
     "text": [
      "/var/folders/_g/d3gd43912fnd1ygsn8rm91dw0000gn/T/ipykernel_49151/3526264110.py:46: FutureWarning: The frame.append method is deprecated and will be removed from pandas in a future version. Use pandas.concat instead.\n",
      "  new_data = new_data.append(row, ignore_index=True)\n"
     ]
    },
    {
     "name": "stdout",
     "output_type": "stream",
     "text": [
      "{'acousticness': 0.0136, 'danceability': 0.739, 'energy': 0.756, 'instrumentalness': 0, 'liveness': 0.37, 'loudness': -4.828, 'speechiness': 0.0394, 'tempo': 110.028, 'valence': 0.523, 'popularity': 73}\n"
     ]
    },
    {
     "name": "stderr",
     "output_type": "stream",
     "text": [
      "/var/folders/_g/d3gd43912fnd1ygsn8rm91dw0000gn/T/ipykernel_49151/3526264110.py:46: FutureWarning: The frame.append method is deprecated and will be removed from pandas in a future version. Use pandas.concat instead.\n",
      "  new_data = new_data.append(row, ignore_index=True)\n"
     ]
    },
    {
     "name": "stdout",
     "output_type": "stream",
     "text": [
      "{'acousticness': 0.009, 'danceability': 0.726, 'energy': 0.787, 'instrumentalness': 0, 'liveness': 0.0596, 'loudness': -2.494, 'speechiness': 0.0737, 'tempo': 124.99, 'valence': 0.888, 'popularity': 86}\n"
     ]
    },
    {
     "name": "stderr",
     "output_type": "stream",
     "text": [
      "/var/folders/_g/d3gd43912fnd1ygsn8rm91dw0000gn/T/ipykernel_49151/3526264110.py:46: FutureWarning: The frame.append method is deprecated and will be removed from pandas in a future version. Use pandas.concat instead.\n",
      "  new_data = new_data.append(row, ignore_index=True)\n"
     ]
    },
    {
     "name": "stdout",
     "output_type": "stream",
     "text": [
      "{'acousticness': 0.0129, 'danceability': 0.584, 'energy': 0.557, 'instrumentalness': 0, 'liveness': 0.0576, 'loudness': -6.371, 'speechiness': 0.0342, 'tempo': 154.008, 'valence': 0.767, 'popularity': 77}\n"
     ]
    },
    {
     "name": "stderr",
     "output_type": "stream",
     "text": [
      "/var/folders/_g/d3gd43912fnd1ygsn8rm91dw0000gn/T/ipykernel_49151/3526264110.py:46: FutureWarning: The frame.append method is deprecated and will be removed from pandas in a future version. Use pandas.concat instead.\n",
      "  new_data = new_data.append(row, ignore_index=True)\n"
     ]
    },
    {
     "name": "stdout",
     "output_type": "stream",
     "text": [
      "{'acousticness': 0.0114, 'danceability': 0.783, 'energy': 0.58, 'instrumentalness': 2.28e-06, 'liveness': 0.108, 'loudness': -6.548, 'speechiness': 0.0408, 'tempo': 120.021, 'valence': 0.66, 'popularity': 75}\n"
     ]
    },
    {
     "name": "stderr",
     "output_type": "stream",
     "text": [
      "/var/folders/_g/d3gd43912fnd1ygsn8rm91dw0000gn/T/ipykernel_49151/3526264110.py:46: FutureWarning: The frame.append method is deprecated and will be removed from pandas in a future version. Use pandas.concat instead.\n",
      "  new_data = new_data.append(row, ignore_index=True)\n"
     ]
    },
    {
     "name": "stdout",
     "output_type": "stream",
     "text": [
      "{'acousticness': 0.0761, 'danceability': 0.858, 'energy': 0.678, 'instrumentalness': 0, 'liveness': 0.0741, 'loudness': -3.87, 'speechiness': 0.0469, 'tempo': 117.009, 'valence': 0.922, 'popularity': 83}\n"
     ]
    },
    {
     "name": "stderr",
     "output_type": "stream",
     "text": [
      "/var/folders/_g/d3gd43912fnd1ygsn8rm91dw0000gn/T/ipykernel_49151/3526264110.py:46: FutureWarning: The frame.append method is deprecated and will be removed from pandas in a future version. Use pandas.concat instead.\n",
      "  new_data = new_data.append(row, ignore_index=True)\n"
     ]
    },
    {
     "name": "stdout",
     "output_type": "stream",
     "text": [
      "{'acousticness': 0.00408, 'danceability': 0.603, 'energy': 0.67, 'instrumentalness': 1.68e-06, 'liveness': 0.112, 'loudness': -3.882, 'speechiness': 0.0249, 'tempo': 107.993, 'valence': 0.446, 'popularity': 82}\n"
     ]
    },
    {
     "name": "stderr",
     "output_type": "stream",
     "text": [
      "/var/folders/_g/d3gd43912fnd1ygsn8rm91dw0000gn/T/ipykernel_49151/3526264110.py:46: FutureWarning: The frame.append method is deprecated and will be removed from pandas in a future version. Use pandas.concat instead.\n",
      "  new_data = new_data.append(row, ignore_index=True)\n"
     ]
    },
    {
     "name": "stdout",
     "output_type": "stream",
     "text": [
      "{'acousticness': 0.0317, 'danceability': 0.567, 'energy': 0.686, 'instrumentalness': 1.86e-06, 'liveness': 0.0732, 'loudness': -6.139, 'speechiness': 0.175, 'tempo': 172.014, 'valence': 0.716, 'popularity': 79}\n"
     ]
    },
    {
     "name": "stderr",
     "output_type": "stream",
     "text": [
      "/var/folders/_g/d3gd43912fnd1ygsn8rm91dw0000gn/T/ipykernel_49151/3526264110.py:46: FutureWarning: The frame.append method is deprecated and will be removed from pandas in a future version. Use pandas.concat instead.\n",
      "  new_data = new_data.append(row, ignore_index=True)\n"
     ]
    },
    {
     "name": "stdout",
     "output_type": "stream",
     "text": [
      "{'acousticness': 0.046, 'danceability': 0.562, 'energy': 0.939, 'instrumentalness': 0, 'liveness': 0.112, 'loudness': -4.282, 'speechiness': 0.0475, 'tempo': 116.044, 'valence': 0.684, 'popularity': 68}\n"
     ]
    },
    {
     "name": "stderr",
     "output_type": "stream",
     "text": [
      "/var/folders/_g/d3gd43912fnd1ygsn8rm91dw0000gn/T/ipykernel_49151/3526264110.py:46: FutureWarning: The frame.append method is deprecated and will be removed from pandas in a future version. Use pandas.concat instead.\n",
      "  new_data = new_data.append(row, ignore_index=True)\n"
     ]
    },
    {
     "name": "stdout",
     "output_type": "stream",
     "text": [
      "{'acousticness': 0.00144, 'danceability': 0.674, 'energy': 0.628, 'instrumentalness': 0, 'liveness': 0.0944, 'loudness': -7.079, 'speechiness': 0.03, 'tempo': 103.998, 'valence': 0.552, 'popularity': 80}\n"
     ]
    },
    {
     "name": "stderr",
     "output_type": "stream",
     "text": [
      "/var/folders/_g/d3gd43912fnd1ygsn8rm91dw0000gn/T/ipykernel_49151/3526264110.py:46: FutureWarning: The frame.append method is deprecated and will be removed from pandas in a future version. Use pandas.concat instead.\n",
      "  new_data = new_data.append(row, ignore_index=True)\n"
     ]
    },
    {
     "name": "stdout",
     "output_type": "stream",
     "text": [
      "{'acousticness': 0.135, 'danceability': 0.747, 'energy': 0.716, 'instrumentalness': 0, 'liveness': 0.251, 'loudness': -2.457, 'speechiness': 0.075, 'tempo': 125.008, 'valence': 0.751, 'popularity': 76}\n"
     ]
    },
    {
     "name": "stderr",
     "output_type": "stream",
     "text": [
      "/var/folders/_g/d3gd43912fnd1ygsn8rm91dw0000gn/T/ipykernel_49151/3526264110.py:46: FutureWarning: The frame.append method is deprecated and will be removed from pandas in a future version. Use pandas.concat instead.\n",
      "  new_data = new_data.append(row, ignore_index=True)\n"
     ]
    },
    {
     "name": "stdout",
     "output_type": "stream",
     "text": [
      "{'acousticness': 0.0444, 'danceability': 0.718, 'energy': 0.82, 'instrumentalness': 0, 'liveness': 0.0846, 'loudness': -3.453, 'speechiness': 0.0323, 'tempo': 92.998, 'valence': 0.613, 'popularity': 73}\n"
     ]
    },
    {
     "name": "stderr",
     "output_type": "stream",
     "text": [
      "/var/folders/_g/d3gd43912fnd1ygsn8rm91dw0000gn/T/ipykernel_49151/3526264110.py:46: FutureWarning: The frame.append method is deprecated and will be removed from pandas in a future version. Use pandas.concat instead.\n",
      "  new_data = new_data.append(row, ignore_index=True)\n"
     ]
    },
    {
     "name": "stdout",
     "output_type": "stream",
     "text": [
      "{'acousticness': 0.0239, 'danceability': 0.56, 'energy': 0.872, 'instrumentalness': 6.98e-06, 'liveness': 0.371, 'loudness': -4.269, 'speechiness': 0.14, 'tempo': 126.05, 'valence': 0.682, 'popularity': 79}\n"
     ]
    },
    {
     "name": "stderr",
     "output_type": "stream",
     "text": [
      "/var/folders/_g/d3gd43912fnd1ygsn8rm91dw0000gn/T/ipykernel_49151/3526264110.py:46: FutureWarning: The frame.append method is deprecated and will be removed from pandas in a future version. Use pandas.concat instead.\n",
      "  new_data = new_data.append(row, ignore_index=True)\n"
     ]
    },
    {
     "name": "stdout",
     "output_type": "stream",
     "text": [
      "{'acousticness': 0.0319, 'danceability': 0.722, 'energy': 0.851, 'instrumentalness': 0, 'liveness': 0.108, 'loudness': -3.873, 'speechiness': 0.0639, 'tempo': 126.885, 'valence': 0.452, 'popularity': 79}\n"
     ]
    },
    {
     "name": "stderr",
     "output_type": "stream",
     "text": [
      "/var/folders/_g/d3gd43912fnd1ygsn8rm91dw0000gn/T/ipykernel_49151/3526264110.py:46: FutureWarning: The frame.append method is deprecated and will be removed from pandas in a future version. Use pandas.concat instead.\n",
      "  new_data = new_data.append(row, ignore_index=True)\n"
     ]
    },
    {
     "name": "stdout",
     "output_type": "stream",
     "text": [
      "{'acousticness': 0.000688, 'danceability': 0.602, 'energy': 0.843, 'instrumentalness': 5.27e-05, 'liveness': 0.0682, 'loudness': -4.831, 'speechiness': 0.0593, 'tempo': 128.003, 'valence': 0.526, 'popularity': 78}\n"
     ]
    },
    {
     "name": "stderr",
     "output_type": "stream",
     "text": [
      "/var/folders/_g/d3gd43912fnd1ygsn8rm91dw0000gn/T/ipykernel_49151/3526264110.py:46: FutureWarning: The frame.append method is deprecated and will be removed from pandas in a future version. Use pandas.concat instead.\n",
      "  new_data = new_data.append(row, ignore_index=True)\n"
     ]
    },
    {
     "name": "stdout",
     "output_type": "stream",
     "text": [
      "{'acousticness': 0.0124, 'danceability': 0.67, 'energy': 0.855, 'instrumentalness': 0, 'liveness': 0.335, 'loudness': -3.035, 'speechiness': 0.0499, 'tempo': 120.05, 'valence': 0.648, 'popularity': 77}\n"
     ]
    },
    {
     "name": "stderr",
     "output_type": "stream",
     "text": [
      "/var/folders/_g/d3gd43912fnd1ygsn8rm91dw0000gn/T/ipykernel_49151/3526264110.py:46: FutureWarning: The frame.append method is deprecated and will be removed from pandas in a future version. Use pandas.concat instead.\n",
      "  new_data = new_data.append(row, ignore_index=True)\n"
     ]
    },
    {
     "name": "stdout",
     "output_type": "stream",
     "text": [
      "{'acousticness': 0.0178, 'danceability': 0.672, 'energy': 0.738, 'instrumentalness': 6.75e-05, 'liveness': 0.0927, 'loudness': -7.045, 'speechiness': 0.0506, 'tempo': 107.938, 'valence': 0.392, 'popularity': 71}\n"
     ]
    },
    {
     "name": "stderr",
     "output_type": "stream",
     "text": [
      "/var/folders/_g/d3gd43912fnd1ygsn8rm91dw0000gn/T/ipykernel_49151/3526264110.py:46: FutureWarning: The frame.append method is deprecated and will be removed from pandas in a future version. Use pandas.concat instead.\n",
      "  new_data = new_data.append(row, ignore_index=True)\n"
     ]
    },
    {
     "name": "stdout",
     "output_type": "stream",
     "text": [
      "{'acousticness': 0.0344, 'danceability': 0.716, 'energy': 0.547, 'instrumentalness': 0.00184, 'liveness': 0.0931, 'loudness': -6.059, 'speechiness': 0.0507, 'tempo': 96.977, 'valence': 0.362, 'popularity': 0}\n"
     ]
    },
    {
     "name": "stderr",
     "output_type": "stream",
     "text": [
      "/var/folders/_g/d3gd43912fnd1ygsn8rm91dw0000gn/T/ipykernel_49151/3526264110.py:46: FutureWarning: The frame.append method is deprecated and will be removed from pandas in a future version. Use pandas.concat instead.\n",
      "  new_data = new_data.append(row, ignore_index=True)\n"
     ]
    },
    {
     "name": "stdout",
     "output_type": "stream",
     "text": [
      "{'acousticness': 0.000354, 'danceability': 0.667, 'energy': 0.922, 'instrumentalness': 0, 'liveness': 0.0867, 'loudness': -4.645, 'speechiness': 0.0353, 'tempo': 130.01, 'valence': 0.761, 'popularity': 71}\n"
     ]
    },
    {
     "name": "stderr",
     "output_type": "stream",
     "text": [
      "/var/folders/_g/d3gd43912fnd1ygsn8rm91dw0000gn/T/ipykernel_49151/3526264110.py:46: FutureWarning: The frame.append method is deprecated and will be removed from pandas in a future version. Use pandas.concat instead.\n",
      "  new_data = new_data.append(row, ignore_index=True)\n"
     ]
    },
    {
     "name": "stdout",
     "output_type": "stream",
     "text": [
      "{'acousticness': 0.0115, 'danceability': 0.757, 'energy': 0.547, 'instrumentalness': 0, 'liveness': 0.0445, 'loudness': -4.573, 'speechiness': 0.0355, 'tempo': 126.977, 'valence': 0.793, 'popularity': 68}\n"
     ]
    },
    {
     "name": "stderr",
     "output_type": "stream",
     "text": [
      "/var/folders/_g/d3gd43912fnd1ygsn8rm91dw0000gn/T/ipykernel_49151/3526264110.py:46: FutureWarning: The frame.append method is deprecated and will be removed from pandas in a future version. Use pandas.concat instead.\n",
      "  new_data = new_data.append(row, ignore_index=True)\n"
     ]
    },
    {
     "name": "stdout",
     "output_type": "stream",
     "text": [
      "{'acousticness': 0.00201, 'danceability': 0.719, 'energy': 0.847, 'instrumentalness': 0.0204, 'liveness': 0.221, 'loudness': -6.34, 'speechiness': 0.0916, 'tempo': 127.963, 'valence': 0.444, 'popularity': 80}\n"
     ]
    },
    {
     "name": "stderr",
     "output_type": "stream",
     "text": [
      "/var/folders/_g/d3gd43912fnd1ygsn8rm91dw0000gn/T/ipykernel_49151/3526264110.py:46: FutureWarning: The frame.append method is deprecated and will be removed from pandas in a future version. Use pandas.concat instead.\n",
      "  new_data = new_data.append(row, ignore_index=True)\n"
     ]
    },
    {
     "name": "stdout",
     "output_type": "stream",
     "text": [
      "{'acousticness': 0.0749, 'danceability': 0.514, 'energy': 0.683, 'instrumentalness': 2.64e-06, 'liveness': 0.392, 'loudness': -5.099, 'speechiness': 0.0367, 'tempo': 159.814, 'valence': 0.575, 'popularity': 71}\n"
     ]
    },
    {
     "name": "stderr",
     "output_type": "stream",
     "text": [
      "/var/folders/_g/d3gd43912fnd1ygsn8rm91dw0000gn/T/ipykernel_49151/3526264110.py:46: FutureWarning: The frame.append method is deprecated and will be removed from pandas in a future version. Use pandas.concat instead.\n",
      "  new_data = new_data.append(row, ignore_index=True)\n"
     ]
    },
    {
     "name": "stdout",
     "output_type": "stream",
     "text": [
      "{'acousticness': 0.000812, 'danceability': 0.691, 'energy': 0.795, 'instrumentalness': 1.02e-06, 'liveness': 0.156, 'loudness': -4.021, 'speechiness': 0.0355, 'tempo': 133.971, 'valence': 0.876, 'popularity': 75}\n"
     ]
    },
    {
     "name": "stderr",
     "output_type": "stream",
     "text": [
      "/var/folders/_g/d3gd43912fnd1ygsn8rm91dw0000gn/T/ipykernel_49151/3526264110.py:46: FutureWarning: The frame.append method is deprecated and will be removed from pandas in a future version. Use pandas.concat instead.\n",
      "  new_data = new_data.append(row, ignore_index=True)\n"
     ]
    },
    {
     "name": "stdout",
     "output_type": "stream",
     "text": [
      "{'acousticness': 0.0159, 'danceability': 0.792, 'energy': 0.856, 'instrumentalness': 2.88e-06, 'liveness': 0.0981, 'loudness': -5.236, 'speechiness': 0.067, 'tempo': 127.988, 'valence': 0.714, 'popularity': 68}\n"
     ]
    },
    {
     "name": "stderr",
     "output_type": "stream",
     "text": [
      "/var/folders/_g/d3gd43912fnd1ygsn8rm91dw0000gn/T/ipykernel_49151/3526264110.py:46: FutureWarning: The frame.append method is deprecated and will be removed from pandas in a future version. Use pandas.concat instead.\n",
      "  new_data = new_data.append(row, ignore_index=True)\n"
     ]
    },
    {
     "name": "stdout",
     "output_type": "stream",
     "text": [
      "{'acousticness': 0.000238, 'danceability': 0.594, 'energy': 0.841, 'instrumentalness': 2.22e-06, 'liveness': 0.156, 'loudness': -5.792, 'speechiness': 0.102, 'tempo': 129.925, 'valence': 0.643, 'popularity': 66}\n"
     ]
    },
    {
     "name": "stderr",
     "output_type": "stream",
     "text": [
      "/var/folders/_g/d3gd43912fnd1ygsn8rm91dw0000gn/T/ipykernel_49151/3526264110.py:46: FutureWarning: The frame.append method is deprecated and will be removed from pandas in a future version. Use pandas.concat instead.\n",
      "  new_data = new_data.append(row, ignore_index=True)\n"
     ]
    },
    {
     "name": "stdout",
     "output_type": "stream",
     "text": [
      "{'acousticness': 0.0271, 'danceability': 0.681, 'energy': 0.802, 'instrumentalness': 0.0496, 'liveness': 0.127, 'loudness': -5.836, 'speechiness': 0.0347, 'tempo': 120.053, 'valence': 0.791, 'popularity': 0}\n"
     ]
    },
    {
     "name": "stderr",
     "output_type": "stream",
     "text": [
      "/var/folders/_g/d3gd43912fnd1ygsn8rm91dw0000gn/T/ipykernel_49151/3526264110.py:46: FutureWarning: The frame.append method is deprecated and will be removed from pandas in a future version. Use pandas.concat instead.\n",
      "  new_data = new_data.append(row, ignore_index=True)\n"
     ]
    },
    {
     "name": "stdout",
     "output_type": "stream",
     "text": [
      "{'acousticness': 0.02, 'danceability': 0.378, 'energy': 0.638, 'instrumentalness': 7.66e-05, 'liveness': 0.0849, 'loudness': -5.576, 'speechiness': 0.075, 'tempo': 184.086, 'valence': 0.735, 'popularity': 75}\n"
     ]
    },
    {
     "name": "stderr",
     "output_type": "stream",
     "text": [
      "/var/folders/_g/d3gd43912fnd1ygsn8rm91dw0000gn/T/ipykernel_49151/3526264110.py:46: FutureWarning: The frame.append method is deprecated and will be removed from pandas in a future version. Use pandas.concat instead.\n",
      "  new_data = new_data.append(row, ignore_index=True)\n"
     ]
    },
    {
     "name": "stdout",
     "output_type": "stream",
     "text": [
      "{'acousticness': 0.00125, 'danceability': 0.564, 'energy': 0.71, 'instrumentalness': 0, 'liveness': 0.109, 'loudness': -4.92, 'speechiness': 0.0461, 'tempo': 91.972, 'valence': 0.393, 'popularity': 77}\n"
     ]
    },
    {
     "name": "stderr",
     "output_type": "stream",
     "text": [
      "/var/folders/_g/d3gd43912fnd1ygsn8rm91dw0000gn/T/ipykernel_49151/3526264110.py:46: FutureWarning: The frame.append method is deprecated and will be removed from pandas in a future version. Use pandas.concat instead.\n",
      "  new_data = new_data.append(row, ignore_index=True)\n"
     ]
    },
    {
     "name": "stdout",
     "output_type": "stream",
     "text": [
      "{'acousticness': 0.503, 'danceability': 0.702, 'energy': 0.715, 'instrumentalness': 2.44e-05, 'liveness': 0.126, 'loudness': -5.377, 'speechiness': 0.0425, 'tempo': 127.05, 'valence': 0.863, 'popularity': 72}\n"
     ]
    },
    {
     "name": "stderr",
     "output_type": "stream",
     "text": [
      "/var/folders/_g/d3gd43912fnd1ygsn8rm91dw0000gn/T/ipykernel_49151/3526264110.py:46: FutureWarning: The frame.append method is deprecated and will be removed from pandas in a future version. Use pandas.concat instead.\n",
      "  new_data = new_data.append(row, ignore_index=True)\n"
     ]
    },
    {
     "name": "stdout",
     "output_type": "stream",
     "text": [
      "{'acousticness': 0.0319, 'danceability': 0.646, 'energy': 0.795, 'instrumentalness': 0, 'liveness': 0.267, 'loudness': -3.293, 'speechiness': 0.0976, 'tempo': 89.99, 'valence': 0.796, 'popularity': 83}\n"
     ]
    },
    {
     "name": "stderr",
     "output_type": "stream",
     "text": [
      "/var/folders/_g/d3gd43912fnd1ygsn8rm91dw0000gn/T/ipykernel_49151/3526264110.py:46: FutureWarning: The frame.append method is deprecated and will be removed from pandas in a future version. Use pandas.concat instead.\n",
      "  new_data = new_data.append(row, ignore_index=True)\n"
     ]
    },
    {
     "name": "stdout",
     "output_type": "stream",
     "text": [
      "{'acousticness': 0.337, 'danceability': 0.576, 'energy': 0.835, 'instrumentalness': 0, 'liveness': 0.082, 'loudness': -6.826, 'speechiness': 0.0486, 'tempo': 150.017, 'valence': 0.476, 'popularity': 70}\n"
     ]
    },
    {
     "name": "stderr",
     "output_type": "stream",
     "text": [
      "/var/folders/_g/d3gd43912fnd1ygsn8rm91dw0000gn/T/ipykernel_49151/3526264110.py:46: FutureWarning: The frame.append method is deprecated and will be removed from pandas in a future version. Use pandas.concat instead.\n",
      "  new_data = new_data.append(row, ignore_index=True)\n"
     ]
    },
    {
     "name": "stdout",
     "output_type": "stream",
     "text": [
      "{'acousticness': 0.000145, 'danceability': 0.597, 'energy': 0.919, 'instrumentalness': 0, 'liveness': 0.282, 'loudness': -2.954, 'speechiness': 0.0439, 'tempo': 113.991, 'valence': 0.729, 'popularity': 69}\n"
     ]
    },
    {
     "name": "stderr",
     "output_type": "stream",
     "text": [
      "/var/folders/_g/d3gd43912fnd1ygsn8rm91dw0000gn/T/ipykernel_49151/3526264110.py:46: FutureWarning: The frame.append method is deprecated and will be removed from pandas in a future version. Use pandas.concat instead.\n",
      "  new_data = new_data.append(row, ignore_index=True)\n"
     ]
    },
    {
     "name": "stdout",
     "output_type": "stream",
     "text": [
      "{'acousticness': 0.00128, 'danceability': 0.509, 'energy': 0.812, 'instrumentalness': 1.99e-05, 'liveness': 0.214, 'loudness': -5.439, 'speechiness': 0.0537, 'tempo': 159.878, 'valence': 0.689, 'popularity': 53}\n"
     ]
    },
    {
     "name": "stderr",
     "output_type": "stream",
     "text": [
      "/var/folders/_g/d3gd43912fnd1ygsn8rm91dw0000gn/T/ipykernel_49151/3526264110.py:46: FutureWarning: The frame.append method is deprecated and will be removed from pandas in a future version. Use pandas.concat instead.\n",
      "  new_data = new_data.append(row, ignore_index=True)\n"
     ]
    },
    {
     "name": "stdout",
     "output_type": "stream",
     "text": [
      "{'acousticness': 0.0038, 'danceability': 0.532, 'energy': 0.783, 'instrumentalness': 0.0012, 'liveness': 0.161, 'loudness': -5.697, 'speechiness': 0.0523, 'tempo': 124.08, 'valence': 0.643, 'popularity': 87}\n"
     ]
    },
    {
     "name": "stderr",
     "output_type": "stream",
     "text": [
      "/var/folders/_g/d3gd43912fnd1ygsn8rm91dw0000gn/T/ipykernel_49151/3526264110.py:46: FutureWarning: The frame.append method is deprecated and will be removed from pandas in a future version. Use pandas.concat instead.\n",
      "  new_data = new_data.append(row, ignore_index=True)\n"
     ]
    },
    {
     "name": "stdout",
     "output_type": "stream",
     "text": [
      "{'acousticness': 0.225, 'danceability': 0.6, 'energy': 0.663, 'instrumentalness': 0, 'liveness': 0.119, 'loudness': -5.802, 'speechiness': 0.0477, 'tempo': 121.07, 'valence': 0.286, 'popularity': 84}\n"
     ]
    },
    {
     "name": "stderr",
     "output_type": "stream",
     "text": [
      "/var/folders/_g/d3gd43912fnd1ygsn8rm91dw0000gn/T/ipykernel_49151/3526264110.py:46: FutureWarning: The frame.append method is deprecated and will be removed from pandas in a future version. Use pandas.concat instead.\n",
      "  new_data = new_data.append(row, ignore_index=True)\n"
     ]
    },
    {
     "name": "stdout",
     "output_type": "stream",
     "text": [
      "{'acousticness': 0.346, 'danceability': 0.778, 'energy': 0.547, 'instrumentalness': 0.000302, 'liveness': 0.132, 'loudness': -7.273, 'speechiness': 0.0489, 'tempo': 95.002, 'valence': 0.441, 'popularity': 83}\n"
     ]
    },
    {
     "name": "stderr",
     "output_type": "stream",
     "text": [
      "/var/folders/_g/d3gd43912fnd1ygsn8rm91dw0000gn/T/ipykernel_49151/3526264110.py:46: FutureWarning: The frame.append method is deprecated and will be removed from pandas in a future version. Use pandas.concat instead.\n",
      "  new_data = new_data.append(row, ignore_index=True)\n"
     ]
    },
    {
     "name": "stdout",
     "output_type": "stream",
     "text": [
      "{'acousticness': 0.0654, 'danceability': 0.421, 'energy': 0.873, 'instrumentalness': 0, 'liveness': 0.123, 'loudness': -4.343, 'speechiness': 0.0564, 'tempo': 84.786, 'valence': 0.629, 'popularity': 70}\n"
     ]
    },
    {
     "name": "stderr",
     "output_type": "stream",
     "text": [
      "/var/folders/_g/d3gd43912fnd1ygsn8rm91dw0000gn/T/ipykernel_49151/3526264110.py:46: FutureWarning: The frame.append method is deprecated and will be removed from pandas in a future version. Use pandas.concat instead.\n",
      "  new_data = new_data.append(row, ignore_index=True)\n"
     ]
    },
    {
     "name": "stdout",
     "output_type": "stream",
     "text": [
      "{'acousticness': 0.00492, 'danceability': 0.671, 'energy': 0.771, 'instrumentalness': 7.28e-06, 'liveness': 0.354, 'loudness': -4.821, 'speechiness': 0.0316, 'tempo': 90.003, 'valence': 0.436, 'popularity': 81}\n"
     ]
    },
    {
     "name": "stderr",
     "output_type": "stream",
     "text": [
      "/var/folders/_g/d3gd43912fnd1ygsn8rm91dw0000gn/T/ipykernel_49151/3526264110.py:46: FutureWarning: The frame.append method is deprecated and will be removed from pandas in a future version. Use pandas.concat instead.\n",
      "  new_data = new_data.append(row, ignore_index=True)\n"
     ]
    },
    {
     "name": "stdout",
     "output_type": "stream",
     "text": [
      "{'acousticness': 0.00882, 'danceability': 0.613, 'energy': 0.622, 'instrumentalness': 0, 'liveness': 0.37, 'loudness': -5.794, 'speechiness': 0.0334, 'tempo': 80.003, 'valence': 0.484, 'popularity': 81}\n"
     ]
    },
    {
     "name": "stderr",
     "output_type": "stream",
     "text": [
      "/var/folders/_g/d3gd43912fnd1ygsn8rm91dw0000gn/T/ipykernel_49151/3526264110.py:46: FutureWarning: The frame.append method is deprecated and will be removed from pandas in a future version. Use pandas.concat instead.\n",
      "  new_data = new_data.append(row, ignore_index=True)\n"
     ]
    },
    {
     "name": "stdout",
     "output_type": "stream",
     "text": [
      "{'acousticness': 0.0426, 'danceability': 0.794, 'energy': 0.811, 'instrumentalness': 1.07e-06, 'liveness': 0.101, 'loudness': -8.966, 'speechiness': 0.038, 'tempo': 116.047, 'valence': 0.862, 'popularity': 83}\n"
     ]
    },
    {
     "name": "stderr",
     "output_type": "stream",
     "text": [
      "/var/folders/_g/d3gd43912fnd1ygsn8rm91dw0000gn/T/ipykernel_49151/3526264110.py:46: FutureWarning: The frame.append method is deprecated and will be removed from pandas in a future version. Use pandas.concat instead.\n",
      "  new_data = new_data.append(row, ignore_index=True)\n"
     ]
    },
    {
     "name": "stdout",
     "output_type": "stream",
     "text": [
      "{'acousticness': 0.407, 'danceability': 0.53, 'energy': 0.422, 'instrumentalness': 0, 'liveness': 0.107, 'loudness': -6.262, 'speechiness': 0.0342, 'tempo': 119.964, 'valence': 0.349, 'popularity': 83}\n"
     ]
    },
    {
     "name": "stderr",
     "output_type": "stream",
     "text": [
      "/var/folders/_g/d3gd43912fnd1ygsn8rm91dw0000gn/T/ipykernel_49151/3526264110.py:46: FutureWarning: The frame.append method is deprecated and will be removed from pandas in a future version. Use pandas.concat instead.\n",
      "  new_data = new_data.append(row, ignore_index=True)\n"
     ]
    },
    {
     "name": "stdout",
     "output_type": "stream",
     "text": [
      "{'acousticness': 0.135, 'danceability': 0.376, 'energy': 0.695, 'instrumentalness': 0, 'liveness': 0.11, 'loudness': -4.782, 'speechiness': 0.0933, 'tempo': 169.533, 'valence': 0.302, 'popularity': 78}\n"
     ]
    },
    {
     "name": "stderr",
     "output_type": "stream",
     "text": [
      "/var/folders/_g/d3gd43912fnd1ygsn8rm91dw0000gn/T/ipykernel_49151/3526264110.py:46: FutureWarning: The frame.append method is deprecated and will be removed from pandas in a future version. Use pandas.concat instead.\n",
      "  new_data = new_data.append(row, ignore_index=True)\n"
     ]
    },
    {
     "name": "stdout",
     "output_type": "stream",
     "text": [
      "{'acousticness': 0.00334, 'danceability': 0.853, 'energy': 0.599, 'instrumentalness': 7.93e-06, 'liveness': 0.0759, 'loudness': -4.756, 'speechiness': 0.0411, 'tempo': 119.993, 'valence': 0.843, 'popularity': 77}\n"
     ]
    },
    {
     "name": "stderr",
     "output_type": "stream",
     "text": [
      "/var/folders/_g/d3gd43912fnd1ygsn8rm91dw0000gn/T/ipykernel_49151/3526264110.py:46: FutureWarning: The frame.append method is deprecated and will be removed from pandas in a future version. Use pandas.concat instead.\n",
      "  new_data = new_data.append(row, ignore_index=True)\n"
     ]
    },
    {
     "name": "stdout",
     "output_type": "stream",
     "text": [
      "{'acousticness': 0.0738, 'danceability': 0.504, 'energy': 0.785, 'instrumentalness': 0, 'liveness': 0.239, 'loudness': -4.802, 'speechiness': 0.104, 'tempo': 173.968, 'valence': 0.502, 'popularity': 80}\n"
     ]
    },
    {
     "name": "stderr",
     "output_type": "stream",
     "text": [
      "/var/folders/_g/d3gd43912fnd1ygsn8rm91dw0000gn/T/ipykernel_49151/3526264110.py:46: FutureWarning: The frame.append method is deprecated and will be removed from pandas in a future version. Use pandas.concat instead.\n",
      "  new_data = new_data.append(row, ignore_index=True)\n"
     ]
    },
    {
     "name": "stdout",
     "output_type": "stream",
     "text": [
      "{'acousticness': 0.0317, 'danceability': 0.567, 'energy': 0.686, 'instrumentalness': 1.86e-06, 'liveness': 0.0732, 'loudness': -6.139, 'speechiness': 0.175, 'tempo': 172.014, 'valence': 0.716, 'popularity': 79}\n"
     ]
    },
    {
     "name": "stderr",
     "output_type": "stream",
     "text": [
      "/var/folders/_g/d3gd43912fnd1ygsn8rm91dw0000gn/T/ipykernel_49151/3526264110.py:46: FutureWarning: The frame.append method is deprecated and will be removed from pandas in a future version. Use pandas.concat instead.\n",
      "  new_data = new_data.append(row, ignore_index=True)\n"
     ]
    },
    {
     "name": "stdout",
     "output_type": "stream",
     "text": [
      "{'acousticness': 0.00498, 'danceability': 0.711, 'energy': 0.7, 'instrumentalness': 0.000125, 'liveness': 0.215, 'loudness': -4.805, 'speechiness': 0.046, 'tempo': 128.001, 'valence': 0.801, 'popularity': 79}\n"
     ]
    },
    {
     "name": "stderr",
     "output_type": "stream",
     "text": [
      "/var/folders/_g/d3gd43912fnd1ygsn8rm91dw0000gn/T/ipykernel_49151/3526264110.py:46: FutureWarning: The frame.append method is deprecated and will be removed from pandas in a future version. Use pandas.concat instead.\n",
      "  new_data = new_data.append(row, ignore_index=True)\n"
     ]
    },
    {
     "name": "stdout",
     "output_type": "stream",
     "text": [
      "{'acousticness': 0.0398, 'danceability': 0.509, 'energy': 0.781, 'instrumentalness': 0, 'liveness': 0.0749, 'loudness': -3.48, 'speechiness': 0.072, 'tempo': 128.0, 'valence': 0.176, 'popularity': 77}\n"
     ]
    },
    {
     "name": "stderr",
     "output_type": "stream",
     "text": [
      "/var/folders/_g/d3gd43912fnd1ygsn8rm91dw0000gn/T/ipykernel_49151/3526264110.py:46: FutureWarning: The frame.append method is deprecated and will be removed from pandas in a future version. Use pandas.concat instead.\n",
      "  new_data = new_data.append(row, ignore_index=True)\n"
     ]
    },
    {
     "name": "stdout",
     "output_type": "stream",
     "text": [
      "{'acousticness': 0.0157, 'danceability': 0.572, 'energy': 0.81, 'instrumentalness': 6.53e-06, 'liveness': 0.13, 'loudness': -5.791, 'speechiness': 0.0558, 'tempo': 126.052, 'valence': 0.11, 'popularity': 74}\n"
     ]
    },
    {
     "name": "stderr",
     "output_type": "stream",
     "text": [
      "/var/folders/_g/d3gd43912fnd1ygsn8rm91dw0000gn/T/ipykernel_49151/3526264110.py:46: FutureWarning: The frame.append method is deprecated and will be removed from pandas in a future version. Use pandas.concat instead.\n",
      "  new_data = new_data.append(row, ignore_index=True)\n"
     ]
    },
    {
     "name": "stdout",
     "output_type": "stream",
     "text": [
      "{'acousticness': 0.129, 'danceability': 0.544, 'energy': 0.915, 'instrumentalness': 0.000914, 'liveness': 0.115, 'loudness': -3.405, 'speechiness': 0.0841, 'tempo': 126.094, 'valence': 0.51, 'popularity': 76}\n"
     ]
    },
    {
     "name": "stderr",
     "output_type": "stream",
     "text": [
      "/var/folders/_g/d3gd43912fnd1ygsn8rm91dw0000gn/T/ipykernel_49151/3526264110.py:46: FutureWarning: The frame.append method is deprecated and will be removed from pandas in a future version. Use pandas.concat instead.\n",
      "  new_data = new_data.append(row, ignore_index=True)\n"
     ]
    },
    {
     "name": "stdout",
     "output_type": "stream",
     "text": [
      "{'acousticness': 0.00301, 'danceability': 0.471, 'energy': 0.924, 'instrumentalness': 0, 'liveness': 0.313, 'loudness': -3.906, 'speechiness': 0.0586, 'tempo': 154.961, 'valence': 0.725, 'popularity': 80}\n"
     ]
    },
    {
     "name": "stderr",
     "output_type": "stream",
     "text": [
      "/var/folders/_g/d3gd43912fnd1ygsn8rm91dw0000gn/T/ipykernel_49151/3526264110.py:46: FutureWarning: The frame.append method is deprecated and will be removed from pandas in a future version. Use pandas.concat instead.\n",
      "  new_data = new_data.append(row, ignore_index=True)\n"
     ]
    },
    {
     "name": "stdout",
     "output_type": "stream",
     "text": [
      "{'acousticness': 0.00421, 'danceability': 0.777, 'energy': 0.414, 'instrumentalness': 2.73e-05, 'liveness': 0.0724, 'loudness': -7.44, 'speechiness': 0.0946, 'tempo': 100.002, 'valence': 0.287, 'popularity': 74}\n"
     ]
    },
    {
     "name": "stderr",
     "output_type": "stream",
     "text": [
      "/var/folders/_g/d3gd43912fnd1ygsn8rm91dw0000gn/T/ipykernel_49151/3526264110.py:46: FutureWarning: The frame.append method is deprecated and will be removed from pandas in a future version. Use pandas.concat instead.\n",
      "  new_data = new_data.append(row, ignore_index=True)\n"
     ]
    },
    {
     "name": "stdout",
     "output_type": "stream",
     "text": [
      "{'acousticness': 0.0227, 'danceability': 0.652, 'energy': 0.877, 'instrumentalness': 0, 'liveness': 0.0789, 'loudness': -2.986, 'speechiness': 0.0465, 'tempo': 118.491, 'valence': 0.486, 'popularity': 79}\n"
     ]
    },
    {
     "name": "stderr",
     "output_type": "stream",
     "text": [
      "/var/folders/_g/d3gd43912fnd1ygsn8rm91dw0000gn/T/ipykernel_49151/3526264110.py:46: FutureWarning: The frame.append method is deprecated and will be removed from pandas in a future version. Use pandas.concat instead.\n",
      "  new_data = new_data.append(row, ignore_index=True)\n"
     ]
    },
    {
     "name": "stdout",
     "output_type": "stream",
     "text": [
      "{'acousticness': 0.0177, 'danceability': 0.637, 'energy': 0.93, 'instrumentalness': 0, 'liveness': 0.452, 'loudness': -2.632, 'speechiness': 0.0511, 'tempo': 90.014, 'valence': 0.886, 'popularity': 76}\n"
     ]
    },
    {
     "name": "stderr",
     "output_type": "stream",
     "text": [
      "/var/folders/_g/d3gd43912fnd1ygsn8rm91dw0000gn/T/ipykernel_49151/3526264110.py:46: FutureWarning: The frame.append method is deprecated and will be removed from pandas in a future version. Use pandas.concat instead.\n",
      "  new_data = new_data.append(row, ignore_index=True)\n"
     ]
    },
    {
     "name": "stdout",
     "output_type": "stream",
     "text": [
      "{'acousticness': 0.197, 'danceability': 0.573, 'energy': 0.929, 'instrumentalness': 0.000112, 'liveness': 0.0567, 'loudness': -3.942, 'speechiness': 0.109, 'tempo': 127.934, 'valence': 0.582, 'popularity': 75}\n"
     ]
    },
    {
     "name": "stderr",
     "output_type": "stream",
     "text": [
      "/var/folders/_g/d3gd43912fnd1ygsn8rm91dw0000gn/T/ipykernel_49151/3526264110.py:46: FutureWarning: The frame.append method is deprecated and will be removed from pandas in a future version. Use pandas.concat instead.\n",
      "  new_data = new_data.append(row, ignore_index=True)\n"
     ]
    },
    {
     "name": "stdout",
     "output_type": "stream",
     "text": [
      "{'acousticness': 0.0839, 'danceability': 0.832, 'energy': 0.659, 'instrumentalness': 0.00114, 'liveness': 0.0753, 'loudness': -7.828, 'speechiness': 0.057, 'tempo': 100.163, 'valence': 0.674, 'popularity': 71}\n"
     ]
    },
    {
     "name": "stderr",
     "output_type": "stream",
     "text": [
      "/var/folders/_g/d3gd43912fnd1ygsn8rm91dw0000gn/T/ipykernel_49151/3526264110.py:46: FutureWarning: The frame.append method is deprecated and will be removed from pandas in a future version. Use pandas.concat instead.\n",
      "  new_data = new_data.append(row, ignore_index=True)\n"
     ]
    },
    {
     "name": "stdout",
     "output_type": "stream",
     "text": [
      "{'acousticness': 0.155, 'danceability': 0.629, 'energy': 0.824, 'instrumentalness': 0.000628, 'liveness': 0.0651, 'loudness': -6.53, 'speechiness': 0.159, 'tempo': 128.01, 'valence': 0.852, 'popularity': 71}\n"
     ]
    },
    {
     "name": "stderr",
     "output_type": "stream",
     "text": [
      "/var/folders/_g/d3gd43912fnd1ygsn8rm91dw0000gn/T/ipykernel_49151/3526264110.py:46: FutureWarning: The frame.append method is deprecated and will be removed from pandas in a future version. Use pandas.concat instead.\n",
      "  new_data = new_data.append(row, ignore_index=True)\n"
     ]
    },
    {
     "name": "stdout",
     "output_type": "stream",
     "text": [
      "{'acousticness': 0.00502, 'danceability': 0.551, 'energy': 0.836, 'instrumentalness': 2.1e-05, 'liveness': 0.0425, 'loudness': -3.838, 'speechiness': 0.0524, 'tempo': 185.063, 'valence': 0.758, 'popularity': 71}\n"
     ]
    },
    {
     "name": "stderr",
     "output_type": "stream",
     "text": [
      "/var/folders/_g/d3gd43912fnd1ygsn8rm91dw0000gn/T/ipykernel_49151/3526264110.py:46: FutureWarning: The frame.append method is deprecated and will be removed from pandas in a future version. Use pandas.concat instead.\n",
      "  new_data = new_data.append(row, ignore_index=True)\n"
     ]
    },
    {
     "name": "stdout",
     "output_type": "stream",
     "text": [
      "{'acousticness': 0.039, 'danceability': 0.673, 'energy': 0.758, 'instrumentalness': 0, 'liveness': 0.341, 'loudness': -3.632, 'speechiness': 0.158, 'tempo': 135.956, 'valence': 0.542, 'popularity': 79}\n"
     ]
    },
    {
     "name": "stderr",
     "output_type": "stream",
     "text": [
      "/var/folders/_g/d3gd43912fnd1ygsn8rm91dw0000gn/T/ipykernel_49151/3526264110.py:46: FutureWarning: The frame.append method is deprecated and will be removed from pandas in a future version. Use pandas.concat instead.\n",
      "  new_data = new_data.append(row, ignore_index=True)\n"
     ]
    },
    {
     "name": "stdout",
     "output_type": "stream",
     "text": [
      "{'acousticness': 0.227, 'danceability': 0.561, 'energy': 0.522, 'instrumentalness': 0, 'liveness': 0.104, 'loudness': -5.857, 'speechiness': 0.0318, 'tempo': 83.962, 'valence': 0.238, 'popularity': 70}\n"
     ]
    },
    {
     "name": "stderr",
     "output_type": "stream",
     "text": [
      "/var/folders/_g/d3gd43912fnd1ygsn8rm91dw0000gn/T/ipykernel_49151/3526264110.py:46: FutureWarning: The frame.append method is deprecated and will be removed from pandas in a future version. Use pandas.concat instead.\n",
      "  new_data = new_data.append(row, ignore_index=True)\n"
     ]
    },
    {
     "name": "stdout",
     "output_type": "stream",
     "text": [
      "{'acousticness': 0.248, 'danceability': 0.658, 'energy': 0.677, 'instrumentalness': 0, 'liveness': 0.368, 'loudness': -6.628, 'speechiness': 0.0393, 'tempo': 124.91, 'valence': 0.248, 'popularity': 70}\n"
     ]
    },
    {
     "name": "stderr",
     "output_type": "stream",
     "text": [
      "/var/folders/_g/d3gd43912fnd1ygsn8rm91dw0000gn/T/ipykernel_49151/3526264110.py:46: FutureWarning: The frame.append method is deprecated and will be removed from pandas in a future version. Use pandas.concat instead.\n",
      "  new_data = new_data.append(row, ignore_index=True)\n"
     ]
    },
    {
     "name": "stdout",
     "output_type": "stream",
     "text": [
      "{'acousticness': 0.0633, 'danceability': 0.781, 'energy': 0.526, 'instrumentalness': 0, 'liveness': 0.0457, 'loudness': -6.986, 'speechiness': 0.293, 'tempo': 94.993, 'valence': 0.665, 'popularity': 79}\n"
     ]
    },
    {
     "name": "stderr",
     "output_type": "stream",
     "text": [
      "/var/folders/_g/d3gd43912fnd1ygsn8rm91dw0000gn/T/ipykernel_49151/3526264110.py:46: FutureWarning: The frame.append method is deprecated and will be removed from pandas in a future version. Use pandas.concat instead.\n",
      "  new_data = new_data.append(row, ignore_index=True)\n"
     ]
    },
    {
     "name": "stdout",
     "output_type": "stream",
     "text": [
      "{'acousticness': 0.219, 'danceability': 0.523, 'energy': 0.782, 'instrumentalness': 1.03e-05, 'liveness': 0.133, 'loudness': -4.846, 'speechiness': 0.041, 'tempo': 125.998, 'valence': 0.164, 'popularity': 62}\n"
     ]
    },
    {
     "name": "stderr",
     "output_type": "stream",
     "text": [
      "/var/folders/_g/d3gd43912fnd1ygsn8rm91dw0000gn/T/ipykernel_49151/3526264110.py:46: FutureWarning: The frame.append method is deprecated and will be removed from pandas in a future version. Use pandas.concat instead.\n",
      "  new_data = new_data.append(row, ignore_index=True)\n"
     ]
    },
    {
     "name": "stdout",
     "output_type": "stream",
     "text": [
      "{'acousticness': 0.294, 'danceability': 0.645, 'energy': 0.877, 'instrumentalness': 0, 'liveness': 0.0759, 'loudness': -3.208, 'speechiness': 0.113, 'tempo': 82.324, 'valence': 0.861, 'popularity': 70}\n"
     ]
    },
    {
     "name": "stderr",
     "output_type": "stream",
     "text": [
      "/var/folders/_g/d3gd43912fnd1ygsn8rm91dw0000gn/T/ipykernel_49151/3526264110.py:46: FutureWarning: The frame.append method is deprecated and will be removed from pandas in a future version. Use pandas.concat instead.\n",
      "  new_data = new_data.append(row, ignore_index=True)\n"
     ]
    },
    {
     "name": "stdout",
     "output_type": "stream",
     "text": [
      "{'acousticness': 0.103, 'danceability': 0.795, 'energy': 0.596, 'instrumentalness': 0, 'liveness': 0.164, 'loudness': -3.799, 'speechiness': 0.219, 'tempo': 101.985, 'valence': 0.357, 'popularity': 68}\n"
     ]
    },
    {
     "name": "stderr",
     "output_type": "stream",
     "text": [
      "/var/folders/_g/d3gd43912fnd1ygsn8rm91dw0000gn/T/ipykernel_49151/3526264110.py:46: FutureWarning: The frame.append method is deprecated and will be removed from pandas in a future version. Use pandas.concat instead.\n",
      "  new_data = new_data.append(row, ignore_index=True)\n"
     ]
    },
    {
     "name": "stdout",
     "output_type": "stream",
     "text": [
      "{'acousticness': 0.00112, 'danceability': 0.797, 'energy': 0.608, 'instrumentalness': 7.66e-05, 'liveness': 0.0748, 'loudness': -6.096, 'speechiness': 0.0584, 'tempo': 127.999, 'valence': 0.402, 'popularity': 68}\n"
     ]
    },
    {
     "name": "stderr",
     "output_type": "stream",
     "text": [
      "/var/folders/_g/d3gd43912fnd1ygsn8rm91dw0000gn/T/ipykernel_49151/3526264110.py:46: FutureWarning: The frame.append method is deprecated and will be removed from pandas in a future version. Use pandas.concat instead.\n",
      "  new_data = new_data.append(row, ignore_index=True)\n"
     ]
    },
    {
     "name": "stdout",
     "output_type": "stream",
     "text": [
      "{'acousticness': 0.00952, 'danceability': 0.711, 'energy': 0.906, 'instrumentalness': 1.64e-05, 'liveness': 0.153, 'loudness': -2.671, 'speechiness': 0.0284, 'tempo': 125.916, 'valence': 0.824, 'popularity': 72}\n"
     ]
    },
    {
     "name": "stderr",
     "output_type": "stream",
     "text": [
      "/var/folders/_g/d3gd43912fnd1ygsn8rm91dw0000gn/T/ipykernel_49151/3526264110.py:46: FutureWarning: The frame.append method is deprecated and will be removed from pandas in a future version. Use pandas.concat instead.\n",
      "  new_data = new_data.append(row, ignore_index=True)\n"
     ]
    },
    {
     "name": "stdout",
     "output_type": "stream",
     "text": [
      "{'acousticness': 0.00246, 'danceability': 0.657, 'energy': 0.679, 'instrumentalness': 0, 'liveness': 0.211, 'loudness': -5.511, 'speechiness': 0.0269, 'tempo': 120.007, 'valence': 0.331, 'popularity': 64}\n"
     ]
    },
    {
     "name": "stderr",
     "output_type": "stream",
     "text": [
      "/var/folders/_g/d3gd43912fnd1ygsn8rm91dw0000gn/T/ipykernel_49151/3526264110.py:46: FutureWarning: The frame.append method is deprecated and will be removed from pandas in a future version. Use pandas.concat instead.\n",
      "  new_data = new_data.append(row, ignore_index=True)\n"
     ]
    },
    {
     "name": "stdout",
     "output_type": "stream",
     "text": [
      "{'acousticness': 0.145, 'danceability': 0.675, 'energy': 0.792, 'instrumentalness': 0, 'liveness': 0.12, 'loudness': -6.303, 'speechiness': 0.0368, 'tempo': 120.016, 'valence': 0.395, 'popularity': 61}\n"
     ]
    },
    {
     "name": "stderr",
     "output_type": "stream",
     "text": [
      "/var/folders/_g/d3gd43912fnd1ygsn8rm91dw0000gn/T/ipykernel_49151/3526264110.py:46: FutureWarning: The frame.append method is deprecated and will be removed from pandas in a future version. Use pandas.concat instead.\n",
      "  new_data = new_data.append(row, ignore_index=True)\n"
     ]
    },
    {
     "name": "stdout",
     "output_type": "stream",
     "text": [
      "{'acousticness': 0.0105, 'danceability': 0.749, 'energy': 0.635, 'instrumentalness': 2.17e-06, 'liveness': 0.0854, 'loudness': -5.075, 'speechiness': 0.168, 'tempo': 130.011, 'valence': 0.508, 'popularity': 62}\n"
     ]
    },
    {
     "name": "stderr",
     "output_type": "stream",
     "text": [
      "/var/folders/_g/d3gd43912fnd1ygsn8rm91dw0000gn/T/ipykernel_49151/3526264110.py:46: FutureWarning: The frame.append method is deprecated and will be removed from pandas in a future version. Use pandas.concat instead.\n",
      "  new_data = new_data.append(row, ignore_index=True)\n"
     ]
    },
    {
     "name": "stdout",
     "output_type": "stream",
     "text": [
      "{'acousticness': 0.00441, 'danceability': 0.85, 'energy': 0.741, 'instrumentalness': 3.16e-06, 'liveness': 0.549, 'loudness': -4.572, 'speechiness': 0.092, 'tempo': 121.17, 'valence': 0.766, 'popularity': 57}\n"
     ]
    },
    {
     "name": "stderr",
     "output_type": "stream",
     "text": [
      "/var/folders/_g/d3gd43912fnd1ygsn8rm91dw0000gn/T/ipykernel_49151/3526264110.py:46: FutureWarning: The frame.append method is deprecated and will be removed from pandas in a future version. Use pandas.concat instead.\n",
      "  new_data = new_data.append(row, ignore_index=True)\n"
     ]
    },
    {
     "name": "stdout",
     "output_type": "stream",
     "text": [
      "{'acousticness': 0.00606, 'danceability': 0.559, 'energy': 0.82, 'instrumentalness': 0, 'liveness': 0.0958, 'loudness': -3.381, 'speechiness': 0.0591, 'tempo': 126.091, 'valence': 0.428, 'popularity': 61}\n"
     ]
    },
    {
     "name": "stderr",
     "output_type": "stream",
     "text": [
      "/var/folders/_g/d3gd43912fnd1ygsn8rm91dw0000gn/T/ipykernel_49151/3526264110.py:46: FutureWarning: The frame.append method is deprecated and will be removed from pandas in a future version. Use pandas.concat instead.\n",
      "  new_data = new_data.append(row, ignore_index=True)\n"
     ]
    },
    {
     "name": "stdout",
     "output_type": "stream",
     "text": [
      "{'acousticness': 0.00963, 'danceability': 0.465, 'energy': 0.956, 'instrumentalness': 0.000101, 'liveness': 0.335, 'loudness': -3.34, 'speechiness': 0.128, 'tempo': 184.126, 'valence': 0.665, 'popularity': 60}\n"
     ]
    },
    {
     "name": "stderr",
     "output_type": "stream",
     "text": [
      "/var/folders/_g/d3gd43912fnd1ygsn8rm91dw0000gn/T/ipykernel_49151/3526264110.py:46: FutureWarning: The frame.append method is deprecated and will be removed from pandas in a future version. Use pandas.concat instead.\n",
      "  new_data = new_data.append(row, ignore_index=True)\n"
     ]
    },
    {
     "name": "stdout",
     "output_type": "stream",
     "text": [
      "{'acousticness': 0.146, 'danceability': 0.568, 'energy': 0.517, 'instrumentalness': 0, 'liveness': 0.343, 'loudness': -7.316, 'speechiness': 0.0894, 'tempo': 104.443, 'valence': 0.578, 'popularity': 61}\n"
     ]
    },
    {
     "name": "stderr",
     "output_type": "stream",
     "text": [
      "/var/folders/_g/d3gd43912fnd1ygsn8rm91dw0000gn/T/ipykernel_49151/3526264110.py:46: FutureWarning: The frame.append method is deprecated and will be removed from pandas in a future version. Use pandas.concat instead.\n",
      "  new_data = new_data.append(row, ignore_index=True)\n"
     ]
    },
    {
     "name": "stdout",
     "output_type": "stream",
     "text": [
      "{'acousticness': 0.144, 'danceability': 0.578, 'energy': 0.6, 'instrumentalness': 0, 'liveness': 0.426, 'loudness': -5.7, 'speechiness': 0.0455, 'tempo': 76.999, 'valence': 0.646, 'popularity': 64}\n"
     ]
    },
    {
     "name": "stderr",
     "output_type": "stream",
     "text": [
      "/var/folders/_g/d3gd43912fnd1ygsn8rm91dw0000gn/T/ipykernel_49151/3526264110.py:46: FutureWarning: The frame.append method is deprecated and will be removed from pandas in a future version. Use pandas.concat instead.\n",
      "  new_data = new_data.append(row, ignore_index=True)\n"
     ]
    },
    {
     "name": "stdout",
     "output_type": "stream",
     "text": [
      "{'acousticness': 0.0923, 'danceability': 0.674, 'energy': 0.81, 'instrumentalness': 4.74e-05, 'liveness': 0.11, 'loudness': -5.117, 'speechiness': 0.0378, 'tempo': 94.995, 'valence': 0.391, 'popularity': 57}\n"
     ]
    },
    {
     "name": "stderr",
     "output_type": "stream",
     "text": [
      "/var/folders/_g/d3gd43912fnd1ygsn8rm91dw0000gn/T/ipykernel_49151/3526264110.py:46: FutureWarning: The frame.append method is deprecated and will be removed from pandas in a future version. Use pandas.concat instead.\n",
      "  new_data = new_data.append(row, ignore_index=True)\n"
     ]
    },
    {
     "name": "stdout",
     "output_type": "stream",
     "text": [
      "{'acousticness': 0.000875, 'danceability': 0.576, 'energy': 0.86, 'instrumentalness': 0, 'liveness': 0.316, 'loudness': -3.913, 'speechiness': 0.0394, 'tempo': 87.461, 'valence': 0.594, 'popularity': 57}\n"
     ]
    },
    {
     "name": "stderr",
     "output_type": "stream",
     "text": [
      "/var/folders/_g/d3gd43912fnd1ygsn8rm91dw0000gn/T/ipykernel_49151/3526264110.py:46: FutureWarning: The frame.append method is deprecated and will be removed from pandas in a future version. Use pandas.concat instead.\n",
      "  new_data = new_data.append(row, ignore_index=True)\n"
     ]
    },
    {
     "name": "stdout",
     "output_type": "stream",
     "text": [
      "{'acousticness': 0.916, 'danceability': 0.459, 'energy': 0.255, 'instrumentalness': 0.000407, 'liveness': 0.113, 'loudness': -8.118, 'speechiness': 0.0383, 'tempo': 118.933, 'valence': 0.229, 'popularity': 41}\n"
     ]
    },
    {
     "name": "stderr",
     "output_type": "stream",
     "text": [
      "/var/folders/_g/d3gd43912fnd1ygsn8rm91dw0000gn/T/ipykernel_49151/3526264110.py:46: FutureWarning: The frame.append method is deprecated and will be removed from pandas in a future version. Use pandas.concat instead.\n",
      "  new_data = new_data.append(row, ignore_index=True)\n"
     ]
    },
    {
     "name": "stdout",
     "output_type": "stream",
     "text": [
      "{'acousticness': 0.0869, 'danceability': 0.591, 'energy': 0.808, 'instrumentalness': 0.00396, 'liveness': 0.147, 'loudness': -5.943, 'speechiness': 0.288, 'tempo': 92.864, 'valence': 0.337, 'popularity': 57}\n"
     ]
    },
    {
     "name": "stderr",
     "output_type": "stream",
     "text": [
      "/var/folders/_g/d3gd43912fnd1ygsn8rm91dw0000gn/T/ipykernel_49151/3526264110.py:46: FutureWarning: The frame.append method is deprecated and will be removed from pandas in a future version. Use pandas.concat instead.\n",
      "  new_data = new_data.append(row, ignore_index=True)\n"
     ]
    },
    {
     "name": "stdout",
     "output_type": "stream",
     "text": [
      "{'acousticness': 0.00701, 'danceability': 0.611, 'energy': 0.678, 'instrumentalness': 8.43e-06, 'liveness': 0.431, 'loudness': -6.723, 'speechiness': 0.243, 'tempo': 137.864, 'valence': 0.493, 'popularity': 56}\n"
     ]
    },
    {
     "name": "stderr",
     "output_type": "stream",
     "text": [
      "/var/folders/_g/d3gd43912fnd1ygsn8rm91dw0000gn/T/ipykernel_49151/3526264110.py:46: FutureWarning: The frame.append method is deprecated and will be removed from pandas in a future version. Use pandas.concat instead.\n",
      "  new_data = new_data.append(row, ignore_index=True)\n"
     ]
    },
    {
     "name": "stdout",
     "output_type": "stream",
     "text": [
      "{'acousticness': 0.00887, 'danceability': 0.552, 'energy': 0.783, 'instrumentalness': 0.00026, 'liveness': 0.0954, 'loudness': -4.138, 'speechiness': 0.0504, 'tempo': 79.984, 'valence': 0.575, 'popularity': 1}\n"
     ]
    },
    {
     "name": "stderr",
     "output_type": "stream",
     "text": [
      "/var/folders/_g/d3gd43912fnd1ygsn8rm91dw0000gn/T/ipykernel_49151/3526264110.py:46: FutureWarning: The frame.append method is deprecated and will be removed from pandas in a future version. Use pandas.concat instead.\n",
      "  new_data = new_data.append(row, ignore_index=True)\n"
     ]
    },
    {
     "name": "stdout",
     "output_type": "stream",
     "text": [
      "{'acousticness': 0.0131, 'danceability': 0.692, 'energy': 0.728, 'instrumentalness': 0, 'liveness': 0.329, 'loudness': -5.13, 'speechiness': 0.171, 'tempo': 127.995, 'valence': 0.642, 'popularity': 55}\n"
     ]
    },
    {
     "name": "stderr",
     "output_type": "stream",
     "text": [
      "/var/folders/_g/d3gd43912fnd1ygsn8rm91dw0000gn/T/ipykernel_49151/3526264110.py:46: FutureWarning: The frame.append method is deprecated and will be removed from pandas in a future version. Use pandas.concat instead.\n",
      "  new_data = new_data.append(row, ignore_index=True)\n"
     ]
    },
    {
     "name": "stdout",
     "output_type": "stream",
     "text": [
      "{'acousticness': 0.00591, 'danceability': 0.547, 'energy': 0.939, 'instrumentalness': 0, 'liveness': 0.227, 'loudness': -4.052, 'speechiness': 0.131, 'tempo': 103.933, 'valence': 0.557, 'popularity': 59}\n"
     ]
    },
    {
     "name": "stderr",
     "output_type": "stream",
     "text": [
      "/var/folders/_g/d3gd43912fnd1ygsn8rm91dw0000gn/T/ipykernel_49151/3526264110.py:46: FutureWarning: The frame.append method is deprecated and will be removed from pandas in a future version. Use pandas.concat instead.\n",
      "  new_data = new_data.append(row, ignore_index=True)\n"
     ]
    },
    {
     "name": "stdout",
     "output_type": "stream",
     "text": [
      "{'acousticness': 0.638, 'danceability': 0.28, 'energy': 0.449, 'instrumentalness': 0.701, 'liveness': 0.105, 'loudness': -7.736, 'speechiness': 0.0292, 'tempo': 136.4, 'valence': 0.103, 'popularity': 52}\n"
     ]
    },
    {
     "name": "stderr",
     "output_type": "stream",
     "text": [
      "/var/folders/_g/d3gd43912fnd1ygsn8rm91dw0000gn/T/ipykernel_49151/3526264110.py:46: FutureWarning: The frame.append method is deprecated and will be removed from pandas in a future version. Use pandas.concat instead.\n",
      "  new_data = new_data.append(row, ignore_index=True)\n"
     ]
    },
    {
     "name": "stdout",
     "output_type": "stream",
     "text": [
      "{'acousticness': 0.000157, 'danceability': 0.632, 'energy': 0.784, 'instrumentalness': 3.6e-05, 'liveness': 0.037, 'loudness': -7.457, 'speechiness': 0.0393, 'tempo': 100.019, 'valence': 0.278, 'popularity': 51}\n"
     ]
    },
    {
     "name": "stderr",
     "output_type": "stream",
     "text": [
      "/var/folders/_g/d3gd43912fnd1ygsn8rm91dw0000gn/T/ipykernel_49151/3526264110.py:46: FutureWarning: The frame.append method is deprecated and will be removed from pandas in a future version. Use pandas.concat instead.\n",
      "  new_data = new_data.append(row, ignore_index=True)\n"
     ]
    },
    {
     "name": "stdout",
     "output_type": "stream",
     "text": [
      "{'acousticness': 0.043, 'danceability': 0.588, 'energy': 0.664, 'instrumentalness': 4.3e-05, 'liveness': 0.639, 'loudness': -5.18, 'speechiness': 0.159, 'tempo': 106.502, 'valence': 0.333, 'popularity': 52}\n"
     ]
    },
    {
     "name": "stderr",
     "output_type": "stream",
     "text": [
      "/var/folders/_g/d3gd43912fnd1ygsn8rm91dw0000gn/T/ipykernel_49151/3526264110.py:46: FutureWarning: The frame.append method is deprecated and will be removed from pandas in a future version. Use pandas.concat instead.\n",
      "  new_data = new_data.append(row, ignore_index=True)\n"
     ]
    },
    {
     "name": "stdout",
     "output_type": "stream",
     "text": [
      "{'acousticness': 0.0265, 'danceability': 0.669, 'energy': 0.78, 'instrumentalness': 1.63e-06, 'liveness': 0.143, 'loudness': -4.287, 'speechiness': 0.053, 'tempo': 139.945, 'valence': 0.738, 'popularity': 79}\n"
     ]
    },
    {
     "name": "stderr",
     "output_type": "stream",
     "text": [
      "/var/folders/_g/d3gd43912fnd1ygsn8rm91dw0000gn/T/ipykernel_49151/3526264110.py:46: FutureWarning: The frame.append method is deprecated and will be removed from pandas in a future version. Use pandas.concat instead.\n",
      "  new_data = new_data.append(row, ignore_index=True)\n"
     ]
    },
    {
     "name": "stdout",
     "output_type": "stream",
     "text": [
      "{'acousticness': 0.416, 'danceability': 0.701, 'energy': 0.788, 'instrumentalness': 0, 'liveness': 0.106, 'loudness': -4.052, 'speechiness': 0.0294, 'tempo': 103.018, 'valence': 0.413, 'popularity': 0}\n"
     ]
    },
    {
     "name": "stderr",
     "output_type": "stream",
     "text": [
      "/var/folders/_g/d3gd43912fnd1ygsn8rm91dw0000gn/T/ipykernel_49151/3526264110.py:46: FutureWarning: The frame.append method is deprecated and will be removed from pandas in a future version. Use pandas.concat instead.\n",
      "  new_data = new_data.append(row, ignore_index=True)\n"
     ]
    },
    {
     "name": "stdout",
     "output_type": "stream",
     "text": [
      "{'acousticness': 0.0109, 'danceability': 0.622, 'energy': 0.881, 'instrumentalness': 0, 'liveness': 0.348, 'loudness': -4.871, 'speechiness': 0.0956, 'tempo': 127.958, 'valence': 0.664, 'popularity': 48}\n"
     ]
    },
    {
     "name": "stderr",
     "output_type": "stream",
     "text": [
      "/var/folders/_g/d3gd43912fnd1ygsn8rm91dw0000gn/T/ipykernel_49151/3526264110.py:46: FutureWarning: The frame.append method is deprecated and will be removed from pandas in a future version. Use pandas.concat instead.\n",
      "  new_data = new_data.append(row, ignore_index=True)\n"
     ]
    },
    {
     "name": "stdout",
     "output_type": "stream",
     "text": [
      "{'acousticness': 0.0663, 'danceability': 0.677, 'energy': 0.977, 'instrumentalness': 0, 'liveness': 0.281, 'loudness': -2.198, 'speechiness': 0.0902, 'tempo': 148.006, 'valence': 0.902, 'popularity': 40}\n"
     ]
    },
    {
     "name": "stderr",
     "output_type": "stream",
     "text": [
      "/var/folders/_g/d3gd43912fnd1ygsn8rm91dw0000gn/T/ipykernel_49151/3526264110.py:46: FutureWarning: The frame.append method is deprecated and will be removed from pandas in a future version. Use pandas.concat instead.\n",
      "  new_data = new_data.append(row, ignore_index=True)\n"
     ]
    },
    {
     "name": "stdout",
     "output_type": "stream",
     "text": [
      "{'acousticness': 0.322, 'danceability': 0.676, 'energy': 0.755, 'instrumentalness': 0, 'liveness': 0.298, 'loudness': -5.333, 'speechiness': 0.0388, 'tempo': 107.03, 'valence': 0.425, 'popularity': 58}\n"
     ]
    },
    {
     "name": "stderr",
     "output_type": "stream",
     "text": [
      "/var/folders/_g/d3gd43912fnd1ygsn8rm91dw0000gn/T/ipykernel_49151/3526264110.py:46: FutureWarning: The frame.append method is deprecated and will be removed from pandas in a future version. Use pandas.concat instead.\n",
      "  new_data = new_data.append(row, ignore_index=True)\n"
     ]
    },
    {
     "name": "stdout",
     "output_type": "stream",
     "text": [
      "{'acousticness': 0.0951, 'danceability': 0.42, 'energy': 0.944, 'instrumentalness': 0, 'liveness': 0.16, 'loudness': -3.476, 'speechiness': 0.43, 'tempo': 201.946, 'valence': 0.511, 'popularity': 49}\n"
     ]
    },
    {
     "name": "stderr",
     "output_type": "stream",
     "text": [
      "/var/folders/_g/d3gd43912fnd1ygsn8rm91dw0000gn/T/ipykernel_49151/3526264110.py:46: FutureWarning: The frame.append method is deprecated and will be removed from pandas in a future version. Use pandas.concat instead.\n",
      "  new_data = new_data.append(row, ignore_index=True)\n"
     ]
    },
    {
     "name": "stdout",
     "output_type": "stream",
     "text": [
      "{'acousticness': 0.0379, 'danceability': 0.718, 'energy': 0.753, 'instrumentalness': 0.00011, 'liveness': 0.127, 'loudness': -3.81, 'speechiness': 0.044, 'tempo': 128.002, 'valence': 0.498, 'popularity': 42}\n"
     ]
    },
    {
     "name": "stderr",
     "output_type": "stream",
     "text": [
      "/var/folders/_g/d3gd43912fnd1ygsn8rm91dw0000gn/T/ipykernel_49151/3526264110.py:46: FutureWarning: The frame.append method is deprecated and will be removed from pandas in a future version. Use pandas.concat instead.\n",
      "  new_data = new_data.append(row, ignore_index=True)\n"
     ]
    },
    {
     "name": "stdout",
     "output_type": "stream",
     "text": [
      "{'acousticness': 0.043, 'danceability': 0.6, 'energy': 0.787, 'instrumentalness': 0, 'liveness': 0.358, 'loudness': -5.163, 'speechiness': 0.0366, 'tempo': 127.977, 'valence': 0.608, 'popularity': 46}\n"
     ]
    },
    {
     "name": "stderr",
     "output_type": "stream",
     "text": [
      "/var/folders/_g/d3gd43912fnd1ygsn8rm91dw0000gn/T/ipykernel_49151/3526264110.py:46: FutureWarning: The frame.append method is deprecated and will be removed from pandas in a future version. Use pandas.concat instead.\n",
      "  new_data = new_data.append(row, ignore_index=True)\n"
     ]
    },
    {
     "name": "stdout",
     "output_type": "stream",
     "text": [
      "{'acousticness': 0.0091, 'danceability': 0.768, 'energy': 0.695, 'instrumentalness': 0.00508, 'liveness': 0.058, 'loudness': -5.55, 'speechiness': 0.0303, 'tempo': 106.977, 'valence': 0.794, 'popularity': 44}\n"
     ]
    },
    {
     "name": "stderr",
     "output_type": "stream",
     "text": [
      "/var/folders/_g/d3gd43912fnd1ygsn8rm91dw0000gn/T/ipykernel_49151/3526264110.py:46: FutureWarning: The frame.append method is deprecated and will be removed from pandas in a future version. Use pandas.concat instead.\n",
      "  new_data = new_data.append(row, ignore_index=True)\n"
     ]
    },
    {
     "name": "stdout",
     "output_type": "stream",
     "text": [
      "{'acousticness': 0.000821, 'danceability': 0.533, 'energy': 0.744, 'instrumentalness': 0.00031, 'liveness': 0.242, 'loudness': -6.043, 'speechiness': 0.0445, 'tempo': 130.04, 'valence': 0.447, 'popularity': 42}\n"
     ]
    },
    {
     "name": "stderr",
     "output_type": "stream",
     "text": [
      "/var/folders/_g/d3gd43912fnd1ygsn8rm91dw0000gn/T/ipykernel_49151/3526264110.py:46: FutureWarning: The frame.append method is deprecated and will be removed from pandas in a future version. Use pandas.concat instead.\n",
      "  new_data = new_data.append(row, ignore_index=True)\n"
     ]
    },
    {
     "name": "stdout",
     "output_type": "stream",
     "text": [
      "{'acousticness': 0.101, 'danceability': 0.672, 'energy': 0.827, 'instrumentalness': 0, 'liveness': 0.16, 'loudness': -3.829, 'speechiness': 0.0693, 'tempo': 127.076, 'valence': 0.58, 'popularity': 38}\n"
     ]
    },
    {
     "name": "stderr",
     "output_type": "stream",
     "text": [
      "/var/folders/_g/d3gd43912fnd1ygsn8rm91dw0000gn/T/ipykernel_49151/3526264110.py:46: FutureWarning: The frame.append method is deprecated and will be removed from pandas in a future version. Use pandas.concat instead.\n",
      "  new_data = new_data.append(row, ignore_index=True)\n"
     ]
    },
    {
     "name": "stdout",
     "output_type": "stream",
     "text": [
      "{'acousticness': 0.945, 'danceability': 0.296, 'energy': 0.0724, 'instrumentalness': 0.000334, 'liveness': 0.0948, 'loudness': -16.457, 'speechiness': 0.0374, 'tempo': 131.397, 'valence': 0.178, 'popularity': 58}\n"
     ]
    },
    {
     "name": "stderr",
     "output_type": "stream",
     "text": [
      "/var/folders/_g/d3gd43912fnd1ygsn8rm91dw0000gn/T/ipykernel_49151/3526264110.py:46: FutureWarning: The frame.append method is deprecated and will be removed from pandas in a future version. Use pandas.concat instead.\n",
      "  new_data = new_data.append(row, ignore_index=True)\n"
     ]
    },
    {
     "name": "stdout",
     "output_type": "stream",
     "text": [
      "{'acousticness': 0.16, 'danceability': 0.708, 'energy': 0.836, 'instrumentalness': 0, 'liveness': 0.205, 'loudness': -3.592, 'speechiness': 0.0343, 'tempo': 95.031, 'valence': 0.664, 'popularity': 32}\n"
     ]
    },
    {
     "name": "stderr",
     "output_type": "stream",
     "text": [
      "/var/folders/_g/d3gd43912fnd1ygsn8rm91dw0000gn/T/ipykernel_49151/3526264110.py:46: FutureWarning: The frame.append method is deprecated and will be removed from pandas in a future version. Use pandas.concat instead.\n",
      "  new_data = new_data.append(row, ignore_index=True)\n"
     ]
    },
    {
     "name": "stdout",
     "output_type": "stream",
     "text": [
      "{'acousticness': 0.125, 'danceability': 0.649, 'energy': 0.782, 'instrumentalness': 4.25e-05, 'liveness': 0.121, 'loudness': -5.053, 'speechiness': 0.0581, 'tempo': 103.969, 'valence': 0.448, 'popularity': 23}\n"
     ]
    },
    {
     "name": "stderr",
     "output_type": "stream",
     "text": [
      "/var/folders/_g/d3gd43912fnd1ygsn8rm91dw0000gn/T/ipykernel_49151/3526264110.py:46: FutureWarning: The frame.append method is deprecated and will be removed from pandas in a future version. Use pandas.concat instead.\n",
      "  new_data = new_data.append(row, ignore_index=True)\n"
     ]
    },
    {
     "name": "stdout",
     "output_type": "stream",
     "text": [
      "{'acousticness': 0.922, 'danceability': 0.422, 'energy': 0.264, 'instrumentalness': 0, 'liveness': 0.132, 'loudness': -7.064, 'speechiness': 0.0322, 'tempo': 119.93, 'valence': 0.331, 'popularity': 86}\n"
     ]
    },
    {
     "name": "stderr",
     "output_type": "stream",
     "text": [
      "/var/folders/_g/d3gd43912fnd1ygsn8rm91dw0000gn/T/ipykernel_49151/3526264110.py:46: FutureWarning: The frame.append method is deprecated and will be removed from pandas in a future version. Use pandas.concat instead.\n",
      "  new_data = new_data.append(row, ignore_index=True)\n"
     ]
    },
    {
     "name": "stdout",
     "output_type": "stream",
     "text": [
      "{'acousticness': 0.588, 'danceability': 0.418, 'energy': 0.42, 'instrumentalness': 6.39e-05, 'liveness': 0.11, 'loudness': -6.444, 'speechiness': 0.0414, 'tempo': 84.094, 'valence': 0.184, 'popularity': 85}\n"
     ]
    },
    {
     "name": "stderr",
     "output_type": "stream",
     "text": [
      "/var/folders/_g/d3gd43912fnd1ygsn8rm91dw0000gn/T/ipykernel_49151/3526264110.py:46: FutureWarning: The frame.append method is deprecated and will be removed from pandas in a future version. Use pandas.concat instead.\n",
      "  new_data = new_data.append(row, ignore_index=True)\n"
     ]
    },
    {
     "name": "stdout",
     "output_type": "stream",
     "text": [
      "{'acousticness': 0.0211, 'danceability': 0.596, 'energy': 0.856, 'instrumentalness': 0.0178, 'liveness': 0.141, 'loudness': -3.556, 'speechiness': 0.0346, 'tempo': 127.949, 'valence': 0.743, 'popularity': 83}\n"
     ]
    },
    {
     "name": "stderr",
     "output_type": "stream",
     "text": [
      "/var/folders/_g/d3gd43912fnd1ygsn8rm91dw0000gn/T/ipykernel_49151/3526264110.py:46: FutureWarning: The frame.append method is deprecated and will be removed from pandas in a future version. Use pandas.concat instead.\n",
      "  new_data = new_data.append(row, ignore_index=True)\n"
     ]
    },
    {
     "name": "stdout",
     "output_type": "stream",
     "text": [
      "{'acousticness': 0.219, 'danceability': 0.647, 'energy': 0.822, 'instrumentalness': 0, 'liveness': 0.0908, 'loudness': -4.662, 'speechiness': 0.183, 'tempo': 160.019, 'valence': 0.962, 'popularity': 82}\n"
     ]
    },
    {
     "name": "stderr",
     "output_type": "stream",
     "text": [
      "/var/folders/_g/d3gd43912fnd1ygsn8rm91dw0000gn/T/ipykernel_49151/3526264110.py:46: FutureWarning: The frame.append method is deprecated and will be removed from pandas in a future version. Use pandas.concat instead.\n",
      "  new_data = new_data.append(row, ignore_index=True)\n"
     ]
    },
    {
     "name": "stdout",
     "output_type": "stream",
     "text": [
      "{'acousticness': 0.0422, 'danceability': 0.773, 'energy': 0.758, 'instrumentalness': 0, 'liveness': 0.305, 'loudness': -4.993, 'speechiness': 0.0381, 'tempo': 144.033, 'valence': 0.925, 'popularity': 82}\n"
     ]
    },
    {
     "name": "stderr",
     "output_type": "stream",
     "text": [
      "/var/folders/_g/d3gd43912fnd1ygsn8rm91dw0000gn/T/ipykernel_49151/3526264110.py:46: FutureWarning: The frame.append method is deprecated and will be removed from pandas in a future version. Use pandas.concat instead.\n",
      "  new_data = new_data.append(row, ignore_index=True)\n"
     ]
    },
    {
     "name": "stdout",
     "output_type": "stream",
     "text": [
      "{'acousticness': 0.0561, 'danceability': 0.647, 'energy': 0.785, 'instrumentalness': 0, 'liveness': 0.148, 'loudness': -5.414, 'speechiness': 0.165, 'tempo': 160.015, 'valence': 0.943, 'popularity': 77}\n"
     ]
    },
    {
     "name": "stderr",
     "output_type": "stream",
     "text": [
      "/var/folders/_g/d3gd43912fnd1ygsn8rm91dw0000gn/T/ipykernel_49151/3526264110.py:46: FutureWarning: The frame.append method is deprecated and will be removed from pandas in a future version. Use pandas.concat instead.\n",
      "  new_data = new_data.append(row, ignore_index=True)\n"
     ]
    },
    {
     "name": "stdout",
     "output_type": "stream",
     "text": [
      "{'acousticness': 0.00314, 'danceability': 0.647, 'energy': 0.585, 'instrumentalness': 0, 'liveness': 0.165, 'loudness': -6.123, 'speechiness': 0.0512, 'tempo': 131.934, 'valence': 0.353, 'popularity': 81}\n"
     ]
    },
    {
     "name": "stderr",
     "output_type": "stream",
     "text": [
      "/var/folders/_g/d3gd43912fnd1ygsn8rm91dw0000gn/T/ipykernel_49151/3526264110.py:46: FutureWarning: The frame.append method is deprecated and will be removed from pandas in a future version. Use pandas.concat instead.\n",
      "  new_data = new_data.append(row, ignore_index=True)\n"
     ]
    },
    {
     "name": "stdout",
     "output_type": "stream",
     "text": [
      "{'acousticness': 0.0309, 'danceability': 0.545, 'energy': 0.78, 'instrumentalness': 4.64e-05, 'liveness': 0.0828, 'loudness': -4.867, 'speechiness': 0.0436, 'tempo': 125.014, 'valence': 0.458, 'popularity': 80}\n"
     ]
    },
    {
     "name": "stderr",
     "output_type": "stream",
     "text": [
      "/var/folders/_g/d3gd43912fnd1ygsn8rm91dw0000gn/T/ipykernel_49151/3526264110.py:46: FutureWarning: The frame.append method is deprecated and will be removed from pandas in a future version. Use pandas.concat instead.\n",
      "  new_data = new_data.append(row, ignore_index=True)\n"
     ]
    },
    {
     "name": "stdout",
     "output_type": "stream",
     "text": [
      "{'acousticness': 0.0205, 'danceability': 0.742, 'energy': 0.713, 'instrumentalness': 0, 'liveness': 0.059, 'loudness': -5.522, 'speechiness': 0.0303, 'tempo': 120.032, 'valence': 0.879, 'popularity': 85}\n"
     ]
    },
    {
     "name": "stderr",
     "output_type": "stream",
     "text": [
      "/var/folders/_g/d3gd43912fnd1ygsn8rm91dw0000gn/T/ipykernel_49151/3526264110.py:46: FutureWarning: The frame.append method is deprecated and will be removed from pandas in a future version. Use pandas.concat instead.\n",
      "  new_data = new_data.append(row, ignore_index=True)\n"
     ]
    },
    {
     "name": "stdout",
     "output_type": "stream",
     "text": [
      "{'acousticness': 0.0412, 'danceability': 0.874, 'energy': 0.692, 'instrumentalness': 7.24e-05, 'liveness': 0.324, 'loudness': -5.28, 'speechiness': 0.0431, 'tempo': 116.017, 'valence': 0.937, 'popularity': 81}\n"
     ]
    },
    {
     "name": "stderr",
     "output_type": "stream",
     "text": [
      "/var/folders/_g/d3gd43912fnd1ygsn8rm91dw0000gn/T/ipykernel_49151/3526264110.py:46: FutureWarning: The frame.append method is deprecated and will be removed from pandas in a future version. Use pandas.concat instead.\n",
      "  new_data = new_data.append(row, ignore_index=True)\n"
     ]
    },
    {
     "name": "stdout",
     "output_type": "stream",
     "text": [
      "{'acousticness': 0.365, 'danceability': 0.479, 'energy': 0.545, 'instrumentalness': 0, 'liveness': 0.0963, 'loudness': -7.346, 'speechiness': 0.0688, 'tempo': 74.897, 'valence': 0.243, 'popularity': 77}\n"
     ]
    },
    {
     "name": "stderr",
     "output_type": "stream",
     "text": [
      "/var/folders/_g/d3gd43912fnd1ygsn8rm91dw0000gn/T/ipykernel_49151/3526264110.py:46: FutureWarning: The frame.append method is deprecated and will be removed from pandas in a future version. Use pandas.concat instead.\n",
      "  new_data = new_data.append(row, ignore_index=True)\n"
     ]
    },
    {
     "name": "stdout",
     "output_type": "stream",
     "text": [
      "{'acousticness': 0.0192, 'danceability': 0.66, 'energy': 0.805, 'instrumentalness': 8.83e-06, 'liveness': 0.159, 'loudness': -5.352, 'speechiness': 0.153, 'tempo': 103.008, 'valence': 0.625, 'popularity': 78}\n"
     ]
    },
    {
     "name": "stderr",
     "output_type": "stream",
     "text": [
      "/var/folders/_g/d3gd43912fnd1ygsn8rm91dw0000gn/T/ipykernel_49151/3526264110.py:46: FutureWarning: The frame.append method is deprecated and will be removed from pandas in a future version. Use pandas.concat instead.\n",
      "  new_data = new_data.append(row, ignore_index=True)\n"
     ]
    },
    {
     "name": "stdout",
     "output_type": "stream",
     "text": [
      "{'acousticness': 0.0755, 'danceability': 0.679, 'energy': 0.715, 'instrumentalness': 0, 'liveness': 0.271, 'loudness': -6.383, 'speechiness': 0.0407, 'tempo': 127.435, 'valence': 0.571, 'popularity': 74}\n"
     ]
    },
    {
     "name": "stderr",
     "output_type": "stream",
     "text": [
      "/var/folders/_g/d3gd43912fnd1ygsn8rm91dw0000gn/T/ipykernel_49151/3526264110.py:46: FutureWarning: The frame.append method is deprecated and will be removed from pandas in a future version. Use pandas.concat instead.\n",
      "  new_data = new_data.append(row, ignore_index=True)\n"
     ]
    },
    {
     "name": "stdout",
     "output_type": "stream",
     "text": [
      "{'acousticness': 0.167, 'danceability': 0.69, 'energy': 0.578, 'instrumentalness': 0, 'liveness': 0.305, 'loudness': -7.436, 'speechiness': 0.0929, 'tempo': 99.961, 'valence': 0.416, 'popularity': 78}\n"
     ]
    },
    {
     "name": "stderr",
     "output_type": "stream",
     "text": [
      "/var/folders/_g/d3gd43912fnd1ygsn8rm91dw0000gn/T/ipykernel_49151/3526264110.py:46: FutureWarning: The frame.append method is deprecated and will be removed from pandas in a future version. Use pandas.concat instead.\n",
      "  new_data = new_data.append(row, ignore_index=True)\n"
     ]
    },
    {
     "name": "stdout",
     "output_type": "stream",
     "text": [
      "{'acousticness': 0.00453, 'danceability': 0.495, 'energy': 0.894, 'instrumentalness': 0.000596, 'liveness': 0.103, 'loudness': -4.814, 'speechiness': 0.0441, 'tempo': 126.03, 'valence': 0.213, 'popularity': 68}\n"
     ]
    },
    {
     "name": "stderr",
     "output_type": "stream",
     "text": [
      "/var/folders/_g/d3gd43912fnd1ygsn8rm91dw0000gn/T/ipykernel_49151/3526264110.py:46: FutureWarning: The frame.append method is deprecated and will be removed from pandas in a future version. Use pandas.concat instead.\n",
      "  new_data = new_data.append(row, ignore_index=True)\n"
     ]
    },
    {
     "name": "stdout",
     "output_type": "stream",
     "text": [
      "{'acousticness': 0.0178, 'danceability': 0.729, 'energy': 0.735, 'instrumentalness': 0.000193, 'liveness': 0.089, 'loudness': -5.455, 'speechiness': 0.0919, 'tempo': 121.986, 'valence': 0.544, 'popularity': 72}\n"
     ]
    },
    {
     "name": "stderr",
     "output_type": "stream",
     "text": [
      "/var/folders/_g/d3gd43912fnd1ygsn8rm91dw0000gn/T/ipykernel_49151/3526264110.py:46: FutureWarning: The frame.append method is deprecated and will be removed from pandas in a future version. Use pandas.concat instead.\n",
      "  new_data = new_data.append(row, ignore_index=True)\n"
     ]
    },
    {
     "name": "stdout",
     "output_type": "stream",
     "text": [
      "{'acousticness': 0.111, 'danceability': 0.583, 'energy': 0.655, 'instrumentalness': 3.57e-06, 'liveness': 0.113, 'loudness': -5.407, 'speechiness': 0.0315, 'tempo': 119.759, 'valence': 0.201, 'popularity': 71}\n"
     ]
    },
    {
     "name": "stderr",
     "output_type": "stream",
     "text": [
      "/var/folders/_g/d3gd43912fnd1ygsn8rm91dw0000gn/T/ipykernel_49151/3526264110.py:46: FutureWarning: The frame.append method is deprecated and will be removed from pandas in a future version. Use pandas.concat instead.\n",
      "  new_data = new_data.append(row, ignore_index=True)\n"
     ]
    },
    {
     "name": "stdout",
     "output_type": "stream",
     "text": [
      "{'acousticness': 0.132, 'danceability': 0.775, 'energy': 0.719, 'instrumentalness': 1.79e-06, 'liveness': 0.0662, 'loudness': -6.212, 'speechiness': 0.0435, 'tempo': 117.513, 'valence': 0.712, 'popularity': 71}\n"
     ]
    },
    {
     "name": "stderr",
     "output_type": "stream",
     "text": [
      "/var/folders/_g/d3gd43912fnd1ygsn8rm91dw0000gn/T/ipykernel_49151/3526264110.py:46: FutureWarning: The frame.append method is deprecated and will be removed from pandas in a future version. Use pandas.concat instead.\n",
      "  new_data = new_data.append(row, ignore_index=True)\n"
     ]
    },
    {
     "name": "stdout",
     "output_type": "stream",
     "text": [
      "{'acousticness': 0.315, 'danceability': 0.555, 'energy': 0.772, 'instrumentalness': 0, 'liveness': 0.105, 'loudness': -5.007, 'speechiness': 0.0523, 'tempo': 86.921, 'valence': 0.346, 'popularity': 74}\n"
     ]
    },
    {
     "name": "stderr",
     "output_type": "stream",
     "text": [
      "/var/folders/_g/d3gd43912fnd1ygsn8rm91dw0000gn/T/ipykernel_49151/3526264110.py:46: FutureWarning: The frame.append method is deprecated and will be removed from pandas in a future version. Use pandas.concat instead.\n",
      "  new_data = new_data.append(row, ignore_index=True)\n"
     ]
    },
    {
     "name": "stdout",
     "output_type": "stream",
     "text": [
      "{'acousticness': 0.000569, 'danceability': 0.494, 'energy': 0.951, 'instrumentalness': 0, 'liveness': 0.327, 'loudness': -4.237, 'speechiness': 0.132, 'tempo': 160.025, 'valence': 0.441, 'popularity': 73}\n"
     ]
    },
    {
     "name": "stderr",
     "output_type": "stream",
     "text": [
      "/var/folders/_g/d3gd43912fnd1ygsn8rm91dw0000gn/T/ipykernel_49151/3526264110.py:46: FutureWarning: The frame.append method is deprecated and will be removed from pandas in a future version. Use pandas.concat instead.\n",
      "  new_data = new_data.append(row, ignore_index=True)\n"
     ]
    },
    {
     "name": "stdout",
     "output_type": "stream",
     "text": [
      "{'acousticness': 0.0904, 'danceability': 0.912, 'energy': 0.716, 'instrumentalness': 0, 'liveness': 0.0491, 'loudness': -4.141, 'speechiness': 0.0697, 'tempo': 94.981, 'valence': 0.377, 'popularity': 70}\n"
     ]
    },
    {
     "name": "stderr",
     "output_type": "stream",
     "text": [
      "/var/folders/_g/d3gd43912fnd1ygsn8rm91dw0000gn/T/ipykernel_49151/3526264110.py:46: FutureWarning: The frame.append method is deprecated and will be removed from pandas in a future version. Use pandas.concat instead.\n",
      "  new_data = new_data.append(row, ignore_index=True)\n"
     ]
    },
    {
     "name": "stdout",
     "output_type": "stream",
     "text": [
      "{'acousticness': 0.0348, 'danceability': 0.76, 'energy': 0.652, 'instrumentalness': 0, 'liveness': 0.307, 'loudness': -7.321, 'speechiness': 0.232, 'tempo': 100.315, 'valence': 0.759, 'popularity': 67}\n"
     ]
    },
    {
     "name": "stderr",
     "output_type": "stream",
     "text": [
      "/var/folders/_g/d3gd43912fnd1ygsn8rm91dw0000gn/T/ipykernel_49151/3526264110.py:46: FutureWarning: The frame.append method is deprecated and will be removed from pandas in a future version. Use pandas.concat instead.\n",
      "  new_data = new_data.append(row, ignore_index=True)\n"
     ]
    },
    {
     "name": "stdout",
     "output_type": "stream",
     "text": [
      "{'acousticness': 0.445, 'danceability': 0.717, 'energy': 0.544, 'instrumentalness': 5.16e-06, 'liveness': 0.0973, 'loudness': -6.598, 'speechiness': 0.0371, 'tempo': 139.959, 'valence': 0.641, 'popularity': 66}\n"
     ]
    },
    {
     "name": "stderr",
     "output_type": "stream",
     "text": [
      "/var/folders/_g/d3gd43912fnd1ygsn8rm91dw0000gn/T/ipykernel_49151/3526264110.py:46: FutureWarning: The frame.append method is deprecated and will be removed from pandas in a future version. Use pandas.concat instead.\n",
      "  new_data = new_data.append(row, ignore_index=True)\n"
     ]
    },
    {
     "name": "stdout",
     "output_type": "stream",
     "text": [
      "{'acousticness': 0.132, 'danceability': 0.439, 'energy': 0.489, 'instrumentalness': 0.000643, 'liveness': 0.114, 'loudness': -6.286, 'speechiness': 0.0368, 'tempo': 143.808, 'valence': 0.253, 'popularity': 63}\n"
     ]
    },
    {
     "name": "stderr",
     "output_type": "stream",
     "text": [
      "/var/folders/_g/d3gd43912fnd1ygsn8rm91dw0000gn/T/ipykernel_49151/3526264110.py:46: FutureWarning: The frame.append method is deprecated and will be removed from pandas in a future version. Use pandas.concat instead.\n",
      "  new_data = new_data.append(row, ignore_index=True)\n"
     ]
    },
    {
     "name": "stdout",
     "output_type": "stream",
     "text": [
      "{'acousticness': 0.461, 'danceability': 0.561, 'energy': 0.749, 'instrumentalness': 1.82e-06, 'liveness': 0.205, 'loudness': -4.951, 'speechiness': 0.032, 'tempo': 125.986, 'valence': 0.501, 'popularity': 66}\n"
     ]
    },
    {
     "name": "stderr",
     "output_type": "stream",
     "text": [
      "/var/folders/_g/d3gd43912fnd1ygsn8rm91dw0000gn/T/ipykernel_49151/3526264110.py:46: FutureWarning: The frame.append method is deprecated and will be removed from pandas in a future version. Use pandas.concat instead.\n",
      "  new_data = new_data.append(row, ignore_index=True)\n"
     ]
    },
    {
     "name": "stdout",
     "output_type": "stream",
     "text": [
      "{'acousticness': 0.0802, 'danceability': 0.697, 'energy': 0.621, 'instrumentalness': 0, 'liveness': 0.162, 'loudness': -6.886, 'speechiness': 0.25, 'tempo': 81.946, 'valence': 0.721, 'popularity': 58}\n"
     ]
    },
    {
     "name": "stderr",
     "output_type": "stream",
     "text": [
      "/var/folders/_g/d3gd43912fnd1ygsn8rm91dw0000gn/T/ipykernel_49151/3526264110.py:46: FutureWarning: The frame.append method is deprecated and will be removed from pandas in a future version. Use pandas.concat instead.\n",
      "  new_data = new_data.append(row, ignore_index=True)\n"
     ]
    },
    {
     "name": "stdout",
     "output_type": "stream",
     "text": [
      "{'acousticness': 0.165, 'danceability': 0.717, 'energy': 0.931, 'instrumentalness': 0, 'liveness': 0.137, 'loudness': -3.802, 'speechiness': 0.0605, 'tempo': 119.997, 'valence': 0.754, 'popularity': 0}\n"
     ]
    },
    {
     "name": "stderr",
     "output_type": "stream",
     "text": [
      "/var/folders/_g/d3gd43912fnd1ygsn8rm91dw0000gn/T/ipykernel_49151/3526264110.py:46: FutureWarning: The frame.append method is deprecated and will be removed from pandas in a future version. Use pandas.concat instead.\n",
      "  new_data = new_data.append(row, ignore_index=True)\n"
     ]
    },
    {
     "name": "stdout",
     "output_type": "stream",
     "text": [
      "{'acousticness': 0.0203, 'danceability': 0.69, 'energy': 0.636, 'instrumentalness': 0, 'liveness': 0.147, 'loudness': -6.028, 'speechiness': 0.0457, 'tempo': 96.002, 'valence': 0.799, 'popularity': 62}\n"
     ]
    },
    {
     "name": "stderr",
     "output_type": "stream",
     "text": [
      "/var/folders/_g/d3gd43912fnd1ygsn8rm91dw0000gn/T/ipykernel_49151/3526264110.py:46: FutureWarning: The frame.append method is deprecated and will be removed from pandas in a future version. Use pandas.concat instead.\n",
      "  new_data = new_data.append(row, ignore_index=True)\n"
     ]
    },
    {
     "name": "stdout",
     "output_type": "stream",
     "text": [
      "{'acousticness': 0.00266, 'danceability': 0.712, 'energy': 0.922, 'instrumentalness': 1.9e-06, 'liveness': 0.268, 'loudness': -3.902, 'speechiness': 0.0411, 'tempo': 125.984, 'valence': 0.976, 'popularity': 65}\n"
     ]
    },
    {
     "name": "stderr",
     "output_type": "stream",
     "text": [
      "/var/folders/_g/d3gd43912fnd1ygsn8rm91dw0000gn/T/ipykernel_49151/3526264110.py:46: FutureWarning: The frame.append method is deprecated and will be removed from pandas in a future version. Use pandas.concat instead.\n",
      "  new_data = new_data.append(row, ignore_index=True)\n"
     ]
    },
    {
     "name": "stdout",
     "output_type": "stream",
     "text": [
      "{'acousticness': 0.0105, 'danceability': 0.749, 'energy': 0.635, 'instrumentalness': 2.17e-06, 'liveness': 0.0854, 'loudness': -5.075, 'speechiness': 0.168, 'tempo': 130.011, 'valence': 0.508, 'popularity': 62}\n"
     ]
    },
    {
     "name": "stderr",
     "output_type": "stream",
     "text": [
      "/var/folders/_g/d3gd43912fnd1ygsn8rm91dw0000gn/T/ipykernel_49151/3526264110.py:46: FutureWarning: The frame.append method is deprecated and will be removed from pandas in a future version. Use pandas.concat instead.\n",
      "  new_data = new_data.append(row, ignore_index=True)\n"
     ]
    },
    {
     "name": "stdout",
     "output_type": "stream",
     "text": [
      "{'acousticness': 0.00529, 'danceability': 0.747, 'energy': 0.932, 'instrumentalness': 0.866, 'liveness': 0.35, 'loudness': -2.298, 'speechiness': 0.146, 'tempo': 128.022, 'valence': 0.151, 'popularity': 0}\n"
     ]
    },
    {
     "name": "stderr",
     "output_type": "stream",
     "text": [
      "/var/folders/_g/d3gd43912fnd1ygsn8rm91dw0000gn/T/ipykernel_49151/3526264110.py:46: FutureWarning: The frame.append method is deprecated and will be removed from pandas in a future version. Use pandas.concat instead.\n",
      "  new_data = new_data.append(row, ignore_index=True)\n"
     ]
    },
    {
     "name": "stdout",
     "output_type": "stream",
     "text": [
      "{'acousticness': 0.029, 'danceability': 0.418, 'energy': 0.441, 'instrumentalness': 0.0707, 'liveness': 0.306, 'loudness': -11.522, 'speechiness': 0.283, 'tempo': 175.928, 'valence': 0.172, 'popularity': 71}\n"
     ]
    },
    {
     "name": "stderr",
     "output_type": "stream",
     "text": [
      "/var/folders/_g/d3gd43912fnd1ygsn8rm91dw0000gn/T/ipykernel_49151/3526264110.py:46: FutureWarning: The frame.append method is deprecated and will be removed from pandas in a future version. Use pandas.concat instead.\n",
      "  new_data = new_data.append(row, ignore_index=True)\n"
     ]
    },
    {
     "name": "stdout",
     "output_type": "stream",
     "text": [
      "{'acousticness': 0.0879, 'danceability': 0.719, 'energy': 0.674, 'instrumentalness': 3.75e-06, 'liveness': 0.112, 'loudness': -5.122, 'speechiness': 0.0681, 'tempo': 125.98, 'valence': 0.843, 'popularity': 64}\n"
     ]
    },
    {
     "name": "stderr",
     "output_type": "stream",
     "text": [
      "/var/folders/_g/d3gd43912fnd1ygsn8rm91dw0000gn/T/ipykernel_49151/3526264110.py:46: FutureWarning: The frame.append method is deprecated and will be removed from pandas in a future version. Use pandas.concat instead.\n",
      "  new_data = new_data.append(row, ignore_index=True)\n"
     ]
    },
    {
     "name": "stdout",
     "output_type": "stream",
     "text": [
      "{'acousticness': 0.0141, 'danceability': 0.616, 'energy': 0.919, 'instrumentalness': 0, 'liveness': 0.117, 'loudness': -3.468, 'speechiness': 0.0401, 'tempo': 110.008, 'valence': 0.572, 'popularity': 66}\n"
     ]
    },
    {
     "name": "stderr",
     "output_type": "stream",
     "text": [
      "/var/folders/_g/d3gd43912fnd1ygsn8rm91dw0000gn/T/ipykernel_49151/3526264110.py:46: FutureWarning: The frame.append method is deprecated and will be removed from pandas in a future version. Use pandas.concat instead.\n",
      "  new_data = new_data.append(row, ignore_index=True)\n"
     ]
    },
    {
     "name": "stdout",
     "output_type": "stream",
     "text": [
      "{'acousticness': 0.109, 'danceability': 0.596, 'energy': 0.738, 'instrumentalness': 0, 'liveness': 0.0947, 'loudness': -3.109, 'speechiness': 0.0411, 'tempo': 127.961, 'valence': 0.461, 'popularity': 67}\n"
     ]
    },
    {
     "name": "stderr",
     "output_type": "stream",
     "text": [
      "/var/folders/_g/d3gd43912fnd1ygsn8rm91dw0000gn/T/ipykernel_49151/3526264110.py:46: FutureWarning: The frame.append method is deprecated and will be removed from pandas in a future version. Use pandas.concat instead.\n",
      "  new_data = new_data.append(row, ignore_index=True)\n"
     ]
    },
    {
     "name": "stdout",
     "output_type": "stream",
     "text": [
      "{'acousticness': 0.0831, 'danceability': 0.474, 'energy': 0.707, 'instrumentalness': 0, 'liveness': 0.162, 'loudness': -4.534, 'speechiness': 0.0253, 'tempo': 83.235, 'valence': 0.224, 'popularity': 59}\n"
     ]
    },
    {
     "name": "stderr",
     "output_type": "stream",
     "text": [
      "/var/folders/_g/d3gd43912fnd1ygsn8rm91dw0000gn/T/ipykernel_49151/3526264110.py:46: FutureWarning: The frame.append method is deprecated and will be removed from pandas in a future version. Use pandas.concat instead.\n",
      "  new_data = new_data.append(row, ignore_index=True)\n"
     ]
    },
    {
     "name": "stdout",
     "output_type": "stream",
     "text": [
      "{'acousticness': 0.0597, 'danceability': 0.347, 'energy': 0.772, 'instrumentalness': 0.0333, 'liveness': 0.115, 'loudness': -4.359, 'speechiness': 0.0549, 'tempo': 192.118, 'valence': 0.035, 'popularity': 58}\n"
     ]
    },
    {
     "name": "stderr",
     "output_type": "stream",
     "text": [
      "/var/folders/_g/d3gd43912fnd1ygsn8rm91dw0000gn/T/ipykernel_49151/3526264110.py:46: FutureWarning: The frame.append method is deprecated and will be removed from pandas in a future version. Use pandas.concat instead.\n",
      "  new_data = new_data.append(row, ignore_index=True)\n"
     ]
    },
    {
     "name": "stdout",
     "output_type": "stream",
     "text": [
      "{'acousticness': 0.857, 'danceability': 0.407, 'energy': 0.147, 'instrumentalness': 2.89e-06, 'liveness': 0.0913, 'loudness': -8.822, 'speechiness': 0.0355, 'tempo': 141.284, 'valence': 0.0765, 'popularity': 74}\n"
     ]
    },
    {
     "name": "stderr",
     "output_type": "stream",
     "text": [
      "/var/folders/_g/d3gd43912fnd1ygsn8rm91dw0000gn/T/ipykernel_49151/3526264110.py:46: FutureWarning: The frame.append method is deprecated and will be removed from pandas in a future version. Use pandas.concat instead.\n",
      "  new_data = new_data.append(row, ignore_index=True)\n"
     ]
    },
    {
     "name": "stdout",
     "output_type": "stream",
     "text": [
      "{'acousticness': 0.00617, 'danceability': 0.545, 'energy': 0.675, 'instrumentalness': 0.00197, 'liveness': 0.209, 'loudness': -6.474, 'speechiness': 0.0279, 'tempo': 124.97, 'valence': 0.162, 'popularity': 85}\n"
     ]
    },
    {
     "name": "stderr",
     "output_type": "stream",
     "text": [
      "/var/folders/_g/d3gd43912fnd1ygsn8rm91dw0000gn/T/ipykernel_49151/3526264110.py:46: FutureWarning: The frame.append method is deprecated and will be removed from pandas in a future version. Use pandas.concat instead.\n",
      "  new_data = new_data.append(row, ignore_index=True)\n"
     ]
    },
    {
     "name": "stdout",
     "output_type": "stream",
     "text": [
      "{'acousticness': 0.266, 'danceability': 0.934, 'energy': 0.798, 'instrumentalness': 4.54e-05, 'liveness': 0.0962, 'loudness': -5.665, 'speechiness': 0.0849, 'tempo': 120.162, 'valence': 0.895, 'popularity': 57}\n"
     ]
    },
    {
     "name": "stderr",
     "output_type": "stream",
     "text": [
      "/var/folders/_g/d3gd43912fnd1ygsn8rm91dw0000gn/T/ipykernel_49151/3526264110.py:46: FutureWarning: The frame.append method is deprecated and will be removed from pandas in a future version. Use pandas.concat instead.\n",
      "  new_data = new_data.append(row, ignore_index=True)\n"
     ]
    },
    {
     "name": "stdout",
     "output_type": "stream",
     "text": [
      "{'acousticness': 0.0197, 'danceability': 0.399, 'energy': 0.787, 'instrumentalness': 6.07e-05, 'liveness': 0.0685, 'loudness': -2.88, 'speechiness': 0.0499, 'tempo': 117.089, 'valence': 0.572, 'popularity': 72}\n"
     ]
    },
    {
     "name": "stderr",
     "output_type": "stream",
     "text": [
      "/var/folders/_g/d3gd43912fnd1ygsn8rm91dw0000gn/T/ipykernel_49151/3526264110.py:46: FutureWarning: The frame.append method is deprecated and will be removed from pandas in a future version. Use pandas.concat instead.\n",
      "  new_data = new_data.append(row, ignore_index=True)\n"
     ]
    },
    {
     "name": "stdout",
     "output_type": "stream",
     "text": [
      "{'acousticness': 0.164, 'danceability': 0.47, 'energy': 0.793, 'instrumentalness': 1.31e-06, 'liveness': 0.313, 'loudness': -8.929, 'speechiness': 0.26, 'tempo': 170.1, 'valence': 0.216, 'popularity': 67}\n"
     ]
    },
    {
     "name": "stderr",
     "output_type": "stream",
     "text": [
      "/var/folders/_g/d3gd43912fnd1ygsn8rm91dw0000gn/T/ipykernel_49151/3526264110.py:46: FutureWarning: The frame.append method is deprecated and will be removed from pandas in a future version. Use pandas.concat instead.\n",
      "  new_data = new_data.append(row, ignore_index=True)\n"
     ]
    },
    {
     "name": "stdout",
     "output_type": "stream",
     "text": [
      "{'acousticness': 0.00879, 'danceability': 0.592, 'energy': 0.935, 'instrumentalness': 0.0154, 'liveness': 0.132, 'loudness': -4.317, 'speechiness': 0.0581, 'tempo': 125.013, 'valence': 0.567, 'popularity': 72}\n"
     ]
    },
    {
     "name": "stderr",
     "output_type": "stream",
     "text": [
      "/var/folders/_g/d3gd43912fnd1ygsn8rm91dw0000gn/T/ipykernel_49151/3526264110.py:46: FutureWarning: The frame.append method is deprecated and will be removed from pandas in a future version. Use pandas.concat instead.\n",
      "  new_data = new_data.append(row, ignore_index=True)\n"
     ]
    },
    {
     "name": "stdout",
     "output_type": "stream",
     "text": [
      "{'acousticness': 0.964, 'danceability': 0.405, 'energy': 0.111, 'instrumentalness': 4.37e-05, 'liveness': 0.0872, 'loudness': -11.879, 'speechiness': 0.0369, 'tempo': 116.86, 'valence': 0.219, 'popularity': 73}\n"
     ]
    },
    {
     "name": "stderr",
     "output_type": "stream",
     "text": [
      "/var/folders/_g/d3gd43912fnd1ygsn8rm91dw0000gn/T/ipykernel_49151/3526264110.py:46: FutureWarning: The frame.append method is deprecated and will be removed from pandas in a future version. Use pandas.concat instead.\n",
      "  new_data = new_data.append(row, ignore_index=True)\n"
     ]
    },
    {
     "name": "stdout",
     "output_type": "stream",
     "text": [
      "{'acousticness': 0.00972, 'danceability': 0.583, 'energy': 0.621, 'instrumentalness': 0.00106, 'liveness': 0.181, 'loudness': -6.902, 'speechiness': 0.0479, 'tempo': 140.036, 'valence': 0.399, 'popularity': 74}\n"
     ]
    },
    {
     "name": "stderr",
     "output_type": "stream",
     "text": [
      "/var/folders/_g/d3gd43912fnd1ygsn8rm91dw0000gn/T/ipykernel_49151/3526264110.py:46: FutureWarning: The frame.append method is deprecated and will be removed from pandas in a future version. Use pandas.concat instead.\n",
      "  new_data = new_data.append(row, ignore_index=True)\n"
     ]
    },
    {
     "name": "stdout",
     "output_type": "stream",
     "text": [
      "{'acousticness': 0.0668, 'danceability': 0.964, 'energy': 0.605, 'instrumentalness': 7.78e-06, 'liveness': 0.214, 'loudness': -6.223, 'speechiness': 0.179, 'tempo': 129.994, 'valence': 0.646, 'popularity': 68}\n"
     ]
    },
    {
     "name": "stderr",
     "output_type": "stream",
     "text": [
      "/var/folders/_g/d3gd43912fnd1ygsn8rm91dw0000gn/T/ipykernel_49151/3526264110.py:46: FutureWarning: The frame.append method is deprecated and will be removed from pandas in a future version. Use pandas.concat instead.\n",
      "  new_data = new_data.append(row, ignore_index=True)\n"
     ]
    },
    {
     "name": "stdout",
     "output_type": "stream",
     "text": [
      "{'acousticness': 0.0688, 'danceability': 0.675, 'energy': 0.812, 'instrumentalness': 0.00062, 'liveness': 0.336, 'loudness': -4.309, 'speechiness': 0.0566, 'tempo': 92.013, 'valence': 0.64, 'popularity': 45}\n"
     ]
    },
    {
     "name": "stderr",
     "output_type": "stream",
     "text": [
      "/var/folders/_g/d3gd43912fnd1ygsn8rm91dw0000gn/T/ipykernel_49151/3526264110.py:46: FutureWarning: The frame.append method is deprecated and will be removed from pandas in a future version. Use pandas.concat instead.\n",
      "  new_data = new_data.append(row, ignore_index=True)\n"
     ]
    },
    {
     "name": "stdout",
     "output_type": "stream",
     "text": [
      "{'acousticness': 0.184, 'danceability': 0.795, 'energy': 0.819, 'instrumentalness': 0.0013, 'liveness': 0.346, 'loudness': -4.933, 'speechiness': 0.0433, 'tempo': 127.984, 'valence': 0.613, 'popularity': 63}\n"
     ]
    },
    {
     "name": "stderr",
     "output_type": "stream",
     "text": [
      "/var/folders/_g/d3gd43912fnd1ygsn8rm91dw0000gn/T/ipykernel_49151/3526264110.py:46: FutureWarning: The frame.append method is deprecated and will be removed from pandas in a future version. Use pandas.concat instead.\n",
      "  new_data = new_data.append(row, ignore_index=True)\n"
     ]
    },
    {
     "name": "stdout",
     "output_type": "stream",
     "text": [
      "{'acousticness': 0.837, 'danceability': 0.684, 'energy': 0.341, 'instrumentalness': 2.69e-05, 'liveness': 0.0883, 'loudness': -9.497, 'speechiness': 0.0272, 'tempo': 75.948, 'valence': 0.557, 'popularity': 57}\n"
     ]
    },
    {
     "name": "stderr",
     "output_type": "stream",
     "text": [
      "/var/folders/_g/d3gd43912fnd1ygsn8rm91dw0000gn/T/ipykernel_49151/3526264110.py:46: FutureWarning: The frame.append method is deprecated and will be removed from pandas in a future version. Use pandas.concat instead.\n",
      "  new_data = new_data.append(row, ignore_index=True)\n"
     ]
    },
    {
     "name": "stdout",
     "output_type": "stream",
     "text": [
      "{'acousticness': 0.0459, 'danceability': 0.644, 'energy': 0.845, 'instrumentalness': 0.000135, 'liveness': 0.163, 'loudness': -6.343, 'speechiness': 0.0401, 'tempo': 120.018, 'valence': 0.547, 'popularity': 31}\n"
     ]
    },
    {
     "name": "stderr",
     "output_type": "stream",
     "text": [
      "/var/folders/_g/d3gd43912fnd1ygsn8rm91dw0000gn/T/ipykernel_49151/3526264110.py:46: FutureWarning: The frame.append method is deprecated and will be removed from pandas in a future version. Use pandas.concat instead.\n",
      "  new_data = new_data.append(row, ignore_index=True)\n"
     ]
    },
    {
     "name": "stdout",
     "output_type": "stream",
     "text": [
      "{'acousticness': 0.148, 'danceability': 0.779, 'energy': 0.503, 'instrumentalness': 3.1e-06, 'liveness': 0.113, 'loudness': -6.836, 'speechiness': 0.0442, 'tempo': 129.991, 'valence': 0.392, 'popularity': 27}\n"
     ]
    },
    {
     "name": "stderr",
     "output_type": "stream",
     "text": [
      "/var/folders/_g/d3gd43912fnd1ygsn8rm91dw0000gn/T/ipykernel_49151/3526264110.py:46: FutureWarning: The frame.append method is deprecated and will be removed from pandas in a future version. Use pandas.concat instead.\n",
      "  new_data = new_data.append(row, ignore_index=True)\n"
     ]
    },
    {
     "name": "stdout",
     "output_type": "stream",
     "text": [
      "{'acousticness': 0.0236, 'danceability': 0.564, 'energy': 0.816, 'instrumentalness': 2.33e-05, 'liveness': 0.194, 'loudness': -3.134, 'speechiness': 0.0466, 'tempo': 91.985, 'valence': 0.567, 'popularity': 39}\n"
     ]
    },
    {
     "name": "stderr",
     "output_type": "stream",
     "text": [
      "/var/folders/_g/d3gd43912fnd1ygsn8rm91dw0000gn/T/ipykernel_49151/3526264110.py:46: FutureWarning: The frame.append method is deprecated and will be removed from pandas in a future version. Use pandas.concat instead.\n",
      "  new_data = new_data.append(row, ignore_index=True)\n"
     ]
    },
    {
     "name": "stdout",
     "output_type": "stream",
     "text": [
      "{'acousticness': 0.449, 'danceability': 0.731, 'energy': 0.74, 'instrumentalness': 0, 'liveness': 0.13, 'loudness': -6.307, 'speechiness': 0.457, 'tempo': 96.015, 'valence': 0.588, 'popularity': 42}\n"
     ]
    },
    {
     "name": "stderr",
     "output_type": "stream",
     "text": [
      "/var/folders/_g/d3gd43912fnd1ygsn8rm91dw0000gn/T/ipykernel_49151/3526264110.py:46: FutureWarning: The frame.append method is deprecated and will be removed from pandas in a future version. Use pandas.concat instead.\n",
      "  new_data = new_data.append(row, ignore_index=True)\n"
     ]
    },
    {
     "name": "stdout",
     "output_type": "stream",
     "text": [
      "{'acousticness': 0.527, 'danceability': 0.308, 'energy': 0.563, 'instrumentalness': 4.58e-06, 'liveness': 0.134, 'loudness': -9.169, 'speechiness': 0.0719, 'tempo': 85.901, 'valence': 0.109, 'popularity': 57}\n"
     ]
    },
    {
     "name": "stderr",
     "output_type": "stream",
     "text": [
      "/var/folders/_g/d3gd43912fnd1ygsn8rm91dw0000gn/T/ipykernel_49151/3526264110.py:46: FutureWarning: The frame.append method is deprecated and will be removed from pandas in a future version. Use pandas.concat instead.\n",
      "  new_data = new_data.append(row, ignore_index=True)\n"
     ]
    },
    {
     "name": "stdout",
     "output_type": "stream",
     "text": [
      "{'acousticness': 0.474, 'danceability': 0.781, 'energy': 0.445, 'instrumentalness': 0, 'liveness': 0.184, 'loudness': -6.061, 'speechiness': 0.0296, 'tempo': 78.997, 'valence': 0.591, 'popularity': 0}\n"
     ]
    },
    {
     "name": "stderr",
     "output_type": "stream",
     "text": [
      "/var/folders/_g/d3gd43912fnd1ygsn8rm91dw0000gn/T/ipykernel_49151/3526264110.py:46: FutureWarning: The frame.append method is deprecated and will be removed from pandas in a future version. Use pandas.concat instead.\n",
      "  new_data = new_data.append(row, ignore_index=True)\n"
     ]
    },
    {
     "name": "stdout",
     "output_type": "stream",
     "text": [
      "{'acousticness': 0.0671, 'danceability': 0.585, 'energy': 0.564, 'instrumentalness': 0, 'liveness': 0.135, 'loudness': -7.063, 'speechiness': 0.0515, 'tempo': 113.003, 'valence': 0.137, 'popularity': 88}\n"
     ]
    },
    {
     "name": "stderr",
     "output_type": "stream",
     "text": [
      "/var/folders/_g/d3gd43912fnd1ygsn8rm91dw0000gn/T/ipykernel_49151/3526264110.py:46: FutureWarning: The frame.append method is deprecated and will be removed from pandas in a future version. Use pandas.concat instead.\n",
      "  new_data = new_data.append(row, ignore_index=True)\n"
     ]
    },
    {
     "name": "stdout",
     "output_type": "stream",
     "text": [
      "{'acousticness': 0.835, 'danceability': 0.609, 'energy': 0.378, 'instrumentalness': 0, 'liveness': 0.28, 'loudness': -9.828, 'speechiness': 0.438, 'tempo': 100.418, 'valence': 0.515, 'popularity': 85}\n"
     ]
    },
    {
     "name": "stderr",
     "output_type": "stream",
     "text": [
      "/var/folders/_g/d3gd43912fnd1ygsn8rm91dw0000gn/T/ipykernel_49151/3526264110.py:46: FutureWarning: The frame.append method is deprecated and will be removed from pandas in a future version. Use pandas.concat instead.\n",
      "  new_data = new_data.append(row, ignore_index=True)\n"
     ]
    },
    {
     "name": "stdout",
     "output_type": "stream",
     "text": [
      "{'acousticness': 0.00801, 'danceability': 0.856, 'energy': 0.609, 'instrumentalness': 8.15e-05, 'liveness': 0.0344, 'loudness': -7.223, 'speechiness': 0.0824, 'tempo': 114.988, 'valence': 0.928, 'popularity': 84}\n"
     ]
    },
    {
     "name": "stderr",
     "output_type": "stream",
     "text": [
      "/var/folders/_g/d3gd43912fnd1ygsn8rm91dw0000gn/T/ipykernel_49151/3526264110.py:46: FutureWarning: The frame.append method is deprecated and will be removed from pandas in a future version. Use pandas.concat instead.\n",
      "  new_data = new_data.append(row, ignore_index=True)\n"
     ]
    },
    {
     "name": "stdout",
     "output_type": "stream",
     "text": [
      "{'acousticness': 0.634, 'danceability': 0.566, 'energy': 0.664, 'instrumentalness': 0, 'liveness': 0.116, 'loudness': -5.303, 'speechiness': 0.0464, 'tempo': 128.945, 'valence': 0.437, 'popularity': 79}\n"
     ]
    },
    {
     "name": "stderr",
     "output_type": "stream",
     "text": [
      "/var/folders/_g/d3gd43912fnd1ygsn8rm91dw0000gn/T/ipykernel_49151/3526264110.py:46: FutureWarning: The frame.append method is deprecated and will be removed from pandas in a future version. Use pandas.concat instead.\n",
      "  new_data = new_data.append(row, ignore_index=True)\n"
     ]
    },
    {
     "name": "stdout",
     "output_type": "stream",
     "text": [
      "{'acousticness': 0.0591, 'danceability': 0.748, 'energy': 0.788, 'instrumentalness': 0, 'liveness': 0.0863, 'loudness': -7.055, 'speechiness': 0.0334, 'tempo': 120.076, 'valence': 0.884, 'popularity': 83}\n"
     ]
    },
    {
     "name": "stderr",
     "output_type": "stream",
     "text": [
      "/var/folders/_g/d3gd43912fnd1ygsn8rm91dw0000gn/T/ipykernel_49151/3526264110.py:46: FutureWarning: The frame.append method is deprecated and will be removed from pandas in a future version. Use pandas.concat instead.\n",
      "  new_data = new_data.append(row, ignore_index=True)\n"
     ]
    },
    {
     "name": "stdout",
     "output_type": "stream",
     "text": [
      "{'acousticness': 0.0797, 'danceability': 0.654, 'energy': 0.76, 'instrumentalness': 0, 'liveness': 0.299, 'loudness': -3.669, 'speechiness': 0.045, 'tempo': 99.945, 'valence': 0.41, 'popularity': 83}\n"
     ]
    },
    {
     "name": "stderr",
     "output_type": "stream",
     "text": [
      "/var/folders/_g/d3gd43912fnd1ygsn8rm91dw0000gn/T/ipykernel_49151/3526264110.py:46: FutureWarning: The frame.append method is deprecated and will be removed from pandas in a future version. Use pandas.concat instead.\n",
      "  new_data = new_data.append(row, ignore_index=True)\n"
     ]
    },
    {
     "name": "stdout",
     "output_type": "stream",
     "text": [
      "{'acousticness': 0.875, 'danceability': 0.582, 'energy': 0.272, 'instrumentalness': 0, 'liveness': 0.13, 'loudness': -5.662, 'speechiness': 0.0501, 'tempo': 205.846, 'valence': 0.354, 'popularity': 80}\n"
     ]
    },
    {
     "name": "stderr",
     "output_type": "stream",
     "text": [
      "/var/folders/_g/d3gd43912fnd1ygsn8rm91dw0000gn/T/ipykernel_49151/3526264110.py:46: FutureWarning: The frame.append method is deprecated and will be removed from pandas in a future version. Use pandas.concat instead.\n",
      "  new_data = new_data.append(row, ignore_index=True)\n"
     ]
    },
    {
     "name": "stdout",
     "output_type": "stream",
     "text": [
      "{'acousticness': 0.247, 'danceability': 0.262, 'energy': 0.606, 'instrumentalness': 0, 'liveness': 0.125, 'loudness': -6.646, 'speechiness': 0.0484, 'tempo': 189.857, 'valence': 0.275, 'popularity': 80}\n"
     ]
    },
    {
     "name": "stderr",
     "output_type": "stream",
     "text": [
      "/var/folders/_g/d3gd43912fnd1ygsn8rm91dw0000gn/T/ipykernel_49151/3526264110.py:46: FutureWarning: The frame.append method is deprecated and will be removed from pandas in a future version. Use pandas.concat instead.\n",
      "  new_data = new_data.append(row, ignore_index=True)\n"
     ]
    },
    {
     "name": "stdout",
     "output_type": "stream",
     "text": [
      "{'acousticness': 0.385, 'danceability': 0.659, 'energy': 0.381, 'instrumentalness': 0, 'liveness': 0.0972, 'loudness': -5.922, 'speechiness': 0.0304, 'tempo': 119.844, 'valence': 0.426, 'popularity': 1}\n"
     ]
    },
    {
     "name": "stderr",
     "output_type": "stream",
     "text": [
      "/var/folders/_g/d3gd43912fnd1ygsn8rm91dw0000gn/T/ipykernel_49151/3526264110.py:46: FutureWarning: The frame.append method is deprecated and will be removed from pandas in a future version. Use pandas.concat instead.\n",
      "  new_data = new_data.append(row, ignore_index=True)\n"
     ]
    },
    {
     "name": "stdout",
     "output_type": "stream",
     "text": [
      "{'acousticness': 0.585, 'danceability': 0.832, 'energy': 0.631, 'instrumentalness': 0.000892, 'liveness': 0.0838, 'loudness': -6.19, 'speechiness': 0.0736, 'tempo': 125.038, 'valence': 0.836, 'popularity': 0}\n"
     ]
    },
    {
     "name": "stderr",
     "output_type": "stream",
     "text": [
      "/var/folders/_g/d3gd43912fnd1ygsn8rm91dw0000gn/T/ipykernel_49151/3526264110.py:46: FutureWarning: The frame.append method is deprecated and will be removed from pandas in a future version. Use pandas.concat instead.\n",
      "  new_data = new_data.append(row, ignore_index=True)\n"
     ]
    },
    {
     "name": "stdout",
     "output_type": "stream",
     "text": [
      "{'acousticness': 0.0151, 'danceability': 0.752, 'energy': 0.754, 'instrumentalness': 0, 'liveness': 0.0486, 'loudness': -6.684, 'speechiness': 0.0615, 'tempo': 149.789, 'valence': 0.755, 'popularity': 77}\n"
     ]
    },
    {
     "name": "stderr",
     "output_type": "stream",
     "text": [
      "/var/folders/_g/d3gd43912fnd1ygsn8rm91dw0000gn/T/ipykernel_49151/3526264110.py:46: FutureWarning: The frame.append method is deprecated and will be removed from pandas in a future version. Use pandas.concat instead.\n",
      "  new_data = new_data.append(row, ignore_index=True)\n"
     ]
    },
    {
     "name": "stdout",
     "output_type": "stream",
     "text": [
      "{'acousticness': 0.00906, 'danceability': 0.775, 'energy': 0.68, 'instrumentalness': 0, 'liveness': 0.109, 'loudness': -5.508, 'speechiness': 0.0629, 'tempo': 114.025, 'valence': 0.656, 'popularity': 76}\n"
     ]
    },
    {
     "name": "stderr",
     "output_type": "stream",
     "text": [
      "/var/folders/_g/d3gd43912fnd1ygsn8rm91dw0000gn/T/ipykernel_49151/3526264110.py:46: FutureWarning: The frame.append method is deprecated and will be removed from pandas in a future version. Use pandas.concat instead.\n",
      "  new_data = new_data.append(row, ignore_index=True)\n"
     ]
    },
    {
     "name": "stdout",
     "output_type": "stream",
     "text": [
      "{'acousticness': 0.0215, 'danceability': 0.688, 'energy': 0.702, 'instrumentalness': 0, 'liveness': 0.128, 'loudness': -4.792, 'speechiness': 0.0499, 'tempo': 94.006, 'valence': 0.74, 'popularity': 78}\n"
     ]
    },
    {
     "name": "stderr",
     "output_type": "stream",
     "text": [
      "/var/folders/_g/d3gd43912fnd1ygsn8rm91dw0000gn/T/ipykernel_49151/3526264110.py:46: FutureWarning: The frame.append method is deprecated and will be removed from pandas in a future version. Use pandas.concat instead.\n",
      "  new_data = new_data.append(row, ignore_index=True)\n"
     ]
    },
    {
     "name": "stdout",
     "output_type": "stream",
     "text": [
      "{'acousticness': 0.00821, 'danceability': 0.829, 'energy': 0.51, 'instrumentalness': 0.00143, 'liveness': 0.0829, 'loudness': -9.334, 'speechiness': 0.0369, 'tempo': 119.994, 'valence': 0.45, 'popularity': 79}\n"
     ]
    },
    {
     "name": "stderr",
     "output_type": "stream",
     "text": [
      "/var/folders/_g/d3gd43912fnd1ygsn8rm91dw0000gn/T/ipykernel_49151/3526264110.py:46: FutureWarning: The frame.append method is deprecated and will be removed from pandas in a future version. Use pandas.concat instead.\n",
      "  new_data = new_data.append(row, ignore_index=True)\n"
     ]
    },
    {
     "name": "stdout",
     "output_type": "stream",
     "text": [
      "{'acousticness': 0.859, 'danceability': 0.672, 'energy': 0.52, 'instrumentalness': 0, 'liveness': 0.115, 'loudness': -7.747, 'speechiness': 0.0353, 'tempo': 120.001, 'valence': 0.37, 'popularity': 89}\n"
     ]
    },
    {
     "name": "stderr",
     "output_type": "stream",
     "text": [
      "/var/folders/_g/d3gd43912fnd1ygsn8rm91dw0000gn/T/ipykernel_49151/3526264110.py:46: FutureWarning: The frame.append method is deprecated and will be removed from pandas in a future version. Use pandas.concat instead.\n",
      "  new_data = new_data.append(row, ignore_index=True)\n"
     ]
    },
    {
     "name": "stdout",
     "output_type": "stream",
     "text": [
      "{'acousticness': 0.0392, 'danceability': 0.738, 'energy': 0.868, 'instrumentalness': 0.00169, 'liveness': 0.388, 'loudness': -4.373, 'speechiness': 0.0731, 'tempo': 122.003, 'valence': 0.336, 'popularity': 79}\n"
     ]
    },
    {
     "name": "stderr",
     "output_type": "stream",
     "text": [
      "/var/folders/_g/d3gd43912fnd1ygsn8rm91dw0000gn/T/ipykernel_49151/3526264110.py:46: FutureWarning: The frame.append method is deprecated and will be removed from pandas in a future version. Use pandas.concat instead.\n",
      "  new_data = new_data.append(row, ignore_index=True)\n"
     ]
    },
    {
     "name": "stdout",
     "output_type": "stream",
     "text": [
      "{'acousticness': 0.00312, 'danceability': 0.583, 'energy': 0.732, 'instrumentalness': 9.86e-06, 'liveness': 0.269, 'loudness': -5.728, 'speechiness': 0.0457, 'tempo': 145.992, 'valence': 0.276, 'popularity': 74}\n"
     ]
    },
    {
     "name": "stderr",
     "output_type": "stream",
     "text": [
      "/var/folders/_g/d3gd43912fnd1ygsn8rm91dw0000gn/T/ipykernel_49151/3526264110.py:46: FutureWarning: The frame.append method is deprecated and will be removed from pandas in a future version. Use pandas.concat instead.\n",
      "  new_data = new_data.append(row, ignore_index=True)\n"
     ]
    },
    {
     "name": "stdout",
     "output_type": "stream",
     "text": [
      "{'acousticness': 0.00937, 'danceability': 0.472, 'energy': 0.714, 'instrumentalness': 0, 'liveness': 0.0764, 'loudness': -4.389, 'speechiness': 0.0334, 'tempo': 98.992, 'valence': 0.24, 'popularity': 81}\n"
     ]
    },
    {
     "name": "stderr",
     "output_type": "stream",
     "text": [
      "/var/folders/_g/d3gd43912fnd1ygsn8rm91dw0000gn/T/ipykernel_49151/3526264110.py:46: FutureWarning: The frame.append method is deprecated and will be removed from pandas in a future version. Use pandas.concat instead.\n",
      "  new_data = new_data.append(row, ignore_index=True)\n"
     ]
    },
    {
     "name": "stdout",
     "output_type": "stream",
     "text": [
      "{'acousticness': 0.000185, 'danceability': 0.279, 'energy': 0.742, 'instrumentalness': 0, 'liveness': 0.593, 'loudness': -6.46, 'speechiness': 0.0898, 'tempo': 189.868, 'valence': 0.328, 'popularity': 82}\n"
     ]
    },
    {
     "name": "stderr",
     "output_type": "stream",
     "text": [
      "/var/folders/_g/d3gd43912fnd1ygsn8rm91dw0000gn/T/ipykernel_49151/3526264110.py:46: FutureWarning: The frame.append method is deprecated and will be removed from pandas in a future version. Use pandas.concat instead.\n",
      "  new_data = new_data.append(row, ignore_index=True)\n"
     ]
    },
    {
     "name": "stdout",
     "output_type": "stream",
     "text": [
      "{'acousticness': 0.0287, 'danceability': 0.414, 'energy': 0.857, 'instrumentalness': 0.00574, 'liveness': 0.343, 'loudness': -4.078, 'speechiness': 0.0808, 'tempo': 128.024, 'valence': 0.348, 'popularity': 78}\n"
     ]
    },
    {
     "name": "stderr",
     "output_type": "stream",
     "text": [
      "/var/folders/_g/d3gd43912fnd1ygsn8rm91dw0000gn/T/ipykernel_49151/3526264110.py:46: FutureWarning: The frame.append method is deprecated and will be removed from pandas in a future version. Use pandas.concat instead.\n",
      "  new_data = new_data.append(row, ignore_index=True)\n"
     ]
    },
    {
     "name": "stdout",
     "output_type": "stream",
     "text": [
      "{'acousticness': 0.063, 'danceability': 0.884, 'energy': 0.765, 'instrumentalness': 7.04e-06, 'liveness': 0.118, 'loudness': -3.865, 'speechiness': 0.0882, 'tempo': 99.987, 'valence': 0.594, 'popularity': 75}\n"
     ]
    },
    {
     "name": "stderr",
     "output_type": "stream",
     "text": [
      "/var/folders/_g/d3gd43912fnd1ygsn8rm91dw0000gn/T/ipykernel_49151/3526264110.py:46: FutureWarning: The frame.append method is deprecated and will be removed from pandas in a future version. Use pandas.concat instead.\n",
      "  new_data = new_data.append(row, ignore_index=True)\n"
     ]
    },
    {
     "name": "stdout",
     "output_type": "stream",
     "text": [
      "{'acousticness': 0.0064, 'danceability': 0.687, 'energy': 0.702, 'instrumentalness': 4.35e-05, 'liveness': 0.204, 'loudness': -5.324, 'speechiness': 0.0455, 'tempo': 129.956, 'valence': 0.284, 'popularity': 79}\n"
     ]
    },
    {
     "name": "stderr",
     "output_type": "stream",
     "text": [
      "/var/folders/_g/d3gd43912fnd1ygsn8rm91dw0000gn/T/ipykernel_49151/3526264110.py:46: FutureWarning: The frame.append method is deprecated and will be removed from pandas in a future version. Use pandas.concat instead.\n",
      "  new_data = new_data.append(row, ignore_index=True)\n"
     ]
    },
    {
     "name": "stdout",
     "output_type": "stream",
     "text": [
      "{'acousticness': 0.0117, 'danceability': 0.421, 'energy': 0.791, 'instrumentalness': 1.48e-05, 'liveness': 0.146, 'loudness': -4.998, 'speechiness': 0.0496, 'tempo': 130.075, 'valence': 0.499, 'popularity': 68}\n"
     ]
    },
    {
     "name": "stderr",
     "output_type": "stream",
     "text": [
      "/var/folders/_g/d3gd43912fnd1ygsn8rm91dw0000gn/T/ipykernel_49151/3526264110.py:46: FutureWarning: The frame.append method is deprecated and will be removed from pandas in a future version. Use pandas.concat instead.\n",
      "  new_data = new_data.append(row, ignore_index=True)\n"
     ]
    },
    {
     "name": "stdout",
     "output_type": "stream",
     "text": [
      "{'acousticness': 0.162, 'danceability': 0.799, 'energy': 0.586, 'instrumentalness': 2.03e-06, 'liveness': 0.193, 'loudness': -6.735, 'speechiness': 0.0377, 'tempo': 120.97, 'valence': 0.549, 'popularity': 74}\n"
     ]
    },
    {
     "name": "stderr",
     "output_type": "stream",
     "text": [
      "/var/folders/_g/d3gd43912fnd1ygsn8rm91dw0000gn/T/ipykernel_49151/3526264110.py:46: FutureWarning: The frame.append method is deprecated and will be removed from pandas in a future version. Use pandas.concat instead.\n",
      "  new_data = new_data.append(row, ignore_index=True)\n"
     ]
    },
    {
     "name": "stdout",
     "output_type": "stream",
     "text": [
      "{'acousticness': 0.33, 'danceability': 0.578, 'energy': 0.43, 'instrumentalness': 0, 'liveness': 0.0854, 'loudness': -6.134, 'speechiness': 0.0305, 'tempo': 78.991, 'valence': 0.288, 'popularity': 75}\n"
     ]
    },
    {
     "name": "stderr",
     "output_type": "stream",
     "text": [
      "/var/folders/_g/d3gd43912fnd1ygsn8rm91dw0000gn/T/ipykernel_49151/3526264110.py:46: FutureWarning: The frame.append method is deprecated and will be removed from pandas in a future version. Use pandas.concat instead.\n",
      "  new_data = new_data.append(row, ignore_index=True)\n"
     ]
    },
    {
     "name": "stdout",
     "output_type": "stream",
     "text": [
      "{'acousticness': 0.375, 'danceability': 0.655, 'energy': 0.782, 'instrumentalness': 0, 'liveness': 0.317, 'loudness': -4.789, 'speechiness': 0.185, 'tempo': 79.427, 'valence': 0.832, 'popularity': 77}\n"
     ]
    },
    {
     "name": "stderr",
     "output_type": "stream",
     "text": [
      "/var/folders/_g/d3gd43912fnd1ygsn8rm91dw0000gn/T/ipykernel_49151/3526264110.py:46: FutureWarning: The frame.append method is deprecated and will be removed from pandas in a future version. Use pandas.concat instead.\n",
      "  new_data = new_data.append(row, ignore_index=True)\n"
     ]
    },
    {
     "name": "stdout",
     "output_type": "stream",
     "text": [
      "{'acousticness': 0.053, 'danceability': 0.616, 'energy': 0.789, 'instrumentalness': 0, 'liveness': 0.142, 'loudness': -4.874, 'speechiness': 0.0377, 'tempo': 83.066, 'valence': 0.621, 'popularity': 77}\n"
     ]
    },
    {
     "name": "stderr",
     "output_type": "stream",
     "text": [
      "/var/folders/_g/d3gd43912fnd1ygsn8rm91dw0000gn/T/ipykernel_49151/3526264110.py:46: FutureWarning: The frame.append method is deprecated and will be removed from pandas in a future version. Use pandas.concat instead.\n",
      "  new_data = new_data.append(row, ignore_index=True)\n"
     ]
    },
    {
     "name": "stdout",
     "output_type": "stream",
     "text": [
      "{'acousticness': 0.24, 'danceability': 0.596, 'energy': 0.73, 'instrumentalness': 0, 'liveness': 0.325, 'loudness': -4.091, 'speechiness': 0.151, 'tempo': 85.979, 'valence': 0.525, 'popularity': 63}\n"
     ]
    },
    {
     "name": "stderr",
     "output_type": "stream",
     "text": [
      "/var/folders/_g/d3gd43912fnd1ygsn8rm91dw0000gn/T/ipykernel_49151/3526264110.py:46: FutureWarning: The frame.append method is deprecated and will be removed from pandas in a future version. Use pandas.concat instead.\n",
      "  new_data = new_data.append(row, ignore_index=True)\n"
     ]
    },
    {
     "name": "stdout",
     "output_type": "stream",
     "text": [
      "{'acousticness': 0.209, 'danceability': 0.633, 'energy': 0.8, 'instrumentalness': 0.000123, 'liveness': 0.137, 'loudness': -6.945, 'speechiness': 0.166, 'tempo': 175.716, 'valence': 0.913, 'popularity': 74}\n"
     ]
    },
    {
     "name": "stderr",
     "output_type": "stream",
     "text": [
      "/var/folders/_g/d3gd43912fnd1ygsn8rm91dw0000gn/T/ipykernel_49151/3526264110.py:46: FutureWarning: The frame.append method is deprecated and will be removed from pandas in a future version. Use pandas.concat instead.\n",
      "  new_data = new_data.append(row, ignore_index=True)\n"
     ]
    },
    {
     "name": "stdout",
     "output_type": "stream",
     "text": [
      "{'acousticness': 0.118, 'danceability': 0.58, 'energy': 0.79, 'instrumentalness': 0, 'liveness': 0.0765, 'loudness': -4.9, 'speechiness': 0.0622, 'tempo': 95.001, 'valence': 0.416, 'popularity': 0}\n"
     ]
    },
    {
     "name": "stderr",
     "output_type": "stream",
     "text": [
      "/var/folders/_g/d3gd43912fnd1ygsn8rm91dw0000gn/T/ipykernel_49151/3526264110.py:46: FutureWarning: The frame.append method is deprecated and will be removed from pandas in a future version. Use pandas.concat instead.\n",
      "  new_data = new_data.append(row, ignore_index=True)\n"
     ]
    },
    {
     "name": "stdout",
     "output_type": "stream",
     "text": [
      "{'acousticness': 0.304, 'danceability': 0.818, 'energy': 0.67, 'instrumentalness': 1.22e-06, 'liveness': 0.0601, 'loudness': -4.451, 'speechiness': 0.0472, 'tempo': 119.988, 'valence': 0.939, 'popularity': 71}\n"
     ]
    },
    {
     "name": "stderr",
     "output_type": "stream",
     "text": [
      "/var/folders/_g/d3gd43912fnd1ygsn8rm91dw0000gn/T/ipykernel_49151/3526264110.py:46: FutureWarning: The frame.append method is deprecated and will be removed from pandas in a future version. Use pandas.concat instead.\n",
      "  new_data = new_data.append(row, ignore_index=True)\n"
     ]
    },
    {
     "name": "stdout",
     "output_type": "stream",
     "text": [
      "{'acousticness': 0.0132, 'danceability': 0.684, 'energy': 0.71, 'instrumentalness': 0, 'liveness': 0.444, 'loudness': -3.614, 'speechiness': 0.0779, 'tempo': 93.007, 'valence': 0.451, 'popularity': 67}\n"
     ]
    },
    {
     "name": "stderr",
     "output_type": "stream",
     "text": [
      "/var/folders/_g/d3gd43912fnd1ygsn8rm91dw0000gn/T/ipykernel_49151/3526264110.py:46: FutureWarning: The frame.append method is deprecated and will be removed from pandas in a future version. Use pandas.concat instead.\n",
      "  new_data = new_data.append(row, ignore_index=True)\n"
     ]
    },
    {
     "name": "stdout",
     "output_type": "stream",
     "text": [
      "{'acousticness': 0.123, 'danceability': 0.706, 'energy': 0.728, 'instrumentalness': 0, 'liveness': 0.185, 'loudness': -3.602, 'speechiness': 0.0852, 'tempo': 121.017, 'valence': 0.851, 'popularity': 72}\n"
     ]
    },
    {
     "name": "stderr",
     "output_type": "stream",
     "text": [
      "/var/folders/_g/d3gd43912fnd1ygsn8rm91dw0000gn/T/ipykernel_49151/3526264110.py:46: FutureWarning: The frame.append method is deprecated and will be removed from pandas in a future version. Use pandas.concat instead.\n",
      "  new_data = new_data.append(row, ignore_index=True)\n"
     ]
    },
    {
     "name": "stdout",
     "output_type": "stream",
     "text": [
      "{'acousticness': 0.0916, 'danceability': 0.828, 'energy': 0.609, 'instrumentalness': 1.21e-06, 'liveness': 0.291, 'loudness': -4.402, 'speechiness': 0.0694, 'tempo': 109.725, 'valence': 0.707, 'popularity': 69}\n"
     ]
    },
    {
     "name": "stderr",
     "output_type": "stream",
     "text": [
      "/var/folders/_g/d3gd43912fnd1ygsn8rm91dw0000gn/T/ipykernel_49151/3526264110.py:46: FutureWarning: The frame.append method is deprecated and will be removed from pandas in a future version. Use pandas.concat instead.\n",
      "  new_data = new_data.append(row, ignore_index=True)\n"
     ]
    },
    {
     "name": "stdout",
     "output_type": "stream",
     "text": [
      "{'acousticness': 0.0958, 'danceability': 0.566, 'energy': 0.885, 'instrumentalness': 9.97e-05, 'liveness': 0.334, 'loudness': -4.528, 'speechiness': 0.0818, 'tempo': 90.99, 'valence': 0.304, 'popularity': 85}\n"
     ]
    },
    {
     "name": "stderr",
     "output_type": "stream",
     "text": [
      "/var/folders/_g/d3gd43912fnd1ygsn8rm91dw0000gn/T/ipykernel_49151/3526264110.py:46: FutureWarning: The frame.append method is deprecated and will be removed from pandas in a future version. Use pandas.concat instead.\n",
      "  new_data = new_data.append(row, ignore_index=True)\n"
     ]
    },
    {
     "name": "stdout",
     "output_type": "stream",
     "text": [
      "{'acousticness': 0.0137, 'danceability': 0.49, 'energy': 0.798, 'instrumentalness': 0, 'liveness': 0.0627, 'loudness': -3.66, 'speechiness': 0.0489, 'tempo': 149.109, 'valence': 0.479, 'popularity': 66}\n"
     ]
    },
    {
     "name": "stderr",
     "output_type": "stream",
     "text": [
      "/var/folders/_g/d3gd43912fnd1ygsn8rm91dw0000gn/T/ipykernel_49151/3526264110.py:46: FutureWarning: The frame.append method is deprecated and will be removed from pandas in a future version. Use pandas.concat instead.\n",
      "  new_data = new_data.append(row, ignore_index=True)\n"
     ]
    },
    {
     "name": "stdout",
     "output_type": "stream",
     "text": [
      "{'acousticness': 0.0146, 'danceability': 0.692, 'energy': 0.831, 'instrumentalness': 0, 'liveness': 0.103, 'loudness': -5.389, 'speechiness': 0.034, 'tempo': 114.972, 'valence': 0.676, 'popularity': 70}\n"
     ]
    },
    {
     "name": "stderr",
     "output_type": "stream",
     "text": [
      "/var/folders/_g/d3gd43912fnd1ygsn8rm91dw0000gn/T/ipykernel_49151/3526264110.py:46: FutureWarning: The frame.append method is deprecated and will be removed from pandas in a future version. Use pandas.concat instead.\n",
      "  new_data = new_data.append(row, ignore_index=True)\n"
     ]
    },
    {
     "name": "stdout",
     "output_type": "stream",
     "text": [
      "{'acousticness': 0.555, 'danceability': 0.635, 'energy': 0.691, 'instrumentalness': 0, 'liveness': 0.097, 'loudness': -4.862, 'speechiness': 0.258, 'tempo': 82.142, 'valence': 0.638, 'popularity': 65}\n"
     ]
    },
    {
     "name": "stderr",
     "output_type": "stream",
     "text": [
      "/var/folders/_g/d3gd43912fnd1ygsn8rm91dw0000gn/T/ipykernel_49151/3526264110.py:46: FutureWarning: The frame.append method is deprecated and will be removed from pandas in a future version. Use pandas.concat instead.\n",
      "  new_data = new_data.append(row, ignore_index=True)\n"
     ]
    },
    {
     "name": "stdout",
     "output_type": "stream",
     "text": [
      "{'acousticness': 0.0103, 'danceability': 0.319, 'energy': 0.846, 'instrumentalness': 4.11e-05, 'liveness': 0.475, 'loudness': -6.109, 'speechiness': 0.0796, 'tempo': 139.163, 'valence': 0.0784, 'popularity': 69}\n"
     ]
    },
    {
     "name": "stderr",
     "output_type": "stream",
     "text": [
      "/var/folders/_g/d3gd43912fnd1ygsn8rm91dw0000gn/T/ipykernel_49151/3526264110.py:46: FutureWarning: The frame.append method is deprecated and will be removed from pandas in a future version. Use pandas.concat instead.\n",
      "  new_data = new_data.append(row, ignore_index=True)\n"
     ]
    },
    {
     "name": "stdout",
     "output_type": "stream",
     "text": [
      "{'acousticness': 0.0223, 'danceability': 0.672, 'energy': 0.593, 'instrumentalness': 0, 'liveness': 0.214, 'loudness': -4.01, 'speechiness': 0.0304, 'tempo': 98.02, 'valence': 0.438, 'popularity': 71}\n"
     ]
    },
    {
     "name": "stderr",
     "output_type": "stream",
     "text": [
      "/var/folders/_g/d3gd43912fnd1ygsn8rm91dw0000gn/T/ipykernel_49151/3526264110.py:46: FutureWarning: The frame.append method is deprecated and will be removed from pandas in a future version. Use pandas.concat instead.\n",
      "  new_data = new_data.append(row, ignore_index=True)\n"
     ]
    },
    {
     "name": "stdout",
     "output_type": "stream",
     "text": [
      "{'acousticness': 0.00537, 'danceability': 0.58, 'energy': 0.846, 'instrumentalness': 6.62e-06, 'liveness': 0.145, 'loudness': -2.876, 'speechiness': 0.0573, 'tempo': 129.998, 'valence': 0.366, 'popularity': 68}\n"
     ]
    },
    {
     "name": "stderr",
     "output_type": "stream",
     "text": [
      "/var/folders/_g/d3gd43912fnd1ygsn8rm91dw0000gn/T/ipykernel_49151/3526264110.py:46: FutureWarning: The frame.append method is deprecated and will be removed from pandas in a future version. Use pandas.concat instead.\n",
      "  new_data = new_data.append(row, ignore_index=True)\n"
     ]
    },
    {
     "name": "stdout",
     "output_type": "stream",
     "text": [
      "{'acousticness': 0.0506, 'danceability': 0.775, 'energy': 0.825, 'instrumentalness': 1.03e-06, 'liveness': 0.111, 'loudness': -5.402, 'speechiness': 0.0464, 'tempo': 139.091, 'valence': 0.95, 'popularity': 73}\n"
     ]
    },
    {
     "name": "stderr",
     "output_type": "stream",
     "text": [
      "/var/folders/_g/d3gd43912fnd1ygsn8rm91dw0000gn/T/ipykernel_49151/3526264110.py:46: FutureWarning: The frame.append method is deprecated and will be removed from pandas in a future version. Use pandas.concat instead.\n",
      "  new_data = new_data.append(row, ignore_index=True)\n"
     ]
    },
    {
     "name": "stdout",
     "output_type": "stream",
     "text": [
      "{'acousticness': 0.0785, 'danceability': 0.376, 'energy': 0.821, 'instrumentalness': 0, 'liveness': 0.0823, 'loudness': -3.974, 'speechiness': 0.104, 'tempo': 120.462, 'valence': 0.331, 'popularity': 71}\n"
     ]
    },
    {
     "name": "stderr",
     "output_type": "stream",
     "text": [
      "/var/folders/_g/d3gd43912fnd1ygsn8rm91dw0000gn/T/ipykernel_49151/3526264110.py:46: FutureWarning: The frame.append method is deprecated and will be removed from pandas in a future version. Use pandas.concat instead.\n",
      "  new_data = new_data.append(row, ignore_index=True)\n"
     ]
    },
    {
     "name": "stdout",
     "output_type": "stream",
     "text": [
      "{'acousticness': 0.0746, 'danceability': 0.599, 'energy': 0.854, 'instrumentalness': 0, 'liveness': 0.278, 'loudness': -5.429, 'speechiness': 0.0436, 'tempo': 119.986, 'valence': 0.311, 'popularity': 70}\n"
     ]
    },
    {
     "name": "stderr",
     "output_type": "stream",
     "text": [
      "/var/folders/_g/d3gd43912fnd1ygsn8rm91dw0000gn/T/ipykernel_49151/3526264110.py:46: FutureWarning: The frame.append method is deprecated and will be removed from pandas in a future version. Use pandas.concat instead.\n",
      "  new_data = new_data.append(row, ignore_index=True)\n"
     ]
    },
    {
     "name": "stdout",
     "output_type": "stream",
     "text": [
      "{'acousticness': 0.0908, 'danceability': 0.761, 'energy': 0.933, 'instrumentalness': 8.53e-05, 'liveness': 0.0607, 'loudness': -5.38, 'speechiness': 0.056, 'tempo': 122.959, 'valence': 0.836, 'popularity': 76}\n"
     ]
    },
    {
     "name": "stderr",
     "output_type": "stream",
     "text": [
      "/var/folders/_g/d3gd43912fnd1ygsn8rm91dw0000gn/T/ipykernel_49151/3526264110.py:46: FutureWarning: The frame.append method is deprecated and will be removed from pandas in a future version. Use pandas.concat instead.\n",
      "  new_data = new_data.append(row, ignore_index=True)\n"
     ]
    },
    {
     "name": "stdout",
     "output_type": "stream",
     "text": [
      "{'acousticness': 0.175, 'danceability': 0.68, 'energy': 0.942, 'instrumentalness': 0.0013, 'liveness': 0.117, 'loudness': -4.208, 'speechiness': 0.0631, 'tempo': 123.976, 'valence': 0.647, 'popularity': 67}\n"
     ]
    },
    {
     "name": "stderr",
     "output_type": "stream",
     "text": [
      "/var/folders/_g/d3gd43912fnd1ygsn8rm91dw0000gn/T/ipykernel_49151/3526264110.py:46: FutureWarning: The frame.append method is deprecated and will be removed from pandas in a future version. Use pandas.concat instead.\n",
      "  new_data = new_data.append(row, ignore_index=True)\n"
     ]
    },
    {
     "name": "stdout",
     "output_type": "stream",
     "text": [
      "{'acousticness': 0.0819, 'danceability': 0.525, 'energy': 0.809, 'instrumentalness': 1.22e-06, 'liveness': 0.0971, 'loudness': -6.185, 'speechiness': 0.0619, 'tempo': 127.073, 'valence': 0.21, 'popularity': 62}\n"
     ]
    },
    {
     "name": "stderr",
     "output_type": "stream",
     "text": [
      "/var/folders/_g/d3gd43912fnd1ygsn8rm91dw0000gn/T/ipykernel_49151/3526264110.py:46: FutureWarning: The frame.append method is deprecated and will be removed from pandas in a future version. Use pandas.concat instead.\n",
      "  new_data = new_data.append(row, ignore_index=True)\n"
     ]
    },
    {
     "name": "stdout",
     "output_type": "stream",
     "text": [
      "{'acousticness': 0.00564, 'danceability': 0.62, 'energy': 0.805, 'instrumentalness': 9.15e-05, 'liveness': 0.285, 'loudness': -5.538, 'speechiness': 0.0417, 'tempo': 122.062, 'valence': 0.586, 'popularity': 72}\n"
     ]
    },
    {
     "name": "stderr",
     "output_type": "stream",
     "text": [
      "/var/folders/_g/d3gd43912fnd1ygsn8rm91dw0000gn/T/ipykernel_49151/3526264110.py:46: FutureWarning: The frame.append method is deprecated and will be removed from pandas in a future version. Use pandas.concat instead.\n",
      "  new_data = new_data.append(row, ignore_index=True)\n"
     ]
    },
    {
     "name": "stdout",
     "output_type": "stream",
     "text": [
      "{'acousticness': 0.00621, 'danceability': 0.813, 'energy': 0.872, 'instrumentalness': 0, 'liveness': 0.0498, 'loudness': -5.224, 'speechiness': 0.107, 'tempo': 103.016, 'valence': 0.736, 'popularity': 63}\n"
     ]
    },
    {
     "name": "stderr",
     "output_type": "stream",
     "text": [
      "/var/folders/_g/d3gd43912fnd1ygsn8rm91dw0000gn/T/ipykernel_49151/3526264110.py:46: FutureWarning: The frame.append method is deprecated and will be removed from pandas in a future version. Use pandas.concat instead.\n",
      "  new_data = new_data.append(row, ignore_index=True)\n"
     ]
    },
    {
     "name": "stdout",
     "output_type": "stream",
     "text": [
      "{'acousticness': 0.0591, 'danceability': 0.748, 'energy': 0.788, 'instrumentalness': 0, 'liveness': 0.0863, 'loudness': -7.055, 'speechiness': 0.0334, 'tempo': 120.076, 'valence': 0.884, 'popularity': 83}\n"
     ]
    },
    {
     "name": "stderr",
     "output_type": "stream",
     "text": [
      "/var/folders/_g/d3gd43912fnd1ygsn8rm91dw0000gn/T/ipykernel_49151/3526264110.py:46: FutureWarning: The frame.append method is deprecated and will be removed from pandas in a future version. Use pandas.concat instead.\n",
      "  new_data = new_data.append(row, ignore_index=True)\n"
     ]
    },
    {
     "name": "stdout",
     "output_type": "stream",
     "text": [
      "{'acousticness': 0.266, 'danceability': 0.671, 'energy': 0.876, 'instrumentalness': 0, 'liveness': 0.444, 'loudness': -6.034, 'speechiness': 0.239, 'tempo': 100.016, 'valence': 0.8, 'popularity': 65}\n"
     ]
    },
    {
     "name": "stderr",
     "output_type": "stream",
     "text": [
      "/var/folders/_g/d3gd43912fnd1ygsn8rm91dw0000gn/T/ipykernel_49151/3526264110.py:46: FutureWarning: The frame.append method is deprecated and will be removed from pandas in a future version. Use pandas.concat instead.\n",
      "  new_data = new_data.append(row, ignore_index=True)\n"
     ]
    },
    {
     "name": "stdout",
     "output_type": "stream",
     "text": [
      "{'acousticness': 0.0573, 'danceability': 0.807, 'energy': 0.887, 'instrumentalness': 2.87e-06, 'liveness': 0.124, 'loudness': -3.726, 'speechiness': 0.0503, 'tempo': 134.052, 'valence': 0.961, 'popularity': 76}\n"
     ]
    },
    {
     "name": "stderr",
     "output_type": "stream",
     "text": [
      "/var/folders/_g/d3gd43912fnd1ygsn8rm91dw0000gn/T/ipykernel_49151/3526264110.py:46: FutureWarning: The frame.append method is deprecated and will be removed from pandas in a future version. Use pandas.concat instead.\n",
      "  new_data = new_data.append(row, ignore_index=True)\n"
     ]
    },
    {
     "name": "stdout",
     "output_type": "stream",
     "text": [
      "{'acousticness': 0.258, 'danceability': 0.702, 'energy': 0.705, 'instrumentalness': 5.93e-06, 'liveness': 0.0879, 'loudness': -6.665, 'speechiness': 0.0543, 'tempo': 154.909, 'valence': 0.743, 'popularity': 0}\n"
     ]
    },
    {
     "name": "stderr",
     "output_type": "stream",
     "text": [
      "/var/folders/_g/d3gd43912fnd1ygsn8rm91dw0000gn/T/ipykernel_49151/3526264110.py:46: FutureWarning: The frame.append method is deprecated and will be removed from pandas in a future version. Use pandas.concat instead.\n",
      "  new_data = new_data.append(row, ignore_index=True)\n"
     ]
    },
    {
     "name": "stdout",
     "output_type": "stream",
     "text": [
      "{'acousticness': 0.175, 'danceability': 0.784, 'energy': 0.576, 'instrumentalness': 0, 'liveness': 0.184, 'loudness': -6.63, 'speechiness': 0.0421, 'tempo': 106.059, 'valence': 0.867, 'popularity': 0}\n"
     ]
    },
    {
     "name": "stderr",
     "output_type": "stream",
     "text": [
      "/var/folders/_g/d3gd43912fnd1ygsn8rm91dw0000gn/T/ipykernel_49151/3526264110.py:46: FutureWarning: The frame.append method is deprecated and will be removed from pandas in a future version. Use pandas.concat instead.\n",
      "  new_data = new_data.append(row, ignore_index=True)\n"
     ]
    },
    {
     "name": "stdout",
     "output_type": "stream",
     "text": [
      "{'acousticness': 0.0481, 'danceability': 0.63, 'energy': 0.666, 'instrumentalness': 0.000567, 'liveness': 0.104, 'loudness': -7.186, 'speechiness': 0.045, 'tempo': 115.973, 'valence': 0.288, 'popularity': 62}\n"
     ]
    },
    {
     "name": "stderr",
     "output_type": "stream",
     "text": [
      "/var/folders/_g/d3gd43912fnd1ygsn8rm91dw0000gn/T/ipykernel_49151/3526264110.py:46: FutureWarning: The frame.append method is deprecated and will be removed from pandas in a future version. Use pandas.concat instead.\n",
      "  new_data = new_data.append(row, ignore_index=True)\n"
     ]
    },
    {
     "name": "stdout",
     "output_type": "stream",
     "text": [
      "{'acousticness': 0.0267, 'danceability': 0.691, 'energy': 0.835, 'instrumentalness': 1.16e-06, 'liveness': 0.141, 'loudness': -4.287, 'speechiness': 0.19, 'tempo': 82.004, 'valence': 0.461, 'popularity': 0}\n"
     ]
    },
    {
     "name": "stderr",
     "output_type": "stream",
     "text": [
      "/var/folders/_g/d3gd43912fnd1ygsn8rm91dw0000gn/T/ipykernel_49151/3526264110.py:46: FutureWarning: The frame.append method is deprecated and will be removed from pandas in a future version. Use pandas.concat instead.\n",
      "  new_data = new_data.append(row, ignore_index=True)\n"
     ]
    },
    {
     "name": "stdout",
     "output_type": "stream",
     "text": [
      "{'acousticness': 0.794, 'danceability': 0.773, 'energy': 0.358, 'instrumentalness': 0, 'liveness': 0.104, 'loudness': -10.634, 'speechiness': 0.044, 'tempo': 124.934, 'valence': 0.756, 'popularity': 60}\n"
     ]
    },
    {
     "name": "stderr",
     "output_type": "stream",
     "text": [
      "/var/folders/_g/d3gd43912fnd1ygsn8rm91dw0000gn/T/ipykernel_49151/3526264110.py:46: FutureWarning: The frame.append method is deprecated and will be removed from pandas in a future version. Use pandas.concat instead.\n",
      "  new_data = new_data.append(row, ignore_index=True)\n"
     ]
    },
    {
     "name": "stdout",
     "output_type": "stream",
     "text": [
      "{'acousticness': 0.88, 'danceability': 0.383, 'energy': 0.256, 'instrumentalness': 2.69e-06, 'liveness': 0.169, 'loudness': -8.572, 'speechiness': 0.0332, 'tempo': 114.188, 'valence': 0.519, 'popularity': 59}\n"
     ]
    },
    {
     "name": "stderr",
     "output_type": "stream",
     "text": [
      "/var/folders/_g/d3gd43912fnd1ygsn8rm91dw0000gn/T/ipykernel_49151/3526264110.py:46: FutureWarning: The frame.append method is deprecated and will be removed from pandas in a future version. Use pandas.concat instead.\n",
      "  new_data = new_data.append(row, ignore_index=True)\n"
     ]
    },
    {
     "name": "stdout",
     "output_type": "stream",
     "text": [
      "{'acousticness': 0.141, 'danceability': 0.669, 'energy': 0.747, 'instrumentalness': 0, 'liveness': 0.185, 'loudness': -7.108, 'speechiness': 0.0428, 'tempo': 122.531, 'valence': 0.483, 'popularity': 51}\n"
     ]
    },
    {
     "name": "stderr",
     "output_type": "stream",
     "text": [
      "/var/folders/_g/d3gd43912fnd1ygsn8rm91dw0000gn/T/ipykernel_49151/3526264110.py:46: FutureWarning: The frame.append method is deprecated and will be removed from pandas in a future version. Use pandas.concat instead.\n",
      "  new_data = new_data.append(row, ignore_index=True)\n"
     ]
    },
    {
     "name": "stdout",
     "output_type": "stream",
     "text": [
      "{'acousticness': 0.0497, 'danceability': 0.391, 'energy': 0.745, 'instrumentalness': 0, 'liveness': 0.329, 'loudness': -6.296, 'speechiness': 0.0884, 'tempo': 78.205, 'valence': 0.483, 'popularity': 53}\n"
     ]
    },
    {
     "name": "stderr",
     "output_type": "stream",
     "text": [
      "/var/folders/_g/d3gd43912fnd1ygsn8rm91dw0000gn/T/ipykernel_49151/3526264110.py:46: FutureWarning: The frame.append method is deprecated and will be removed from pandas in a future version. Use pandas.concat instead.\n",
      "  new_data = new_data.append(row, ignore_index=True)\n"
     ]
    },
    {
     "name": "stdout",
     "output_type": "stream",
     "text": [
      "{'acousticness': 0.26, 'danceability': 0.706, 'energy': 0.786, 'instrumentalness': 0, 'liveness': 0.38, 'loudness': -3.417, 'speechiness': 0.091, 'tempo': 150.028, 'valence': 0.751, 'popularity': 80}\n"
     ]
    },
    {
     "name": "stderr",
     "output_type": "stream",
     "text": [
      "/var/folders/_g/d3gd43912fnd1ygsn8rm91dw0000gn/T/ipykernel_49151/3526264110.py:46: FutureWarning: The frame.append method is deprecated and will be removed from pandas in a future version. Use pandas.concat instead.\n",
      "  new_data = new_data.append(row, ignore_index=True)\n"
     ]
    },
    {
     "name": "stdout",
     "output_type": "stream",
     "text": [
      "{'acousticness': 0.00215, 'danceability': 0.746, 'energy': 0.722, 'instrumentalness': 0.000116, 'liveness': 0.456, 'loudness': -5.715, 'speechiness': 0.0325, 'tempo': 121.963, 'valence': 0.402, 'popularity': 21}\n"
     ]
    },
    {
     "name": "stderr",
     "output_type": "stream",
     "text": [
      "/var/folders/_g/d3gd43912fnd1ygsn8rm91dw0000gn/T/ipykernel_49151/3526264110.py:46: FutureWarning: The frame.append method is deprecated and will be removed from pandas in a future version. Use pandas.concat instead.\n",
      "  new_data = new_data.append(row, ignore_index=True)\n"
     ]
    },
    {
     "name": "stdout",
     "output_type": "stream",
     "text": [
      "{'acousticness': 0.254, 'danceability': 0.508, 'energy': 0.762, 'instrumentalness': 0.000122, 'liveness': 0.108, 'loudness': -4.217, 'speechiness': 0.0489, 'tempo': 99.963, 'valence': 0.444, 'popularity': 63}\n"
     ]
    },
    {
     "name": "stderr",
     "output_type": "stream",
     "text": [
      "/var/folders/_g/d3gd43912fnd1ygsn8rm91dw0000gn/T/ipykernel_49151/3526264110.py:46: FutureWarning: The frame.append method is deprecated and will be removed from pandas in a future version. Use pandas.concat instead.\n",
      "  new_data = new_data.append(row, ignore_index=True)\n"
     ]
    },
    {
     "name": "stdout",
     "output_type": "stream",
     "text": [
      "{'acousticness': 0.0185, 'danceability': 0.636, 'energy': 0.815, 'instrumentalness': 0, 'liveness': 0.163, 'loudness': -5.098, 'speechiness': 0.0581, 'tempo': 123.063, 'valence': 0.636, 'popularity': 78}\n"
     ]
    },
    {
     "name": "stderr",
     "output_type": "stream",
     "text": [
      "/var/folders/_g/d3gd43912fnd1ygsn8rm91dw0000gn/T/ipykernel_49151/3526264110.py:46: FutureWarning: The frame.append method is deprecated and will be removed from pandas in a future version. Use pandas.concat instead.\n",
      "  new_data = new_data.append(row, ignore_index=True)\n"
     ]
    },
    {
     "name": "stdout",
     "output_type": "stream",
     "text": [
      "{'acousticness': 0.0223, 'danceability': 0.74, 'energy': 0.781, 'instrumentalness': 0, 'liveness': 0.321, 'loudness': -6.204, 'speechiness': 0.07, 'tempo': 113.021, 'valence': 0.861, 'popularity': 56}\n"
     ]
    },
    {
     "name": "stderr",
     "output_type": "stream",
     "text": [
      "/var/folders/_g/d3gd43912fnd1ygsn8rm91dw0000gn/T/ipykernel_49151/3526264110.py:46: FutureWarning: The frame.append method is deprecated and will be removed from pandas in a future version. Use pandas.concat instead.\n",
      "  new_data = new_data.append(row, ignore_index=True)\n"
     ]
    },
    {
     "name": "stdout",
     "output_type": "stream",
     "text": [
      "{'acousticness': 0.024, 'danceability': 0.763, 'energy': 0.875, 'instrumentalness': 5.41e-06, 'liveness': 0.599, 'loudness': -5.797, 'speechiness': 0.0262, 'tempo': 123.013, 'valence': 0.8, 'popularity': 75}\n"
     ]
    },
    {
     "name": "stderr",
     "output_type": "stream",
     "text": [
      "/var/folders/_g/d3gd43912fnd1ygsn8rm91dw0000gn/T/ipykernel_49151/3526264110.py:46: FutureWarning: The frame.append method is deprecated and will be removed from pandas in a future version. Use pandas.concat instead.\n",
      "  new_data = new_data.append(row, ignore_index=True)\n"
     ]
    },
    {
     "name": "stdout",
     "output_type": "stream",
     "text": [
      "{'acousticness': 0.369, 'danceability': 0.689, 'energy': 0.481, 'instrumentalness': 1.03e-06, 'liveness': 0.0649, 'loudness': -7.503, 'speechiness': 0.0815, 'tempo': 80.025, 'valence': 0.283, 'popularity': 83}\n"
     ]
    },
    {
     "name": "stderr",
     "output_type": "stream",
     "text": [
      "/var/folders/_g/d3gd43912fnd1ygsn8rm91dw0000gn/T/ipykernel_49151/3526264110.py:46: FutureWarning: The frame.append method is deprecated and will be removed from pandas in a future version. Use pandas.concat instead.\n",
      "  new_data = new_data.append(row, ignore_index=True)\n"
     ]
    },
    {
     "name": "stdout",
     "output_type": "stream",
     "text": [
      "{'acousticness': 0.0305, 'danceability': 0.503, 'energy': 0.748, 'instrumentalness': 0, 'liveness': 0.343, 'loudness': -4.124, 'speechiness': 0.0619, 'tempo': 125.896, 'valence': 0.356, 'popularity': 73}\n"
     ]
    },
    {
     "name": "stderr",
     "output_type": "stream",
     "text": [
      "/var/folders/_g/d3gd43912fnd1ygsn8rm91dw0000gn/T/ipykernel_49151/3526264110.py:46: FutureWarning: The frame.append method is deprecated and will be removed from pandas in a future version. Use pandas.concat instead.\n",
      "  new_data = new_data.append(row, ignore_index=True)\n"
     ]
    },
    {
     "name": "stdout",
     "output_type": "stream",
     "text": [
      "{'acousticness': 0.331, 'danceability': 0.374, 'energy': 0.598, 'instrumentalness': 0.0117, 'liveness': 0.0929, 'loudness': -5.963, 'speechiness': 0.0518, 'tempo': 155.278, 'valence': 0.0382, 'popularity': 46}\n"
     ]
    },
    {
     "name": "stderr",
     "output_type": "stream",
     "text": [
      "/var/folders/_g/d3gd43912fnd1ygsn8rm91dw0000gn/T/ipykernel_49151/3526264110.py:46: FutureWarning: The frame.append method is deprecated and will be removed from pandas in a future version. Use pandas.concat instead.\n",
      "  new_data = new_data.append(row, ignore_index=True)\n"
     ]
    },
    {
     "name": "stdout",
     "output_type": "stream",
     "text": [
      "{'acousticness': 0.0598, 'danceability': 0.647, 'energy': 0.823, 'instrumentalness': 0, 'liveness': 0.119, 'loudness': -5.231, 'speechiness': 0.0762, 'tempo': 99.933, 'valence': 0.396, 'popularity': 80}\n"
     ]
    },
    {
     "name": "stderr",
     "output_type": "stream",
     "text": [
      "/var/folders/_g/d3gd43912fnd1ygsn8rm91dw0000gn/T/ipykernel_49151/3526264110.py:46: FutureWarning: The frame.append method is deprecated and will be removed from pandas in a future version. Use pandas.concat instead.\n",
      "  new_data = new_data.append(row, ignore_index=True)\n"
     ]
    },
    {
     "name": "stdout",
     "output_type": "stream",
     "text": [
      "{'acousticness': 0.0362, 'danceability': 0.54, 'energy': 0.55, 'instrumentalness': 0.000203, 'liveness': 0.115, 'loudness': -6.521, 'speechiness': 0.0368, 'tempo': 79.037, 'valence': 0.0899, 'popularity': 52}\n"
     ]
    },
    {
     "name": "stderr",
     "output_type": "stream",
     "text": [
      "/var/folders/_g/d3gd43912fnd1ygsn8rm91dw0000gn/T/ipykernel_49151/3526264110.py:46: FutureWarning: The frame.append method is deprecated and will be removed from pandas in a future version. Use pandas.concat instead.\n",
      "  new_data = new_data.append(row, ignore_index=True)\n"
     ]
    },
    {
     "name": "stdout",
     "output_type": "stream",
     "text": [
      "{'acousticness': 0.0525, 'danceability': 0.599, 'energy': 0.869, 'instrumentalness': 0.00719, 'liveness': 0.103, 'loudness': -3.697, 'speechiness': 0.0789, 'tempo': 108.061, 'valence': 0.593, 'popularity': 60}\n"
     ]
    },
    {
     "name": "stderr",
     "output_type": "stream",
     "text": [
      "/var/folders/_g/d3gd43912fnd1ygsn8rm91dw0000gn/T/ipykernel_49151/3526264110.py:46: FutureWarning: The frame.append method is deprecated and will be removed from pandas in a future version. Use pandas.concat instead.\n",
      "  new_data = new_data.append(row, ignore_index=True)\n"
     ]
    },
    {
     "name": "stdout",
     "output_type": "stream",
     "text": [
      "{'acousticness': 0.529, 'danceability': 0.66, 'energy': 0.316, 'instrumentalness': 0.000294, 'liveness': 0.104, 'loudness': -11.567, 'speechiness': 0.0364, 'tempo': 91.207, 'valence': 0.543, 'popularity': 67}\n"
     ]
    },
    {
     "name": "stderr",
     "output_type": "stream",
     "text": [
      "/var/folders/_g/d3gd43912fnd1ygsn8rm91dw0000gn/T/ipykernel_49151/3526264110.py:46: FutureWarning: The frame.append method is deprecated and will be removed from pandas in a future version. Use pandas.concat instead.\n",
      "  new_data = new_data.append(row, ignore_index=True)\n"
     ]
    },
    {
     "name": "stdout",
     "output_type": "stream",
     "text": [
      "{'acousticness': 0.0361, 'danceability': 0.668, 'energy': 0.789, 'instrumentalness': 0.000296, 'liveness': 0.25, 'loudness': -4.564, 'speechiness': 0.0879, 'tempo': 122.988, 'valence': 0.394, 'popularity': 49}\n"
     ]
    },
    {
     "name": "stderr",
     "output_type": "stream",
     "text": [
      "/var/folders/_g/d3gd43912fnd1ygsn8rm91dw0000gn/T/ipykernel_49151/3526264110.py:46: FutureWarning: The frame.append method is deprecated and will be removed from pandas in a future version. Use pandas.concat instead.\n",
      "  new_data = new_data.append(row, ignore_index=True)\n"
     ]
    },
    {
     "name": "stdout",
     "output_type": "stream",
     "text": [
      "{'acousticness': 0.0125, 'danceability': 0.688, 'energy': 0.551, 'instrumentalness': 0.229, 'liveness': 0.101, 'loudness': -5.496, 'speechiness': 0.031, 'tempo': 99.964, 'valence': 0.264, 'popularity': 47}\n"
     ]
    },
    {
     "name": "stderr",
     "output_type": "stream",
     "text": [
      "/var/folders/_g/d3gd43912fnd1ygsn8rm91dw0000gn/T/ipykernel_49151/3526264110.py:46: FutureWarning: The frame.append method is deprecated and will be removed from pandas in a future version. Use pandas.concat instead.\n",
      "  new_data = new_data.append(row, ignore_index=True)\n"
     ]
    },
    {
     "name": "stdout",
     "output_type": "stream",
     "text": [
      "{'acousticness': 0.00433, 'danceability': 0.536, 'energy': 0.768, 'instrumentalness': 0, 'liveness': 0.114, 'loudness': -5.948, 'speechiness': 0.0347, 'tempo': 77.217, 'valence': 0.545, 'popularity': 81}\n"
     ]
    },
    {
     "name": "stderr",
     "output_type": "stream",
     "text": [
      "/var/folders/_g/d3gd43912fnd1ygsn8rm91dw0000gn/T/ipykernel_49151/3526264110.py:46: FutureWarning: The frame.append method is deprecated and will be removed from pandas in a future version. Use pandas.concat instead.\n",
      "  new_data = new_data.append(row, ignore_index=True)\n"
     ]
    },
    {
     "name": "stdout",
     "output_type": "stream",
     "text": [
      "{'acousticness': 0.434, 'danceability': 0.635, 'energy': 0.667, 'instrumentalness': 0, 'liveness': 0.0845, 'loudness': -6.139, 'speechiness': 0.044, 'tempo': 92.887, 'valence': 0.0837, 'popularity': 46}\n"
     ]
    },
    {
     "name": "stderr",
     "output_type": "stream",
     "text": [
      "/var/folders/_g/d3gd43912fnd1ygsn8rm91dw0000gn/T/ipykernel_49151/3526264110.py:46: FutureWarning: The frame.append method is deprecated and will be removed from pandas in a future version. Use pandas.concat instead.\n",
      "  new_data = new_data.append(row, ignore_index=True)\n"
     ]
    },
    {
     "name": "stdout",
     "output_type": "stream",
     "text": [
      "{'acousticness': 0.752, 'danceability': 0.261, 'energy': 0.434, 'instrumentalness': 0.00639, 'liveness': 0.105, 'loudness': -10.649, 'speechiness': 0.0333, 'tempo': 117.291, 'valence': 0.0921, 'popularity': 39}\n"
     ]
    },
    {
     "name": "stderr",
     "output_type": "stream",
     "text": [
      "/var/folders/_g/d3gd43912fnd1ygsn8rm91dw0000gn/T/ipykernel_49151/3526264110.py:46: FutureWarning: The frame.append method is deprecated and will be removed from pandas in a future version. Use pandas.concat instead.\n",
      "  new_data = new_data.append(row, ignore_index=True)\n"
     ]
    },
    {
     "name": "stdout",
     "output_type": "stream",
     "text": [
      "{'acousticness': 0.0242, 'danceability': 0.57, 'energy': 0.782, 'instrumentalness': 6.66e-05, 'liveness': 0.329, 'loudness': -4.379, 'speechiness': 0.0331, 'tempo': 127.94, 'valence': 0.276, 'popularity': 30}\n"
     ]
    },
    {
     "name": "stderr",
     "output_type": "stream",
     "text": [
      "/var/folders/_g/d3gd43912fnd1ygsn8rm91dw0000gn/T/ipykernel_49151/3526264110.py:46: FutureWarning: The frame.append method is deprecated and will be removed from pandas in a future version. Use pandas.concat instead.\n",
      "  new_data = new_data.append(row, ignore_index=True)\n"
     ]
    },
    {
     "name": "stdout",
     "output_type": "stream",
     "text": [
      "{'acousticness': 0.0921, 'danceability': 0.721, 'energy': 0.802, 'instrumentalness': 0, 'liveness': 0.694, 'loudness': -5.797, 'speechiness': 0.0583, 'tempo': 124.022, 'valence': 0.724, 'popularity': 82}\n"
     ]
    },
    {
     "name": "stderr",
     "output_type": "stream",
     "text": [
      "/var/folders/_g/d3gd43912fnd1ygsn8rm91dw0000gn/T/ipykernel_49151/3526264110.py:46: FutureWarning: The frame.append method is deprecated and will be removed from pandas in a future version. Use pandas.concat instead.\n",
      "  new_data = new_data.append(row, ignore_index=True)\n"
     ]
    },
    {
     "name": "stdout",
     "output_type": "stream",
     "text": [
      "{'acousticness': 0.0416, 'danceability': 0.847, 'energy': 0.882, 'instrumentalness': 0.000201, 'liveness': 0.103, 'loudness': -4.536, 'speechiness': 0.0551, 'tempo': 122.013, 'valence': 0.793, 'popularity': 49}\n"
     ]
    },
    {
     "name": "stderr",
     "output_type": "stream",
     "text": [
      "/var/folders/_g/d3gd43912fnd1ygsn8rm91dw0000gn/T/ipykernel_49151/3526264110.py:46: FutureWarning: The frame.append method is deprecated and will be removed from pandas in a future version. Use pandas.concat instead.\n",
      "  new_data = new_data.append(row, ignore_index=True)\n"
     ]
    },
    {
     "name": "stdout",
     "output_type": "stream",
     "text": [
      "{'acousticness': 0.00582, 'danceability': 0.802, 'energy': 0.779, 'instrumentalness': 0, 'liveness': 0.0359, 'loudness': -6.097, 'speechiness': 0.179, 'tempo': 128.089, 'valence': 0.827, 'popularity': 33}\n"
     ]
    },
    {
     "name": "stderr",
     "output_type": "stream",
     "text": [
      "/var/folders/_g/d3gd43912fnd1ygsn8rm91dw0000gn/T/ipykernel_49151/3526264110.py:46: FutureWarning: The frame.append method is deprecated and will be removed from pandas in a future version. Use pandas.concat instead.\n",
      "  new_data = new_data.append(row, ignore_index=True)\n"
     ]
    },
    {
     "name": "stdout",
     "output_type": "stream",
     "text": [
      "{'acousticness': 0.0224, 'danceability': 0.623, 'energy': 0.836, 'instrumentalness': 0, 'liveness': 0.078, 'loudness': -4.788, 'speechiness': 0.0846, 'tempo': 126.025, 'valence': 0.386, 'popularity': 52}\n"
     ]
    },
    {
     "name": "stderr",
     "output_type": "stream",
     "text": [
      "/var/folders/_g/d3gd43912fnd1ygsn8rm91dw0000gn/T/ipykernel_49151/3526264110.py:46: FutureWarning: The frame.append method is deprecated and will be removed from pandas in a future version. Use pandas.concat instead.\n",
      "  new_data = new_data.append(row, ignore_index=True)\n"
     ]
    },
    {
     "name": "stdout",
     "output_type": "stream",
     "text": [
      "{'acousticness': 0.076, 'danceability': 0.881, 'energy': 0.803, 'instrumentalness': 0.000904, 'liveness': 0.202, 'loudness': -4.067, 'speechiness': 0.0628, 'tempo': 120.021, 'valence': 0.539, 'popularity': 33}\n"
     ]
    },
    {
     "name": "stderr",
     "output_type": "stream",
     "text": [
      "/var/folders/_g/d3gd43912fnd1ygsn8rm91dw0000gn/T/ipykernel_49151/3526264110.py:46: FutureWarning: The frame.append method is deprecated and will be removed from pandas in a future version. Use pandas.concat instead.\n",
      "  new_data = new_data.append(row, ignore_index=True)\n"
     ]
    },
    {
     "name": "stdout",
     "output_type": "stream",
     "text": [
      "{'acousticness': 0.0134, 'danceability': 0.572, 'energy': 0.895, 'instrumentalness': 0, 'liveness': 0.216, 'loudness': -2.654, 'speechiness': 0.0644, 'tempo': 145.008, 'valence': 0.922, 'popularity': 31}\n"
     ]
    },
    {
     "name": "stderr",
     "output_type": "stream",
     "text": [
      "/var/folders/_g/d3gd43912fnd1ygsn8rm91dw0000gn/T/ipykernel_49151/3526264110.py:46: FutureWarning: The frame.append method is deprecated and will be removed from pandas in a future version. Use pandas.concat instead.\n",
      "  new_data = new_data.append(row, ignore_index=True)\n"
     ]
    },
    {
     "name": "stdout",
     "output_type": "stream",
     "text": [
      "{'acousticness': 0.0134, 'danceability': 0.724, 'energy': 0.898, 'instrumentalness': 0, 'liveness': 0.0616, 'loudness': -4.108, 'speechiness': 0.134, 'tempo': 112.014, 'valence': 0.88, 'popularity': 32}\n"
     ]
    },
    {
     "name": "stderr",
     "output_type": "stream",
     "text": [
      "/var/folders/_g/d3gd43912fnd1ygsn8rm91dw0000gn/T/ipykernel_49151/3526264110.py:46: FutureWarning: The frame.append method is deprecated and will be removed from pandas in a future version. Use pandas.concat instead.\n",
      "  new_data = new_data.append(row, ignore_index=True)\n"
     ]
    },
    {
     "name": "stdout",
     "output_type": "stream",
     "text": [
      "{'acousticness': 0.000229, 'danceability': 0.901, 'energy': 0.518, 'instrumentalness': 0.116, 'liveness': 0.085, 'loudness': -4.961, 'speechiness': 0.0492, 'tempo': 109.01, 'valence': 0.653, 'popularity': 27}\n"
     ]
    },
    {
     "name": "stderr",
     "output_type": "stream",
     "text": [
      "/var/folders/_g/d3gd43912fnd1ygsn8rm91dw0000gn/T/ipykernel_49151/3526264110.py:46: FutureWarning: The frame.append method is deprecated and will be removed from pandas in a future version. Use pandas.concat instead.\n",
      "  new_data = new_data.append(row, ignore_index=True)\n"
     ]
    },
    {
     "name": "stdout",
     "output_type": "stream",
     "text": [
      "{'acousticness': 0.0186, 'danceability': 0.509, 'energy': 0.482, 'instrumentalness': 0, 'liveness': 0.238, 'loudness': -6.965, 'speechiness': 0.176, 'tempo': 101.042, 'valence': 0.301, 'popularity': 66}\n"
     ]
    },
    {
     "name": "stderr",
     "output_type": "stream",
     "text": [
      "/var/folders/_g/d3gd43912fnd1ygsn8rm91dw0000gn/T/ipykernel_49151/3526264110.py:46: FutureWarning: The frame.append method is deprecated and will be removed from pandas in a future version. Use pandas.concat instead.\n",
      "  new_data = new_data.append(row, ignore_index=True)\n"
     ]
    },
    {
     "name": "stdout",
     "output_type": "stream",
     "text": [
      "{'acousticness': 0.0671, 'danceability': 0.585, 'energy': 0.564, 'instrumentalness': 0, 'liveness': 0.135, 'loudness': -7.063, 'speechiness': 0.0515, 'tempo': 113.003, 'valence': 0.137, 'popularity': 88}\n"
     ]
    },
    {
     "name": "stderr",
     "output_type": "stream",
     "text": [
      "/var/folders/_g/d3gd43912fnd1ygsn8rm91dw0000gn/T/ipykernel_49151/3526264110.py:46: FutureWarning: The frame.append method is deprecated and will be removed from pandas in a future version. Use pandas.concat instead.\n",
      "  new_data = new_data.append(row, ignore_index=True)\n"
     ]
    },
    {
     "name": "stdout",
     "output_type": "stream",
     "text": [
      "{'acousticness': 0.835, 'danceability': 0.609, 'energy': 0.378, 'instrumentalness': 0, 'liveness': 0.28, 'loudness': -9.828, 'speechiness': 0.438, 'tempo': 100.418, 'valence': 0.515, 'popularity': 85}\n"
     ]
    },
    {
     "name": "stderr",
     "output_type": "stream",
     "text": [
      "/var/folders/_g/d3gd43912fnd1ygsn8rm91dw0000gn/T/ipykernel_49151/3526264110.py:46: FutureWarning: The frame.append method is deprecated and will be removed from pandas in a future version. Use pandas.concat instead.\n",
      "  new_data = new_data.append(row, ignore_index=True)\n"
     ]
    },
    {
     "name": "stdout",
     "output_type": "stream",
     "text": [
      "{'acousticness': 0.152, 'danceability': 0.774, 'energy': 0.753, 'instrumentalness': 0, 'liveness': 0.0371, 'loudness': -5.446, 'speechiness': 0.0517, 'tempo': 119.002, 'valence': 0.896, 'popularity': 82}\n"
     ]
    },
    {
     "name": "stderr",
     "output_type": "stream",
     "text": [
      "/var/folders/_g/d3gd43912fnd1ygsn8rm91dw0000gn/T/ipykernel_49151/3526264110.py:46: FutureWarning: The frame.append method is deprecated and will be removed from pandas in a future version. Use pandas.concat instead.\n",
      "  new_data = new_data.append(row, ignore_index=True)\n"
     ]
    },
    {
     "name": "stdout",
     "output_type": "stream",
     "text": [
      "{'acousticness': 0.994, 'danceability': 0.723, 'energy': 0.0401, 'instrumentalness': 0.944, 'liveness': 0.0884, 'loudness': -25.259, 'speechiness': 0.0447, 'tempo': 130.007, 'valence': 0.529, 'popularity': 2}\n"
     ]
    },
    {
     "name": "stderr",
     "output_type": "stream",
     "text": [
      "/var/folders/_g/d3gd43912fnd1ygsn8rm91dw0000gn/T/ipykernel_49151/3526264110.py:46: FutureWarning: The frame.append method is deprecated and will be removed from pandas in a future version. Use pandas.concat instead.\n",
      "  new_data = new_data.append(row, ignore_index=True)\n"
     ]
    },
    {
     "name": "stdout",
     "output_type": "stream",
     "text": [
      "{'acousticness': 0.109, 'danceability': 0.501, 'energy': 0.519, 'instrumentalness': 0, 'liveness': 0.454, 'loudness': -5.88, 'speechiness': 0.0409, 'tempo': 133.99, 'valence': 0.168, 'popularity': 82}\n"
     ]
    },
    {
     "name": "stderr",
     "output_type": "stream",
     "text": [
      "/var/folders/_g/d3gd43912fnd1ygsn8rm91dw0000gn/T/ipykernel_49151/3526264110.py:46: FutureWarning: The frame.append method is deprecated and will be removed from pandas in a future version. Use pandas.concat instead.\n",
      "  new_data = new_data.append(row, ignore_index=True)\n"
     ]
    },
    {
     "name": "stdout",
     "output_type": "stream",
     "text": [
      "{'acousticness': 0.0162, 'danceability': 0.623, 'energy': 0.734, 'instrumentalness': 1.75e-06, 'liveness': 0.145, 'loudness': -5.948, 'speechiness': 0.107, 'tempo': 107.853, 'valence': 0.37, 'popularity': 72}\n"
     ]
    },
    {
     "name": "stderr",
     "output_type": "stream",
     "text": [
      "/var/folders/_g/d3gd43912fnd1ygsn8rm91dw0000gn/T/ipykernel_49151/3526264110.py:46: FutureWarning: The frame.append method is deprecated and will be removed from pandas in a future version. Use pandas.concat instead.\n",
      "  new_data = new_data.append(row, ignore_index=True)\n"
     ]
    },
    {
     "name": "stdout",
     "output_type": "stream",
     "text": [
      "{'acousticness': 0.199, 'danceability': 0.631, 'energy': 0.927, 'instrumentalness': 0.119, 'liveness': 0.148, 'loudness': -2.787, 'speechiness': 0.0332, 'tempo': 123.962, 'valence': 0.465, 'popularity': 84}\n"
     ]
    },
    {
     "name": "stderr",
     "output_type": "stream",
     "text": [
      "/var/folders/_g/d3gd43912fnd1ygsn8rm91dw0000gn/T/ipykernel_49151/3526264110.py:46: FutureWarning: The frame.append method is deprecated and will be removed from pandas in a future version. Use pandas.concat instead.\n",
      "  new_data = new_data.append(row, ignore_index=True)\n"
     ]
    },
    {
     "name": "stdout",
     "output_type": "stream",
     "text": [
      "{'acousticness': 0.494, 'danceability': 0.666, 'energy': 0.423, 'instrumentalness': 0, 'liveness': 0.106, 'loudness': -8.012, 'speechiness': 0.043, 'tempo': 129.89, 'valence': 0.154, 'popularity': 78}\n"
     ]
    },
    {
     "name": "stderr",
     "output_type": "stream",
     "text": [
      "/var/folders/_g/d3gd43912fnd1ygsn8rm91dw0000gn/T/ipykernel_49151/3526264110.py:46: FutureWarning: The frame.append method is deprecated and will be removed from pandas in a future version. Use pandas.concat instead.\n",
      "  new_data = new_data.append(row, ignore_index=True)\n"
     ]
    },
    {
     "name": "stdout",
     "output_type": "stream",
     "text": [
      "{'acousticness': 0.11, 'danceability': 0.671, 'energy': 0.314, 'instrumentalness': 0, 'liveness': 0.0825, 'loudness': -8.091, 'speechiness': 0.244, 'tempo': 110.898, 'valence': 0.296, 'popularity': 84}\n"
     ]
    },
    {
     "name": "stderr",
     "output_type": "stream",
     "text": [
      "/var/folders/_g/d3gd43912fnd1ygsn8rm91dw0000gn/T/ipykernel_49151/3526264110.py:46: FutureWarning: The frame.append method is deprecated and will be removed from pandas in a future version. Use pandas.concat instead.\n",
      "  new_data = new_data.append(row, ignore_index=True)\n"
     ]
    },
    {
     "name": "stdout",
     "output_type": "stream",
     "text": [
      "{'acousticness': 0.287, 'danceability': 0.765, 'energy': 0.473, 'instrumentalness': 0, 'liveness': 0.391, 'loudness': -5.829, 'speechiness': 0.0514, 'tempo': 119.992, 'valence': 0.34, 'popularity': 81}\n"
     ]
    },
    {
     "name": "stderr",
     "output_type": "stream",
     "text": [
      "/var/folders/_g/d3gd43912fnd1ygsn8rm91dw0000gn/T/ipykernel_49151/3526264110.py:46: FutureWarning: The frame.append method is deprecated and will be removed from pandas in a future version. Use pandas.concat instead.\n",
      "  new_data = new_data.append(row, ignore_index=True)\n"
     ]
    },
    {
     "name": "stdout",
     "output_type": "stream",
     "text": [
      "{'acousticness': 0.103, 'danceability': 0.803, 'energy': 0.585, 'instrumentalness': 3.94e-06, 'liveness': 0.0644, 'loudness': -5.861, 'speechiness': 0.0432, 'tempo': 105.017, 'valence': 0.593, 'popularity': 78}\n"
     ]
    },
    {
     "name": "stderr",
     "output_type": "stream",
     "text": [
      "/var/folders/_g/d3gd43912fnd1ygsn8rm91dw0000gn/T/ipykernel_49151/3526264110.py:46: FutureWarning: The frame.append method is deprecated and will be removed from pandas in a future version. Use pandas.concat instead.\n",
      "  new_data = new_data.append(row, ignore_index=True)\n"
     ]
    },
    {
     "name": "stdout",
     "output_type": "stream",
     "text": [
      "{'acousticness': 0.0285, 'danceability': 0.573, 'energy': 0.739, 'instrumentalness': 0, 'liveness': 0.111, 'loudness': -5.74, 'speechiness': 0.129, 'tempo': 97.085, 'valence': 0.451, 'popularity': 79}\n"
     ]
    },
    {
     "name": "stderr",
     "output_type": "stream",
     "text": [
      "/var/folders/_g/d3gd43912fnd1ygsn8rm91dw0000gn/T/ipykernel_49151/3526264110.py:46: FutureWarning: The frame.append method is deprecated and will be removed from pandas in a future version. Use pandas.concat instead.\n",
      "  new_data = new_data.append(row, ignore_index=True)\n"
     ]
    },
    {
     "name": "stdout",
     "output_type": "stream",
     "text": [
      "{'acousticness': 0.4, 'danceability': 0.63, 'energy': 0.53, 'instrumentalness': 0, 'liveness': 0.177, 'loudness': -7.259, 'speechiness': 0.0434, 'tempo': 108.038, 'valence': 0.417, 'popularity': 80}\n"
     ]
    },
    {
     "name": "stderr",
     "output_type": "stream",
     "text": [
      "/var/folders/_g/d3gd43912fnd1ygsn8rm91dw0000gn/T/ipykernel_49151/3526264110.py:46: FutureWarning: The frame.append method is deprecated and will be removed from pandas in a future version. Use pandas.concat instead.\n",
      "  new_data = new_data.append(row, ignore_index=True)\n"
     ]
    },
    {
     "name": "stdout",
     "output_type": "stream",
     "text": [
      "{'acousticness': 0.0752, 'danceability': 0.725, 'energy': 0.534, 'instrumentalness': 0, 'liveness': 0.0919, 'loudness': -6.238, 'speechiness': 0.0946, 'tempo': 91.974, 'valence': 0.558, 'popularity': 82}\n"
     ]
    },
    {
     "name": "stderr",
     "output_type": "stream",
     "text": [
      "/var/folders/_g/d3gd43912fnd1ygsn8rm91dw0000gn/T/ipykernel_49151/3526264110.py:46: FutureWarning: The frame.append method is deprecated and will be removed from pandas in a future version. Use pandas.concat instead.\n",
      "  new_data = new_data.append(row, ignore_index=True)\n"
     ]
    },
    {
     "name": "stdout",
     "output_type": "stream",
     "text": [
      "{'acousticness': 0.0151, 'danceability': 0.752, 'energy': 0.754, 'instrumentalness': 0, 'liveness': 0.0486, 'loudness': -6.684, 'speechiness': 0.0615, 'tempo': 149.789, 'valence': 0.755, 'popularity': 77}\n"
     ]
    },
    {
     "name": "stderr",
     "output_type": "stream",
     "text": [
      "/var/folders/_g/d3gd43912fnd1ygsn8rm91dw0000gn/T/ipykernel_49151/3526264110.py:46: FutureWarning: The frame.append method is deprecated and will be removed from pandas in a future version. Use pandas.concat instead.\n",
      "  new_data = new_data.append(row, ignore_index=True)\n"
     ]
    },
    {
     "name": "stdout",
     "output_type": "stream",
     "text": [
      "{'acousticness': 0.0184, 'danceability': 0.756, 'energy': 0.674, 'instrumentalness': 0, 'liveness': 0.158, 'loudness': -6.518, 'speechiness': 0.0959, 'tempo': 111.995, 'valence': 0.389, 'popularity': 78}\n"
     ]
    },
    {
     "name": "stderr",
     "output_type": "stream",
     "text": [
      "/var/folders/_g/d3gd43912fnd1ygsn8rm91dw0000gn/T/ipykernel_49151/3526264110.py:46: FutureWarning: The frame.append method is deprecated and will be removed from pandas in a future version. Use pandas.concat instead.\n",
      "  new_data = new_data.append(row, ignore_index=True)\n"
     ]
    },
    {
     "name": "stdout",
     "output_type": "stream",
     "text": [
      "{'acousticness': 0.0353, 'danceability': 0.664, 'energy': 0.714, 'instrumentalness': 8.42e-06, 'liveness': 0.0843, 'loudness': -6.645, 'speechiness': 0.111, 'tempo': 101.969, 'valence': 0.71, 'popularity': 73}\n"
     ]
    },
    {
     "name": "stderr",
     "output_type": "stream",
     "text": [
      "/var/folders/_g/d3gd43912fnd1ygsn8rm91dw0000gn/T/ipykernel_49151/3526264110.py:46: FutureWarning: The frame.append method is deprecated and will be removed from pandas in a future version. Use pandas.concat instead.\n",
      "  new_data = new_data.append(row, ignore_index=True)\n"
     ]
    },
    {
     "name": "stdout",
     "output_type": "stream",
     "text": [
      "{'acousticness': 0.0529, 'danceability': 0.664, 'energy': 0.602, 'instrumentalness': 0, 'liveness': 0.356, 'loudness': -5.369, 'speechiness': 0.0412, 'tempo': 134.049, 'valence': 0.289, 'popularity': 70}\n"
     ]
    },
    {
     "name": "stderr",
     "output_type": "stream",
     "text": [
      "/var/folders/_g/d3gd43912fnd1ygsn8rm91dw0000gn/T/ipykernel_49151/3526264110.py:46: FutureWarning: The frame.append method is deprecated and will be removed from pandas in a future version. Use pandas.concat instead.\n",
      "  new_data = new_data.append(row, ignore_index=True)\n"
     ]
    },
    {
     "name": "stdout",
     "output_type": "stream",
     "text": [
      "{'acousticness': 0.378, 'danceability': 0.728, 'energy': 0.616, 'instrumentalness': 0, 'liveness': 0.105, 'loudness': -4.238, 'speechiness': 0.0645, 'tempo': 99.962, 'valence': 0.508, 'popularity': 76}\n"
     ]
    },
    {
     "name": "stderr",
     "output_type": "stream",
     "text": [
      "/var/folders/_g/d3gd43912fnd1ygsn8rm91dw0000gn/T/ipykernel_49151/3526264110.py:46: FutureWarning: The frame.append method is deprecated and will be removed from pandas in a future version. Use pandas.concat instead.\n",
      "  new_data = new_data.append(row, ignore_index=True)\n"
     ]
    },
    {
     "name": "stdout",
     "output_type": "stream",
     "text": [
      "{'acousticness': 0.0242, 'danceability': 0.773, 'energy': 0.747, 'instrumentalness': 8.99e-06, 'liveness': 0.109, 'loudness': -4.061, 'speechiness': 0.0885, 'tempo': 126.014, 'valence': 0.801, 'popularity': 76}\n"
     ]
    },
    {
     "name": "stderr",
     "output_type": "stream",
     "text": [
      "/var/folders/_g/d3gd43912fnd1ygsn8rm91dw0000gn/T/ipykernel_49151/3526264110.py:46: FutureWarning: The frame.append method is deprecated and will be removed from pandas in a future version. Use pandas.concat instead.\n",
      "  new_data = new_data.append(row, ignore_index=True)\n"
     ]
    },
    {
     "name": "stdout",
     "output_type": "stream",
     "text": [
      "{'acousticness': 0.00543, 'danceability': 0.611, 'energy': 0.797, 'instrumentalness': 0.00137, 'liveness': 0.26, 'loudness': -7.627, 'speechiness': 0.0533, 'tempo': 120.041, 'valence': 0.518, 'popularity': 82}\n"
     ]
    },
    {
     "name": "stderr",
     "output_type": "stream",
     "text": [
      "/var/folders/_g/d3gd43912fnd1ygsn8rm91dw0000gn/T/ipykernel_49151/3526264110.py:46: FutureWarning: The frame.append method is deprecated and will be removed from pandas in a future version. Use pandas.concat instead.\n",
      "  new_data = new_data.append(row, ignore_index=True)\n"
     ]
    },
    {
     "name": "stdout",
     "output_type": "stream",
     "text": [
      "{'acousticness': 0.00188, 'danceability': 0.594, 'energy': 0.749, 'instrumentalness': 0.000139, 'liveness': 0.0869, 'loudness': -6.251, 'speechiness': 0.0677, 'tempo': 130.064, 'valence': 0.344, 'popularity': 73}\n"
     ]
    },
    {
     "name": "stderr",
     "output_type": "stream",
     "text": [
      "/var/folders/_g/d3gd43912fnd1ygsn8rm91dw0000gn/T/ipykernel_49151/3526264110.py:46: FutureWarning: The frame.append method is deprecated and will be removed from pandas in a future version. Use pandas.concat instead.\n",
      "  new_data = new_data.append(row, ignore_index=True)\n"
     ]
    },
    {
     "name": "stdout",
     "output_type": "stream",
     "text": [
      "{'acousticness': 0.0489, 'danceability': 0.794, 'energy': 0.653, 'instrumentalness': 4.88e-05, 'liveness': 0.1, 'loudness': -7.839, 'speechiness': 0.104, 'tempo': 117.996, 'valence': 0.397, 'popularity': 76}\n"
     ]
    },
    {
     "name": "stderr",
     "output_type": "stream",
     "text": [
      "/var/folders/_g/d3gd43912fnd1ygsn8rm91dw0000gn/T/ipykernel_49151/3526264110.py:46: FutureWarning: The frame.append method is deprecated and will be removed from pandas in a future version. Use pandas.concat instead.\n",
      "  new_data = new_data.append(row, ignore_index=True)\n"
     ]
    },
    {
     "name": "stdout",
     "output_type": "stream",
     "text": [
      "{'acousticness': 0.0435, 'danceability': 0.713, 'energy': 0.802, 'instrumentalness': 0.00377, 'liveness': 0.309, 'loudness': -7.055, 'speechiness': 0.0561, 'tempo': 100.001, 'valence': 0.343, 'popularity': 75}\n"
     ]
    },
    {
     "name": "stderr",
     "output_type": "stream",
     "text": [
      "/var/folders/_g/d3gd43912fnd1ygsn8rm91dw0000gn/T/ipykernel_49151/3526264110.py:46: FutureWarning: The frame.append method is deprecated and will be removed from pandas in a future version. Use pandas.concat instead.\n",
      "  new_data = new_data.append(row, ignore_index=True)\n"
     ]
    },
    {
     "name": "stdout",
     "output_type": "stream",
     "text": [
      "{'acousticness': 0.0971, 'danceability': 0.934, 'energy': 0.694, 'instrumentalness': 1.2e-06, 'liveness': 0.477, 'loudness': -5.849, 'speechiness': 0.101, 'tempo': 123.831, 'valence': 0.833, 'popularity': 76}\n"
     ]
    },
    {
     "name": "stderr",
     "output_type": "stream",
     "text": [
      "/var/folders/_g/d3gd43912fnd1ygsn8rm91dw0000gn/T/ipykernel_49151/3526264110.py:46: FutureWarning: The frame.append method is deprecated and will be removed from pandas in a future version. Use pandas.concat instead.\n",
      "  new_data = new_data.append(row, ignore_index=True)\n"
     ]
    },
    {
     "name": "stdout",
     "output_type": "stream",
     "text": [
      "{'acousticness': 0.253, 'danceability': 0.654, 'energy': 0.623, 'instrumentalness': 0, 'liveness': 0.144, 'loudness': -5.273, 'speechiness': 0.082, 'tempo': 123.996, 'valence': 0.401, 'popularity': 70}\n"
     ]
    },
    {
     "name": "stderr",
     "output_type": "stream",
     "text": [
      "/var/folders/_g/d3gd43912fnd1ygsn8rm91dw0000gn/T/ipykernel_49151/3526264110.py:46: FutureWarning: The frame.append method is deprecated and will be removed from pandas in a future version. Use pandas.concat instead.\n",
      "  new_data = new_data.append(row, ignore_index=True)\n"
     ]
    },
    {
     "name": "stdout",
     "output_type": "stream",
     "text": [
      "{'acousticness': 0.122, 'danceability': 0.556, 'energy': 0.785, 'instrumentalness': 0, 'liveness': 0.468, 'loudness': -5.842, 'speechiness': 0.133, 'tempo': 104.978, 'valence': 0.825, 'popularity': 67}\n"
     ]
    },
    {
     "name": "stderr",
     "output_type": "stream",
     "text": [
      "/var/folders/_g/d3gd43912fnd1ygsn8rm91dw0000gn/T/ipykernel_49151/3526264110.py:46: FutureWarning: The frame.append method is deprecated and will be removed from pandas in a future version. Use pandas.concat instead.\n",
      "  new_data = new_data.append(row, ignore_index=True)\n"
     ]
    },
    {
     "name": "stdout",
     "output_type": "stream",
     "text": [
      "{'acousticness': 0.097, 'danceability': 0.662, 'energy': 0.586, 'instrumentalness': 0.00272, 'liveness': 0.115, 'loudness': -8.821, 'speechiness': 0.0307, 'tempo': 90.0, 'valence': 0.296, 'popularity': 72}\n"
     ]
    },
    {
     "name": "stderr",
     "output_type": "stream",
     "text": [
      "/var/folders/_g/d3gd43912fnd1ygsn8rm91dw0000gn/T/ipykernel_49151/3526264110.py:46: FutureWarning: The frame.append method is deprecated and will be removed from pandas in a future version. Use pandas.concat instead.\n",
      "  new_data = new_data.append(row, ignore_index=True)\n"
     ]
    },
    {
     "name": "stdout",
     "output_type": "stream",
     "text": [
      "{'acousticness': 0.014, 'danceability': 0.695, 'energy': 0.672, 'instrumentalness': 7.95e-05, 'liveness': 0.0756, 'loudness': -6.109, 'speechiness': 0.0345, 'tempo': 104.988, 'valence': 0.245, 'popularity': 67}\n"
     ]
    },
    {
     "name": "stderr",
     "output_type": "stream",
     "text": [
      "/var/folders/_g/d3gd43912fnd1ygsn8rm91dw0000gn/T/ipykernel_49151/3526264110.py:46: FutureWarning: The frame.append method is deprecated and will be removed from pandas in a future version. Use pandas.concat instead.\n",
      "  new_data = new_data.append(row, ignore_index=True)\n"
     ]
    },
    {
     "name": "stdout",
     "output_type": "stream",
     "text": [
      "{'acousticness': 0.118, 'danceability': 0.58, 'energy': 0.79, 'instrumentalness': 0, 'liveness': 0.0765, 'loudness': -4.9, 'speechiness': 0.0622, 'tempo': 95.001, 'valence': 0.416, 'popularity': 0}\n"
     ]
    },
    {
     "name": "stderr",
     "output_type": "stream",
     "text": [
      "/var/folders/_g/d3gd43912fnd1ygsn8rm91dw0000gn/T/ipykernel_49151/3526264110.py:46: FutureWarning: The frame.append method is deprecated and will be removed from pandas in a future version. Use pandas.concat instead.\n",
      "  new_data = new_data.append(row, ignore_index=True)\n"
     ]
    },
    {
     "name": "stdout",
     "output_type": "stream",
     "text": [
      "{'acousticness': 0.0146, 'danceability': 0.811, 'energy': 0.507, 'instrumentalness': 2.14e-06, 'liveness': 0.342, 'loudness': -7.161, 'speechiness': 0.117, 'tempo': 111.016, 'valence': 0.438, 'popularity': 1}\n"
     ]
    },
    {
     "name": "stderr",
     "output_type": "stream",
     "text": [
      "/var/folders/_g/d3gd43912fnd1ygsn8rm91dw0000gn/T/ipykernel_49151/3526264110.py:46: FutureWarning: The frame.append method is deprecated and will be removed from pandas in a future version. Use pandas.concat instead.\n",
      "  new_data = new_data.append(row, ignore_index=True)\n"
     ]
    },
    {
     "name": "stdout",
     "output_type": "stream",
     "text": [
      "{'acousticness': 0.889, 'danceability': 0.591, 'energy': 0.28, 'instrumentalness': 0, 'liveness': 0.124, 'loudness': -5.494, 'speechiness': 0.0283, 'tempo': 141.916, 'valence': 0.348, 'popularity': 72}\n"
     ]
    },
    {
     "name": "stderr",
     "output_type": "stream",
     "text": [
      "/var/folders/_g/d3gd43912fnd1ygsn8rm91dw0000gn/T/ipykernel_49151/3526264110.py:46: FutureWarning: The frame.append method is deprecated and will be removed from pandas in a future version. Use pandas.concat instead.\n",
      "  new_data = new_data.append(row, ignore_index=True)\n"
     ]
    },
    {
     "name": "stdout",
     "output_type": "stream",
     "text": [
      "{'acousticness': 0.0124, 'danceability': 0.557, 'energy': 0.803, 'instrumentalness': 1.61e-06, 'liveness': 0.737, 'loudness': -3.599, 'speechiness': 0.213, 'tempo': 92.134, 'valence': 0.657, 'popularity': 82}\n"
     ]
    },
    {
     "name": "stderr",
     "output_type": "stream",
     "text": [
      "/var/folders/_g/d3gd43912fnd1ygsn8rm91dw0000gn/T/ipykernel_49151/3526264110.py:46: FutureWarning: The frame.append method is deprecated and will be removed from pandas in a future version. Use pandas.concat instead.\n",
      "  new_data = new_data.append(row, ignore_index=True)\n"
     ]
    },
    {
     "name": "stdout",
     "output_type": "stream",
     "text": [
      "{'acousticness': 0.00789, 'danceability': 0.757, 'energy': 0.884, 'instrumentalness': 5.87e-05, 'liveness': 0.0973, 'loudness': -5.488, 'speechiness': 0.0404, 'tempo': 120.013, 'valence': 0.399, 'popularity': 0}\n"
     ]
    },
    {
     "name": "stderr",
     "output_type": "stream",
     "text": [
      "/var/folders/_g/d3gd43912fnd1ygsn8rm91dw0000gn/T/ipykernel_49151/3526264110.py:46: FutureWarning: The frame.append method is deprecated and will be removed from pandas in a future version. Use pandas.concat instead.\n",
      "  new_data = new_data.append(row, ignore_index=True)\n"
     ]
    },
    {
     "name": "stdout",
     "output_type": "stream",
     "text": [
      "{'acousticness': 0.313, 'danceability': 0.674, 'energy': 0.694, 'instrumentalness': 7.17e-06, 'liveness': 0.0752, 'loudness': -7.076, 'speechiness': 0.109, 'tempo': 101.993, 'valence': 0.203, 'popularity': 65}\n"
     ]
    },
    {
     "name": "stderr",
     "output_type": "stream",
     "text": [
      "/var/folders/_g/d3gd43912fnd1ygsn8rm91dw0000gn/T/ipykernel_49151/3526264110.py:46: FutureWarning: The frame.append method is deprecated and will be removed from pandas in a future version. Use pandas.concat instead.\n",
      "  new_data = new_data.append(row, ignore_index=True)\n"
     ]
    },
    {
     "name": "stdout",
     "output_type": "stream",
     "text": [
      "{'acousticness': 0.0103, 'danceability': 0.319, 'energy': 0.846, 'instrumentalness': 4.11e-05, 'liveness': 0.475, 'loudness': -6.109, 'speechiness': 0.0796, 'tempo': 139.163, 'valence': 0.0784, 'popularity': 69}\n"
     ]
    },
    {
     "name": "stderr",
     "output_type": "stream",
     "text": [
      "/var/folders/_g/d3gd43912fnd1ygsn8rm91dw0000gn/T/ipykernel_49151/3526264110.py:46: FutureWarning: The frame.append method is deprecated and will be removed from pandas in a future version. Use pandas.concat instead.\n",
      "  new_data = new_data.append(row, ignore_index=True)\n"
     ]
    },
    {
     "name": "stdout",
     "output_type": "stream",
     "text": [
      "{'acousticness': 0.0785, 'danceability': 0.376, 'energy': 0.821, 'instrumentalness': 0, 'liveness': 0.0823, 'loudness': -3.974, 'speechiness': 0.104, 'tempo': 120.462, 'valence': 0.331, 'popularity': 71}\n"
     ]
    },
    {
     "name": "stderr",
     "output_type": "stream",
     "text": [
      "/var/folders/_g/d3gd43912fnd1ygsn8rm91dw0000gn/T/ipykernel_49151/3526264110.py:46: FutureWarning: The frame.append method is deprecated and will be removed from pandas in a future version. Use pandas.concat instead.\n",
      "  new_data = new_data.append(row, ignore_index=True)\n"
     ]
    },
    {
     "name": "stdout",
     "output_type": "stream",
     "text": [
      "{'acousticness': 0.0012, 'danceability': 0.613, 'energy': 0.857, 'instrumentalness': 0, 'liveness': 0.358, 'loudness': -5.492, 'speechiness': 0.0366, 'tempo': 124.987, 'valence': 0.664, 'popularity': 64}\n"
     ]
    },
    {
     "name": "stderr",
     "output_type": "stream",
     "text": [
      "/var/folders/_g/d3gd43912fnd1ygsn8rm91dw0000gn/T/ipykernel_49151/3526264110.py:46: FutureWarning: The frame.append method is deprecated and will be removed from pandas in a future version. Use pandas.concat instead.\n",
      "  new_data = new_data.append(row, ignore_index=True)\n"
     ]
    },
    {
     "name": "stdout",
     "output_type": "stream",
     "text": [
      "{'acousticness': 0.117, 'danceability': 0.584, 'energy': 0.7, 'instrumentalness': 0, 'liveness': 0.0939, 'loudness': -4.275, 'speechiness': 0.0456, 'tempo': 124.944, 'valence': 0.438, 'popularity': 79}\n"
     ]
    },
    {
     "name": "stderr",
     "output_type": "stream",
     "text": [
      "/var/folders/_g/d3gd43912fnd1ygsn8rm91dw0000gn/T/ipykernel_49151/3526264110.py:46: FutureWarning: The frame.append method is deprecated and will be removed from pandas in a future version. Use pandas.concat instead.\n",
      "  new_data = new_data.append(row, ignore_index=True)\n"
     ]
    },
    {
     "name": "stdout",
     "output_type": "stream",
     "text": [
      "{'acousticness': 0.00103, 'danceability': 0.552, 'energy': 0.842, 'instrumentalness': 1.17e-05, 'liveness': 0.337, 'loudness': -6.938, 'speechiness': 0.0373, 'tempo': 91.991, 'valence': 0.343, 'popularity': 70}\n"
     ]
    },
    {
     "name": "stderr",
     "output_type": "stream",
     "text": [
      "/var/folders/_g/d3gd43912fnd1ygsn8rm91dw0000gn/T/ipykernel_49151/3526264110.py:46: FutureWarning: The frame.append method is deprecated and will be removed from pandas in a future version. Use pandas.concat instead.\n",
      "  new_data = new_data.append(row, ignore_index=True)\n"
     ]
    },
    {
     "name": "stdout",
     "output_type": "stream",
     "text": [
      "{'acousticness': 0.0468, 'danceability': 0.553, 'energy': 0.639, 'instrumentalness': 0, 'liveness': 0.107, 'loudness': -6.445, 'speechiness': 0.0458, 'tempo': 101.418, 'valence': 0.442, 'popularity': 64}\n"
     ]
    },
    {
     "name": "stderr",
     "output_type": "stream",
     "text": [
      "/var/folders/_g/d3gd43912fnd1ygsn8rm91dw0000gn/T/ipykernel_49151/3526264110.py:46: FutureWarning: The frame.append method is deprecated and will be removed from pandas in a future version. Use pandas.concat instead.\n",
      "  new_data = new_data.append(row, ignore_index=True)\n"
     ]
    },
    {
     "name": "stdout",
     "output_type": "stream",
     "text": [
      "{'acousticness': 0.1, 'danceability': 0.551, 'energy': 0.675, 'instrumentalness': 0, 'liveness': 0.237, 'loudness': -6.449, 'speechiness': 0.0419, 'tempo': 100.017, 'valence': 0.349, 'popularity': 0}\n"
     ]
    },
    {
     "name": "stderr",
     "output_type": "stream",
     "text": [
      "/var/folders/_g/d3gd43912fnd1ygsn8rm91dw0000gn/T/ipykernel_49151/3526264110.py:46: FutureWarning: The frame.append method is deprecated and will be removed from pandas in a future version. Use pandas.concat instead.\n",
      "  new_data = new_data.append(row, ignore_index=True)\n"
     ]
    },
    {
     "name": "stdout",
     "output_type": "stream",
     "text": [
      "{'acousticness': 0.00415, 'danceability': 0.628, 'energy': 0.74, 'instrumentalness': 0, 'liveness': 0.277, 'loudness': -4.836, 'speechiness': 0.0358, 'tempo': 86.983, 'valence': 0.257, 'popularity': 57}\n"
     ]
    },
    {
     "name": "stderr",
     "output_type": "stream",
     "text": [
      "/var/folders/_g/d3gd43912fnd1ygsn8rm91dw0000gn/T/ipykernel_49151/3526264110.py:46: FutureWarning: The frame.append method is deprecated and will be removed from pandas in a future version. Use pandas.concat instead.\n",
      "  new_data = new_data.append(row, ignore_index=True)\n"
     ]
    },
    {
     "name": "stdout",
     "output_type": "stream",
     "text": [
      "{'acousticness': 0.0247, 'danceability': 0.565, 'energy': 0.832, 'instrumentalness': 0, 'liveness': 0.26, 'loudness': -5.732, 'speechiness': 0.114, 'tempo': 112.827, 'valence': 0.233, 'popularity': 64}\n"
     ]
    },
    {
     "name": "stderr",
     "output_type": "stream",
     "text": [
      "/var/folders/_g/d3gd43912fnd1ygsn8rm91dw0000gn/T/ipykernel_49151/3526264110.py:46: FutureWarning: The frame.append method is deprecated and will be removed from pandas in a future version. Use pandas.concat instead.\n",
      "  new_data = new_data.append(row, ignore_index=True)\n"
     ]
    },
    {
     "name": "stdout",
     "output_type": "stream",
     "text": [
      "{'acousticness': 0.0472, 'danceability': 0.628, 'energy': 0.698, 'instrumentalness': 0.00143, 'liveness': 0.0907, 'loudness': -5.608, 'speechiness': 0.105, 'tempo': 89.976, 'valence': 0.732, 'popularity': 72}\n"
     ]
    },
    {
     "name": "stderr",
     "output_type": "stream",
     "text": [
      "/var/folders/_g/d3gd43912fnd1ygsn8rm91dw0000gn/T/ipykernel_49151/3526264110.py:46: FutureWarning: The frame.append method is deprecated and will be removed from pandas in a future version. Use pandas.concat instead.\n",
      "  new_data = new_data.append(row, ignore_index=True)\n"
     ]
    },
    {
     "name": "stdout",
     "output_type": "stream",
     "text": [
      "{'acousticness': 0.0498, 'danceability': 0.606, 'energy': 0.887, 'instrumentalness': 3.47e-06, 'liveness': 0.0958, 'loudness': -4.782, 'speechiness': 0.052, 'tempo': 97.972, 'valence': 0.349, 'popularity': 64}\n"
     ]
    },
    {
     "name": "stderr",
     "output_type": "stream",
     "text": [
      "/var/folders/_g/d3gd43912fnd1ygsn8rm91dw0000gn/T/ipykernel_49151/3526264110.py:46: FutureWarning: The frame.append method is deprecated and will be removed from pandas in a future version. Use pandas.concat instead.\n",
      "  new_data = new_data.append(row, ignore_index=True)\n"
     ]
    },
    {
     "name": "stdout",
     "output_type": "stream",
     "text": [
      "{'acousticness': 0.0168, 'danceability': 0.561, 'energy': 0.7, 'instrumentalness': 5.43e-05, 'liveness': 0.0592, 'loudness': -6.284, 'speechiness': 0.0491, 'tempo': 119.015, 'valence': 0.298, 'popularity': 60}\n"
     ]
    },
    {
     "name": "stderr",
     "output_type": "stream",
     "text": [
      "/var/folders/_g/d3gd43912fnd1ygsn8rm91dw0000gn/T/ipykernel_49151/3526264110.py:46: FutureWarning: The frame.append method is deprecated and will be removed from pandas in a future version. Use pandas.concat instead.\n",
      "  new_data = new_data.append(row, ignore_index=True)\n"
     ]
    },
    {
     "name": "stdout",
     "output_type": "stream",
     "text": [
      "{'acousticness': 0.0184, 'danceability': 0.603, 'energy': 0.879, 'instrumentalness': 0, 'liveness': 0.156, 'loudness': -4.098, 'speechiness': 0.124, 'tempo': 110.125, 'valence': 0.318, 'popularity': 57}\n"
     ]
    },
    {
     "name": "stderr",
     "output_type": "stream",
     "text": [
      "/var/folders/_g/d3gd43912fnd1ygsn8rm91dw0000gn/T/ipykernel_49151/3526264110.py:46: FutureWarning: The frame.append method is deprecated and will be removed from pandas in a future version. Use pandas.concat instead.\n",
      "  new_data = new_data.append(row, ignore_index=True)\n"
     ]
    },
    {
     "name": "stdout",
     "output_type": "stream",
     "text": [
      "{'acousticness': 0.0355, 'danceability': 0.688, 'energy': 0.533, 'instrumentalness': 3.48e-06, 'liveness': 0.172, 'loudness': -8.363, 'speechiness': 0.0865, 'tempo': 164.069, 'valence': 0.567, 'popularity': 75}\n"
     ]
    },
    {
     "name": "stderr",
     "output_type": "stream",
     "text": [
      "/var/folders/_g/d3gd43912fnd1ygsn8rm91dw0000gn/T/ipykernel_49151/3526264110.py:46: FutureWarning: The frame.append method is deprecated and will be removed from pandas in a future version. Use pandas.concat instead.\n",
      "  new_data = new_data.append(row, ignore_index=True)\n"
     ]
    },
    {
     "name": "stdout",
     "output_type": "stream",
     "text": [
      "{'acousticness': 0.0181, 'danceability': 0.932, 'energy': 0.819, 'instrumentalness': 6.81e-06, 'liveness': 0.0577, 'loudness': -3.484, 'speechiness': 0.203, 'tempo': 119.941, 'valence': 0.556, 'popularity': 52}\n"
     ]
    },
    {
     "name": "stderr",
     "output_type": "stream",
     "text": [
      "/var/folders/_g/d3gd43912fnd1ygsn8rm91dw0000gn/T/ipykernel_49151/3526264110.py:46: FutureWarning: The frame.append method is deprecated and will be removed from pandas in a future version. Use pandas.concat instead.\n",
      "  new_data = new_data.append(row, ignore_index=True)\n"
     ]
    },
    {
     "name": "stdout",
     "output_type": "stream",
     "text": [
      "{'acousticness': 0.0606, 'danceability': 0.543, 'energy': 0.876, 'instrumentalness': 0, 'liveness': 0.157, 'loudness': -5.069, 'speechiness': 0.0512, 'tempo': 122.058, 'valence': 0.415, 'popularity': 64}\n"
     ]
    },
    {
     "name": "stderr",
     "output_type": "stream",
     "text": [
      "/var/folders/_g/d3gd43912fnd1ygsn8rm91dw0000gn/T/ipykernel_49151/3526264110.py:46: FutureWarning: The frame.append method is deprecated and will be removed from pandas in a future version. Use pandas.concat instead.\n",
      "  new_data = new_data.append(row, ignore_index=True)\n"
     ]
    },
    {
     "name": "stdout",
     "output_type": "stream",
     "text": [
      "{'acousticness': 0.303, 'danceability': 0.376, 'energy': 0.595, 'instrumentalness': 0, 'liveness': 0.095, 'loudness': -5.936, 'speechiness': 0.0496, 'tempo': 144.361, 'valence': 0.265, 'popularity': 76}\n"
     ]
    },
    {
     "name": "stderr",
     "output_type": "stream",
     "text": [
      "/var/folders/_g/d3gd43912fnd1ygsn8rm91dw0000gn/T/ipykernel_49151/3526264110.py:46: FutureWarning: The frame.append method is deprecated and will be removed from pandas in a future version. Use pandas.concat instead.\n",
      "  new_data = new_data.append(row, ignore_index=True)\n"
     ]
    },
    {
     "name": "stdout",
     "output_type": "stream",
     "text": [
      "{'acousticness': 0.102, 'danceability': 0.687, 'energy': 0.761, 'instrumentalness': 0, 'liveness': 0.147, 'loudness': -4.582, 'speechiness': 0.0876, 'tempo': 113.939, 'valence': 0.743, 'popularity': 73}\n"
     ]
    },
    {
     "name": "stderr",
     "output_type": "stream",
     "text": [
      "/var/folders/_g/d3gd43912fnd1ygsn8rm91dw0000gn/T/ipykernel_49151/3526264110.py:46: FutureWarning: The frame.append method is deprecated and will be removed from pandas in a future version. Use pandas.concat instead.\n",
      "  new_data = new_data.append(row, ignore_index=True)\n"
     ]
    },
    {
     "name": "stdout",
     "output_type": "stream",
     "text": [
      "{'acousticness': 0.72, 'danceability': 0.369, 'energy': 0.572, 'instrumentalness': 0.000385, 'liveness': 0.132, 'loudness': -6.035, 'speechiness': 0.0329, 'tempo': 93.801, 'valence': 0.119, 'popularity': 55}\n"
     ]
    },
    {
     "name": "stderr",
     "output_type": "stream",
     "text": [
      "/var/folders/_g/d3gd43912fnd1ygsn8rm91dw0000gn/T/ipykernel_49151/3526264110.py:46: FutureWarning: The frame.append method is deprecated and will be removed from pandas in a future version. Use pandas.concat instead.\n",
      "  new_data = new_data.append(row, ignore_index=True)\n"
     ]
    },
    {
     "name": "stdout",
     "output_type": "stream",
     "text": [
      "{'acousticness': 0.0153, 'danceability': 0.582, 'energy': 0.641, 'instrumentalness': 0.00459, 'liveness': 0.154, 'loudness': -7.532, 'speechiness': 0.0271, 'tempo': 106.026, 'valence': 0.181, 'popularity': 52}\n"
     ]
    },
    {
     "name": "stderr",
     "output_type": "stream",
     "text": [
      "/var/folders/_g/d3gd43912fnd1ygsn8rm91dw0000gn/T/ipykernel_49151/3526264110.py:46: FutureWarning: The frame.append method is deprecated and will be removed from pandas in a future version. Use pandas.concat instead.\n",
      "  new_data = new_data.append(row, ignore_index=True)\n"
     ]
    },
    {
     "name": "stdout",
     "output_type": "stream",
     "text": [
      "{'acousticness': 0.675, 'danceability': 0.621, 'energy': 0.539, 'instrumentalness': 1.25e-05, 'liveness': 0.125, 'loudness': -5.603, 'speechiness': 0.0788, 'tempo': 81.967, 'valence': 0.202, 'popularity': 46}\n"
     ]
    },
    {
     "name": "stderr",
     "output_type": "stream",
     "text": [
      "/var/folders/_g/d3gd43912fnd1ygsn8rm91dw0000gn/T/ipykernel_49151/3526264110.py:46: FutureWarning: The frame.append method is deprecated and will be removed from pandas in a future version. Use pandas.concat instead.\n",
      "  new_data = new_data.append(row, ignore_index=True)\n"
     ]
    },
    {
     "name": "stdout",
     "output_type": "stream",
     "text": [
      "{'acousticness': 0.161, 'danceability': 0.697, 'energy': 0.695, 'instrumentalness': 0, 'liveness': 0.221, 'loudness': -6.631, 'speechiness': 0.112, 'tempo': 123.001, 'valence': 0.588, 'popularity': 56}\n"
     ]
    },
    {
     "name": "stderr",
     "output_type": "stream",
     "text": [
      "/var/folders/_g/d3gd43912fnd1ygsn8rm91dw0000gn/T/ipykernel_49151/3526264110.py:46: FutureWarning: The frame.append method is deprecated and will be removed from pandas in a future version. Use pandas.concat instead.\n",
      "  new_data = new_data.append(row, ignore_index=True)\n"
     ]
    },
    {
     "name": "stdout",
     "output_type": "stream",
     "text": [
      "{'acousticness': 0.0452, 'danceability': 0.643, 'energy': 0.685, 'instrumentalness': 9.52e-05, 'liveness': 0.0855, 'loudness': -5.137, 'speechiness': 0.041, 'tempo': 122.053, 'valence': 0.404, 'popularity': 67}\n"
     ]
    },
    {
     "name": "stderr",
     "output_type": "stream",
     "text": [
      "/var/folders/_g/d3gd43912fnd1ygsn8rm91dw0000gn/T/ipykernel_49151/3526264110.py:46: FutureWarning: The frame.append method is deprecated and will be removed from pandas in a future version. Use pandas.concat instead.\n",
      "  new_data = new_data.append(row, ignore_index=True)\n"
     ]
    },
    {
     "name": "stdout",
     "output_type": "stream",
     "text": [
      "{'acousticness': 0.398, 'danceability': 0.568, 'energy': 0.794, 'instrumentalness': 3.95e-05, 'liveness': 0.104, 'loudness': -3.317, 'speechiness': 0.0371, 'tempo': 126.023, 'valence': 0.489, 'popularity': 46}\n"
     ]
    },
    {
     "name": "stderr",
     "output_type": "stream",
     "text": [
      "/var/folders/_g/d3gd43912fnd1ygsn8rm91dw0000gn/T/ipykernel_49151/3526264110.py:46: FutureWarning: The frame.append method is deprecated and will be removed from pandas in a future version. Use pandas.concat instead.\n",
      "  new_data = new_data.append(row, ignore_index=True)\n"
     ]
    },
    {
     "name": "stdout",
     "output_type": "stream",
     "text": [
      "{'acousticness': 0.0403, 'danceability': 0.741, 'energy': 0.714, 'instrumentalness': 1.58e-05, 'liveness': 0.127, 'loudness': -4.739, 'speechiness': 0.0476, 'tempo': 118.036, 'valence': 0.799, 'popularity': 48}\n"
     ]
    },
    {
     "name": "stderr",
     "output_type": "stream",
     "text": [
      "/var/folders/_g/d3gd43912fnd1ygsn8rm91dw0000gn/T/ipykernel_49151/3526264110.py:46: FutureWarning: The frame.append method is deprecated and will be removed from pandas in a future version. Use pandas.concat instead.\n",
      "  new_data = new_data.append(row, ignore_index=True)\n"
     ]
    },
    {
     "name": "stdout",
     "output_type": "stream",
     "text": [
      "{'acousticness': 0.000615, 'danceability': 0.731, 'energy': 0.778, 'instrumentalness': 1.04e-06, 'liveness': 0.0904, 'loudness': -5.037, 'speechiness': 0.128, 'tempo': 107.922, 'valence': 0.655, 'popularity': 43}\n"
     ]
    },
    {
     "name": "stderr",
     "output_type": "stream",
     "text": [
      "/var/folders/_g/d3gd43912fnd1ygsn8rm91dw0000gn/T/ipykernel_49151/3526264110.py:46: FutureWarning: The frame.append method is deprecated and will be removed from pandas in a future version. Use pandas.concat instead.\n",
      "  new_data = new_data.append(row, ignore_index=True)\n"
     ]
    },
    {
     "name": "stdout",
     "output_type": "stream",
     "text": [
      "{'acousticness': 0.00116, 'danceability': 0.628, 'energy': 0.95, 'instrumentalness': 1.81e-06, 'liveness': 0.0964, 'loudness': -4.673, 'speechiness': 0.0447, 'tempo': 129.981, 'valence': 0.731, 'popularity': 41}\n"
     ]
    },
    {
     "name": "stderr",
     "output_type": "stream",
     "text": [
      "/var/folders/_g/d3gd43912fnd1ygsn8rm91dw0000gn/T/ipykernel_49151/3526264110.py:46: FutureWarning: The frame.append method is deprecated and will be removed from pandas in a future version. Use pandas.concat instead.\n",
      "  new_data = new_data.append(row, ignore_index=True)\n"
     ]
    },
    {
     "name": "stdout",
     "output_type": "stream",
     "text": [
      "{'acousticness': 0.0652, 'danceability': 0.532, 'energy': 0.832, 'instrumentalness': 0, 'liveness': 0.766, 'loudness': -6.047, 'speechiness': 0.0535, 'tempo': 101.989, 'valence': 0.314, 'popularity': 58}\n"
     ]
    },
    {
     "name": "stderr",
     "output_type": "stream",
     "text": [
      "/var/folders/_g/d3gd43912fnd1ygsn8rm91dw0000gn/T/ipykernel_49151/3526264110.py:46: FutureWarning: The frame.append method is deprecated and will be removed from pandas in a future version. Use pandas.concat instead.\n",
      "  new_data = new_data.append(row, ignore_index=True)\n"
     ]
    },
    {
     "name": "stdout",
     "output_type": "stream",
     "text": [
      "{'acousticness': 0.217, 'danceability': 0.829, 'energy': 0.748, 'instrumentalness': 0, 'liveness': 0.204, 'loudness': -3.614, 'speechiness': 0.124, 'tempo': 90.013, 'valence': 0.324, 'popularity': 37}\n"
     ]
    },
    {
     "name": "stderr",
     "output_type": "stream",
     "text": [
      "/var/folders/_g/d3gd43912fnd1ygsn8rm91dw0000gn/T/ipykernel_49151/3526264110.py:46: FutureWarning: The frame.append method is deprecated and will be removed from pandas in a future version. Use pandas.concat instead.\n",
      "  new_data = new_data.append(row, ignore_index=True)\n"
     ]
    },
    {
     "name": "stdout",
     "output_type": "stream",
     "text": [
      "{'acousticness': 0.00905, 'danceability': 0.647, 'energy': 0.874, 'instrumentalness': 0.000276, 'liveness': 0.373, 'loudness': -4.565, 'speechiness': 0.0575, 'tempo': 113.973, 'valence': 0.444, 'popularity': 42}\n"
     ]
    },
    {
     "name": "stderr",
     "output_type": "stream",
     "text": [
      "/var/folders/_g/d3gd43912fnd1ygsn8rm91dw0000gn/T/ipykernel_49151/3526264110.py:46: FutureWarning: The frame.append method is deprecated and will be removed from pandas in a future version. Use pandas.concat instead.\n",
      "  new_data = new_data.append(row, ignore_index=True)\n"
     ]
    },
    {
     "name": "stdout",
     "output_type": "stream",
     "text": [
      "{'acousticness': 0.0314, 'danceability': 0.369, 'energy': 0.667, 'instrumentalness': 4.95e-05, 'liveness': 0.0952, 'loudness': -7.216, 'speechiness': 0.182, 'tempo': 113.022, 'valence': 0.2, 'popularity': 41}\n"
     ]
    },
    {
     "name": "stderr",
     "output_type": "stream",
     "text": [
      "/var/folders/_g/d3gd43912fnd1ygsn8rm91dw0000gn/T/ipykernel_49151/3526264110.py:46: FutureWarning: The frame.append method is deprecated and will be removed from pandas in a future version. Use pandas.concat instead.\n",
      "  new_data = new_data.append(row, ignore_index=True)\n"
     ]
    },
    {
     "name": "stdout",
     "output_type": "stream",
     "text": [
      "{'acousticness': 0.258, 'danceability': 0.752, 'energy': 0.686, 'instrumentalness': 0, 'liveness': 0.129, 'loudness': -5.249, 'speechiness': 0.0406, 'tempo': 91.017, 'valence': 0.52, 'popularity': 37}\n"
     ]
    },
    {
     "name": "stderr",
     "output_type": "stream",
     "text": [
      "/var/folders/_g/d3gd43912fnd1ygsn8rm91dw0000gn/T/ipykernel_49151/3526264110.py:46: FutureWarning: The frame.append method is deprecated and will be removed from pandas in a future version. Use pandas.concat instead.\n",
      "  new_data = new_data.append(row, ignore_index=True)\n"
     ]
    },
    {
     "name": "stdout",
     "output_type": "stream",
     "text": [
      "{'acousticness': 0.000135, 'danceability': 0.57, 'energy': 0.764, 'instrumentalness': 0.0284, 'liveness': 0.0372, 'loudness': -6.224, 'speechiness': 0.0566, 'tempo': 123.973, 'valence': 0.402, 'popularity': 30}\n"
     ]
    },
    {
     "name": "stderr",
     "output_type": "stream",
     "text": [
      "/var/folders/_g/d3gd43912fnd1ygsn8rm91dw0000gn/T/ipykernel_49151/3526264110.py:46: FutureWarning: The frame.append method is deprecated and will be removed from pandas in a future version. Use pandas.concat instead.\n",
      "  new_data = new_data.append(row, ignore_index=True)\n"
     ]
    },
    {
     "name": "stdout",
     "output_type": "stream",
     "text": [
      "{'acousticness': 0.00701, 'danceability': 0.75, 'energy': 0.697, 'instrumentalness': 0.00188, 'liveness': 0.0959, 'loudness': -6.022, 'speechiness': 0.0565, 'tempo': 121.0, 'valence': 0.422, 'popularity': 45}\n"
     ]
    },
    {
     "name": "stderr",
     "output_type": "stream",
     "text": [
      "/var/folders/_g/d3gd43912fnd1ygsn8rm91dw0000gn/T/ipykernel_49151/3526264110.py:46: FutureWarning: The frame.append method is deprecated and will be removed from pandas in a future version. Use pandas.concat instead.\n",
      "  new_data = new_data.append(row, ignore_index=True)\n"
     ]
    },
    {
     "name": "stdout",
     "output_type": "stream",
     "text": [
      "{'acousticness': 0.0463, 'danceability': 0.828, 'energy': 0.708, 'instrumentalness': 0, 'liveness': 0.314, 'loudness': -6.604, 'speechiness': 0.175, 'tempo': 122.996, 'valence': 0.83, 'popularity': 49}\n"
     ]
    },
    {
     "name": "stderr",
     "output_type": "stream",
     "text": [
      "/var/folders/_g/d3gd43912fnd1ygsn8rm91dw0000gn/T/ipykernel_49151/3526264110.py:46: FutureWarning: The frame.append method is deprecated and will be removed from pandas in a future version. Use pandas.concat instead.\n",
      "  new_data = new_data.append(row, ignore_index=True)\n"
     ]
    },
    {
     "name": "stdout",
     "output_type": "stream",
     "text": [
      "{'acousticness': 0.0894, 'danceability': 0.786, 'energy': 0.812, 'instrumentalness': 0, 'liveness': 0.265, 'loudness': -3.038, 'speechiness': 0.049, 'tempo': 93.227, 'valence': 0.675, 'popularity': 0}\n"
     ]
    },
    {
     "name": "stderr",
     "output_type": "stream",
     "text": [
      "/var/folders/_g/d3gd43912fnd1ygsn8rm91dw0000gn/T/ipykernel_49151/3526264110.py:46: FutureWarning: The frame.append method is deprecated and will be removed from pandas in a future version. Use pandas.concat instead.\n",
      "  new_data = new_data.append(row, ignore_index=True)\n"
     ]
    },
    {
     "name": "stdout",
     "output_type": "stream",
     "text": [
      "{'acousticness': 0.25, 'danceability': 0.796, 'energy': 0.474, 'instrumentalness': 0.106, 'liveness': 0.0709, 'loudness': -9.87, 'speechiness': 0.0439, 'tempo': 97.956, 'valence': 0.694, 'popularity': 13}\n"
     ]
    },
    {
     "name": "stderr",
     "output_type": "stream",
     "text": [
      "/var/folders/_g/d3gd43912fnd1ygsn8rm91dw0000gn/T/ipykernel_49151/3526264110.py:46: FutureWarning: The frame.append method is deprecated and will be removed from pandas in a future version. Use pandas.concat instead.\n",
      "  new_data = new_data.append(row, ignore_index=True)\n"
     ]
    },
    {
     "name": "stdout",
     "output_type": "stream",
     "text": [
      "{'acousticness': 0.742, 'danceability': 0.72, 'energy': 0.274, 'instrumentalness': 0, 'liveness': 0.11, 'loudness': -7.623, 'speechiness': 0.0276, 'tempo': 105.929, 'valence': 0.179, 'popularity': 64}\n"
     ]
    },
    {
     "name": "stderr",
     "output_type": "stream",
     "text": [
      "/var/folders/_g/d3gd43912fnd1ygsn8rm91dw0000gn/T/ipykernel_49151/3526264110.py:46: FutureWarning: The frame.append method is deprecated and will be removed from pandas in a future version. Use pandas.concat instead.\n",
      "  new_data = new_data.append(row, ignore_index=True)\n"
     ]
    },
    {
     "name": "stdout",
     "output_type": "stream",
     "text": [
      "{'acousticness': 0.581, 'danceability': 0.825, 'energy': 0.652, 'instrumentalness': 0, 'liveness': 0.0931, 'loudness': -3.183, 'speechiness': 0.0802, 'tempo': 95.977, 'valence': 0.931, 'popularity': 88}\n"
     ]
    },
    {
     "name": "stderr",
     "output_type": "stream",
     "text": [
      "/var/folders/_g/d3gd43912fnd1ygsn8rm91dw0000gn/T/ipykernel_49151/3526264110.py:46: FutureWarning: The frame.append method is deprecated and will be removed from pandas in a future version. Use pandas.concat instead.\n",
      "  new_data = new_data.append(row, ignore_index=True)\n"
     ]
    },
    {
     "name": "stdout",
     "output_type": "stream",
     "text": [
      "{'acousticness': 0.414, 'danceability': 0.748, 'energy': 0.524, 'instrumentalness': 0, 'liveness': 0.111, 'loudness': -5.599, 'speechiness': 0.0338, 'tempo': 95.01, 'valence': 0.661, 'popularity': 86}\n"
     ]
    },
    {
     "name": "stderr",
     "output_type": "stream",
     "text": [
      "/var/folders/_g/d3gd43912fnd1ygsn8rm91dw0000gn/T/ipykernel_49151/3526264110.py:46: FutureWarning: The frame.append method is deprecated and will be removed from pandas in a future version. Use pandas.concat instead.\n",
      "  new_data = new_data.append(row, ignore_index=True)\n"
     ]
    },
    {
     "name": "stdout",
     "output_type": "stream",
     "text": [
      "{'acousticness': 0.141, 'danceability': 0.679, 'energy': 0.587, 'instrumentalness': 6.35e-06, 'liveness': 0.137, 'loudness': -7.015, 'speechiness': 0.276, 'tempo': 186.003, 'valence': 0.486, 'popularity': 93}\n"
     ]
    },
    {
     "name": "stderr",
     "output_type": "stream",
     "text": [
      "/var/folders/_g/d3gd43912fnd1ygsn8rm91dw0000gn/T/ipykernel_49151/3526264110.py:46: FutureWarning: The frame.append method is deprecated and will be removed from pandas in a future version. Use pandas.concat instead.\n",
      "  new_data = new_data.append(row, ignore_index=True)\n"
     ]
    },
    {
     "name": "stdout",
     "output_type": "stream",
     "text": [
      "{'acousticness': 0.106, 'danceability': 0.444, 'energy': 0.819, 'instrumentalness': 0, 'liveness': 0.107, 'loudness': -4.078, 'speechiness': 0.341, 'tempo': 82.695, 'valence': 0.747, 'popularity': 86}\n"
     ]
    },
    {
     "name": "stderr",
     "output_type": "stream",
     "text": [
      "/var/folders/_g/d3gd43912fnd1ygsn8rm91dw0000gn/T/ipykernel_49151/3526264110.py:46: FutureWarning: The frame.append method is deprecated and will be removed from pandas in a future version. Use pandas.concat instead.\n",
      "  new_data = new_data.append(row, ignore_index=True)\n"
     ]
    },
    {
     "name": "stdout",
     "output_type": "stream",
     "text": [
      "{'acousticness': 0.013, 'danceability': 0.853, 'energy': 0.56, 'instrumentalness': 0, 'liveness': 0.0944, 'loudness': -4.961, 'speechiness': 0.0406, 'tempo': 134.066, 'valence': 0.86, 'popularity': 85}\n"
     ]
    },
    {
     "name": "stderr",
     "output_type": "stream",
     "text": [
      "/var/folders/_g/d3gd43912fnd1ygsn8rm91dw0000gn/T/ipykernel_49151/3526264110.py:46: FutureWarning: The frame.append method is deprecated and will be removed from pandas in a future version. Use pandas.concat instead.\n",
      "  new_data = new_data.append(row, ignore_index=True)\n"
     ]
    },
    {
     "name": "stdout",
     "output_type": "stream",
     "text": [
      "{'acousticness': 0.0863, 'danceability': 0.649, 'energy': 0.716, 'instrumentalness': 2.63e-05, 'liveness': 0.135, 'loudness': -5.371, 'speechiness': 0.0349, 'tempo': 99.988, 'valence': 0.163, 'popularity': 85}\n"
     ]
    },
    {
     "name": "stderr",
     "output_type": "stream",
     "text": [
      "/var/folders/_g/d3gd43912fnd1ygsn8rm91dw0000gn/T/ipykernel_49151/3526264110.py:46: FutureWarning: The frame.append method is deprecated and will be removed from pandas in a future version. Use pandas.concat instead.\n",
      "  new_data = new_data.append(row, ignore_index=True)\n"
     ]
    },
    {
     "name": "stdout",
     "output_type": "stream",
     "text": [
      "{'acousticness': 0.394, 'danceability': 0.773, 'energy': 0.82, 'instrumentalness': 0, 'liveness': 0.0739, 'loudness': -5.897, 'speechiness': 0.115, 'tempo': 92.996, 'valence': 0.555, 'popularity': 0}\n"
     ]
    },
    {
     "name": "stderr",
     "output_type": "stream",
     "text": [
      "/var/folders/_g/d3gd43912fnd1ygsn8rm91dw0000gn/T/ipykernel_49151/3526264110.py:46: FutureWarning: The frame.append method is deprecated and will be removed from pandas in a future version. Use pandas.concat instead.\n",
      "  new_data = new_data.append(row, ignore_index=True)\n"
     ]
    },
    {
     "name": "stdout",
     "output_type": "stream",
     "text": [
      "{'acousticness': 0.125, 'danceability': 0.555, 'energy': 0.662, 'instrumentalness': 0, 'liveness': 0.111, 'loudness': -4.952, 'speechiness': 0.0827, 'tempo': 148.128, 'valence': 0.356, 'popularity': 82}\n"
     ]
    },
    {
     "name": "stderr",
     "output_type": "stream",
     "text": [
      "/var/folders/_g/d3gd43912fnd1ygsn8rm91dw0000gn/T/ipykernel_49151/3526264110.py:46: FutureWarning: The frame.append method is deprecated and will be removed from pandas in a future version. Use pandas.concat instead.\n",
      "  new_data = new_data.append(row, ignore_index=True)\n"
     ]
    },
    {
     "name": "stdout",
     "output_type": "stream",
     "text": [
      "{'acousticness': 0.0528, 'danceability': 0.65, 'energy': 0.736, 'instrumentalness': 0, 'liveness': 0.235, 'loudness': -5.84, 'speechiness': 0.229, 'tempo': 159.173, 'valence': 0.613, 'popularity': 70}\n"
     ]
    },
    {
     "name": "stderr",
     "output_type": "stream",
     "text": [
      "/var/folders/_g/d3gd43912fnd1ygsn8rm91dw0000gn/T/ipykernel_49151/3526264110.py:46: FutureWarning: The frame.append method is deprecated and will be removed from pandas in a future version. Use pandas.concat instead.\n",
      "  new_data = new_data.append(row, ignore_index=True)\n"
     ]
    },
    {
     "name": "stdout",
     "output_type": "stream",
     "text": [
      "{'acousticness': 0.253, 'danceability': 0.69, 'energy': 0.622, 'instrumentalness': 0, 'liveness': 0.116, 'loudness': -5.025, 'speechiness': 0.0622, 'tempo': 102.04, 'valence': 0.544, 'popularity': 77}\n"
     ]
    },
    {
     "name": "stderr",
     "output_type": "stream",
     "text": [
      "/var/folders/_g/d3gd43912fnd1ygsn8rm91dw0000gn/T/ipykernel_49151/3526264110.py:46: FutureWarning: The frame.append method is deprecated and will be removed from pandas in a future version. Use pandas.concat instead.\n",
      "  new_data = new_data.append(row, ignore_index=True)\n"
     ]
    },
    {
     "name": "stdout",
     "output_type": "stream",
     "text": [
      "{'acousticness': 0.119, 'danceability': 0.64, 'energy': 0.533, 'instrumentalness': 0, 'liveness': 0.0864, 'loudness': -6.596, 'speechiness': 0.0706, 'tempo': 99.968, 'valence': 0.515, 'popularity': 68}\n"
     ]
    },
    {
     "name": "stderr",
     "output_type": "stream",
     "text": [
      "/var/folders/_g/d3gd43912fnd1ygsn8rm91dw0000gn/T/ipykernel_49151/3526264110.py:46: FutureWarning: The frame.append method is deprecated and will be removed from pandas in a future version. Use pandas.concat instead.\n",
      "  new_data = new_data.append(row, ignore_index=True)\n"
     ]
    },
    {
     "name": "stdout",
     "output_type": "stream",
     "text": [
      "{'acousticness': 0.0249, 'danceability': 0.563, 'energy': 0.738, 'instrumentalness': 1.66e-05, 'liveness': 0.0548, 'loudness': -8.039, 'speechiness': 0.0526, 'tempo': 139.938, 'valence': 0.414, 'popularity': 0}\n"
     ]
    },
    {
     "name": "stderr",
     "output_type": "stream",
     "text": [
      "/var/folders/_g/d3gd43912fnd1ygsn8rm91dw0000gn/T/ipykernel_49151/3526264110.py:46: FutureWarning: The frame.append method is deprecated and will be removed from pandas in a future version. Use pandas.concat instead.\n",
      "  new_data = new_data.append(row, ignore_index=True)\n"
     ]
    },
    {
     "name": "stdout",
     "output_type": "stream",
     "text": [
      "{'acousticness': 0.0498, 'danceability': 0.617, 'energy': 0.635, 'instrumentalness': 1.44e-05, 'liveness': 0.164, 'loudness': -6.769, 'speechiness': 0.0317, 'tempo': 103.019, 'valence': 0.446, 'popularity': 86}\n"
     ]
    },
    {
     "name": "stderr",
     "output_type": "stream",
     "text": [
      "/var/folders/_g/d3gd43912fnd1ygsn8rm91dw0000gn/T/ipykernel_49151/3526264110.py:46: FutureWarning: The frame.append method is deprecated and will be removed from pandas in a future version. Use pandas.concat instead.\n",
      "  new_data = new_data.append(row, ignore_index=True)\n"
     ]
    },
    {
     "name": "stdout",
     "output_type": "stream",
     "text": [
      "{'acousticness': 0.406, 'danceability': 0.72, 'energy': 0.763, 'instrumentalness': 0, 'liveness': 0.18, 'loudness': -4.068, 'speechiness': 0.0523, 'tempo': 101.965, 'valence': 0.742, 'popularity': 76}\n"
     ]
    },
    {
     "name": "stderr",
     "output_type": "stream",
     "text": [
      "/var/folders/_g/d3gd43912fnd1ygsn8rm91dw0000gn/T/ipykernel_49151/3526264110.py:46: FutureWarning: The frame.append method is deprecated and will be removed from pandas in a future version. Use pandas.concat instead.\n",
      "  new_data = new_data.append(row, ignore_index=True)\n"
     ]
    },
    {
     "name": "stdout",
     "output_type": "stream",
     "text": [
      "{'acousticness': 0.0586, 'danceability': 0.731, 'energy': 0.445, 'instrumentalness': 1.96e-05, 'liveness': 0.14, 'loudness': -8.418, 'speechiness': 0.0533, 'tempo': 117.97, 'valence': 0.106, 'popularity': 80}\n"
     ]
    },
    {
     "name": "stderr",
     "output_type": "stream",
     "text": [
      "/var/folders/_g/d3gd43912fnd1ygsn8rm91dw0000gn/T/ipykernel_49151/3526264110.py:46: FutureWarning: The frame.append method is deprecated and will be removed from pandas in a future version. Use pandas.concat instead.\n",
      "  new_data = new_data.append(row, ignore_index=True)\n"
     ]
    },
    {
     "name": "stdout",
     "output_type": "stream",
     "text": [
      "{'acousticness': 0.093, 'danceability': 0.818, 'energy': 0.913, 'instrumentalness': 3.69e-05, 'liveness': 0.161, 'loudness': -3.06, 'speechiness': 0.0426, 'tempo': 119.986, 'valence': 0.536, 'popularity': 79}\n"
     ]
    },
    {
     "name": "stderr",
     "output_type": "stream",
     "text": [
      "/var/folders/_g/d3gd43912fnd1ygsn8rm91dw0000gn/T/ipykernel_49151/3526264110.py:46: FutureWarning: The frame.append method is deprecated and will be removed from pandas in a future version. Use pandas.concat instead.\n",
      "  new_data = new_data.append(row, ignore_index=True)\n"
     ]
    },
    {
     "name": "stdout",
     "output_type": "stream",
     "text": [
      "{'acousticness': 0.489, 'danceability': 0.543, 'energy': 0.39, 'instrumentalness': 0, 'liveness': 0.111, 'loudness': -7.202, 'speechiness': 0.0322, 'tempo': 73.415, 'valence': 0.303, 'popularity': 71}\n"
     ]
    },
    {
     "name": "stderr",
     "output_type": "stream",
     "text": [
      "/var/folders/_g/d3gd43912fnd1ygsn8rm91dw0000gn/T/ipykernel_49151/3526264110.py:46: FutureWarning: The frame.append method is deprecated and will be removed from pandas in a future version. Use pandas.concat instead.\n",
      "  new_data = new_data.append(row, ignore_index=True)\n"
     ]
    },
    {
     "name": "stdout",
     "output_type": "stream",
     "text": [
      "{'acousticness': 0.228, 'danceability': 0.653, 'energy': 0.816, 'instrumentalness': 0, 'liveness': 0.0967, 'loudness': -4.353, 'speechiness': 0.167, 'tempo': 178.085, 'valence': 0.816, 'popularity': 73}\n"
     ]
    },
    {
     "name": "stderr",
     "output_type": "stream",
     "text": [
      "/var/folders/_g/d3gd43912fnd1ygsn8rm91dw0000gn/T/ipykernel_49151/3526264110.py:46: FutureWarning: The frame.append method is deprecated and will be removed from pandas in a future version. Use pandas.concat instead.\n",
      "  new_data = new_data.append(row, ignore_index=True)\n"
     ]
    },
    {
     "name": "stdout",
     "output_type": "stream",
     "text": [
      "{'acousticness': 0.0174, 'danceability': 0.639, 'energy': 0.785, 'instrumentalness': 0.00107, 'liveness': 0.0512, 'loudness': -6.167, 'speechiness': 0.174, 'tempo': 191.95, 'valence': 0.686, 'popularity': 75}\n"
     ]
    },
    {
     "name": "stderr",
     "output_type": "stream",
     "text": [
      "/var/folders/_g/d3gd43912fnd1ygsn8rm91dw0000gn/T/ipykernel_49151/3526264110.py:46: FutureWarning: The frame.append method is deprecated and will be removed from pandas in a future version. Use pandas.concat instead.\n",
      "  new_data = new_data.append(row, ignore_index=True)\n"
     ]
    },
    {
     "name": "stdout",
     "output_type": "stream",
     "text": [
      "{'acousticness': 0.124, 'danceability': 0.611, 'energy': 0.644, 'instrumentalness': 0, 'liveness': 0.124, 'loudness': -7.607, 'speechiness': 0.0553, 'tempo': 105.969, 'valence': 0.13, 'popularity': 69}\n"
     ]
    },
    {
     "name": "stderr",
     "output_type": "stream",
     "text": [
      "/var/folders/_g/d3gd43912fnd1ygsn8rm91dw0000gn/T/ipykernel_49151/3526264110.py:46: FutureWarning: The frame.append method is deprecated and will be removed from pandas in a future version. Use pandas.concat instead.\n",
      "  new_data = new_data.append(row, ignore_index=True)\n"
     ]
    },
    {
     "name": "stdout",
     "output_type": "stream",
     "text": [
      "{'acousticness': 0.0215, 'danceability': 0.653, 'energy': 0.658, 'instrumentalness': 1.66e-06, 'liveness': 0.0939, 'loudness': -6.428, 'speechiness': 0.0304, 'tempo': 99.99, 'valence': 0.219, 'popularity': 76}\n"
     ]
    },
    {
     "name": "stderr",
     "output_type": "stream",
     "text": [
      "/var/folders/_g/d3gd43912fnd1ygsn8rm91dw0000gn/T/ipykernel_49151/3526264110.py:46: FutureWarning: The frame.append method is deprecated and will be removed from pandas in a future version. Use pandas.concat instead.\n",
      "  new_data = new_data.append(row, ignore_index=True)\n"
     ]
    },
    {
     "name": "stdout",
     "output_type": "stream",
     "text": [
      "{'acousticness': 0.334, 'danceability': 0.334, 'energy': 0.617, 'instrumentalness': 0, 'liveness': 0.163, 'loudness': -5.834, 'speechiness': 0.383, 'tempo': 85.227, 'valence': 0.603, 'popularity': 71}\n"
     ]
    },
    {
     "name": "stderr",
     "output_type": "stream",
     "text": [
      "/var/folders/_g/d3gd43912fnd1ygsn8rm91dw0000gn/T/ipykernel_49151/3526264110.py:46: FutureWarning: The frame.append method is deprecated and will be removed from pandas in a future version. Use pandas.concat instead.\n",
      "  new_data = new_data.append(row, ignore_index=True)\n"
     ]
    },
    {
     "name": "stdout",
     "output_type": "stream",
     "text": [
      "{'acousticness': 0.101, 'danceability': 0.738, 'energy': 0.794, 'instrumentalness': 0, 'liveness': 0.0533, 'loudness': -4.118, 'speechiness': 0.0416, 'tempo': 104.014, 'valence': 0.566, 'popularity': 75}\n"
     ]
    },
    {
     "name": "stderr",
     "output_type": "stream",
     "text": [
      "/var/folders/_g/d3gd43912fnd1ygsn8rm91dw0000gn/T/ipykernel_49151/3526264110.py:46: FutureWarning: The frame.append method is deprecated and will be removed from pandas in a future version. Use pandas.concat instead.\n",
      "  new_data = new_data.append(row, ignore_index=True)\n"
     ]
    },
    {
     "name": "stdout",
     "output_type": "stream",
     "text": [
      "{'acousticness': 0.498, 'danceability': 0.736, 'energy': 0.795, 'instrumentalness': 1.21e-06, 'liveness': 0.254, 'loudness': -3.299, 'speechiness': 0.0545, 'tempo': 104.066, 'valence': 0.511, 'popularity': 74}\n"
     ]
    },
    {
     "name": "stderr",
     "output_type": "stream",
     "text": [
      "/var/folders/_g/d3gd43912fnd1ygsn8rm91dw0000gn/T/ipykernel_49151/3526264110.py:46: FutureWarning: The frame.append method is deprecated and will be removed from pandas in a future version. Use pandas.concat instead.\n",
      "  new_data = new_data.append(row, ignore_index=True)\n"
     ]
    },
    {
     "name": "stdout",
     "output_type": "stream",
     "text": [
      "{'acousticness': 0.0184, 'danceability': 0.838, 'energy': 0.705, 'instrumentalness': 1.82e-05, 'liveness': 0.102, 'loudness': -5.201, 'speechiness': 0.0449, 'tempo': 119.953, 'valence': 0.583, 'popularity': 67}\n"
     ]
    },
    {
     "name": "stderr",
     "output_type": "stream",
     "text": [
      "/var/folders/_g/d3gd43912fnd1ygsn8rm91dw0000gn/T/ipykernel_49151/3526264110.py:46: FutureWarning: The frame.append method is deprecated and will be removed from pandas in a future version. Use pandas.concat instead.\n",
      "  new_data = new_data.append(row, ignore_index=True)\n"
     ]
    },
    {
     "name": "stdout",
     "output_type": "stream",
     "text": [
      "{'acousticness': 0.0814, 'danceability': 0.562, 'energy': 0.8, 'instrumentalness': 0, 'liveness': 0.199, 'loudness': -5.404, 'speechiness': 0.112, 'tempo': 95.029, 'valence': 0.471, 'popularity': 0}\n"
     ]
    },
    {
     "name": "stderr",
     "output_type": "stream",
     "text": [
      "/var/folders/_g/d3gd43912fnd1ygsn8rm91dw0000gn/T/ipykernel_49151/3526264110.py:46: FutureWarning: The frame.append method is deprecated and will be removed from pandas in a future version. Use pandas.concat instead.\n",
      "  new_data = new_data.append(row, ignore_index=True)\n"
     ]
    },
    {
     "name": "stdout",
     "output_type": "stream",
     "text": [
      "{'acousticness': 0.14, 'danceability': 0.693, 'energy': 0.717, 'instrumentalness': 0, 'liveness': 0.0464, 'loudness': -6.346, 'speechiness': 0.107, 'tempo': 99.836, 'valence': 0.412, 'popularity': 65}\n"
     ]
    },
    {
     "name": "stderr",
     "output_type": "stream",
     "text": [
      "/var/folders/_g/d3gd43912fnd1ygsn8rm91dw0000gn/T/ipykernel_49151/3526264110.py:46: FutureWarning: The frame.append method is deprecated and will be removed from pandas in a future version. Use pandas.concat instead.\n",
      "  new_data = new_data.append(row, ignore_index=True)\n"
     ]
    },
    {
     "name": "stdout",
     "output_type": "stream",
     "text": [
      "{'acousticness': 0.895, 'danceability': 0.534, 'energy': 0.452, 'instrumentalness': 0.00165, 'liveness': 0.125, 'loudness': -10.732, 'speechiness': 0.0359, 'tempo': 129.974, 'valence': 0.175, 'popularity': 73}\n"
     ]
    },
    {
     "name": "stderr",
     "output_type": "stream",
     "text": [
      "/var/folders/_g/d3gd43912fnd1ygsn8rm91dw0000gn/T/ipykernel_49151/3526264110.py:46: FutureWarning: The frame.append method is deprecated and will be removed from pandas in a future version. Use pandas.concat instead.\n",
      "  new_data = new_data.append(row, ignore_index=True)\n"
     ]
    },
    {
     "name": "stdout",
     "output_type": "stream",
     "text": [
      "{'acousticness': 0.15, 'danceability': 0.534, 'energy': 0.911, 'instrumentalness': 0, 'liveness': 0.0986, 'loudness': -3.086, 'speechiness': 0.0852, 'tempo': 93.767, 'valence': 0.624, 'popularity': 66}\n"
     ]
    },
    {
     "name": "stderr",
     "output_type": "stream",
     "text": [
      "/var/folders/_g/d3gd43912fnd1ygsn8rm91dw0000gn/T/ipykernel_49151/3526264110.py:46: FutureWarning: The frame.append method is deprecated and will be removed from pandas in a future version. Use pandas.concat instead.\n",
      "  new_data = new_data.append(row, ignore_index=True)\n"
     ]
    },
    {
     "name": "stdout",
     "output_type": "stream",
     "text": [
      "{'acousticness': 0.889, 'danceability': 0.591, 'energy': 0.28, 'instrumentalness': 0, 'liveness': 0.124, 'loudness': -5.494, 'speechiness': 0.0283, 'tempo': 141.916, 'valence': 0.348, 'popularity': 72}\n"
     ]
    },
    {
     "name": "stderr",
     "output_type": "stream",
     "text": [
      "/var/folders/_g/d3gd43912fnd1ygsn8rm91dw0000gn/T/ipykernel_49151/3526264110.py:46: FutureWarning: The frame.append method is deprecated and will be removed from pandas in a future version. Use pandas.concat instead.\n",
      "  new_data = new_data.append(row, ignore_index=True)\n"
     ]
    },
    {
     "name": "stdout",
     "output_type": "stream",
     "text": [
      "{'acousticness': 0.197, 'danceability': 0.633, 'energy': 0.592, 'instrumentalness': 0, 'liveness': 0.099, 'loudness': -7.245, 'speechiness': 0.112, 'tempo': 90.066, 'valence': 0.679, 'popularity': 66}\n"
     ]
    },
    {
     "name": "stderr",
     "output_type": "stream",
     "text": [
      "/var/folders/_g/d3gd43912fnd1ygsn8rm91dw0000gn/T/ipykernel_49151/3526264110.py:46: FutureWarning: The frame.append method is deprecated and will be removed from pandas in a future version. Use pandas.concat instead.\n",
      "  new_data = new_data.append(row, ignore_index=True)\n"
     ]
    },
    {
     "name": "stdout",
     "output_type": "stream",
     "text": [
      "{'acousticness': 0.0799, 'danceability': 0.696, 'energy': 0.506, 'instrumentalness': 0, 'liveness': 0.0893, 'loudness': -4.863, 'speechiness': 0.0325, 'tempo': 100.003, 'valence': 0.516, 'popularity': 0}\n"
     ]
    },
    {
     "name": "stderr",
     "output_type": "stream",
     "text": [
      "/var/folders/_g/d3gd43912fnd1ygsn8rm91dw0000gn/T/ipykernel_49151/3526264110.py:46: FutureWarning: The frame.append method is deprecated and will be removed from pandas in a future version. Use pandas.concat instead.\n",
      "  new_data = new_data.append(row, ignore_index=True)\n"
     ]
    },
    {
     "name": "stdout",
     "output_type": "stream",
     "text": [
      "{'acousticness': 0.0659, 'danceability': 0.926, 'energy': 0.703, 'instrumentalness': 0, 'liveness': 0.231, 'loudness': -6.337, 'speechiness': 0.103, 'tempo': 125.022, 'valence': 0.485, 'popularity': 74}\n"
     ]
    },
    {
     "name": "stderr",
     "output_type": "stream",
     "text": [
      "/var/folders/_g/d3gd43912fnd1ygsn8rm91dw0000gn/T/ipykernel_49151/3526264110.py:46: FutureWarning: The frame.append method is deprecated and will be removed from pandas in a future version. Use pandas.concat instead.\n",
      "  new_data = new_data.append(row, ignore_index=True)\n"
     ]
    },
    {
     "name": "stdout",
     "output_type": "stream",
     "text": [
      "{'acousticness': 0.167, 'danceability': 0.401, 'energy': 0.872, 'instrumentalness': 0, 'liveness': 0.362, 'loudness': -3.641, 'speechiness': 0.314, 'tempo': 104.592, 'valence': 0.472, 'popularity': 66}\n"
     ]
    },
    {
     "name": "stderr",
     "output_type": "stream",
     "text": [
      "/var/folders/_g/d3gd43912fnd1ygsn8rm91dw0000gn/T/ipykernel_49151/3526264110.py:46: FutureWarning: The frame.append method is deprecated and will be removed from pandas in a future version. Use pandas.concat instead.\n",
      "  new_data = new_data.append(row, ignore_index=True)\n"
     ]
    },
    {
     "name": "stdout",
     "output_type": "stream",
     "text": [
      "{'acousticness': 0.0428, 'danceability': 0.69, 'energy': 0.876, 'instrumentalness': 0, 'liveness': 0.147, 'loudness': -4.159, 'speechiness': 0.059, 'tempo': 123.994, 'valence': 0.493, 'popularity': 64}\n"
     ]
    },
    {
     "name": "stderr",
     "output_type": "stream",
     "text": [
      "/var/folders/_g/d3gd43912fnd1ygsn8rm91dw0000gn/T/ipykernel_49151/3526264110.py:46: FutureWarning: The frame.append method is deprecated and will be removed from pandas in a future version. Use pandas.concat instead.\n",
      "  new_data = new_data.append(row, ignore_index=True)\n"
     ]
    },
    {
     "name": "stdout",
     "output_type": "stream",
     "text": [
      "{'acousticness': 0.0313, 'danceability': 0.708, 'energy': 0.868, 'instrumentalness': 0, 'liveness': 0.122, 'loudness': -3.287, 'speechiness': 0.0431, 'tempo': 124.994, 'valence': 0.72, 'popularity': 64}\n"
     ]
    },
    {
     "name": "stderr",
     "output_type": "stream",
     "text": [
      "/var/folders/_g/d3gd43912fnd1ygsn8rm91dw0000gn/T/ipykernel_49151/3526264110.py:46: FutureWarning: The frame.append method is deprecated and will be removed from pandas in a future version. Use pandas.concat instead.\n",
      "  new_data = new_data.append(row, ignore_index=True)\n"
     ]
    },
    {
     "name": "stdout",
     "output_type": "stream",
     "text": [
      "{'acousticness': 0.034, 'danceability': 0.818, 'energy': 0.803, 'instrumentalness': 0, 'liveness': 0.153, 'loudness': -4.282, 'speechiness': 0.0797, 'tempo': 106.97, 'valence': 0.632, 'popularity': 80}\n"
     ]
    },
    {
     "name": "stderr",
     "output_type": "stream",
     "text": [
      "/var/folders/_g/d3gd43912fnd1ygsn8rm91dw0000gn/T/ipykernel_49151/3526264110.py:46: FutureWarning: The frame.append method is deprecated and will be removed from pandas in a future version. Use pandas.concat instead.\n",
      "  new_data = new_data.append(row, ignore_index=True)\n"
     ]
    },
    {
     "name": "stdout",
     "output_type": "stream",
     "text": [
      "{'acousticness': 0.199, 'danceability': 0.873, 'energy': 0.495, 'instrumentalness': 0, 'liveness': 0.0805, 'loudness': -5.446, 'speechiness': 0.0518, 'tempo': 106.033, 'valence': 0.546, 'popularity': 70}\n"
     ]
    },
    {
     "name": "stderr",
     "output_type": "stream",
     "text": [
      "/var/folders/_g/d3gd43912fnd1ygsn8rm91dw0000gn/T/ipykernel_49151/3526264110.py:46: FutureWarning: The frame.append method is deprecated and will be removed from pandas in a future version. Use pandas.concat instead.\n",
      "  new_data = new_data.append(row, ignore_index=True)\n"
     ]
    },
    {
     "name": "stdout",
     "output_type": "stream",
     "text": [
      "{'acousticness': 0.0135, 'danceability': 0.71, 'energy': 0.909, 'instrumentalness': 0.00123, 'liveness': 0.303, 'loudness': -2.777, 'speechiness': 0.0639, 'tempo': 115.001, 'valence': 0.648, 'popularity': 65}\n"
     ]
    },
    {
     "name": "stderr",
     "output_type": "stream",
     "text": [
      "/var/folders/_g/d3gd43912fnd1ygsn8rm91dw0000gn/T/ipykernel_49151/3526264110.py:46: FutureWarning: The frame.append method is deprecated and will be removed from pandas in a future version. Use pandas.concat instead.\n",
      "  new_data = new_data.append(row, ignore_index=True)\n"
     ]
    },
    {
     "name": "stdout",
     "output_type": "stream",
     "text": [
      "{'acousticness': 0.131, 'danceability': 0.8, 'energy': 0.795, 'instrumentalness': 9.02e-05, 'liveness': 0.221, 'loudness': -5.835, 'speechiness': 0.0626, 'tempo': 106.031, 'valence': 0.528, 'popularity': 67}\n"
     ]
    },
    {
     "name": "stderr",
     "output_type": "stream",
     "text": [
      "/var/folders/_g/d3gd43912fnd1ygsn8rm91dw0000gn/T/ipykernel_49151/3526264110.py:46: FutureWarning: The frame.append method is deprecated and will be removed from pandas in a future version. Use pandas.concat instead.\n",
      "  new_data = new_data.append(row, ignore_index=True)\n"
     ]
    },
    {
     "name": "stdout",
     "output_type": "stream",
     "text": [
      "{'acousticness': 0.0155, 'danceability': 0.76, 'energy': 0.574, 'instrumentalness': 2.02e-05, 'liveness': 0.199, 'loudness': -8.57, 'speechiness': 0.126, 'tempo': 134.981, 'valence': 0.137, 'popularity': 67}\n"
     ]
    },
    {
     "name": "stderr",
     "output_type": "stream",
     "text": [
      "/var/folders/_g/d3gd43912fnd1ygsn8rm91dw0000gn/T/ipykernel_49151/3526264110.py:46: FutureWarning: The frame.append method is deprecated and will be removed from pandas in a future version. Use pandas.concat instead.\n",
      "  new_data = new_data.append(row, ignore_index=True)\n"
     ]
    },
    {
     "name": "stdout",
     "output_type": "stream",
     "text": [
      "{'acousticness': 0.027, 'danceability': 0.718, 'energy': 0.926, 'instrumentalness': 1.76e-05, 'liveness': 0.0513, 'loudness': -3.511, 'speechiness': 0.0494, 'tempo': 108.018, 'valence': 0.54, 'popularity': 58}\n"
     ]
    },
    {
     "name": "stderr",
     "output_type": "stream",
     "text": [
      "/var/folders/_g/d3gd43912fnd1ygsn8rm91dw0000gn/T/ipykernel_49151/3526264110.py:46: FutureWarning: The frame.append method is deprecated and will be removed from pandas in a future version. Use pandas.concat instead.\n",
      "  new_data = new_data.append(row, ignore_index=True)\n"
     ]
    },
    {
     "name": "stdout",
     "output_type": "stream",
     "text": [
      "{'acousticness': 0.0547, 'danceability': 0.772, 'energy': 0.744, 'instrumentalness': 0, 'liveness': 0.0852, 'loudness': -5.803, 'speechiness': 0.0398, 'tempo': 120.067, 'valence': 0.86, 'popularity': 62}\n"
     ]
    },
    {
     "name": "stderr",
     "output_type": "stream",
     "text": [
      "/var/folders/_g/d3gd43912fnd1ygsn8rm91dw0000gn/T/ipykernel_49151/3526264110.py:46: FutureWarning: The frame.append method is deprecated and will be removed from pandas in a future version. Use pandas.concat instead.\n",
      "  new_data = new_data.append(row, ignore_index=True)\n"
     ]
    },
    {
     "name": "stdout",
     "output_type": "stream",
     "text": [
      "{'acousticness': 0.011, 'danceability': 0.735, 'energy': 0.425, 'instrumentalness': 0, 'liveness': 0.055, 'loudness': -6.648, 'speechiness': 0.0464, 'tempo': 85.896, 'valence': 0.848, 'popularity': 77}\n"
     ]
    },
    {
     "name": "stderr",
     "output_type": "stream",
     "text": [
      "/var/folders/_g/d3gd43912fnd1ygsn8rm91dw0000gn/T/ipykernel_49151/3526264110.py:46: FutureWarning: The frame.append method is deprecated and will be removed from pandas in a future version. Use pandas.concat instead.\n",
      "  new_data = new_data.append(row, ignore_index=True)\n"
     ]
    },
    {
     "name": "stdout",
     "output_type": "stream",
     "text": [
      "{'acousticness': 0.00129, 'danceability': 0.548, 'energy': 0.873, 'instrumentalness': 4.55e-05, 'liveness': 0.138, 'loudness': -4.881, 'speechiness': 0.0618, 'tempo': 121.918, 'valence': 0.328, 'popularity': 60}\n"
     ]
    },
    {
     "name": "stderr",
     "output_type": "stream",
     "text": [
      "/var/folders/_g/d3gd43912fnd1ygsn8rm91dw0000gn/T/ipykernel_49151/3526264110.py:46: FutureWarning: The frame.append method is deprecated and will be removed from pandas in a future version. Use pandas.concat instead.\n",
      "  new_data = new_data.append(row, ignore_index=True)\n"
     ]
    },
    {
     "name": "stdout",
     "output_type": "stream",
     "text": [
      "{'acousticness': 0.00166, 'danceability': 0.655, 'energy': 0.693, 'instrumentalness': 0, 'liveness': 0.0398, 'loudness': -5.148, 'speechiness': 0.0372, 'tempo': 102.028, 'valence': 0.868, 'popularity': 55}\n"
     ]
    },
    {
     "name": "stderr",
     "output_type": "stream",
     "text": [
      "/var/folders/_g/d3gd43912fnd1ygsn8rm91dw0000gn/T/ipykernel_49151/3526264110.py:46: FutureWarning: The frame.append method is deprecated and will be removed from pandas in a future version. Use pandas.concat instead.\n",
      "  new_data = new_data.append(row, ignore_index=True)\n"
     ]
    },
    {
     "name": "stdout",
     "output_type": "stream",
     "text": [
      "{'acousticness': 0.00339, 'danceability': 0.738, 'energy': 0.525, 'instrumentalness': 0, 'liveness': 0.351, 'loudness': -6.298, 'speechiness': 0.0371, 'tempo': 124.008, 'valence': 0.13, 'popularity': 51}\n"
     ]
    },
    {
     "name": "stderr",
     "output_type": "stream",
     "text": [
      "/var/folders/_g/d3gd43912fnd1ygsn8rm91dw0000gn/T/ipykernel_49151/3526264110.py:46: FutureWarning: The frame.append method is deprecated and will be removed from pandas in a future version. Use pandas.concat instead.\n",
      "  new_data = new_data.append(row, ignore_index=True)\n"
     ]
    },
    {
     "name": "stdout",
     "output_type": "stream",
     "text": [
      "{'acousticness': 0.0448, 'danceability': 0.641, 'energy': 0.752, 'instrumentalness': 0, 'liveness': 0.494, 'loudness': -3.929, 'speechiness': 0.109, 'tempo': 101.797, 'valence': 0.547, 'popularity': 53}\n"
     ]
    },
    {
     "name": "stderr",
     "output_type": "stream",
     "text": [
      "/var/folders/_g/d3gd43912fnd1ygsn8rm91dw0000gn/T/ipykernel_49151/3526264110.py:46: FutureWarning: The frame.append method is deprecated and will be removed from pandas in a future version. Use pandas.concat instead.\n",
      "  new_data = new_data.append(row, ignore_index=True)\n"
     ]
    },
    {
     "name": "stdout",
     "output_type": "stream",
     "text": [
      "{'acousticness': 0.485, 'danceability': 0.702, 'energy': 0.82, 'instrumentalness': 0, 'liveness': 0.448, 'loudness': -4.747, 'speechiness': 0.216, 'tempo': 100.019, 'valence': 0.666, 'popularity': 59}\n"
     ]
    },
    {
     "name": "stderr",
     "output_type": "stream",
     "text": [
      "/var/folders/_g/d3gd43912fnd1ygsn8rm91dw0000gn/T/ipykernel_49151/3526264110.py:46: FutureWarning: The frame.append method is deprecated and will be removed from pandas in a future version. Use pandas.concat instead.\n",
      "  new_data = new_data.append(row, ignore_index=True)\n"
     ]
    },
    {
     "name": "stdout",
     "output_type": "stream",
     "text": [
      "{'acousticness': 0.0574, 'danceability': 0.366, 'energy': 0.5, 'instrumentalness': 0, 'liveness': 0.2, 'loudness': -8.818, 'speechiness': 0.119, 'tempo': 166.834, 'valence': 0.205, 'popularity': 50}\n"
     ]
    },
    {
     "name": "stderr",
     "output_type": "stream",
     "text": [
      "/var/folders/_g/d3gd43912fnd1ygsn8rm91dw0000gn/T/ipykernel_49151/3526264110.py:46: FutureWarning: The frame.append method is deprecated and will be removed from pandas in a future version. Use pandas.concat instead.\n",
      "  new_data = new_data.append(row, ignore_index=True)\n"
     ]
    },
    {
     "name": "stdout",
     "output_type": "stream",
     "text": [
      "{'acousticness': 0.0824, 'danceability': 0.688, 'energy': 0.763, 'instrumentalness': 0, 'liveness': 0.143, 'loudness': -3.732, 'speechiness': 0.0444, 'tempo': 99.987, 'valence': 0.59, 'popularity': 45}\n"
     ]
    },
    {
     "name": "stderr",
     "output_type": "stream",
     "text": [
      "/var/folders/_g/d3gd43912fnd1ygsn8rm91dw0000gn/T/ipykernel_49151/3526264110.py:46: FutureWarning: The frame.append method is deprecated and will be removed from pandas in a future version. Use pandas.concat instead.\n",
      "  new_data = new_data.append(row, ignore_index=True)\n"
     ]
    },
    {
     "name": "stdout",
     "output_type": "stream",
     "text": [
      "{'acousticness': 0.0706, 'danceability': 0.738, 'energy': 0.901, 'instrumentalness': 0.0139, 'liveness': 0.0753, 'loudness': -2.212, 'speechiness': 0.0452, 'tempo': 109.987, 'valence': 0.646, 'popularity': 47}\n"
     ]
    },
    {
     "name": "stderr",
     "output_type": "stream",
     "text": [
      "/var/folders/_g/d3gd43912fnd1ygsn8rm91dw0000gn/T/ipykernel_49151/3526264110.py:46: FutureWarning: The frame.append method is deprecated and will be removed from pandas in a future version. Use pandas.concat instead.\n",
      "  new_data = new_data.append(row, ignore_index=True)\n"
     ]
    },
    {
     "name": "stdout",
     "output_type": "stream",
     "text": [
      "{'acousticness': 0.604, 'danceability': 0.504, 'energy': 0.655, 'instrumentalness': 0.00193, 'liveness': 0.364, 'loudness': -8.644, 'speechiness': 0.0542, 'tempo': 99.982, 'valence': 0.262, 'popularity': 74}\n"
     ]
    },
    {
     "name": "stderr",
     "output_type": "stream",
     "text": [
      "/var/folders/_g/d3gd43912fnd1ygsn8rm91dw0000gn/T/ipykernel_49151/3526264110.py:46: FutureWarning: The frame.append method is deprecated and will be removed from pandas in a future version. Use pandas.concat instead.\n",
      "  new_data = new_data.append(row, ignore_index=True)\n"
     ]
    },
    {
     "name": "stdout",
     "output_type": "stream",
     "text": [
      "{'acousticness': 0.245, 'danceability': 0.695, 'energy': 0.837, 'instrumentalness': 0, 'liveness': 0.367, 'loudness': -5.617, 'speechiness': 0.281, 'tempo': 115.067, 'valence': 0.639, 'popularity': 60}\n"
     ]
    },
    {
     "name": "stderr",
     "output_type": "stream",
     "text": [
      "/var/folders/_g/d3gd43912fnd1ygsn8rm91dw0000gn/T/ipykernel_49151/3526264110.py:46: FutureWarning: The frame.append method is deprecated and will be removed from pandas in a future version. Use pandas.concat instead.\n",
      "  new_data = new_data.append(row, ignore_index=True)\n"
     ]
    },
    {
     "name": "stdout",
     "output_type": "stream",
     "text": [
      "{'acousticness': 0.0993, 'danceability': 0.768, 'energy': 0.593, 'instrumentalness': 0.000184, 'liveness': 0.105, 'loudness': -9.643, 'speechiness': 0.0463, 'tempo': 104.954, 'valence': 0.329, 'popularity': 49}\n"
     ]
    },
    {
     "name": "stderr",
     "output_type": "stream",
     "text": [
      "/var/folders/_g/d3gd43912fnd1ygsn8rm91dw0000gn/T/ipykernel_49151/3526264110.py:46: FutureWarning: The frame.append method is deprecated and will be removed from pandas in a future version. Use pandas.concat instead.\n",
      "  new_data = new_data.append(row, ignore_index=True)\n"
     ]
    },
    {
     "name": "stdout",
     "output_type": "stream",
     "text": [
      "{'acousticness': 0.136, 'danceability': 0.684, 'energy': 0.534, 'instrumentalness': 3.4e-06, 'liveness': 0.0368, 'loudness': -5.714, 'speechiness': 0.277, 'tempo': 112.889, 'valence': 0.836, 'popularity': 45}\n"
     ]
    },
    {
     "name": "stderr",
     "output_type": "stream",
     "text": [
      "/var/folders/_g/d3gd43912fnd1ygsn8rm91dw0000gn/T/ipykernel_49151/3526264110.py:46: FutureWarning: The frame.append method is deprecated and will be removed from pandas in a future version. Use pandas.concat instead.\n",
      "  new_data = new_data.append(row, ignore_index=True)\n"
     ]
    },
    {
     "name": "stdout",
     "output_type": "stream",
     "text": [
      "{'acousticness': 0.0157, 'danceability': 0.576, 'energy': 0.807, 'instrumentalness': 0, 'liveness': 0.0338, 'loudness': -4.602, 'speechiness': 0.0454, 'tempo': 158.002, 'valence': 0.765, 'popularity': 51}\n"
     ]
    },
    {
     "name": "stderr",
     "output_type": "stream",
     "text": [
      "/var/folders/_g/d3gd43912fnd1ygsn8rm91dw0000gn/T/ipykernel_49151/3526264110.py:46: FutureWarning: The frame.append method is deprecated and will be removed from pandas in a future version. Use pandas.concat instead.\n",
      "  new_data = new_data.append(row, ignore_index=True)\n"
     ]
    },
    {
     "name": "stdout",
     "output_type": "stream",
     "text": [
      "{'acousticness': 0.0142, 'danceability': 0.59, 'energy': 0.833, 'instrumentalness': 5.4e-06, 'liveness': 0.105, 'loudness': -6.503, 'speechiness': 0.0615, 'tempo': 94.963, 'valence': 0.538, 'popularity': 71}\n"
     ]
    },
    {
     "name": "stderr",
     "output_type": "stream",
     "text": [
      "/var/folders/_g/d3gd43912fnd1ygsn8rm91dw0000gn/T/ipykernel_49151/3526264110.py:46: FutureWarning: The frame.append method is deprecated and will be removed from pandas in a future version. Use pandas.concat instead.\n",
      "  new_data = new_data.append(row, ignore_index=True)\n"
     ]
    },
    {
     "name": "stdout",
     "output_type": "stream",
     "text": [
      "{'acousticness': 0.849, 'danceability': 0.269, 'energy': 0.455, 'instrumentalness': 4.24e-06, 'liveness': 0.14, 'loudness': -3.6, 'speechiness': 0.0285, 'tempo': 87.0, 'valence': 0.21, 'popularity': 38}\n"
     ]
    },
    {
     "name": "stderr",
     "output_type": "stream",
     "text": [
      "/var/folders/_g/d3gd43912fnd1ygsn8rm91dw0000gn/T/ipykernel_49151/3526264110.py:46: FutureWarning: The frame.append method is deprecated and will be removed from pandas in a future version. Use pandas.concat instead.\n",
      "  new_data = new_data.append(row, ignore_index=True)\n"
     ]
    },
    {
     "name": "stdout",
     "output_type": "stream",
     "text": [
      "{'acousticness': 0.075, 'danceability': 0.764, 'energy': 0.764, 'instrumentalness': 0, 'liveness': 0.0796, 'loudness': -5.58, 'speechiness': 0.0456, 'tempo': 120.056, 'valence': 0.813, 'popularity': 37}\n"
     ]
    },
    {
     "name": "stderr",
     "output_type": "stream",
     "text": [
      "/var/folders/_g/d3gd43912fnd1ygsn8rm91dw0000gn/T/ipykernel_49151/3526264110.py:46: FutureWarning: The frame.append method is deprecated and will be removed from pandas in a future version. Use pandas.concat instead.\n",
      "  new_data = new_data.append(row, ignore_index=True)\n"
     ]
    },
    {
     "name": "stdout",
     "output_type": "stream",
     "text": [
      "{'acousticness': 0.00157, 'danceability': 0.427, 'energy': 0.876, 'instrumentalness': 0.000944, 'liveness': 0.206, 'loudness': -4.982, 'speechiness': 0.0366, 'tempo': 148.0, 'valence': 0.261, 'popularity': 45}\n"
     ]
    },
    {
     "name": "stderr",
     "output_type": "stream",
     "text": [
      "/var/folders/_g/d3gd43912fnd1ygsn8rm91dw0000gn/T/ipykernel_49151/3526264110.py:46: FutureWarning: The frame.append method is deprecated and will be removed from pandas in a future version. Use pandas.concat instead.\n",
      "  new_data = new_data.append(row, ignore_index=True)\n"
     ]
    },
    {
     "name": "stdout",
     "output_type": "stream",
     "text": [
      "{'acousticness': 0.037, 'danceability': 0.791, 'energy': 0.862, 'instrumentalness': 2.19e-05, 'liveness': 0.0814, 'loudness': -3.24, 'speechiness': 0.11, 'tempo': 123.994, 'valence': 0.592, 'popularity': 88}\n"
     ]
    },
    {
     "name": "stderr",
     "output_type": "stream",
     "text": [
      "/var/folders/_g/d3gd43912fnd1ygsn8rm91dw0000gn/T/ipykernel_49151/3526264110.py:46: FutureWarning: The frame.append method is deprecated and will be removed from pandas in a future version. Use pandas.concat instead.\n",
      "  new_data = new_data.append(row, ignore_index=True)\n"
     ]
    },
    {
     "name": "stdout",
     "output_type": "stream",
     "text": [
      "{'acousticness': 0.184, 'danceability': 0.765, 'energy': 0.523, 'instrumentalness': 3.56e-05, 'liveness': 0.132, 'loudness': -4.333, 'speechiness': 0.03, 'tempo': 104.988, 'valence': 0.394, 'popularity': 81}\n"
     ]
    },
    {
     "name": "stderr",
     "output_type": "stream",
     "text": [
      "/var/folders/_g/d3gd43912fnd1ygsn8rm91dw0000gn/T/ipykernel_49151/3526264110.py:46: FutureWarning: The frame.append method is deprecated and will be removed from pandas in a future version. Use pandas.concat instead.\n",
      "  new_data = new_data.append(row, ignore_index=True)\n"
     ]
    },
    {
     "name": "stdout",
     "output_type": "stream",
     "text": [
      "{'acousticness': 0.099, 'danceability': 0.816, 'energy': 0.726, 'instrumentalness': 0, 'liveness': 0.372, 'loudness': -3.998, 'speechiness': 0.129, 'tempo': 136.048, 'valence': 0.65, 'popularity': 80}\n"
     ]
    },
    {
     "name": "stderr",
     "output_type": "stream",
     "text": [
      "/var/folders/_g/d3gd43912fnd1ygsn8rm91dw0000gn/T/ipykernel_49151/3526264110.py:46: FutureWarning: The frame.append method is deprecated and will be removed from pandas in a future version. Use pandas.concat instead.\n",
      "  new_data = new_data.append(row, ignore_index=True)\n"
     ]
    },
    {
     "name": "stdout",
     "output_type": "stream",
     "text": [
      "{'acousticness': 0.00261, 'danceability': 0.762, 'energy': 0.7, 'instrumentalness': 1.56e-05, 'liveness': 0.153, 'loudness': -6.021, 'speechiness': 0.0694, 'tempo': 116.073, 'valence': 0.608, 'popularity': 82}\n"
     ]
    },
    {
     "name": "stderr",
     "output_type": "stream",
     "text": [
      "/var/folders/_g/d3gd43912fnd1ygsn8rm91dw0000gn/T/ipykernel_49151/3526264110.py:46: FutureWarning: The frame.append method is deprecated and will be removed from pandas in a future version. Use pandas.concat instead.\n",
      "  new_data = new_data.append(row, ignore_index=True)\n"
     ]
    },
    {
     "name": "stdout",
     "output_type": "stream",
     "text": [
      "{'acousticness': 0.38, 'danceability': 0.866, 'energy': 0.813, 'instrumentalness': 0, 'liveness': 0.0779, 'loudness': -4.063, 'speechiness': 0.0554, 'tempo': 121.998, 'valence': 0.969, 'popularity': 88}\n"
     ]
    },
    {
     "name": "stderr",
     "output_type": "stream",
     "text": [
      "/var/folders/_g/d3gd43912fnd1ygsn8rm91dw0000gn/T/ipykernel_49151/3526264110.py:46: FutureWarning: The frame.append method is deprecated and will be removed from pandas in a future version. Use pandas.concat instead.\n",
      "  new_data = new_data.append(row, ignore_index=True)\n"
     ]
    },
    {
     "name": "stdout",
     "output_type": "stream",
     "text": [
      "{'acousticness': 0.04, 'danceability': 0.699, 'energy': 0.713, 'instrumentalness': 3.11e-06, 'liveness': 0.294, 'loudness': -5.507, 'speechiness': 0.0594, 'tempo': 121.993, 'valence': 0.354, 'popularity': 79}\n"
     ]
    },
    {
     "name": "stderr",
     "output_type": "stream",
     "text": [
      "/var/folders/_g/d3gd43912fnd1ygsn8rm91dw0000gn/T/ipykernel_49151/3526264110.py:46: FutureWarning: The frame.append method is deprecated and will be removed from pandas in a future version. Use pandas.concat instead.\n",
      "  new_data = new_data.append(row, ignore_index=True)\n"
     ]
    },
    {
     "name": "stdout",
     "output_type": "stream",
     "text": [
      "{'acousticness': 0.0403, 'danceability': 0.836, 'energy': 0.544, 'instrumentalness': 0, 'liveness': 0.0824, 'loudness': -5.975, 'speechiness': 0.0943, 'tempo': 97.028, 'valence': 0.51, 'popularity': 81}\n"
     ]
    },
    {
     "name": "stderr",
     "output_type": "stream",
     "text": [
      "/var/folders/_g/d3gd43912fnd1ygsn8rm91dw0000gn/T/ipykernel_49151/3526264110.py:46: FutureWarning: The frame.append method is deprecated and will be removed from pandas in a future version. Use pandas.concat instead.\n",
      "  new_data = new_data.append(row, ignore_index=True)\n"
     ]
    },
    {
     "name": "stdout",
     "output_type": "stream",
     "text": [
      "{'acousticness': 0.0573, 'danceability': 0.622, 'energy': 0.712, 'instrumentalness': 0, 'liveness': 0.13, 'loudness': -7.321, 'speechiness': 0.066, 'tempo': 140.025, 'valence': 0.487, 'popularity': 75}\n"
     ]
    },
    {
     "name": "stderr",
     "output_type": "stream",
     "text": [
      "/var/folders/_g/d3gd43912fnd1ygsn8rm91dw0000gn/T/ipykernel_49151/3526264110.py:46: FutureWarning: The frame.append method is deprecated and will be removed from pandas in a future version. Use pandas.concat instead.\n",
      "  new_data = new_data.append(row, ignore_index=True)\n"
     ]
    },
    {
     "name": "stdout",
     "output_type": "stream",
     "text": [
      "{'acousticness': 0.124, 'danceability': 0.724, 'energy': 0.804, 'instrumentalness': 0, 'liveness': 0.204, 'loudness': -4.614, 'speechiness': 0.0448, 'tempo': 124.987, 'valence': 0.306, 'popularity': 81}\n"
     ]
    },
    {
     "name": "stderr",
     "output_type": "stream",
     "text": [
      "/var/folders/_g/d3gd43912fnd1ygsn8rm91dw0000gn/T/ipykernel_49151/3526264110.py:46: FutureWarning: The frame.append method is deprecated and will be removed from pandas in a future version. Use pandas.concat instead.\n",
      "  new_data = new_data.append(row, ignore_index=True)\n"
     ]
    },
    {
     "name": "stdout",
     "output_type": "stream",
     "text": [
      "{'acousticness': 0.102, 'danceability': 0.259, 'energy': 0.437, 'instrumentalness': 1.32e-06, 'liveness': 0.106, 'loudness': -6.589, 'speechiness': 0.0386, 'tempo': 180.042, 'valence': 0.0951, 'popularity': 80}\n"
     ]
    },
    {
     "name": "stderr",
     "output_type": "stream",
     "text": [
      "/var/folders/_g/d3gd43912fnd1ygsn8rm91dw0000gn/T/ipykernel_49151/3526264110.py:46: FutureWarning: The frame.append method is deprecated and will be removed from pandas in a future version. Use pandas.concat instead.\n",
      "  new_data = new_data.append(row, ignore_index=True)\n"
     ]
    },
    {
     "name": "stdout",
     "output_type": "stream",
     "text": [
      "{'acousticness': 0.109, 'danceability': 0.775, 'energy': 0.613, 'instrumentalness': 2.33e-05, 'liveness': 0.134, 'loudness': -4.586, 'speechiness': 0.0542, 'tempo': 100.066, 'valence': 0.797, 'popularity': 84}\n"
     ]
    },
    {
     "name": "stderr",
     "output_type": "stream",
     "text": [
      "/var/folders/_g/d3gd43912fnd1ygsn8rm91dw0000gn/T/ipykernel_49151/3526264110.py:46: FutureWarning: The frame.append method is deprecated and will be removed from pandas in a future version. Use pandas.concat instead.\n",
      "  new_data = new_data.append(row, ignore_index=True)\n"
     ]
    },
    {
     "name": "stdout",
     "output_type": "stream",
     "text": [
      "{'acousticness': 0.0104, 'danceability': 0.588, 'energy': 0.67, 'instrumentalness': 3.33e-06, 'liveness': 0.338, 'loudness': -6.439, 'speechiness': 0.0473, 'tempo': 118.159, 'valence': 0.505, 'popularity': 73}\n"
     ]
    },
    {
     "name": "stderr",
     "output_type": "stream",
     "text": [
      "/var/folders/_g/d3gd43912fnd1ygsn8rm91dw0000gn/T/ipykernel_49151/3526264110.py:46: FutureWarning: The frame.append method is deprecated and will be removed from pandas in a future version. Use pandas.concat instead.\n",
      "  new_data = new_data.append(row, ignore_index=True)\n"
     ]
    },
    {
     "name": "stdout",
     "output_type": "stream",
     "text": [
      "{'acousticness': 0.0717, 'danceability': 0.509, 'energy': 0.637, 'instrumentalness': 1.08e-05, 'liveness': 0.0789, 'loudness': -4.83, 'speechiness': 0.0471, 'tempo': 172.006, 'valence': 0.378, 'popularity': 87}\n"
     ]
    },
    {
     "name": "stderr",
     "output_type": "stream",
     "text": [
      "/var/folders/_g/d3gd43912fnd1ygsn8rm91dw0000gn/T/ipykernel_49151/3526264110.py:46: FutureWarning: The frame.append method is deprecated and will be removed from pandas in a future version. Use pandas.concat instead.\n",
      "  new_data = new_data.append(row, ignore_index=True)\n"
     ]
    },
    {
     "name": "stdout",
     "output_type": "stream",
     "text": [
      "{'acousticness': 0.0337, 'danceability': 0.664, 'energy': 0.708, 'instrumentalness': 0, 'liveness': 0.0841, 'loudness': -4.154, 'speechiness': 0.0474, 'tempo': 103.07, 'valence': 0.742, 'popularity': 77}\n"
     ]
    },
    {
     "name": "stderr",
     "output_type": "stream",
     "text": [
      "/var/folders/_g/d3gd43912fnd1ygsn8rm91dw0000gn/T/ipykernel_49151/3526264110.py:46: FutureWarning: The frame.append method is deprecated and will be removed from pandas in a future version. Use pandas.concat instead.\n",
      "  new_data = new_data.append(row, ignore_index=True)\n"
     ]
    },
    {
     "name": "stdout",
     "output_type": "stream",
     "text": [
      "{'acousticness': 0.256, 'danceability': 0.52, 'energy': 0.761, 'instrumentalness': 4.96e-06, 'liveness': 0.17, 'loudness': -3.093, 'speechiness': 0.0853, 'tempo': 141.971, 'valence': 0.286, 'popularity': 82}\n"
     ]
    },
    {
     "name": "stderr",
     "output_type": "stream",
     "text": [
      "/var/folders/_g/d3gd43912fnd1ygsn8rm91dw0000gn/T/ipykernel_49151/3526264110.py:46: FutureWarning: The frame.append method is deprecated and will be removed from pandas in a future version. Use pandas.concat instead.\n",
      "  new_data = new_data.append(row, ignore_index=True)\n"
     ]
    },
    {
     "name": "stdout",
     "output_type": "stream",
     "text": [
      "{'acousticness': 0.0242, 'danceability': 0.706, 'energy': 0.643, 'instrumentalness': 0, 'liveness': 0.262, 'loudness': -6.929, 'speechiness': 0.234, 'tempo': 143.931, 'valence': 0.885, 'popularity': 77}\n"
     ]
    },
    {
     "name": "stderr",
     "output_type": "stream",
     "text": [
      "/var/folders/_g/d3gd43912fnd1ygsn8rm91dw0000gn/T/ipykernel_49151/3526264110.py:46: FutureWarning: The frame.append method is deprecated and will be removed from pandas in a future version. Use pandas.concat instead.\n",
      "  new_data = new_data.append(row, ignore_index=True)\n"
     ]
    },
    {
     "name": "stdout",
     "output_type": "stream",
     "text": [
      "{'acousticness': 0.416, 'danceability': 0.575, 'energy': 0.33, 'instrumentalness': 0, 'liveness': 0.0872, 'loudness': -6.557, 'speechiness': 0.031, 'tempo': 95.801, 'valence': 0.277, 'popularity': 74}\n"
     ]
    },
    {
     "name": "stderr",
     "output_type": "stream",
     "text": [
      "/var/folders/_g/d3gd43912fnd1ygsn8rm91dw0000gn/T/ipykernel_49151/3526264110.py:46: FutureWarning: The frame.append method is deprecated and will be removed from pandas in a future version. Use pandas.concat instead.\n",
      "  new_data = new_data.append(row, ignore_index=True)\n"
     ]
    },
    {
     "name": "stdout",
     "output_type": "stream",
     "text": [
      "{'acousticness': 0.188, 'danceability': 0.654, 'energy': 0.798, 'instrumentalness': 0, 'liveness': 0.15, 'loudness': -4.084, 'speechiness': 0.0451, 'tempo': 92.207, 'valence': 0.574, 'popularity': 61}\n"
     ]
    },
    {
     "name": "stderr",
     "output_type": "stream",
     "text": [
      "/var/folders/_g/d3gd43912fnd1ygsn8rm91dw0000gn/T/ipykernel_49151/3526264110.py:46: FutureWarning: The frame.append method is deprecated and will be removed from pandas in a future version. Use pandas.concat instead.\n",
      "  new_data = new_data.append(row, ignore_index=True)\n"
     ]
    },
    {
     "name": "stdout",
     "output_type": "stream",
     "text": [
      "{'acousticness': 0.0788, 'danceability': 0.799, 'energy': 0.597, 'instrumentalness': 5.66e-06, 'liveness': 0.1, 'loudness': -5.131, 'speechiness': 0.0611, 'tempo': 110.001, 'valence': 0.419, 'popularity': 68}\n"
     ]
    },
    {
     "name": "stderr",
     "output_type": "stream",
     "text": [
      "/var/folders/_g/d3gd43912fnd1ygsn8rm91dw0000gn/T/ipykernel_49151/3526264110.py:46: FutureWarning: The frame.append method is deprecated and will be removed from pandas in a future version. Use pandas.concat instead.\n",
      "  new_data = new_data.append(row, ignore_index=True)\n"
     ]
    },
    {
     "name": "stdout",
     "output_type": "stream",
     "text": [
      "{'acousticness': 0.0185, 'danceability': 0.704, 'energy': 0.859, 'instrumentalness': 0, 'liveness': 0.0215, 'loudness': -4.877, 'speechiness': 0.0996, 'tempo': 105.115, 'valence': 0.926, 'popularity': 75}\n"
     ]
    },
    {
     "name": "stderr",
     "output_type": "stream",
     "text": [
      "/var/folders/_g/d3gd43912fnd1ygsn8rm91dw0000gn/T/ipykernel_49151/3526264110.py:46: FutureWarning: The frame.append method is deprecated and will be removed from pandas in a future version. Use pandas.concat instead.\n",
      "  new_data = new_data.append(row, ignore_index=True)\n"
     ]
    },
    {
     "name": "stdout",
     "output_type": "stream",
     "text": [
      "{'acousticness': 0.779, 'danceability': 0.587, 'energy': 0.299, 'instrumentalness': 0, 'liveness': 0.123, 'loudness': -7.365, 'speechiness': 0.0263, 'tempo': 94.992, 'valence': 0.356, 'popularity': 73}\n"
     ]
    },
    {
     "name": "stderr",
     "output_type": "stream",
     "text": [
      "/var/folders/_g/d3gd43912fnd1ygsn8rm91dw0000gn/T/ipykernel_49151/3526264110.py:46: FutureWarning: The frame.append method is deprecated and will be removed from pandas in a future version. Use pandas.concat instead.\n",
      "  new_data = new_data.append(row, ignore_index=True)\n"
     ]
    },
    {
     "name": "stdout",
     "output_type": "stream",
     "text": [
      "{'acousticness': 0.0604, 'danceability': 0.675, 'energy': 0.751, 'instrumentalness': 0, 'liveness': 0.0893, 'loudness': -3.539, 'speechiness': 0.0296, 'tempo': 118.384, 'valence': 0.612, 'popularity': 75}\n"
     ]
    },
    {
     "name": "stderr",
     "output_type": "stream",
     "text": [
      "/var/folders/_g/d3gd43912fnd1ygsn8rm91dw0000gn/T/ipykernel_49151/3526264110.py:46: FutureWarning: The frame.append method is deprecated and will be removed from pandas in a future version. Use pandas.concat instead.\n",
      "  new_data = new_data.append(row, ignore_index=True)\n"
     ]
    },
    {
     "name": "stdout",
     "output_type": "stream",
     "text": [
      "{'acousticness': 0.0534, 'danceability': 0.589, 'energy': 0.731, 'instrumentalness': 0, 'liveness': 0.308, 'loudness': -6.343, 'speechiness': 0.0868, 'tempo': 87.908, 'valence': 0.191, 'popularity': 78}\n"
     ]
    },
    {
     "name": "stderr",
     "output_type": "stream",
     "text": [
      "/var/folders/_g/d3gd43912fnd1ygsn8rm91dw0000gn/T/ipykernel_49151/3526264110.py:46: FutureWarning: The frame.append method is deprecated and will be removed from pandas in a future version. Use pandas.concat instead.\n",
      "  new_data = new_data.append(row, ignore_index=True)\n"
     ]
    },
    {
     "name": "stdout",
     "output_type": "stream",
     "text": [
      "{'acousticness': 0.00389, 'danceability': 0.743, 'energy': 0.735, 'instrumentalness': 0, 'liveness': 0.304, 'loudness': -5.337, 'speechiness': 0.0382, 'tempo': 104.979, 'valence': 0.631, 'popularity': 70}\n"
     ]
    },
    {
     "name": "stderr",
     "output_type": "stream",
     "text": [
      "/var/folders/_g/d3gd43912fnd1ygsn8rm91dw0000gn/T/ipykernel_49151/3526264110.py:46: FutureWarning: The frame.append method is deprecated and will be removed from pandas in a future version. Use pandas.concat instead.\n",
      "  new_data = new_data.append(row, ignore_index=True)\n"
     ]
    },
    {
     "name": "stdout",
     "output_type": "stream",
     "text": [
      "{'acousticness': 0.0287, 'danceability': 0.613, 'energy': 0.681, 'instrumentalness': 0, 'liveness': 0.126, 'loudness': -3.089, 'speechiness': 0.0778, 'tempo': 97.621, 'valence': 0.619, 'popularity': 71}\n"
     ]
    },
    {
     "name": "stderr",
     "output_type": "stream",
     "text": [
      "/var/folders/_g/d3gd43912fnd1ygsn8rm91dw0000gn/T/ipykernel_49151/3526264110.py:46: FutureWarning: The frame.append method is deprecated and will be removed from pandas in a future version. Use pandas.concat instead.\n",
      "  new_data = new_data.append(row, ignore_index=True)\n"
     ]
    },
    {
     "name": "stdout",
     "output_type": "stream",
     "text": [
      "{'acousticness': 0.00407, 'danceability': 0.701, 'energy': 0.458, 'instrumentalness': 0.000151, 'liveness': 0.045, 'loudness': -7.749, 'speechiness': 0.0836, 'tempo': 102.967, 'valence': 0.482, 'popularity': 65}\n"
     ]
    },
    {
     "name": "stderr",
     "output_type": "stream",
     "text": [
      "/var/folders/_g/d3gd43912fnd1ygsn8rm91dw0000gn/T/ipykernel_49151/3526264110.py:46: FutureWarning: The frame.append method is deprecated and will be removed from pandas in a future version. Use pandas.concat instead.\n",
      "  new_data = new_data.append(row, ignore_index=True)\n"
     ]
    },
    {
     "name": "stdout",
     "output_type": "stream",
     "text": [
      "{'acousticness': 0.0337, 'danceability': 0.661, 'energy': 0.814, 'instrumentalness': 8.27e-06, 'liveness': 0.0518, 'loudness': -5.529, 'speechiness': 0.0759, 'tempo': 99.963, 'valence': 0.459, 'popularity': 70}\n"
     ]
    },
    {
     "name": "stderr",
     "output_type": "stream",
     "text": [
      "/var/folders/_g/d3gd43912fnd1ygsn8rm91dw0000gn/T/ipykernel_49151/3526264110.py:46: FutureWarning: The frame.append method is deprecated and will be removed from pandas in a future version. Use pandas.concat instead.\n",
      "  new_data = new_data.append(row, ignore_index=True)\n"
     ]
    },
    {
     "name": "stdout",
     "output_type": "stream",
     "text": [
      "{'acousticness': 0.109, 'danceability': 0.663, 'energy': 0.577, 'instrumentalness': 0, 'liveness': 0.12, 'loudness': -7.518, 'speechiness': 0.0531, 'tempo': 89.996, 'valence': 0.454, 'popularity': 69}\n"
     ]
    },
    {
     "name": "stderr",
     "output_type": "stream",
     "text": [
      "/var/folders/_g/d3gd43912fnd1ygsn8rm91dw0000gn/T/ipykernel_49151/3526264110.py:46: FutureWarning: The frame.append method is deprecated and will be removed from pandas in a future version. Use pandas.concat instead.\n",
      "  new_data = new_data.append(row, ignore_index=True)\n"
     ]
    },
    {
     "name": "stdout",
     "output_type": "stream",
     "text": [
      "{'acousticness': 0.0312, 'danceability': 0.489, 'energy': 0.581, 'instrumentalness': 0, 'liveness': 0.132, 'loudness': -5.731, 'speechiness': 0.0281, 'tempo': 86.016, 'valence': 0.494, 'popularity': 73}\n"
     ]
    },
    {
     "name": "stderr",
     "output_type": "stream",
     "text": [
      "/var/folders/_g/d3gd43912fnd1ygsn8rm91dw0000gn/T/ipykernel_49151/3526264110.py:46: FutureWarning: The frame.append method is deprecated and will be removed from pandas in a future version. Use pandas.concat instead.\n",
      "  new_data = new_data.append(row, ignore_index=True)\n"
     ]
    },
    {
     "name": "stdout",
     "output_type": "stream",
     "text": [
      "{'acousticness': 0.204, 'danceability': 0.766, 'energy': 0.709, 'instrumentalness': 1.41e-05, 'liveness': 0.126, 'loudness': -6.471, 'speechiness': 0.123, 'tempo': 128.07, 'valence': 0.506, 'popularity': 82}\n"
     ]
    },
    {
     "name": "stderr",
     "output_type": "stream",
     "text": [
      "/var/folders/_g/d3gd43912fnd1ygsn8rm91dw0000gn/T/ipykernel_49151/3526264110.py:46: FutureWarning: The frame.append method is deprecated and will be removed from pandas in a future version. Use pandas.concat instead.\n",
      "  new_data = new_data.append(row, ignore_index=True)\n"
     ]
    },
    {
     "name": "stdout",
     "output_type": "stream",
     "text": [
      "{'acousticness': 0.56, 'danceability': 0.534, 'energy': 0.596, 'instrumentalness': 0, 'liveness': 0.133, 'loudness': -6.653, 'speechiness': 0.117, 'tempo': 100.121, 'valence': 0.324, 'popularity': 66}\n"
     ]
    },
    {
     "name": "stderr",
     "output_type": "stream",
     "text": [
      "/var/folders/_g/d3gd43912fnd1ygsn8rm91dw0000gn/T/ipykernel_49151/3526264110.py:46: FutureWarning: The frame.append method is deprecated and will be removed from pandas in a future version. Use pandas.concat instead.\n",
      "  new_data = new_data.append(row, ignore_index=True)\n"
     ]
    },
    {
     "name": "stdout",
     "output_type": "stream",
     "text": [
      "{'acousticness': 0.189, 'danceability': 0.965, 'energy': 0.414, 'instrumentalness': 0, 'liveness': 0.0767, 'loudness': -6.408, 'speechiness': 0.0712, 'tempo': 121.032, 'valence': 0.729, 'popularity': 0}\n"
     ]
    },
    {
     "name": "stderr",
     "output_type": "stream",
     "text": [
      "/var/folders/_g/d3gd43912fnd1ygsn8rm91dw0000gn/T/ipykernel_49151/3526264110.py:46: FutureWarning: The frame.append method is deprecated and will be removed from pandas in a future version. Use pandas.concat instead.\n",
      "  new_data = new_data.append(row, ignore_index=True)\n"
     ]
    },
    {
     "name": "stdout",
     "output_type": "stream",
     "text": [
      "{'acousticness': 0.0364, 'danceability': 0.628, 'energy': 0.797, 'instrumentalness': 0, 'liveness': 0.104, 'loudness': -3.953, 'speechiness': 0.0596, 'tempo': 106.93, 'valence': 0.321, 'popularity': 64}\n"
     ]
    },
    {
     "name": "stderr",
     "output_type": "stream",
     "text": [
      "/var/folders/_g/d3gd43912fnd1ygsn8rm91dw0000gn/T/ipykernel_49151/3526264110.py:46: FutureWarning: The frame.append method is deprecated and will be removed from pandas in a future version. Use pandas.concat instead.\n",
      "  new_data = new_data.append(row, ignore_index=True)\n"
     ]
    },
    {
     "name": "stdout",
     "output_type": "stream",
     "text": [
      "{'acousticness': 0.103, 'danceability': 0.707, 'energy': 0.632, 'instrumentalness': 1.09e-05, 'liveness': 0.0841, 'loudness': -7.031, 'speechiness': 0.0789, 'tempo': 97.04, 'valence': 0.372, 'popularity': 72}\n"
     ]
    },
    {
     "name": "stderr",
     "output_type": "stream",
     "text": [
      "/var/folders/_g/d3gd43912fnd1ygsn8rm91dw0000gn/T/ipykernel_49151/3526264110.py:46: FutureWarning: The frame.append method is deprecated and will be removed from pandas in a future version. Use pandas.concat instead.\n",
      "  new_data = new_data.append(row, ignore_index=True)\n"
     ]
    },
    {
     "name": "stdout",
     "output_type": "stream",
     "text": [
      "{'acousticness': 0.278, 'danceability': 0.686, 'energy': 0.73, 'instrumentalness': 4.76e-05, 'liveness': 0.106, 'loudness': -5.077, 'speechiness': 0.374, 'tempo': 128.943, 'valence': 0.474, 'popularity': 72}\n"
     ]
    },
    {
     "name": "stderr",
     "output_type": "stream",
     "text": [
      "/var/folders/_g/d3gd43912fnd1ygsn8rm91dw0000gn/T/ipykernel_49151/3526264110.py:46: FutureWarning: The frame.append method is deprecated and will be removed from pandas in a future version. Use pandas.concat instead.\n",
      "  new_data = new_data.append(row, ignore_index=True)\n"
     ]
    },
    {
     "name": "stdout",
     "output_type": "stream",
     "text": [
      "{'acousticness': 0.0275, 'danceability': 0.516, 'energy': 0.595, 'instrumentalness': 0, 'liveness': 0.109, 'loudness': -4.63, 'speechiness': 0.0313, 'tempo': 119.972, 'valence': 0.222, 'popularity': 85}\n"
     ]
    },
    {
     "name": "stderr",
     "output_type": "stream",
     "text": [
      "/var/folders/_g/d3gd43912fnd1ygsn8rm91dw0000gn/T/ipykernel_49151/3526264110.py:46: FutureWarning: The frame.append method is deprecated and will be removed from pandas in a future version. Use pandas.concat instead.\n",
      "  new_data = new_data.append(row, ignore_index=True)\n"
     ]
    },
    {
     "name": "stdout",
     "output_type": "stream",
     "text": [
      "{'acousticness': 0.0161, 'danceability': 0.636, 'energy': 0.805, 'instrumentalness': 0, 'liveness': 0.0793, 'loudness': -4.594, 'speechiness': 0.327, 'tempo': 92.958, 'valence': 0.908, 'popularity': 58}\n"
     ]
    },
    {
     "name": "stderr",
     "output_type": "stream",
     "text": [
      "/var/folders/_g/d3gd43912fnd1ygsn8rm91dw0000gn/T/ipykernel_49151/3526264110.py:46: FutureWarning: The frame.append method is deprecated and will be removed from pandas in a future version. Use pandas.concat instead.\n",
      "  new_data = new_data.append(row, ignore_index=True)\n"
     ]
    },
    {
     "name": "stdout",
     "output_type": "stream",
     "text": [
      "{'acousticness': 0.239, 'danceability': 0.46, 'energy': 0.566, 'instrumentalness': 5.96e-06, 'liveness': 0.0967, 'loudness': -5.637, 'speechiness': 0.0502, 'tempo': 168.408, 'valence': 0.189, 'popularity': 69}\n"
     ]
    },
    {
     "name": "stderr",
     "output_type": "stream",
     "text": [
      "/var/folders/_g/d3gd43912fnd1ygsn8rm91dw0000gn/T/ipykernel_49151/3526264110.py:46: FutureWarning: The frame.append method is deprecated and will be removed from pandas in a future version. Use pandas.concat instead.\n",
      "  new_data = new_data.append(row, ignore_index=True)\n"
     ]
    },
    {
     "name": "stdout",
     "output_type": "stream",
     "text": [
      "{'acousticness': 0.0639, 'danceability': 0.766, 'energy': 0.622, 'instrumentalness': 0, 'liveness': 0.207, 'loudness': -5.292, 'speechiness': 0.101, 'tempo': 140.076, 'valence': 0.679, 'popularity': 62}\n"
     ]
    },
    {
     "name": "stderr",
     "output_type": "stream",
     "text": [
      "/var/folders/_g/d3gd43912fnd1ygsn8rm91dw0000gn/T/ipykernel_49151/3526264110.py:46: FutureWarning: The frame.append method is deprecated and will be removed from pandas in a future version. Use pandas.concat instead.\n",
      "  new_data = new_data.append(row, ignore_index=True)\n"
     ]
    },
    {
     "name": "stdout",
     "output_type": "stream",
     "text": [
      "{'acousticness': 0.0404, 'danceability': 0.841, 'energy': 0.623, 'instrumentalness': 0, 'liveness': 0.126, 'loudness': -6.76, 'speechiness': 0.0776, 'tempo': 121.983, 'valence': 0.744, 'popularity': 61}\n"
     ]
    },
    {
     "name": "stderr",
     "output_type": "stream",
     "text": [
      "/var/folders/_g/d3gd43912fnd1ygsn8rm91dw0000gn/T/ipykernel_49151/3526264110.py:46: FutureWarning: The frame.append method is deprecated and will be removed from pandas in a future version. Use pandas.concat instead.\n",
      "  new_data = new_data.append(row, ignore_index=True)\n"
     ]
    },
    {
     "name": "stdout",
     "output_type": "stream",
     "text": [
      "{'acousticness': 0.197, 'danceability': 0.633, 'energy': 0.592, 'instrumentalness': 0, 'liveness': 0.099, 'loudness': -7.245, 'speechiness': 0.112, 'tempo': 90.066, 'valence': 0.679, 'popularity': 66}\n"
     ]
    },
    {
     "name": "stderr",
     "output_type": "stream",
     "text": [
      "/var/folders/_g/d3gd43912fnd1ygsn8rm91dw0000gn/T/ipykernel_49151/3526264110.py:46: FutureWarning: The frame.append method is deprecated and will be removed from pandas in a future version. Use pandas.concat instead.\n",
      "  new_data = new_data.append(row, ignore_index=True)\n"
     ]
    },
    {
     "name": "stdout",
     "output_type": "stream",
     "text": [
      "{'acousticness': 0.00845, 'danceability': 0.649, 'energy': 0.589, 'instrumentalness': 0, 'liveness': 0.108, 'loudness': -6.237, 'speechiness': 0.0558, 'tempo': 159.073, 'valence': 0.151, 'popularity': 77}\n"
     ]
    },
    {
     "name": "stderr",
     "output_type": "stream",
     "text": [
      "/var/folders/_g/d3gd43912fnd1ygsn8rm91dw0000gn/T/ipykernel_49151/3526264110.py:46: FutureWarning: The frame.append method is deprecated and will be removed from pandas in a future version. Use pandas.concat instead.\n",
      "  new_data = new_data.append(row, ignore_index=True)\n"
     ]
    },
    {
     "name": "stdout",
     "output_type": "stream",
     "text": [
      "{'acousticness': 0.0223, 'danceability': 0.759, 'energy': 0.716, 'instrumentalness': 0, 'liveness': 0.231, 'loudness': -6.36, 'speechiness': 0.0818, 'tempo': 105.009, 'valence': 0.469, 'popularity': 59}\n"
     ]
    },
    {
     "name": "stderr",
     "output_type": "stream",
     "text": [
      "/var/folders/_g/d3gd43912fnd1ygsn8rm91dw0000gn/T/ipykernel_49151/3526264110.py:46: FutureWarning: The frame.append method is deprecated and will be removed from pandas in a future version. Use pandas.concat instead.\n",
      "  new_data = new_data.append(row, ignore_index=True)\n"
     ]
    },
    {
     "name": "stdout",
     "output_type": "stream",
     "text": [
      "{'acousticness': 0.000881, 'danceability': 0.805, 'energy': 0.71, 'instrumentalness': 2.64e-05, 'liveness': 0.358, 'loudness': -6.642, 'speechiness': 0.309, 'tempo': 190.044, 'valence': 0.147, 'popularity': 61}\n"
     ]
    },
    {
     "name": "stderr",
     "output_type": "stream",
     "text": [
      "/var/folders/_g/d3gd43912fnd1ygsn8rm91dw0000gn/T/ipykernel_49151/3526264110.py:46: FutureWarning: The frame.append method is deprecated and will be removed from pandas in a future version. Use pandas.concat instead.\n",
      "  new_data = new_data.append(row, ignore_index=True)\n"
     ]
    },
    {
     "name": "stdout",
     "output_type": "stream",
     "text": [
      "{'acousticness': 0.0183, 'danceability': 0.535, 'energy': 0.8, 'instrumentalness': 0, 'liveness': 0.421, 'loudness': -4.569, 'speechiness': 0.0342, 'tempo': 113.023, 'valence': 0.175, 'popularity': 66}\n"
     ]
    },
    {
     "name": "stderr",
     "output_type": "stream",
     "text": [
      "/var/folders/_g/d3gd43912fnd1ygsn8rm91dw0000gn/T/ipykernel_49151/3526264110.py:46: FutureWarning: The frame.append method is deprecated and will be removed from pandas in a future version. Use pandas.concat instead.\n",
      "  new_data = new_data.append(row, ignore_index=True)\n"
     ]
    },
    {
     "name": "stdout",
     "output_type": "stream",
     "text": [
      "{'acousticness': 0.0788, 'danceability': 0.572, 'energy': 0.691, 'instrumentalness': 0.000132, 'liveness': 0.0619, 'loudness': -4.783, 'speechiness': 0.123, 'tempo': 92.082, 'valence': 0.318, 'popularity': 58}\n"
     ]
    },
    {
     "name": "stderr",
     "output_type": "stream",
     "text": [
      "/var/folders/_g/d3gd43912fnd1ygsn8rm91dw0000gn/T/ipykernel_49151/3526264110.py:46: FutureWarning: The frame.append method is deprecated and will be removed from pandas in a future version. Use pandas.concat instead.\n",
      "  new_data = new_data.append(row, ignore_index=True)\n"
     ]
    },
    {
     "name": "stdout",
     "output_type": "stream",
     "text": [
      "{'acousticness': 0.0537, 'danceability': 0.633, 'energy': 0.793, 'instrumentalness': 0, 'liveness': 0.16, 'loudness': -4.126, 'speechiness': 0.055, 'tempo': 103.97, 'valence': 0.414, 'popularity': 57}\n"
     ]
    },
    {
     "name": "stderr",
     "output_type": "stream",
     "text": [
      "/var/folders/_g/d3gd43912fnd1ygsn8rm91dw0000gn/T/ipykernel_49151/3526264110.py:46: FutureWarning: The frame.append method is deprecated and will be removed from pandas in a future version. Use pandas.concat instead.\n",
      "  new_data = new_data.append(row, ignore_index=True)\n"
     ]
    },
    {
     "name": "stdout",
     "output_type": "stream",
     "text": [
      "{'acousticness': 0.00957, 'danceability': 0.678, 'energy': 0.896, 'instrumentalness': 0.0294, 'liveness': 0.0964, 'loudness': -2.812, 'speechiness': 0.0391, 'tempo': 122.029, 'valence': 0.895, 'popularity': 0}\n"
     ]
    },
    {
     "name": "stderr",
     "output_type": "stream",
     "text": [
      "/var/folders/_g/d3gd43912fnd1ygsn8rm91dw0000gn/T/ipykernel_49151/3526264110.py:46: FutureWarning: The frame.append method is deprecated and will be removed from pandas in a future version. Use pandas.concat instead.\n",
      "  new_data = new_data.append(row, ignore_index=True)\n"
     ]
    },
    {
     "name": "stdout",
     "output_type": "stream",
     "text": [
      "{'acousticness': 0.0281, 'danceability': 0.491, 'energy': 0.588, 'instrumentalness': 2.01e-06, 'liveness': 0.0906, 'loudness': -6.177, 'speechiness': 0.0506, 'tempo': 113.608, 'valence': 0.193, 'popularity': 77}\n"
     ]
    },
    {
     "name": "stderr",
     "output_type": "stream",
     "text": [
      "/var/folders/_g/d3gd43912fnd1ygsn8rm91dw0000gn/T/ipykernel_49151/3526264110.py:46: FutureWarning: The frame.append method is deprecated and will be removed from pandas in a future version. Use pandas.concat instead.\n",
      "  new_data = new_data.append(row, ignore_index=True)\n"
     ]
    },
    {
     "name": "stdout",
     "output_type": "stream",
     "text": [
      "{'acousticness': 0.0547, 'danceability': 0.772, 'energy': 0.744, 'instrumentalness': 0, 'liveness': 0.0852, 'loudness': -5.803, 'speechiness': 0.0398, 'tempo': 120.067, 'valence': 0.86, 'popularity': 62}\n"
     ]
    },
    {
     "name": "stderr",
     "output_type": "stream",
     "text": [
      "/var/folders/_g/d3gd43912fnd1ygsn8rm91dw0000gn/T/ipykernel_49151/3526264110.py:46: FutureWarning: The frame.append method is deprecated and will be removed from pandas in a future version. Use pandas.concat instead.\n",
      "  new_data = new_data.append(row, ignore_index=True)\n"
     ]
    },
    {
     "name": "stdout",
     "output_type": "stream",
     "text": [
      "{'acousticness': 0.225, 'danceability': 0.551, 'energy': 0.651, 'instrumentalness': 0, 'liveness': 0.224, 'loudness': -5.828, 'speechiness': 0.0594, 'tempo': 144.875, 'valence': 0.562, 'popularity': 62}\n"
     ]
    },
    {
     "name": "stderr",
     "output_type": "stream",
     "text": [
      "/var/folders/_g/d3gd43912fnd1ygsn8rm91dw0000gn/T/ipykernel_49151/3526264110.py:46: FutureWarning: The frame.append method is deprecated and will be removed from pandas in a future version. Use pandas.concat instead.\n",
      "  new_data = new_data.append(row, ignore_index=True)\n"
     ]
    },
    {
     "name": "stdout",
     "output_type": "stream",
     "text": [
      "{'acousticness': 0.805, 'danceability': 0.483, 'energy': 0.439, 'instrumentalness': 0, 'liveness': 0.637, 'loudness': -10.212, 'speechiness': 0.238, 'tempo': 81.986, 'valence': 0.618, 'popularity': 57}\n"
     ]
    },
    {
     "name": "stderr",
     "output_type": "stream",
     "text": [
      "/var/folders/_g/d3gd43912fnd1ygsn8rm91dw0000gn/T/ipykernel_49151/3526264110.py:46: FutureWarning: The frame.append method is deprecated and will be removed from pandas in a future version. Use pandas.concat instead.\n",
      "  new_data = new_data.append(row, ignore_index=True)\n"
     ]
    },
    {
     "name": "stdout",
     "output_type": "stream",
     "text": [
      "{'acousticness': 0.712, 'danceability': 0.677, 'energy': 0.401, 'instrumentalness': 0, 'liveness': 0.116, 'loudness': -8.467, 'speechiness': 0.0308, 'tempo': 111.825, 'valence': 0.195, 'popularity': 81}\n"
     ]
    },
    {
     "name": "stderr",
     "output_type": "stream",
     "text": [
      "/var/folders/_g/d3gd43912fnd1ygsn8rm91dw0000gn/T/ipykernel_49151/3526264110.py:46: FutureWarning: The frame.append method is deprecated and will be removed from pandas in a future version. Use pandas.concat instead.\n",
      "  new_data = new_data.append(row, ignore_index=True)\n"
     ]
    },
    {
     "name": "stdout",
     "output_type": "stream",
     "text": [
      "{'acousticness': 0.0164, 'danceability': 0.728, 'energy': 0.69, 'instrumentalness': 0, 'liveness': 0.104, 'loudness': -4.344, 'speechiness': 0.0524, 'tempo': 94.028, 'valence': 0.415, 'popularity': 53}\n"
     ]
    },
    {
     "name": "stderr",
     "output_type": "stream",
     "text": [
      "/var/folders/_g/d3gd43912fnd1ygsn8rm91dw0000gn/T/ipykernel_49151/3526264110.py:46: FutureWarning: The frame.append method is deprecated and will be removed from pandas in a future version. Use pandas.concat instead.\n",
      "  new_data = new_data.append(row, ignore_index=True)\n"
     ]
    },
    {
     "name": "stdout",
     "output_type": "stream",
     "text": [
      "{'acousticness': 0.0186, 'danceability': 0.738, 'energy': 0.857, 'instrumentalness': 1.85e-06, 'liveness': 0.0848, 'loudness': -4.127, 'speechiness': 0.0515, 'tempo': 99.958, 'valence': 0.845, 'popularity': 57}\n"
     ]
    },
    {
     "name": "stderr",
     "output_type": "stream",
     "text": [
      "/var/folders/_g/d3gd43912fnd1ygsn8rm91dw0000gn/T/ipykernel_49151/3526264110.py:46: FutureWarning: The frame.append method is deprecated and will be removed from pandas in a future version. Use pandas.concat instead.\n",
      "  new_data = new_data.append(row, ignore_index=True)\n"
     ]
    },
    {
     "name": "stdout",
     "output_type": "stream",
     "text": [
      "{'acousticness': 0.25, 'danceability': 0.747, 'energy': 0.641, 'instrumentalness': 0.00107, 'liveness': 0.106, 'loudness': -4.502, 'speechiness': 0.0925, 'tempo': 100.028, 'valence': 0.453, 'popularity': 57}\n"
     ]
    },
    {
     "name": "stderr",
     "output_type": "stream",
     "text": [
      "/var/folders/_g/d3gd43912fnd1ygsn8rm91dw0000gn/T/ipykernel_49151/3526264110.py:46: FutureWarning: The frame.append method is deprecated and will be removed from pandas in a future version. Use pandas.concat instead.\n",
      "  new_data = new_data.append(row, ignore_index=True)\n"
     ]
    },
    {
     "name": "stdout",
     "output_type": "stream",
     "text": [
      "{'acousticness': 0.0354, 'danceability': 0.745, 'energy': 0.579, 'instrumentalness': 0.0118, 'liveness': 0.246, 'loudness': -5.771, 'speechiness': 0.138, 'tempo': 97.002, 'valence': 0.645, 'popularity': 53}\n"
     ]
    },
    {
     "name": "stderr",
     "output_type": "stream",
     "text": [
      "/var/folders/_g/d3gd43912fnd1ygsn8rm91dw0000gn/T/ipykernel_49151/3526264110.py:46: FutureWarning: The frame.append method is deprecated and will be removed from pandas in a future version. Use pandas.concat instead.\n",
      "  new_data = new_data.append(row, ignore_index=True)\n"
     ]
    },
    {
     "name": "stdout",
     "output_type": "stream",
     "text": [
      "{'acousticness': 0.158, 'danceability': 0.627, 'energy': 0.693, 'instrumentalness': 0.000102, 'liveness': 0.115, 'loudness': -4.382, 'speechiness': 0.0856, 'tempo': 129.801, 'valence': 0.245, 'popularity': 48}\n"
     ]
    },
    {
     "name": "stderr",
     "output_type": "stream",
     "text": [
      "/var/folders/_g/d3gd43912fnd1ygsn8rm91dw0000gn/T/ipykernel_49151/3526264110.py:46: FutureWarning: The frame.append method is deprecated and will be removed from pandas in a future version. Use pandas.concat instead.\n",
      "  new_data = new_data.append(row, ignore_index=True)\n"
     ]
    },
    {
     "name": "stdout",
     "output_type": "stream",
     "text": [
      "{'acousticness': 0.0161, 'danceability': 0.577, 'energy': 0.48, 'instrumentalness': 0, 'liveness': 0.104, 'loudness': -5.908, 'speechiness': 0.0297, 'tempo': 76.54, 'valence': 0.422, 'popularity': 53}\n"
     ]
    },
    {
     "name": "stderr",
     "output_type": "stream",
     "text": [
      "/var/folders/_g/d3gd43912fnd1ygsn8rm91dw0000gn/T/ipykernel_49151/3526264110.py:46: FutureWarning: The frame.append method is deprecated and will be removed from pandas in a future version. Use pandas.concat instead.\n",
      "  new_data = new_data.append(row, ignore_index=True)\n"
     ]
    },
    {
     "name": "stdout",
     "output_type": "stream",
     "text": [
      "{'acousticness': 0.00695, 'danceability': 0.793, 'energy': 0.554, 'instrumentalness': 0, 'liveness': 0.127, 'loudness': -6.624, 'speechiness': 0.0451, 'tempo': 119.993, 'valence': 0.225, 'popularity': 47}\n"
     ]
    },
    {
     "name": "stderr",
     "output_type": "stream",
     "text": [
      "/var/folders/_g/d3gd43912fnd1ygsn8rm91dw0000gn/T/ipykernel_49151/3526264110.py:46: FutureWarning: The frame.append method is deprecated and will be removed from pandas in a future version. Use pandas.concat instead.\n",
      "  new_data = new_data.append(row, ignore_index=True)\n"
     ]
    },
    {
     "name": "stdout",
     "output_type": "stream",
     "text": [
      "{'acousticness': 0.00457, 'danceability': 0.749, 'energy': 0.758, 'instrumentalness': 0, 'liveness': 0.203, 'loudness': -8.065, 'speechiness': 0.0451, 'tempo': 110.005, 'valence': 0.591, 'popularity': 45}\n"
     ]
    },
    {
     "name": "stderr",
     "output_type": "stream",
     "text": [
      "/var/folders/_g/d3gd43912fnd1ygsn8rm91dw0000gn/T/ipykernel_49151/3526264110.py:46: FutureWarning: The frame.append method is deprecated and will be removed from pandas in a future version. Use pandas.concat instead.\n",
      "  new_data = new_data.append(row, ignore_index=True)\n"
     ]
    },
    {
     "name": "stdout",
     "output_type": "stream",
     "text": [
      "{'acousticness': 0.133, 'danceability': 0.582, 'energy': 0.835, 'instrumentalness': 0, 'liveness': 0.102, 'loudness': -4.899, 'speechiness': 0.222, 'tempo': 160.09, 'valence': 0.496, 'popularity': 55}\n"
     ]
    },
    {
     "name": "stderr",
     "output_type": "stream",
     "text": [
      "/var/folders/_g/d3gd43912fnd1ygsn8rm91dw0000gn/T/ipykernel_49151/3526264110.py:46: FutureWarning: The frame.append method is deprecated and will be removed from pandas in a future version. Use pandas.concat instead.\n",
      "  new_data = new_data.append(row, ignore_index=True)\n"
     ]
    },
    {
     "name": "stdout",
     "output_type": "stream",
     "text": [
      "{'acousticness': 0.0511, 'danceability': 0.968, 'energy': 0.589, 'instrumentalness': 0, 'liveness': 0.0731, 'loudness': -7.808, 'speechiness': 0.255, 'tempo': 129.993, 'valence': 0.268, 'popularity': 61}\n"
     ]
    },
    {
     "name": "stderr",
     "output_type": "stream",
     "text": [
      "/var/folders/_g/d3gd43912fnd1ygsn8rm91dw0000gn/T/ipykernel_49151/3526264110.py:46: FutureWarning: The frame.append method is deprecated and will be removed from pandas in a future version. Use pandas.concat instead.\n",
      "  new_data = new_data.append(row, ignore_index=True)\n"
     ]
    },
    {
     "name": "stdout",
     "output_type": "stream",
     "text": [
      "{'acousticness': 0.0489, 'danceability': 0.595, 'energy': 0.772, 'instrumentalness': 0, 'liveness': 0.0842, 'loudness': -4.693, 'speechiness': 0.08, 'tempo': 102.208, 'valence': 0.759, 'popularity': 0}\n"
     ]
    },
    {
     "name": "stderr",
     "output_type": "stream",
     "text": [
      "/var/folders/_g/d3gd43912fnd1ygsn8rm91dw0000gn/T/ipykernel_49151/3526264110.py:46: FutureWarning: The frame.append method is deprecated and will be removed from pandas in a future version. Use pandas.concat instead.\n",
      "  new_data = new_data.append(row, ignore_index=True)\n"
     ]
    },
    {
     "name": "stdout",
     "output_type": "stream",
     "text": [
      "{'acousticness': 0.841, 'danceability': 0.775, 'energy': 0.327, 'instrumentalness': 0, 'liveness': 0.0821, 'loudness': -7.241, 'speechiness': 0.0557, 'tempo': 91.05, 'valence': 0.595, 'popularity': 82}\n"
     ]
    },
    {
     "name": "stderr",
     "output_type": "stream",
     "text": [
      "/var/folders/_g/d3gd43912fnd1ygsn8rm91dw0000gn/T/ipykernel_49151/3526264110.py:46: FutureWarning: The frame.append method is deprecated and will be removed from pandas in a future version. Use pandas.concat instead.\n",
      "  new_data = new_data.append(row, ignore_index=True)\n"
     ]
    },
    {
     "name": "stdout",
     "output_type": "stream",
     "text": [
      "{'acousticness': 0.556, 'danceability': 0.488, 'energy': 0.343, 'instrumentalness': 0, 'liveness': 0.21, 'loudness': -8.985, 'speechiness': 0.0436, 'tempo': 102.819, 'valence': 0.0978, 'popularity': 83}\n"
     ]
    },
    {
     "name": "stderr",
     "output_type": "stream",
     "text": [
      "/var/folders/_g/d3gd43912fnd1ygsn8rm91dw0000gn/T/ipykernel_49151/3526264110.py:46: FutureWarning: The frame.append method is deprecated and will be removed from pandas in a future version. Use pandas.concat instead.\n",
      "  new_data = new_data.append(row, ignore_index=True)\n"
     ]
    },
    {
     "name": "stdout",
     "output_type": "stream",
     "text": [
      "{'acousticness': 0.751, 'danceability': 0.501, 'energy': 0.405, 'instrumentalness': 0, 'liveness': 0.105, 'loudness': -5.679, 'speechiness': 0.0319, 'tempo': 109.891, 'valence': 0.446, 'popularity': 89}\n"
     ]
    },
    {
     "name": "stderr",
     "output_type": "stream",
     "text": [
      "/var/folders/_g/d3gd43912fnd1ygsn8rm91dw0000gn/T/ipykernel_49151/3526264110.py:46: FutureWarning: The frame.append method is deprecated and will be removed from pandas in a future version. Use pandas.concat instead.\n",
      "  new_data = new_data.append(row, ignore_index=True)\n"
     ]
    },
    {
     "name": "stdout",
     "output_type": "stream",
     "text": [
      "{'acousticness': 0.0392, 'danceability': 0.759, 'energy': 0.548, 'instrumentalness': 0, 'liveness': 0.0828, 'loudness': -6.049, 'speechiness': 0.029, 'tempo': 116.967, 'valence': 0.749, 'popularity': 82}\n"
     ]
    },
    {
     "name": "stderr",
     "output_type": "stream",
     "text": [
      "/var/folders/_g/d3gd43912fnd1ygsn8rm91dw0000gn/T/ipykernel_49151/3526264110.py:46: FutureWarning: The frame.append method is deprecated and will be removed from pandas in a future version. Use pandas.concat instead.\n",
      "  new_data = new_data.append(row, ignore_index=True)\n"
     ]
    },
    {
     "name": "stdout",
     "output_type": "stream",
     "text": [
      "{'acousticness': 0.154, 'danceability': 0.561, 'energy': 0.685, 'instrumentalness': 0, 'liveness': 0.077, 'loudness': -4.891, 'speechiness': 0.0835, 'tempo': 165.944, 'valence': 0.363, 'popularity': 0}\n"
     ]
    },
    {
     "name": "stderr",
     "output_type": "stream",
     "text": [
      "/var/folders/_g/d3gd43912fnd1ygsn8rm91dw0000gn/T/ipykernel_49151/3526264110.py:46: FutureWarning: The frame.append method is deprecated and will be removed from pandas in a future version. Use pandas.concat instead.\n",
      "  new_data = new_data.append(row, ignore_index=True)\n"
     ]
    },
    {
     "name": "stdout",
     "output_type": "stream",
     "text": [
      "{'acousticness': 0.148, 'danceability': 0.857, 'energy': 0.621, 'instrumentalness': 0, 'liveness': 0.0865, 'loudness': -6.376, 'speechiness': 0.0825, 'tempo': 97.989, 'valence': 0.668, 'popularity': 76}\n"
     ]
    },
    {
     "name": "stderr",
     "output_type": "stream",
     "text": [
      "/var/folders/_g/d3gd43912fnd1ygsn8rm91dw0000gn/T/ipykernel_49151/3526264110.py:46: FutureWarning: The frame.append method is deprecated and will be removed from pandas in a future version. Use pandas.concat instead.\n",
      "  new_data = new_data.append(row, ignore_index=True)\n"
     ]
    },
    {
     "name": "stdout",
     "output_type": "stream",
     "text": [
      "{'acousticness': 0.56, 'danceability': 0.619, 'energy': 0.459, 'instrumentalness': 0, 'liveness': 0.137, 'loudness': -5.782, 'speechiness': 0.0334, 'tempo': 126.803, 'valence': 0.498, 'popularity': 69}\n"
     ]
    },
    {
     "name": "stderr",
     "output_type": "stream",
     "text": [
      "/var/folders/_g/d3gd43912fnd1ygsn8rm91dw0000gn/T/ipykernel_49151/3526264110.py:46: FutureWarning: The frame.append method is deprecated and will be removed from pandas in a future version. Use pandas.concat instead.\n",
      "  new_data = new_data.append(row, ignore_index=True)\n"
     ]
    },
    {
     "name": "stdout",
     "output_type": "stream",
     "text": [
      "{'acousticness': 0.191, 'danceability': 0.687, 'energy': 0.792, 'instrumentalness': 0, 'liveness': 0.167, 'loudness': -2.749, 'speechiness': 0.0452, 'tempo': 100.015, 'valence': 0.671, 'popularity': 84}\n"
     ]
    },
    {
     "name": "stderr",
     "output_type": "stream",
     "text": [
      "/var/folders/_g/d3gd43912fnd1ygsn8rm91dw0000gn/T/ipykernel_49151/3526264110.py:46: FutureWarning: The frame.append method is deprecated and will be removed from pandas in a future version. Use pandas.concat instead.\n",
      "  new_data = new_data.append(row, ignore_index=True)\n"
     ]
    },
    {
     "name": "stdout",
     "output_type": "stream",
     "text": [
      "{'acousticness': 0.11, 'danceability': 0.715, 'energy': 0.624, 'instrumentalness': 0, 'liveness': 0.123, 'loudness': -3.046, 'speechiness': 0.114, 'tempo': 158.087, 'valence': 0.412, 'popularity': 77}\n"
     ]
    },
    {
     "name": "stderr",
     "output_type": "stream",
     "text": [
      "/var/folders/_g/d3gd43912fnd1ygsn8rm91dw0000gn/T/ipykernel_49151/3526264110.py:46: FutureWarning: The frame.append method is deprecated and will be removed from pandas in a future version. Use pandas.concat instead.\n",
      "  new_data = new_data.append(row, ignore_index=True)\n"
     ]
    },
    {
     "name": "stdout",
     "output_type": "stream",
     "text": [
      "{'acousticness': 0.298, 'danceability': 0.668, 'energy': 0.892, 'instrumentalness': 0, 'liveness': 0.735, 'loudness': -3.001, 'speechiness': 0.0645, 'tempo': 95.927, 'valence': 0.478, 'popularity': 65}\n"
     ]
    },
    {
     "name": "stderr",
     "output_type": "stream",
     "text": [
      "/var/folders/_g/d3gd43912fnd1ygsn8rm91dw0000gn/T/ipykernel_49151/3526264110.py:46: FutureWarning: The frame.append method is deprecated and will be removed from pandas in a future version. Use pandas.concat instead.\n",
      "  new_data = new_data.append(row, ignore_index=True)\n"
     ]
    },
    {
     "name": "stdout",
     "output_type": "stream",
     "text": [
      "{'acousticness': 0.0151, 'danceability': 0.693, 'energy': 0.678, 'instrumentalness': 5.71e-06, 'liveness': 0.101, 'loudness': -7.159, 'speechiness': 0.0324, 'tempo': 103.952, 'valence': 0.404, 'popularity': 77}\n"
     ]
    },
    {
     "name": "stderr",
     "output_type": "stream",
     "text": [
      "/var/folders/_g/d3gd43912fnd1ygsn8rm91dw0000gn/T/ipykernel_49151/3526264110.py:46: FutureWarning: The frame.append method is deprecated and will be removed from pandas in a future version. Use pandas.concat instead.\n",
      "  new_data = new_data.append(row, ignore_index=True)\n"
     ]
    },
    {
     "name": "stdout",
     "output_type": "stream",
     "text": [
      "{'acousticness': 0.108, 'danceability': 0.795, 'energy': 0.496, 'instrumentalness': 0, 'liveness': 0.0645, 'loudness': -5.883, 'speechiness': 0.0722, 'tempo': 94.01, 'valence': 0.874, 'popularity': 73}\n"
     ]
    },
    {
     "name": "stderr",
     "output_type": "stream",
     "text": [
      "/var/folders/_g/d3gd43912fnd1ygsn8rm91dw0000gn/T/ipykernel_49151/3526264110.py:46: FutureWarning: The frame.append method is deprecated and will be removed from pandas in a future version. Use pandas.concat instead.\n",
      "  new_data = new_data.append(row, ignore_index=True)\n"
     ]
    },
    {
     "name": "stdout",
     "output_type": "stream",
     "text": [
      "{'acousticness': 0.124, 'danceability': 0.64, 'energy': 0.647, 'instrumentalness': 0, 'liveness': 0.0801, 'loudness': -8.114, 'speechiness': 0.186, 'tempo': 92.979, 'valence': 0.546, 'popularity': 75}\n"
     ]
    },
    {
     "name": "stderr",
     "output_type": "stream",
     "text": [
      "/var/folders/_g/d3gd43912fnd1ygsn8rm91dw0000gn/T/ipykernel_49151/3526264110.py:46: FutureWarning: The frame.append method is deprecated and will be removed from pandas in a future version. Use pandas.concat instead.\n",
      "  new_data = new_data.append(row, ignore_index=True)\n"
     ]
    },
    {
     "name": "stdout",
     "output_type": "stream",
     "text": [
      "{'acousticness': 0.0427, 'danceability': 0.842, 'energy': 0.734, 'instrumentalness': 0, 'liveness': 0.106, 'loudness': -5.065, 'speechiness': 0.0588, 'tempo': 137.958, 'valence': 0.952, 'popularity': 82}\n"
     ]
    },
    {
     "name": "stderr",
     "output_type": "stream",
     "text": [
      "/var/folders/_g/d3gd43912fnd1ygsn8rm91dw0000gn/T/ipykernel_49151/3526264110.py:46: FutureWarning: The frame.append method is deprecated and will be removed from pandas in a future version. Use pandas.concat instead.\n",
      "  new_data = new_data.append(row, ignore_index=True)\n"
     ]
    },
    {
     "name": "stdout",
     "output_type": "stream",
     "text": [
      "{'acousticness': 0.0912, 'danceability': 0.798, 'energy': 0.675, 'instrumentalness': 0, 'liveness': 0.0894, 'loudness': -5.041, 'speechiness': 0.0442, 'tempo': 101.956, 'valence': 0.842, 'popularity': 78}\n"
     ]
    },
    {
     "name": "stderr",
     "output_type": "stream",
     "text": [
      "/var/folders/_g/d3gd43912fnd1ygsn8rm91dw0000gn/T/ipykernel_49151/3526264110.py:46: FutureWarning: The frame.append method is deprecated and will be removed from pandas in a future version. Use pandas.concat instead.\n",
      "  new_data = new_data.append(row, ignore_index=True)\n"
     ]
    },
    {
     "name": "stdout",
     "output_type": "stream",
     "text": [
      "{'acousticness': 0.0516, 'danceability': 0.9, 'energy': 0.4, 'instrumentalness': 0, 'liveness': 0.0599, 'loudness': -8.575, 'speechiness': 0.127, 'tempo': 135.984, 'valence': 0.346, 'popularity': 72}\n"
     ]
    },
    {
     "name": "stderr",
     "output_type": "stream",
     "text": [
      "/var/folders/_g/d3gd43912fnd1ygsn8rm91dw0000gn/T/ipykernel_49151/3526264110.py:46: FutureWarning: The frame.append method is deprecated and will be removed from pandas in a future version. Use pandas.concat instead.\n",
      "  new_data = new_data.append(row, ignore_index=True)\n"
     ]
    },
    {
     "name": "stdout",
     "output_type": "stream",
     "text": [
      "{'acousticness': 0.016, 'danceability': 0.807, 'energy': 0.887, 'instrumentalness': 0.000503, 'liveness': 0.0811, 'loudness': -4.311, 'speechiness': 0.0361, 'tempo': 122.015, 'valence': 0.606, 'popularity': 74}\n"
     ]
    },
    {
     "name": "stderr",
     "output_type": "stream",
     "text": [
      "/var/folders/_g/d3gd43912fnd1ygsn8rm91dw0000gn/T/ipykernel_49151/3526264110.py:46: FutureWarning: The frame.append method is deprecated and will be removed from pandas in a future version. Use pandas.concat instead.\n",
      "  new_data = new_data.append(row, ignore_index=True)\n"
     ]
    },
    {
     "name": "stdout",
     "output_type": "stream",
     "text": [
      "{'acousticness': 0.126, 'danceability': 0.528, 'energy': 0.511, 'instrumentalness': 0, 'liveness': 0.101, 'loudness': -8.144, 'speechiness': 0.0324, 'tempo': 100.1, 'valence': 0.351, 'popularity': 75}\n"
     ]
    },
    {
     "name": "stderr",
     "output_type": "stream",
     "text": [
      "/var/folders/_g/d3gd43912fnd1ygsn8rm91dw0000gn/T/ipykernel_49151/3526264110.py:46: FutureWarning: The frame.append method is deprecated and will be removed from pandas in a future version. Use pandas.concat instead.\n",
      "  new_data = new_data.append(row, ignore_index=True)\n"
     ]
    },
    {
     "name": "stdout",
     "output_type": "stream",
     "text": [
      "{'acousticness': 0.479, 'danceability': 0.733, 'energy': 0.859, 'instrumentalness': 0.0645, 'liveness': 0.105, 'loudness': -5.03, 'speechiness': 0.033, 'tempo': 124.948, 'valence': 0.52, 'popularity': 66}\n"
     ]
    },
    {
     "name": "stderr",
     "output_type": "stream",
     "text": [
      "/var/folders/_g/d3gd43912fnd1ygsn8rm91dw0000gn/T/ipykernel_49151/3526264110.py:46: FutureWarning: The frame.append method is deprecated and will be removed from pandas in a future version. Use pandas.concat instead.\n",
      "  new_data = new_data.append(row, ignore_index=True)\n"
     ]
    },
    {
     "name": "stdout",
     "output_type": "stream",
     "text": [
      "{'acousticness': 0.568, 'danceability': 0.851, 'energy': 0.541, 'instrumentalness': 0, 'liveness': 0.13, 'loudness': -6.825, 'speechiness': 0.0505, 'tempo': 124.959, 'valence': 0.448, 'popularity': 67}\n"
     ]
    },
    {
     "name": "stderr",
     "output_type": "stream",
     "text": [
      "/var/folders/_g/d3gd43912fnd1ygsn8rm91dw0000gn/T/ipykernel_49151/3526264110.py:46: FutureWarning: The frame.append method is deprecated and will be removed from pandas in a future version. Use pandas.concat instead.\n",
      "  new_data = new_data.append(row, ignore_index=True)\n"
     ]
    },
    {
     "name": "stdout",
     "output_type": "stream",
     "text": [
      "{'acousticness': 0.204, 'danceability': 0.585, 'energy': 0.696, 'instrumentalness': 0, 'liveness': 0.344, 'loudness': -5.6, 'speechiness': 0.0307, 'tempo': 104.01, 'valence': 0.522, 'popularity': 74}\n"
     ]
    },
    {
     "name": "stderr",
     "output_type": "stream",
     "text": [
      "/var/folders/_g/d3gd43912fnd1ygsn8rm91dw0000gn/T/ipykernel_49151/3526264110.py:46: FutureWarning: The frame.append method is deprecated and will be removed from pandas in a future version. Use pandas.concat instead.\n",
      "  new_data = new_data.append(row, ignore_index=True)\n"
     ]
    },
    {
     "name": "stdout",
     "output_type": "stream",
     "text": [
      "{'acousticness': 0.123, 'danceability': 0.696, 'energy': 0.454, 'instrumentalness': 0, 'liveness': 0.155, 'loudness': -6.756, 'speechiness': 0.153, 'tempo': 92.928, 'valence': 0.136, 'popularity': 80}\n"
     ]
    },
    {
     "name": "stderr",
     "output_type": "stream",
     "text": [
      "/var/folders/_g/d3gd43912fnd1ygsn8rm91dw0000gn/T/ipykernel_49151/3526264110.py:46: FutureWarning: The frame.append method is deprecated and will be removed from pandas in a future version. Use pandas.concat instead.\n",
      "  new_data = new_data.append(row, ignore_index=True)\n"
     ]
    },
    {
     "name": "stdout",
     "output_type": "stream",
     "text": [
      "{'acousticness': 0.132, 'danceability': 0.716, 'energy': 0.823, 'instrumentalness': 0, 'liveness': 0.361, 'loudness': -5.313, 'speechiness': 0.0495, 'tempo': 151.957, 'valence': 0.91, 'popularity': 65}\n"
     ]
    },
    {
     "name": "stderr",
     "output_type": "stream",
     "text": [
      "/var/folders/_g/d3gd43912fnd1ygsn8rm91dw0000gn/T/ipykernel_49151/3526264110.py:46: FutureWarning: The frame.append method is deprecated and will be removed from pandas in a future version. Use pandas.concat instead.\n",
      "  new_data = new_data.append(row, ignore_index=True)\n"
     ]
    },
    {
     "name": "stdout",
     "output_type": "stream",
     "text": [
      "{'acousticness': 0.157, 'danceability': 0.842, 'energy': 0.801, 'instrumentalness': 4.82e-06, 'liveness': 0.0642, 'loudness': -4.167, 'speechiness': 0.228, 'tempo': 95.881, 'valence': 0.617, 'popularity': 74}\n"
     ]
    },
    {
     "name": "stderr",
     "output_type": "stream",
     "text": [
      "/var/folders/_g/d3gd43912fnd1ygsn8rm91dw0000gn/T/ipykernel_49151/3526264110.py:46: FutureWarning: The frame.append method is deprecated and will be removed from pandas in a future version. Use pandas.concat instead.\n",
      "  new_data = new_data.append(row, ignore_index=True)\n"
     ]
    },
    {
     "name": "stdout",
     "output_type": "stream",
     "text": [
      "{'acousticness': 0.165, 'danceability': 0.736, 'energy': 0.868, 'instrumentalness': 1.67e-06, 'liveness': 0.0419, 'loudness': -3.01, 'speechiness': 0.0454, 'tempo': 94.026, 'valence': 0.613, 'popularity': 0}\n"
     ]
    },
    {
     "name": "stderr",
     "output_type": "stream",
     "text": [
      "/var/folders/_g/d3gd43912fnd1ygsn8rm91dw0000gn/T/ipykernel_49151/3526264110.py:46: FutureWarning: The frame.append method is deprecated and will be removed from pandas in a future version. Use pandas.concat instead.\n",
      "  new_data = new_data.append(row, ignore_index=True)\n"
     ]
    },
    {
     "name": "stdout",
     "output_type": "stream",
     "text": [
      "{'acousticness': 0.00548, 'danceability': 0.605, 'energy': 0.664, 'instrumentalness': 3e-06, 'liveness': 0.204, 'loudness': -7.162, 'speechiness': 0.0316, 'tempo': 103.997, 'valence': 0.164, 'popularity': 58}\n"
     ]
    },
    {
     "name": "stderr",
     "output_type": "stream",
     "text": [
      "/var/folders/_g/d3gd43912fnd1ygsn8rm91dw0000gn/T/ipykernel_49151/3526264110.py:46: FutureWarning: The frame.append method is deprecated and will be removed from pandas in a future version. Use pandas.concat instead.\n",
      "  new_data = new_data.append(row, ignore_index=True)\n"
     ]
    },
    {
     "name": "stdout",
     "output_type": "stream",
     "text": [
      "{'acousticness': 0.212, 'danceability': 0.746, 'energy': 0.787, 'instrumentalness': 0, 'liveness': 0.0669, 'loudness': -6.373, 'speechiness': 0.12, 'tempo': 95.005, 'valence': 0.607, 'popularity': 62}\n"
     ]
    },
    {
     "name": "stderr",
     "output_type": "stream",
     "text": [
      "/var/folders/_g/d3gd43912fnd1ygsn8rm91dw0000gn/T/ipykernel_49151/3526264110.py:46: FutureWarning: The frame.append method is deprecated and will be removed from pandas in a future version. Use pandas.concat instead.\n",
      "  new_data = new_data.append(row, ignore_index=True)\n"
     ]
    },
    {
     "name": "stdout",
     "output_type": "stream",
     "text": [
      "{'acousticness': 0.073, 'danceability': 0.527, 'energy': 0.761, 'instrumentalness': 0, 'liveness': 0.0865, 'loudness': -4.708, 'speechiness': 0.341, 'tempo': 135.543, 'valence': 0.653, 'popularity': 59}\n"
     ]
    },
    {
     "name": "stderr",
     "output_type": "stream",
     "text": [
      "/var/folders/_g/d3gd43912fnd1ygsn8rm91dw0000gn/T/ipykernel_49151/3526264110.py:46: FutureWarning: The frame.append method is deprecated and will be removed from pandas in a future version. Use pandas.concat instead.\n",
      "  new_data = new_data.append(row, ignore_index=True)\n"
     ]
    },
    {
     "name": "stdout",
     "output_type": "stream",
     "text": [
      "{'acousticness': 0.00987, 'danceability': 0.601, 'energy': 0.794, 'instrumentalness': 1.36e-06, 'liveness': 0.388, 'loudness': -5.844, 'speechiness': 0.0671, 'tempo': 114.066, 'valence': 0.244, 'popularity': 79}\n"
     ]
    },
    {
     "name": "stderr",
     "output_type": "stream",
     "text": [
      "/var/folders/_g/d3gd43912fnd1ygsn8rm91dw0000gn/T/ipykernel_49151/3526264110.py:46: FutureWarning: The frame.append method is deprecated and will be removed from pandas in a future version. Use pandas.concat instead.\n",
      "  new_data = new_data.append(row, ignore_index=True)\n"
     ]
    },
    {
     "name": "stdout",
     "output_type": "stream",
     "text": [
      "{'acousticness': 0.0636, 'danceability': 0.696, 'energy': 0.439, 'instrumentalness': 0, 'liveness': 0.127, 'loudness': -8.77, 'speechiness': 0.055, 'tempo': 149.923, 'valence': 0.229, 'popularity': 53}\n"
     ]
    },
    {
     "name": "stderr",
     "output_type": "stream",
     "text": [
      "/var/folders/_g/d3gd43912fnd1ygsn8rm91dw0000gn/T/ipykernel_49151/3526264110.py:46: FutureWarning: The frame.append method is deprecated and will be removed from pandas in a future version. Use pandas.concat instead.\n",
      "  new_data = new_data.append(row, ignore_index=True)\n"
     ]
    }
   ],
   "source": [
    "import time\n",
    "to_add = pd.read_csv(\"top10s.csv\",encoding='latin-1')\n",
    "to_add= to_add.iloc[:,1:3]\n",
    "\n",
    "\n",
    "for index, row in to_add.iterrows():\n",
    "    time.sleep(1)\n",
    "    # Extract the values of the 'title' and 'artist' columns from the current row\n",
    "    title = row['title']\n",
    "    artist = row['artist']\n",
    "    \n",
    "    try:\n",
    "        # Search for the song\n",
    "        song_name = title\n",
    "        artist_name = artist\n",
    "        query = f\"track:{song_name} artist:{artist_name}\"\n",
    "        result = spotify.search(query, type='track', limit=1)\n",
    "\n",
    "\n",
    "        # Extract the Spotify ID (URI) of the song\n",
    "        track = result['tracks']['items'][0]\n",
    "        song_id = track['id']\n",
    "\n",
    "        # Retrieve the audio features\n",
    "        audio_features = spotify.audio_features([song_id])[0]\n",
    "\n",
    "\n",
    "\n",
    "        nrgy = audio_features['energy']\n",
    "        dnce = audio_features['danceability']\n",
    "        dB = audio_features['loudness']\n",
    "        live = audio_features['liveness']\n",
    "        val = audio_features['valence']\n",
    "        acous = audio_features['acousticness']\n",
    "        spch = audio_features['speechiness']\n",
    "        inst = audio_features['instrumentalness']\n",
    "        tempo = audio_features['tempo']\n",
    "        popularity = result['tracks']['items'][0]['popularity']\n",
    "\n",
    "\n",
    "\n",
    "        row = {'acousticness':acous,'danceability':dnce,'energy':nrgy,'instrumentalness':inst,'liveness':live,'loudness':dB,'speechiness':spch,'tempo':tempo,'valence':val,'popularity':popularity}\n",
    "\n",
    "        print(row)\n",
    "\n",
    "        new_data = new_data.append(row, ignore_index=True)\n",
    "    except:\n",
    "        continue"
   ]
  },
  {
   "cell_type": "code",
   "execution_count": 77,
   "id": "c8d2f7ae",
   "metadata": {},
   "outputs": [],
   "source": [
    "new_data.to_csv('FINAL_DATASET.csv')"
   ]
  },
  {
   "cell_type": "code",
   "execution_count": 119,
   "id": "57ff4105",
   "metadata": {},
   "outputs": [],
   "source": [
    "new_data = pd.read_csv('FINAL_DATASET.csv')\n",
    "\n",
    "Y_data = new_data['popularity']\n",
    "\n",
    "Y_data\n",
    "\n",
    "new_data.drop(columns = ['popularity'], inplace = True)\n",
    "X_data = new_data\n",
    "X_data.drop(columns = ['Unnamed: 0'], inplace = True)"
   ]
  },
  {
   "cell_type": "code",
   "execution_count": 120,
   "id": "140db75f",
   "metadata": {},
   "outputs": [],
   "source": [
    "def replace_values(x):\n",
    "    if x < 50:\n",
    "        return \"NOT-POPULAR\"\n",
    "    else:\n",
    "        return \"POPULAR\"\n",
    "\n",
    "# Apply the function to all elements in the DataFrame\n",
    "Y_data = Y_data.apply(replace_values)"
   ]
  },
  {
   "cell_type": "code",
   "execution_count": 121,
   "id": "7219f82b",
   "metadata": {},
   "outputs": [
    {
     "data": {
      "text/html": [
       "<div>\n",
       "<style scoped>\n",
       "    .dataframe tbody tr th:only-of-type {\n",
       "        vertical-align: middle;\n",
       "    }\n",
       "\n",
       "    .dataframe tbody tr th {\n",
       "        vertical-align: top;\n",
       "    }\n",
       "\n",
       "    .dataframe thead th {\n",
       "        text-align: right;\n",
       "    }\n",
       "</style>\n",
       "<table border=\"1\" class=\"dataframe\">\n",
       "  <thead>\n",
       "    <tr style=\"text-align: right;\">\n",
       "      <th></th>\n",
       "      <th>acousticness</th>\n",
       "      <th>danceability</th>\n",
       "      <th>energy</th>\n",
       "      <th>instrumentalness</th>\n",
       "      <th>liveness</th>\n",
       "      <th>loudness</th>\n",
       "      <th>speechiness</th>\n",
       "      <th>tempo</th>\n",
       "      <th>valence</th>\n",
       "    </tr>\n",
       "  </thead>\n",
       "  <tbody>\n",
       "    <tr>\n",
       "      <th>0</th>\n",
       "      <td>0.979333</td>\n",
       "      <td>0.162883</td>\n",
       "      <td>0.071317</td>\n",
       "      <td>0.606834</td>\n",
       "      <td>0.361600</td>\n",
       "      <td>-31.514333</td>\n",
       "      <td>0.040567</td>\n",
       "      <td>75.336500</td>\n",
       "      <td>0.103783</td>\n",
       "    </tr>\n",
       "    <tr>\n",
       "      <th>1</th>\n",
       "      <td>0.494780</td>\n",
       "      <td>0.299333</td>\n",
       "      <td>0.450678</td>\n",
       "      <td>0.477762</td>\n",
       "      <td>0.131000</td>\n",
       "      <td>-16.854000</td>\n",
       "      <td>0.076817</td>\n",
       "      <td>120.285667</td>\n",
       "      <td>0.221750</td>\n",
       "    </tr>\n",
       "    <tr>\n",
       "      <th>2</th>\n",
       "      <td>0.762000</td>\n",
       "      <td>0.712000</td>\n",
       "      <td>0.818000</td>\n",
       "      <td>0.876000</td>\n",
       "      <td>0.126000</td>\n",
       "      <td>-9.180000</td>\n",
       "      <td>0.047000</td>\n",
       "      <td>133.444000</td>\n",
       "      <td>0.975000</td>\n",
       "    </tr>\n",
       "    <tr>\n",
       "      <th>3</th>\n",
       "      <td>0.651417</td>\n",
       "      <td>0.529093</td>\n",
       "      <td>0.419146</td>\n",
       "      <td>0.205309</td>\n",
       "      <td>0.218696</td>\n",
       "      <td>-12.288965</td>\n",
       "      <td>0.107872</td>\n",
       "      <td>112.857352</td>\n",
       "      <td>0.513604</td>\n",
       "    </tr>\n",
       "    <tr>\n",
       "      <th>4</th>\n",
       "      <td>0.676557</td>\n",
       "      <td>0.538961</td>\n",
       "      <td>0.316434</td>\n",
       "      <td>0.003003</td>\n",
       "      <td>0.172254</td>\n",
       "      <td>-12.479387</td>\n",
       "      <td>0.082851</td>\n",
       "      <td>112.110362</td>\n",
       "      <td>0.448249</td>\n",
       "    </tr>\n",
       "    <tr>\n",
       "      <th>...</th>\n",
       "      <td>...</td>\n",
       "      <td>...</td>\n",
       "      <td>...</td>\n",
       "      <td>...</td>\n",
       "      <td>...</td>\n",
       "      <td>...</td>\n",
       "      <td>...</td>\n",
       "      <td>...</td>\n",
       "      <td>...</td>\n",
       "    </tr>\n",
       "    <tr>\n",
       "      <th>3539</th>\n",
       "      <td>0.005480</td>\n",
       "      <td>0.605000</td>\n",
       "      <td>0.664000</td>\n",
       "      <td>0.000003</td>\n",
       "      <td>0.204000</td>\n",
       "      <td>-7.162000</td>\n",
       "      <td>0.031600</td>\n",
       "      <td>103.997000</td>\n",
       "      <td>0.164000</td>\n",
       "    </tr>\n",
       "    <tr>\n",
       "      <th>3540</th>\n",
       "      <td>0.212000</td>\n",
       "      <td>0.746000</td>\n",
       "      <td>0.787000</td>\n",
       "      <td>0.000000</td>\n",
       "      <td>0.066900</td>\n",
       "      <td>-6.373000</td>\n",
       "      <td>0.120000</td>\n",
       "      <td>95.005000</td>\n",
       "      <td>0.607000</td>\n",
       "    </tr>\n",
       "    <tr>\n",
       "      <th>3541</th>\n",
       "      <td>0.073000</td>\n",
       "      <td>0.527000</td>\n",
       "      <td>0.761000</td>\n",
       "      <td>0.000000</td>\n",
       "      <td>0.086500</td>\n",
       "      <td>-4.708000</td>\n",
       "      <td>0.341000</td>\n",
       "      <td>135.543000</td>\n",
       "      <td>0.653000</td>\n",
       "    </tr>\n",
       "    <tr>\n",
       "      <th>3542</th>\n",
       "      <td>0.009870</td>\n",
       "      <td>0.601000</td>\n",
       "      <td>0.794000</td>\n",
       "      <td>0.000001</td>\n",
       "      <td>0.388000</td>\n",
       "      <td>-5.844000</td>\n",
       "      <td>0.067100</td>\n",
       "      <td>114.066000</td>\n",
       "      <td>0.244000</td>\n",
       "    </tr>\n",
       "    <tr>\n",
       "      <th>3543</th>\n",
       "      <td>0.063600</td>\n",
       "      <td>0.696000</td>\n",
       "      <td>0.439000</td>\n",
       "      <td>0.000000</td>\n",
       "      <td>0.127000</td>\n",
       "      <td>-8.770000</td>\n",
       "      <td>0.055000</td>\n",
       "      <td>149.923000</td>\n",
       "      <td>0.229000</td>\n",
       "    </tr>\n",
       "  </tbody>\n",
       "</table>\n",
       "<p>3544 rows × 9 columns</p>\n",
       "</div>"
      ],
      "text/plain": [
       "      acousticness  danceability    energy  instrumentalness  liveness  \\\n",
       "0         0.979333      0.162883  0.071317          0.606834  0.361600   \n",
       "1         0.494780      0.299333  0.450678          0.477762  0.131000   \n",
       "2         0.762000      0.712000  0.818000          0.876000  0.126000   \n",
       "3         0.651417      0.529093  0.419146          0.205309  0.218696   \n",
       "4         0.676557      0.538961  0.316434          0.003003  0.172254   \n",
       "...            ...           ...       ...               ...       ...   \n",
       "3539      0.005480      0.605000  0.664000          0.000003  0.204000   \n",
       "3540      0.212000      0.746000  0.787000          0.000000  0.066900   \n",
       "3541      0.073000      0.527000  0.761000          0.000000  0.086500   \n",
       "3542      0.009870      0.601000  0.794000          0.000001  0.388000   \n",
       "3543      0.063600      0.696000  0.439000          0.000000  0.127000   \n",
       "\n",
       "       loudness  speechiness       tempo   valence  \n",
       "0    -31.514333     0.040567   75.336500  0.103783  \n",
       "1    -16.854000     0.076817  120.285667  0.221750  \n",
       "2     -9.180000     0.047000  133.444000  0.975000  \n",
       "3    -12.288965     0.107872  112.857352  0.513604  \n",
       "4    -12.479387     0.082851  112.110362  0.448249  \n",
       "...         ...          ...         ...       ...  \n",
       "3539  -7.162000     0.031600  103.997000  0.164000  \n",
       "3540  -6.373000     0.120000   95.005000  0.607000  \n",
       "3541  -4.708000     0.341000  135.543000  0.653000  \n",
       "3542  -5.844000     0.067100  114.066000  0.244000  \n",
       "3543  -8.770000     0.055000  149.923000  0.229000  \n",
       "\n",
       "[3544 rows x 9 columns]"
      ]
     },
     "execution_count": 121,
     "metadata": {},
     "output_type": "execute_result"
    }
   ],
   "source": [
    "X_data"
   ]
  },
  {
   "cell_type": "code",
   "execution_count": 122,
   "id": "8e814c9f",
   "metadata": {
    "scrolled": true
   },
   "outputs": [
    {
     "name": "stdout",
     "output_type": "stream",
     "text": [
      "Accuracy: 0.70\n",
      "Classification Report:\n",
      "               precision    recall  f1-score   support\n",
      "\n",
      " NOT-POPULAR       0.75      0.75      0.75       427\n",
      "     POPULAR       0.62      0.61      0.62       282\n",
      "\n",
      "    accuracy                           0.70       709\n",
      "   macro avg       0.68      0.68      0.68       709\n",
      "weighted avg       0.70      0.70      0.70       709\n",
      "\n"
     ]
    }
   ],
   "source": [
    "\n",
    "\n",
    "\n",
    "X_train, X_test, y_train, y_test = train_test_split(X_data, Y_data, test_size=0.2, random_state=42)\n",
    "\n",
    "knn = KNeighborsClassifier(n_neighbors=5)\n",
    "\n",
    "knn.fit(X_train, y_train)\n",
    "\n",
    "y_pred = knn.predict(X_test)\n",
    "\n",
    "\n",
    "\n",
    "accuracy = accuracy_score(y_test, y_pred)\n",
    "print(f\"Accuracy: {accuracy:.2f}\")\n",
    "\n",
    "\n",
    "report = classification_report(y_test, y_pred)\n",
    "print(\"Classification Report:\\n\", report)"
   ]
  },
  {
   "cell_type": "code",
   "execution_count": 130,
   "id": "9e4a1bb4",
   "metadata": {},
   "outputs": [
    {
     "name": "stdout",
     "output_type": "stream",
     "text": [
      "Enter song name: The Wind Cries Mary\n",
      "Enter artist name: Jimi Hendrix\n",
      "['POPULAR']\n"
     ]
    },
    {
     "name": "stderr",
     "output_type": "stream",
     "text": [
      "/Library/Frameworks/Python.framework/Versions/3.11/lib/python3.11/site-packages/sklearn/base.py:420: UserWarning: X does not have valid feature names, but KNeighborsClassifier was fitted with feature names\n",
      "  warnings.warn(\n"
     ]
    }
   ],
   "source": [
    "\n",
    "\n",
    "\n",
    "# Search for the song\n",
    "song_name = input('Enter song name: ')\n",
    "artist_name = input('Enter artist name: ')\n",
    "query = f\"track:{song_name} artist:{artist_name}\"\n",
    "result = spotify.search(query, type='track', limit=1)\n",
    "\n",
    "\n",
    "# Extract the Spotify ID (URI) of the song\n",
    "track = result['tracks']['items'][0]\n",
    "song_id = track['id']\n",
    "\n",
    "# Retrieve the audio features\n",
    "audio_features = spotify.audio_features([song_id])[0]\n",
    "\n",
    "\n",
    "\n",
    "nrgy = audio_features['energy']\n",
    "dnce = audio_features['danceability']\n",
    "dB = audio_features['loudness']\n",
    "live = audio_features['liveness']\n",
    "val = audio_features['valence']\n",
    "acous = audio_features['acousticness']\n",
    "spch = audio_features['speechiness']\n",
    "inst = audio_features['instrumentalness']\n",
    "tempo = audio_features['tempo']\n",
    "popularity = result['tracks']['items'][0]['popularity']\n",
    "\n",
    "\n",
    "\n",
    "row = {'acousticness':acous,'danceability':dnce,'energy':nrgy,'instrumentalness':inst,'liveness':live,'loudness':dB,'speechiness':spch,'tempo':tempo,'valence':val}\n",
    "\n",
    "data_array = np.array(list(row.values())).reshape(1, -1)\n",
    "\n",
    "print(knn.predict(data_array))\n"
   ]
  },
  {
   "cell_type": "code",
   "execution_count": 51,
   "id": "feb0972b",
   "metadata": {},
   "outputs": [
    {
     "name": "stdout",
     "output_type": "stream",
     "text": [
      "Enter a song name: kilby girl\n",
      "Enter the artist of the song: the backseat lovers\n",
      "{'acousticness': 0.0578, 'danceability': 0.329, 'energy': 0.444, 'instrumentalness': 0.0352, 'liveness': 0.113, 'loudness': -9.973, 'speechiness': 0.0417, 'tempo': 162.279, 'valence': 0.225, 'popularity': 78}\n"
     ]
    },
    {
     "name": "stderr",
     "output_type": "stream",
     "text": [
      "/var/folders/_g/d3gd43912fnd1ygsn8rm91dw0000gn/T/ipykernel_49151/2897645857.py:40: FutureWarning: The frame.append method is deprecated and will be removed from pandas in a future version. Use pandas.concat instead.\n",
      "  new_data = new_data.append(row, ignore_index=True)\n"
     ]
    },
    {
     "data": {
      "text/html": [
       "<div>\n",
       "<style scoped>\n",
       "    .dataframe tbody tr th:only-of-type {\n",
       "        vertical-align: middle;\n",
       "    }\n",
       "\n",
       "    .dataframe tbody tr th {\n",
       "        vertical-align: top;\n",
       "    }\n",
       "\n",
       "    .dataframe thead th {\n",
       "        text-align: right;\n",
       "    }\n",
       "</style>\n",
       "<table border=\"1\" class=\"dataframe\">\n",
       "  <thead>\n",
       "    <tr style=\"text-align: right;\">\n",
       "      <th></th>\n",
       "      <th>acousticness</th>\n",
       "      <th>danceability</th>\n",
       "      <th>energy</th>\n",
       "      <th>instrumentalness</th>\n",
       "      <th>liveness</th>\n",
       "      <th>loudness</th>\n",
       "      <th>speechiness</th>\n",
       "      <th>tempo</th>\n",
       "      <th>valence</th>\n",
       "      <th>popularity</th>\n",
       "    </tr>\n",
       "  </thead>\n",
       "  <tbody>\n",
       "    <tr>\n",
       "      <th>0</th>\n",
       "      <td>0.979333</td>\n",
       "      <td>0.162883</td>\n",
       "      <td>0.071317</td>\n",
       "      <td>0.606834</td>\n",
       "      <td>0.361600</td>\n",
       "      <td>-31.514333</td>\n",
       "      <td>0.040567</td>\n",
       "      <td>75.336500</td>\n",
       "      <td>0.103783</td>\n",
       "      <td>27.833333</td>\n",
       "    </tr>\n",
       "    <tr>\n",
       "      <th>1</th>\n",
       "      <td>0.494780</td>\n",
       "      <td>0.299333</td>\n",
       "      <td>0.450678</td>\n",
       "      <td>0.477762</td>\n",
       "      <td>0.131000</td>\n",
       "      <td>-16.854000</td>\n",
       "      <td>0.076817</td>\n",
       "      <td>120.285667</td>\n",
       "      <td>0.221750</td>\n",
       "      <td>52.500000</td>\n",
       "    </tr>\n",
       "    <tr>\n",
       "      <th>2</th>\n",
       "      <td>0.762000</td>\n",
       "      <td>0.712000</td>\n",
       "      <td>0.818000</td>\n",
       "      <td>0.876000</td>\n",
       "      <td>0.126000</td>\n",
       "      <td>-9.180000</td>\n",
       "      <td>0.047000</td>\n",
       "      <td>133.444000</td>\n",
       "      <td>0.975000</td>\n",
       "      <td>48.000000</td>\n",
       "    </tr>\n",
       "    <tr>\n",
       "      <th>3</th>\n",
       "      <td>0.651417</td>\n",
       "      <td>0.529093</td>\n",
       "      <td>0.419146</td>\n",
       "      <td>0.205309</td>\n",
       "      <td>0.218696</td>\n",
       "      <td>-12.288965</td>\n",
       "      <td>0.107872</td>\n",
       "      <td>112.857352</td>\n",
       "      <td>0.513604</td>\n",
       "      <td>20.859882</td>\n",
       "    </tr>\n",
       "    <tr>\n",
       "      <th>4</th>\n",
       "      <td>0.676557</td>\n",
       "      <td>0.538961</td>\n",
       "      <td>0.316434</td>\n",
       "      <td>0.003003</td>\n",
       "      <td>0.172254</td>\n",
       "      <td>-12.479387</td>\n",
       "      <td>0.082851</td>\n",
       "      <td>112.110362</td>\n",
       "      <td>0.448249</td>\n",
       "      <td>45.820071</td>\n",
       "    </tr>\n",
       "    <tr>\n",
       "      <th>...</th>\n",
       "      <td>...</td>\n",
       "      <td>...</td>\n",
       "      <td>...</td>\n",
       "      <td>...</td>\n",
       "      <td>...</td>\n",
       "      <td>...</td>\n",
       "      <td>...</td>\n",
       "      <td>...</td>\n",
       "      <td>...</td>\n",
       "      <td>...</td>\n",
       "    </tr>\n",
       "    <tr>\n",
       "      <th>2969</th>\n",
       "      <td>0.161000</td>\n",
       "      <td>0.863000</td>\n",
       "      <td>0.909000</td>\n",
       "      <td>0.000000</td>\n",
       "      <td>0.108000</td>\n",
       "      <td>-5.985000</td>\n",
       "      <td>0.081300</td>\n",
       "      <td>119.038000</td>\n",
       "      <td>0.845000</td>\n",
       "      <td>58.000000</td>\n",
       "    </tr>\n",
       "    <tr>\n",
       "      <th>2970</th>\n",
       "      <td>0.263261</td>\n",
       "      <td>0.748889</td>\n",
       "      <td>0.622444</td>\n",
       "      <td>0.257227</td>\n",
       "      <td>0.089678</td>\n",
       "      <td>-10.289222</td>\n",
       "      <td>0.038778</td>\n",
       "      <td>101.965222</td>\n",
       "      <td>0.824111</td>\n",
       "      <td>46.666667</td>\n",
       "    </tr>\n",
       "    <tr>\n",
       "      <th>2971</th>\n",
       "      <td>0.993000</td>\n",
       "      <td>0.705667</td>\n",
       "      <td>0.172667</td>\n",
       "      <td>0.468633</td>\n",
       "      <td>0.179667</td>\n",
       "      <td>-11.453333</td>\n",
       "      <td>0.348667</td>\n",
       "      <td>91.278000</td>\n",
       "      <td>0.739000</td>\n",
       "      <td>0.000000</td>\n",
       "    </tr>\n",
       "    <tr>\n",
       "      <th>2972</th>\n",
       "      <td>0.421038</td>\n",
       "      <td>0.629409</td>\n",
       "      <td>0.609369</td>\n",
       "      <td>0.019248</td>\n",
       "      <td>0.255877</td>\n",
       "      <td>-9.854825</td>\n",
       "      <td>0.050491</td>\n",
       "      <td>126.366087</td>\n",
       "      <td>0.808544</td>\n",
       "      <td>30.261905</td>\n",
       "    </tr>\n",
       "    <tr>\n",
       "      <th>2973</th>\n",
       "      <td>0.057800</td>\n",
       "      <td>0.329000</td>\n",
       "      <td>0.444000</td>\n",
       "      <td>0.035200</td>\n",
       "      <td>0.113000</td>\n",
       "      <td>-9.973000</td>\n",
       "      <td>0.041700</td>\n",
       "      <td>162.279000</td>\n",
       "      <td>0.225000</td>\n",
       "      <td>78.000000</td>\n",
       "    </tr>\n",
       "  </tbody>\n",
       "</table>\n",
       "<p>2974 rows × 10 columns</p>\n",
       "</div>"
      ],
      "text/plain": [
       "      acousticness  danceability    energy  instrumentalness  liveness  \\\n",
       "0         0.979333      0.162883  0.071317          0.606834  0.361600   \n",
       "1         0.494780      0.299333  0.450678          0.477762  0.131000   \n",
       "2         0.762000      0.712000  0.818000          0.876000  0.126000   \n",
       "3         0.651417      0.529093  0.419146          0.205309  0.218696   \n",
       "4         0.676557      0.538961  0.316434          0.003003  0.172254   \n",
       "...            ...           ...       ...               ...       ...   \n",
       "2969      0.161000      0.863000  0.909000          0.000000  0.108000   \n",
       "2970      0.263261      0.748889  0.622444          0.257227  0.089678   \n",
       "2971      0.993000      0.705667  0.172667          0.468633  0.179667   \n",
       "2972      0.421038      0.629409  0.609369          0.019248  0.255877   \n",
       "2973      0.057800      0.329000  0.444000          0.035200  0.113000   \n",
       "\n",
       "       loudness  speechiness       tempo   valence  popularity  \n",
       "0    -31.514333     0.040567   75.336500  0.103783   27.833333  \n",
       "1    -16.854000     0.076817  120.285667  0.221750   52.500000  \n",
       "2     -9.180000     0.047000  133.444000  0.975000   48.000000  \n",
       "3    -12.288965     0.107872  112.857352  0.513604   20.859882  \n",
       "4    -12.479387     0.082851  112.110362  0.448249   45.820071  \n",
       "...         ...          ...         ...       ...         ...  \n",
       "2969  -5.985000     0.081300  119.038000  0.845000   58.000000  \n",
       "2970 -10.289222     0.038778  101.965222  0.824111   46.666667  \n",
       "2971 -11.453333     0.348667   91.278000  0.739000    0.000000  \n",
       "2972  -9.854825     0.050491  126.366087  0.808544   30.261905  \n",
       "2973  -9.973000     0.041700  162.279000  0.225000   78.000000  \n",
       "\n",
       "[2974 rows x 10 columns]"
      ]
     },
     "execution_count": 51,
     "metadata": {},
     "output_type": "execute_result"
    }
   ],
   "source": [
    "\n",
    "\n",
    "\n",
    "# Search for the song\n",
    "song_name = title\n",
    "artist_name = artist\n",
    "query = f\"track:{song_name} artist:{artist_name}\"\n",
    "result = spotify.search(query, type='track', limit=1)\n",
    "\n",
    "\n",
    "# Extract the Spotify ID (URI) of the song\n",
    "track = result['tracks']['items'][0]\n",
    "song_id = track['id']\n",
    "\n",
    "# Retrieve the audio features\n",
    "audio_features = spotify.audio_features([song_id])[0]\n",
    "\n",
    "\n",
    "\n",
    "nrgy = audio_features['energy']\n",
    "dnce = audio_features['danceability']\n",
    "dB = audio_features['loudness']\n",
    "live = audio_features['liveness']\n",
    "val = audio_features['valence']\n",
    "acous = audio_features['acousticness']\n",
    "spch = audio_features['speechiness']\n",
    "inst = audio_features['instrumentalness']\n",
    "tempo = audio_features['tempo']\n",
    "popularity = result['tracks']['items'][0]['popularity']\n",
    "\n",
    "\n",
    "\n",
    "row = {'acousticness':acous,'danceability':dnce,'energy':nrgy,'instrumentalness':inst,'liveness':live,'loudness':dB,'speechiness':spch,'tempo':tempo,'valence':val,'popularity':popularity}\n",
    "\n",
    "print(row)\n",
    "\n",
    "new_data = new_data.append(row, ignore_index=True)\n",
    "new_data\n"
   ]
  },
  {
   "cell_type": "code",
   "execution_count": 25,
   "id": "9d6fb2ad",
   "metadata": {},
   "outputs": [],
   "source": [
    "import os\n",
    "import spotipy\n",
    "from spotipy.oauth2 import SpotifyClientCredentials\n",
    "from youtubesearchpython import VideosSearch\n",
    "\n",
    "\n",
    "# Replace with your own credentials\n",
    "client_id = '733b9bea3f154a83be8779e9180bf784'\n",
    "client_secret = '2c5a00122b8940a9969092fc798bb595'\n",
    "\n",
    "# Set environment variables\n",
    "os.environ['SPOTIPY_CLIENT_ID'] = client_id\n",
    "os.environ['SPOTIPY_CLIENT_SECRET'] = client_secret\n",
    "\n",
    "spotify = spotipy.Spotify(client_credentials_manager=SpotifyClientCredentials())"
   ]
  },
  {
   "cell_type": "code",
   "execution_count": null,
   "id": "35516be1",
   "metadata": {},
   "outputs": [],
   "source": [
    "\n",
    "# Search for the song\n",
    "song_name = input('Enter a song name: ')\n",
    "artist_name = input('Enter the artist of the song: ')\n",
    "query = f\"track:{song_name} artist:{artist_name}\"\n",
    "result = spotify.search(query, type='track', limit=1)\n",
    "\n",
    "\n",
    "# Extract the Spotify ID (URI) of the song\n",
    "track = result['tracks']['items'][0]\n",
    "song_id = track['id']\n",
    "\n",
    "# Retrieve the audio features\n",
    "audio_features = spotify.audio_features([song_id])[0]\n",
    "\n",
    "\n",
    "\n",
    "\n",
    "\n",
    "\n",
    "\n",
    "\n",
    "print(audio_features)\n",
    "\n",
    "nrgy = audio_features['energy']\n",
    "dnce = audio_features['danceability']\n",
    "dB = audio_features['loudness']\n",
    "live = audio_features['liveness']\n",
    "val = audio_features['valence']\n",
    "acous = audio_features['acousticness']\n",
    "spch = audio_features['speechiness']\n",
    "inst = audio_features['instrumentalness']\n",
    "tempo = audio_features['tempo']\n",
    "popularity = results['tracks']['items'][0]['popularity']\n",
    "\n",
    "\n",
    "Y_row = {'popularity': popularity}\n",
    "X_row = {'acousticness':acous,'danceability':dnce,'energy':nrgy,'instrumentalness':inst,'liveness':live,'loudness':dB,'speechiness':spch,'tempo':tempo,'valence':val}\n",
    "\n",
    "df = df.append(new_row, ignore_index=True)\n",
    "    \n",
    "    \n",
    "    \n",
    "    \n",
    "    \n",
    "print('\\n\\nSONG LINK')\n",
    "\n",
    "\n",
    "videosSearch = VideosSearch(query, limit = 1)\n",
    "\n",
    "data = videosSearch.result()\n",
    "\n",
    "link = data['result'][0]['link']\n",
    "\n",
    "print(link)"
   ]
  },
  {
   "cell_type": "code",
   "execution_count": 39,
   "id": "9fe51a55",
   "metadata": {},
   "outputs": [
    {
     "data": {
      "text/html": [
       "<div>\n",
       "<style scoped>\n",
       "    .dataframe tbody tr th:only-of-type {\n",
       "        vertical-align: middle;\n",
       "    }\n",
       "\n",
       "    .dataframe tbody tr th {\n",
       "        vertical-align: top;\n",
       "    }\n",
       "\n",
       "    .dataframe thead th {\n",
       "        text-align: right;\n",
       "    }\n",
       "</style>\n",
       "<table border=\"1\" class=\"dataframe\">\n",
       "  <thead>\n",
       "    <tr style=\"text-align: right;\">\n",
       "      <th></th>\n",
       "      <th>acousticness</th>\n",
       "      <th>danceability</th>\n",
       "      <th>energy</th>\n",
       "      <th>instrumentalness</th>\n",
       "      <th>liveness</th>\n",
       "      <th>loudness</th>\n",
       "      <th>speechiness</th>\n",
       "      <th>tempo</th>\n",
       "      <th>valence</th>\n",
       "    </tr>\n",
       "  </thead>\n",
       "  <tbody>\n",
       "    <tr>\n",
       "      <th>0</th>\n",
       "      <td>0.979333</td>\n",
       "      <td>0.162883</td>\n",
       "      <td>0.071317</td>\n",
       "      <td>0.606834</td>\n",
       "      <td>0.361600</td>\n",
       "      <td>-31.514333</td>\n",
       "      <td>0.040567</td>\n",
       "      <td>75.336500</td>\n",
       "      <td>0.103783</td>\n",
       "    </tr>\n",
       "    <tr>\n",
       "      <th>1</th>\n",
       "      <td>0.494780</td>\n",
       "      <td>0.299333</td>\n",
       "      <td>0.450678</td>\n",
       "      <td>0.477762</td>\n",
       "      <td>0.131000</td>\n",
       "      <td>-16.854000</td>\n",
       "      <td>0.076817</td>\n",
       "      <td>120.285667</td>\n",
       "      <td>0.221750</td>\n",
       "    </tr>\n",
       "    <tr>\n",
       "      <th>2</th>\n",
       "      <td>0.762000</td>\n",
       "      <td>0.712000</td>\n",
       "      <td>0.818000</td>\n",
       "      <td>0.876000</td>\n",
       "      <td>0.126000</td>\n",
       "      <td>-9.180000</td>\n",
       "      <td>0.047000</td>\n",
       "      <td>133.444000</td>\n",
       "      <td>0.975000</td>\n",
       "    </tr>\n",
       "    <tr>\n",
       "      <th>3</th>\n",
       "      <td>0.651417</td>\n",
       "      <td>0.529093</td>\n",
       "      <td>0.419146</td>\n",
       "      <td>0.205309</td>\n",
       "      <td>0.218696</td>\n",
       "      <td>-12.288965</td>\n",
       "      <td>0.107872</td>\n",
       "      <td>112.857352</td>\n",
       "      <td>0.513604</td>\n",
       "    </tr>\n",
       "    <tr>\n",
       "      <th>4</th>\n",
       "      <td>0.676557</td>\n",
       "      <td>0.538961</td>\n",
       "      <td>0.316434</td>\n",
       "      <td>0.003003</td>\n",
       "      <td>0.172254</td>\n",
       "      <td>-12.479387</td>\n",
       "      <td>0.082851</td>\n",
       "      <td>112.110362</td>\n",
       "      <td>0.448249</td>\n",
       "    </tr>\n",
       "    <tr>\n",
       "      <th>...</th>\n",
       "      <td>...</td>\n",
       "      <td>...</td>\n",
       "      <td>...</td>\n",
       "      <td>...</td>\n",
       "      <td>...</td>\n",
       "      <td>...</td>\n",
       "      <td>...</td>\n",
       "      <td>...</td>\n",
       "      <td>...</td>\n",
       "    </tr>\n",
       "    <tr>\n",
       "      <th>2968</th>\n",
       "      <td>0.222625</td>\n",
       "      <td>0.547082</td>\n",
       "      <td>0.610240</td>\n",
       "      <td>0.143872</td>\n",
       "      <td>0.204206</td>\n",
       "      <td>-11.295878</td>\n",
       "      <td>0.061088</td>\n",
       "      <td>125.494919</td>\n",
       "      <td>0.596155</td>\n",
       "    </tr>\n",
       "    <tr>\n",
       "      <th>2969</th>\n",
       "      <td>0.161000</td>\n",
       "      <td>0.863000</td>\n",
       "      <td>0.909000</td>\n",
       "      <td>0.000000</td>\n",
       "      <td>0.108000</td>\n",
       "      <td>-5.985000</td>\n",
       "      <td>0.081300</td>\n",
       "      <td>119.038000</td>\n",
       "      <td>0.845000</td>\n",
       "    </tr>\n",
       "    <tr>\n",
       "      <th>2970</th>\n",
       "      <td>0.263261</td>\n",
       "      <td>0.748889</td>\n",
       "      <td>0.622444</td>\n",
       "      <td>0.257227</td>\n",
       "      <td>0.089678</td>\n",
       "      <td>-10.289222</td>\n",
       "      <td>0.038778</td>\n",
       "      <td>101.965222</td>\n",
       "      <td>0.824111</td>\n",
       "    </tr>\n",
       "    <tr>\n",
       "      <th>2971</th>\n",
       "      <td>0.993000</td>\n",
       "      <td>0.705667</td>\n",
       "      <td>0.172667</td>\n",
       "      <td>0.468633</td>\n",
       "      <td>0.179667</td>\n",
       "      <td>-11.453333</td>\n",
       "      <td>0.348667</td>\n",
       "      <td>91.278000</td>\n",
       "      <td>0.739000</td>\n",
       "    </tr>\n",
       "    <tr>\n",
       "      <th>2972</th>\n",
       "      <td>0.421038</td>\n",
       "      <td>0.629409</td>\n",
       "      <td>0.609369</td>\n",
       "      <td>0.019248</td>\n",
       "      <td>0.255877</td>\n",
       "      <td>-9.854825</td>\n",
       "      <td>0.050491</td>\n",
       "      <td>126.366087</td>\n",
       "      <td>0.808544</td>\n",
       "    </tr>\n",
       "  </tbody>\n",
       "</table>\n",
       "<p>2973 rows × 9 columns</p>\n",
       "</div>"
      ],
      "text/plain": [
       "      acousticness  danceability    energy  instrumentalness  liveness  \\\n",
       "0         0.979333      0.162883  0.071317          0.606834  0.361600   \n",
       "1         0.494780      0.299333  0.450678          0.477762  0.131000   \n",
       "2         0.762000      0.712000  0.818000          0.876000  0.126000   \n",
       "3         0.651417      0.529093  0.419146          0.205309  0.218696   \n",
       "4         0.676557      0.538961  0.316434          0.003003  0.172254   \n",
       "...            ...           ...       ...               ...       ...   \n",
       "2968      0.222625      0.547082  0.610240          0.143872  0.204206   \n",
       "2969      0.161000      0.863000  0.909000          0.000000  0.108000   \n",
       "2970      0.263261      0.748889  0.622444          0.257227  0.089678   \n",
       "2971      0.993000      0.705667  0.172667          0.468633  0.179667   \n",
       "2972      0.421038      0.629409  0.609369          0.019248  0.255877   \n",
       "\n",
       "       loudness  speechiness       tempo   valence  \n",
       "0    -31.514333     0.040567   75.336500  0.103783  \n",
       "1    -16.854000     0.076817  120.285667  0.221750  \n",
       "2     -9.180000     0.047000  133.444000  0.975000  \n",
       "3    -12.288965     0.107872  112.857352  0.513604  \n",
       "4    -12.479387     0.082851  112.110362  0.448249  \n",
       "...         ...          ...         ...       ...  \n",
       "2968 -11.295878     0.061088  125.494919  0.596155  \n",
       "2969  -5.985000     0.081300  119.038000  0.845000  \n",
       "2970 -10.289222     0.038778  101.965222  0.824111  \n",
       "2971 -11.453333     0.348667   91.278000  0.739000  \n",
       "2972  -9.854825     0.050491  126.366087  0.808544  \n",
       "\n",
       "[2973 rows x 9 columns]"
      ]
     },
     "execution_count": 39,
     "metadata": {},
     "output_type": "execute_result"
    }
   ],
   "source": [
    "X_data"
   ]
  },
  {
   "cell_type": "code",
   "execution_count": null,
   "id": "5a002b15",
   "metadata": {},
   "outputs": [],
   "source": []
  },
  {
   "cell_type": "code",
   "execution_count": null,
   "id": "1beae618",
   "metadata": {},
   "outputs": [],
   "source": []
  },
  {
   "cell_type": "code",
   "execution_count": null,
   "id": "70e340a8",
   "metadata": {},
   "outputs": [],
   "source": []
  },
  {
   "cell_type": "code",
   "execution_count": null,
   "id": "1c95a082",
   "metadata": {},
   "outputs": [],
   "source": []
  },
  {
   "cell_type": "code",
   "execution_count": null,
   "id": "1b34412c",
   "metadata": {},
   "outputs": [],
   "source": []
  },
  {
   "cell_type": "code",
   "execution_count": null,
   "id": "47f77007",
   "metadata": {},
   "outputs": [],
   "source": []
  },
  {
   "cell_type": "code",
   "execution_count": null,
   "id": "1d45518c",
   "metadata": {},
   "outputs": [],
   "source": []
  },
  {
   "cell_type": "code",
   "execution_count": 5,
   "id": "920eaa3f",
   "metadata": {},
   "outputs": [],
   "source": [
    "#get a large dataset of songs and their audio info\n",
    "#get 500 pop songs and 500 nonpop songs\n",
    "#graph data to see if there is any clustering between pop and nonpop songs\n",
    "#make model to classify songs into pop or nonpop\n",
    "#use spotipy to input a song and see if it is classified as pop or not\n",
    "#bring up youtube video of song to see what it sounds like\n",
    "#show where song appears in correlation to all other songs in the dataset"
   ]
  },
  {
   "cell_type": "code",
   "execution_count": 41,
   "id": "ab3b39d1",
   "metadata": {
    "scrolled": true
   },
   "outputs": [
    {
     "data": {
      "text/html": [
       "<div>\n",
       "<style scoped>\n",
       "    .dataframe tbody tr th:only-of-type {\n",
       "        vertical-align: middle;\n",
       "    }\n",
       "\n",
       "    .dataframe tbody tr th {\n",
       "        vertical-align: top;\n",
       "    }\n",
       "\n",
       "    .dataframe thead th {\n",
       "        text-align: right;\n",
       "    }\n",
       "</style>\n",
       "<table border=\"1\" class=\"dataframe\">\n",
       "  <thead>\n",
       "    <tr style=\"text-align: right;\">\n",
       "      <th></th>\n",
       "      <th>mode</th>\n",
       "      <th>genres</th>\n",
       "      <th>acousticness</th>\n",
       "      <th>danceability</th>\n",
       "      <th>duration_ms</th>\n",
       "      <th>energy</th>\n",
       "      <th>instrumentalness</th>\n",
       "      <th>liveness</th>\n",
       "      <th>loudness</th>\n",
       "      <th>speechiness</th>\n",
       "      <th>tempo</th>\n",
       "      <th>valence</th>\n",
       "      <th>popularity</th>\n",
       "      <th>key</th>\n",
       "    </tr>\n",
       "  </thead>\n",
       "  <tbody>\n",
       "    <tr>\n",
       "      <th>0</th>\n",
       "      <td>1</td>\n",
       "      <td>21st century classical</td>\n",
       "      <td>0.979333</td>\n",
       "      <td>0.162883</td>\n",
       "      <td>1.602977e+05</td>\n",
       "      <td>0.071317</td>\n",
       "      <td>0.606834</td>\n",
       "      <td>0.361600</td>\n",
       "      <td>-31.514333</td>\n",
       "      <td>0.040567</td>\n",
       "      <td>75.336500</td>\n",
       "      <td>0.103783</td>\n",
       "      <td>27.833333</td>\n",
       "      <td>6</td>\n",
       "    </tr>\n",
       "    <tr>\n",
       "      <th>1</th>\n",
       "      <td>1</td>\n",
       "      <td>432hz</td>\n",
       "      <td>0.494780</td>\n",
       "      <td>0.299333</td>\n",
       "      <td>1.048887e+06</td>\n",
       "      <td>0.450678</td>\n",
       "      <td>0.477762</td>\n",
       "      <td>0.131000</td>\n",
       "      <td>-16.854000</td>\n",
       "      <td>0.076817</td>\n",
       "      <td>120.285667</td>\n",
       "      <td>0.221750</td>\n",
       "      <td>52.500000</td>\n",
       "      <td>5</td>\n",
       "    </tr>\n",
       "    <tr>\n",
       "      <th>2</th>\n",
       "      <td>1</td>\n",
       "      <td>8-bit</td>\n",
       "      <td>0.762000</td>\n",
       "      <td>0.712000</td>\n",
       "      <td>1.151770e+05</td>\n",
       "      <td>0.818000</td>\n",
       "      <td>0.876000</td>\n",
       "      <td>0.126000</td>\n",
       "      <td>-9.180000</td>\n",
       "      <td>0.047000</td>\n",
       "      <td>133.444000</td>\n",
       "      <td>0.975000</td>\n",
       "      <td>48.000000</td>\n",
       "      <td>7</td>\n",
       "    </tr>\n",
       "    <tr>\n",
       "      <th>3</th>\n",
       "      <td>1</td>\n",
       "      <td>[]</td>\n",
       "      <td>0.651417</td>\n",
       "      <td>0.529093</td>\n",
       "      <td>2.328809e+05</td>\n",
       "      <td>0.419146</td>\n",
       "      <td>0.205309</td>\n",
       "      <td>0.218696</td>\n",
       "      <td>-12.288965</td>\n",
       "      <td>0.107872</td>\n",
       "      <td>112.857352</td>\n",
       "      <td>0.513604</td>\n",
       "      <td>20.859882</td>\n",
       "      <td>7</td>\n",
       "    </tr>\n",
       "    <tr>\n",
       "      <th>4</th>\n",
       "      <td>1</td>\n",
       "      <td>a cappella</td>\n",
       "      <td>0.676557</td>\n",
       "      <td>0.538961</td>\n",
       "      <td>1.906285e+05</td>\n",
       "      <td>0.316434</td>\n",
       "      <td>0.003003</td>\n",
       "      <td>0.172254</td>\n",
       "      <td>-12.479387</td>\n",
       "      <td>0.082851</td>\n",
       "      <td>112.110362</td>\n",
       "      <td>0.448249</td>\n",
       "      <td>45.820071</td>\n",
       "      <td>7</td>\n",
       "    </tr>\n",
       "    <tr>\n",
       "      <th>...</th>\n",
       "      <td>...</td>\n",
       "      <td>...</td>\n",
       "      <td>...</td>\n",
       "      <td>...</td>\n",
       "      <td>...</td>\n",
       "      <td>...</td>\n",
       "      <td>...</td>\n",
       "      <td>...</td>\n",
       "      <td>...</td>\n",
       "      <td>...</td>\n",
       "      <td>...</td>\n",
       "      <td>...</td>\n",
       "      <td>...</td>\n",
       "      <td>...</td>\n",
       "    </tr>\n",
       "    <tr>\n",
       "      <th>2968</th>\n",
       "      <td>1</td>\n",
       "      <td>zolo</td>\n",
       "      <td>0.222625</td>\n",
       "      <td>0.547082</td>\n",
       "      <td>2.580991e+05</td>\n",
       "      <td>0.610240</td>\n",
       "      <td>0.143872</td>\n",
       "      <td>0.204206</td>\n",
       "      <td>-11.295878</td>\n",
       "      <td>0.061088</td>\n",
       "      <td>125.494919</td>\n",
       "      <td>0.596155</td>\n",
       "      <td>33.778943</td>\n",
       "      <td>9</td>\n",
       "    </tr>\n",
       "    <tr>\n",
       "      <th>2969</th>\n",
       "      <td>0</td>\n",
       "      <td>zouglou</td>\n",
       "      <td>0.161000</td>\n",
       "      <td>0.863000</td>\n",
       "      <td>2.063200e+05</td>\n",
       "      <td>0.909000</td>\n",
       "      <td>0.000000</td>\n",
       "      <td>0.108000</td>\n",
       "      <td>-5.985000</td>\n",
       "      <td>0.081300</td>\n",
       "      <td>119.038000</td>\n",
       "      <td>0.845000</td>\n",
       "      <td>58.000000</td>\n",
       "      <td>7</td>\n",
       "    </tr>\n",
       "    <tr>\n",
       "      <th>2970</th>\n",
       "      <td>1</td>\n",
       "      <td>zouk</td>\n",
       "      <td>0.263261</td>\n",
       "      <td>0.748889</td>\n",
       "      <td>3.060728e+05</td>\n",
       "      <td>0.622444</td>\n",
       "      <td>0.257227</td>\n",
       "      <td>0.089678</td>\n",
       "      <td>-10.289222</td>\n",
       "      <td>0.038778</td>\n",
       "      <td>101.965222</td>\n",
       "      <td>0.824111</td>\n",
       "      <td>46.666667</td>\n",
       "      <td>5</td>\n",
       "    </tr>\n",
       "    <tr>\n",
       "      <th>2971</th>\n",
       "      <td>0</td>\n",
       "      <td>zurich indie</td>\n",
       "      <td>0.993000</td>\n",
       "      <td>0.705667</td>\n",
       "      <td>1.984173e+05</td>\n",
       "      <td>0.172667</td>\n",
       "      <td>0.468633</td>\n",
       "      <td>0.179667</td>\n",
       "      <td>-11.453333</td>\n",
       "      <td>0.348667</td>\n",
       "      <td>91.278000</td>\n",
       "      <td>0.739000</td>\n",
       "      <td>0.000000</td>\n",
       "      <td>7</td>\n",
       "    </tr>\n",
       "    <tr>\n",
       "      <th>2972</th>\n",
       "      <td>1</td>\n",
       "      <td>zydeco</td>\n",
       "      <td>0.421038</td>\n",
       "      <td>0.629409</td>\n",
       "      <td>1.716717e+05</td>\n",
       "      <td>0.609369</td>\n",
       "      <td>0.019248</td>\n",
       "      <td>0.255877</td>\n",
       "      <td>-9.854825</td>\n",
       "      <td>0.050491</td>\n",
       "      <td>126.366087</td>\n",
       "      <td>0.808544</td>\n",
       "      <td>30.261905</td>\n",
       "      <td>7</td>\n",
       "    </tr>\n",
       "  </tbody>\n",
       "</table>\n",
       "<p>2973 rows × 14 columns</p>\n",
       "</div>"
      ],
      "text/plain": [
       "      mode                  genres  acousticness  danceability   duration_ms  \\\n",
       "0        1  21st century classical      0.979333      0.162883  1.602977e+05   \n",
       "1        1                   432hz      0.494780      0.299333  1.048887e+06   \n",
       "2        1                   8-bit      0.762000      0.712000  1.151770e+05   \n",
       "3        1                      []      0.651417      0.529093  2.328809e+05   \n",
       "4        1              a cappella      0.676557      0.538961  1.906285e+05   \n",
       "...    ...                     ...           ...           ...           ...   \n",
       "2968     1                    zolo      0.222625      0.547082  2.580991e+05   \n",
       "2969     0                 zouglou      0.161000      0.863000  2.063200e+05   \n",
       "2970     1                    zouk      0.263261      0.748889  3.060728e+05   \n",
       "2971     0            zurich indie      0.993000      0.705667  1.984173e+05   \n",
       "2972     1                  zydeco      0.421038      0.629409  1.716717e+05   \n",
       "\n",
       "        energy  instrumentalness  liveness   loudness  speechiness  \\\n",
       "0     0.071317          0.606834  0.361600 -31.514333     0.040567   \n",
       "1     0.450678          0.477762  0.131000 -16.854000     0.076817   \n",
       "2     0.818000          0.876000  0.126000  -9.180000     0.047000   \n",
       "3     0.419146          0.205309  0.218696 -12.288965     0.107872   \n",
       "4     0.316434          0.003003  0.172254 -12.479387     0.082851   \n",
       "...        ...               ...       ...        ...          ...   \n",
       "2968  0.610240          0.143872  0.204206 -11.295878     0.061088   \n",
       "2969  0.909000          0.000000  0.108000  -5.985000     0.081300   \n",
       "2970  0.622444          0.257227  0.089678 -10.289222     0.038778   \n",
       "2971  0.172667          0.468633  0.179667 -11.453333     0.348667   \n",
       "2972  0.609369          0.019248  0.255877  -9.854825     0.050491   \n",
       "\n",
       "           tempo   valence  popularity  key  \n",
       "0      75.336500  0.103783   27.833333    6  \n",
       "1     120.285667  0.221750   52.500000    5  \n",
       "2     133.444000  0.975000   48.000000    7  \n",
       "3     112.857352  0.513604   20.859882    7  \n",
       "4     112.110362  0.448249   45.820071    7  \n",
       "...          ...       ...         ...  ...  \n",
       "2968  125.494919  0.596155   33.778943    9  \n",
       "2969  119.038000  0.845000   58.000000    7  \n",
       "2970  101.965222  0.824111   46.666667    5  \n",
       "2971   91.278000  0.739000    0.000000    7  \n",
       "2972  126.366087  0.808544   30.261905    7  \n",
       "\n",
       "[2973 rows x 14 columns]"
      ]
     },
     "execution_count": 41,
     "metadata": {},
     "output_type": "execute_result"
    }
   ],
   "source": [
    "new_data = pd.read_csv(\"data_by_genres.csv\")\n",
    "\n",
    "new_data"
   ]
  },
  {
   "cell_type": "code",
   "execution_count": null,
   "id": "36d14917",
   "metadata": {},
   "outputs": [],
   "source": []
  },
  {
   "cell_type": "code",
   "execution_count": null,
   "id": "85b18b24",
   "metadata": {},
   "outputs": [],
   "source": []
  },
  {
   "cell_type": "code",
   "execution_count": 42,
   "id": "5cc5faa2",
   "metadata": {},
   "outputs": [],
   "source": [
    "Y_data = new_data['popularity']\n",
    "\n",
    "Y_data\n",
    "\n",
    "new_data.drop(columns = ['popularity'], inplace = True)\n",
    "X_data = new_data"
   ]
  },
  {
   "cell_type": "code",
   "execution_count": 43,
   "id": "24acfb6a",
   "metadata": {},
   "outputs": [
    {
     "data": {
      "text/plain": [
       "0       27.833333\n",
       "1       52.500000\n",
       "2       48.000000\n",
       "3       20.859882\n",
       "4       45.820071\n",
       "          ...    \n",
       "2968    33.778943\n",
       "2969    58.000000\n",
       "2970    46.666667\n",
       "2971     0.000000\n",
       "2972    30.261905\n",
       "Name: popularity, Length: 2973, dtype: float64"
      ]
     },
     "execution_count": 43,
     "metadata": {},
     "output_type": "execute_result"
    }
   ],
   "source": [
    "Y_data"
   ]
  },
  {
   "cell_type": "code",
   "execution_count": 36,
   "id": "5c642715",
   "metadata": {},
   "outputs": [],
   "source": [
    "def replace_values(x):\n",
    "    if x < 50:\n",
    "        return \"NOT-POPULAR\"\n",
    "    else:\n",
    "        return \"POPULAR\"\n",
    "\n",
    "# Apply the function to all elements in the DataFrame\n",
    "Y_data = Y_data.apply(replace_values)"
   ]
  },
  {
   "cell_type": "code",
   "execution_count": 37,
   "id": "6e3e8d5e",
   "metadata": {},
   "outputs": [
    {
     "data": {
      "text/plain": [
       "0       NOT-POPULAR\n",
       "1           POPULAR\n",
       "2       NOT-POPULAR\n",
       "3       NOT-POPULAR\n",
       "4       NOT-POPULAR\n",
       "           ...     \n",
       "2968    NOT-POPULAR\n",
       "2969        POPULAR\n",
       "2970    NOT-POPULAR\n",
       "2971    NOT-POPULAR\n",
       "2972    NOT-POPULAR\n",
       "Name: popularity, Length: 2973, dtype: object"
      ]
     },
     "execution_count": 37,
     "metadata": {},
     "output_type": "execute_result"
    }
   ],
   "source": [
    "Y_data"
   ]
  },
  {
   "cell_type": "code",
   "execution_count": 38,
   "id": "ed8608af",
   "metadata": {},
   "outputs": [
    {
     "name": "stdout",
     "output_type": "stream",
     "text": [
      "Accuracy: 0.72\n",
      "Classification Report:\n",
      "               precision    recall  f1-score   support\n",
      "\n",
      " NOT-POPULAR       0.77      0.85      0.81       824\n",
      "     POPULAR       0.56      0.42      0.48       366\n",
      "\n",
      "    accuracy                           0.72      1190\n",
      "   macro avg       0.66      0.63      0.64      1190\n",
      "weighted avg       0.70      0.72      0.71      1190\n",
      "\n"
     ]
    }
   ],
   "source": [
    "\n",
    "\n",
    "X_train, X_test, y_train, y_test = train_test_split(X_data, Y_data, test_size=0.4, random_state=42)\n",
    "\n",
    "knn = KNeighborsClassifier(n_neighbors=5)\n",
    "\n",
    "knn.fit(X_train, y_train)\n",
    "\n",
    "y_pred = knn.predict(X_test)\n",
    "\n",
    "\n",
    "\n",
    "accuracy = accuracy_score(y_test, y_pred)\n",
    "print(f\"Accuracy: {accuracy:.2f}\")\n",
    "\n",
    "\n",
    "report = classification_report(y_test, y_pred)\n",
    "print(\"Classification Report:\\n\", report)"
   ]
  },
  {
   "cell_type": "code",
   "execution_count": null,
   "id": "5f854500",
   "metadata": {},
   "outputs": [],
   "source": []
  },
  {
   "cell_type": "code",
   "execution_count": null,
   "id": "b759385b",
   "metadata": {},
   "outputs": [],
   "source": []
  },
  {
   "cell_type": "code",
   "execution_count": null,
   "id": "1d5fa510",
   "metadata": {},
   "outputs": [],
   "source": []
  },
  {
   "cell_type": "code",
   "execution_count": null,
   "id": "65484433",
   "metadata": {},
   "outputs": [],
   "source": []
  },
  {
   "cell_type": "code",
   "execution_count": null,
   "id": "0a263230",
   "metadata": {},
   "outputs": [],
   "source": []
  },
  {
   "cell_type": "code",
   "execution_count": 50,
   "id": "aea5763d",
   "metadata": {},
   "outputs": [
    {
     "name": "stderr",
     "output_type": "stream",
     "text": [
      "/var/folders/_g/d3gd43912fnd1ygsn8rm91dw0000gn/T/ipykernel_46903/2417046148.py:8: SettingWithCopyWarning: \n",
      "A value is trying to be set on a copy of a slice from a DataFrame\n",
      "\n",
      "See the caveats in the documentation: https://pandas.pydata.org/pandas-docs/stable/user_guide/indexing.html#returning-a-view-versus-a-copy\n",
      "  new_df.drop(columns = ['mode', 'genres', 'key', 'instrumentalness', 'tempo', 'popularity','duration_ms'], inplace = True)\n"
     ]
    },
    {
     "data": {
      "text/html": [
       "<div>\n",
       "<style scoped>\n",
       "    .dataframe tbody tr th:only-of-type {\n",
       "        vertical-align: middle;\n",
       "    }\n",
       "\n",
       "    .dataframe tbody tr th {\n",
       "        vertical-align: top;\n",
       "    }\n",
       "\n",
       "    .dataframe thead th {\n",
       "        text-align: right;\n",
       "    }\n",
       "</style>\n",
       "<table border=\"1\" class=\"dataframe\">\n",
       "  <thead>\n",
       "    <tr style=\"text-align: right;\">\n",
       "      <th></th>\n",
       "      <th>acous</th>\n",
       "      <th>dnce</th>\n",
       "      <th>nrgy</th>\n",
       "      <th>live</th>\n",
       "      <th>dB</th>\n",
       "      <th>spch</th>\n",
       "      <th>val</th>\n",
       "    </tr>\n",
       "  </thead>\n",
       "  <tbody>\n",
       "    <tr>\n",
       "      <th>0</th>\n",
       "      <td>0.979333</td>\n",
       "      <td>0.162883</td>\n",
       "      <td>0.071317</td>\n",
       "      <td>0.361600</td>\n",
       "      <td>-31.514333</td>\n",
       "      <td>0.040567</td>\n",
       "      <td>0.103783</td>\n",
       "    </tr>\n",
       "    <tr>\n",
       "      <th>1</th>\n",
       "      <td>0.494780</td>\n",
       "      <td>0.299333</td>\n",
       "      <td>0.450678</td>\n",
       "      <td>0.131000</td>\n",
       "      <td>-16.854000</td>\n",
       "      <td>0.076817</td>\n",
       "      <td>0.221750</td>\n",
       "    </tr>\n",
       "    <tr>\n",
       "      <th>2</th>\n",
       "      <td>0.762000</td>\n",
       "      <td>0.712000</td>\n",
       "      <td>0.818000</td>\n",
       "      <td>0.126000</td>\n",
       "      <td>-9.180000</td>\n",
       "      <td>0.047000</td>\n",
       "      <td>0.975000</td>\n",
       "    </tr>\n",
       "    <tr>\n",
       "      <th>3</th>\n",
       "      <td>0.651417</td>\n",
       "      <td>0.529093</td>\n",
       "      <td>0.419146</td>\n",
       "      <td>0.218696</td>\n",
       "      <td>-12.288965</td>\n",
       "      <td>0.107872</td>\n",
       "      <td>0.513604</td>\n",
       "    </tr>\n",
       "    <tr>\n",
       "      <th>4</th>\n",
       "      <td>0.676557</td>\n",
       "      <td>0.538961</td>\n",
       "      <td>0.316434</td>\n",
       "      <td>0.172254</td>\n",
       "      <td>-12.479387</td>\n",
       "      <td>0.082851</td>\n",
       "      <td>0.448249</td>\n",
       "    </tr>\n",
       "    <tr>\n",
       "      <th>...</th>\n",
       "      <td>...</td>\n",
       "      <td>...</td>\n",
       "      <td>...</td>\n",
       "      <td>...</td>\n",
       "      <td>...</td>\n",
       "      <td>...</td>\n",
       "      <td>...</td>\n",
       "    </tr>\n",
       "    <tr>\n",
       "      <th>520</th>\n",
       "      <td>0.505086</td>\n",
       "      <td>0.580900</td>\n",
       "      <td>0.559000</td>\n",
       "      <td>0.129420</td>\n",
       "      <td>-9.479689</td>\n",
       "      <td>0.059321</td>\n",
       "      <td>0.604678</td>\n",
       "    </tr>\n",
       "    <tr>\n",
       "      <th>521</th>\n",
       "      <td>0.251021</td>\n",
       "      <td>0.514878</td>\n",
       "      <td>0.625796</td>\n",
       "      <td>0.134136</td>\n",
       "      <td>-9.279401</td>\n",
       "      <td>0.048753</td>\n",
       "      <td>0.600485</td>\n",
       "    </tr>\n",
       "    <tr>\n",
       "      <th>522</th>\n",
       "      <td>0.290044</td>\n",
       "      <td>0.685524</td>\n",
       "      <td>0.570301</td>\n",
       "      <td>0.126171</td>\n",
       "      <td>-7.644711</td>\n",
       "      <td>0.062089</td>\n",
       "      <td>0.858645</td>\n",
       "    </tr>\n",
       "    <tr>\n",
       "      <th>523</th>\n",
       "      <td>0.061457</td>\n",
       "      <td>0.605333</td>\n",
       "      <td>0.581000</td>\n",
       "      <td>0.231000</td>\n",
       "      <td>-7.921333</td>\n",
       "      <td>0.044700</td>\n",
       "      <td>0.253000</td>\n",
       "    </tr>\n",
       "    <tr>\n",
       "      <th>524</th>\n",
       "      <td>0.983754</td>\n",
       "      <td>0.425502</td>\n",
       "      <td>0.084397</td>\n",
       "      <td>0.104321</td>\n",
       "      <td>-22.409077</td>\n",
       "      <td>0.046981</td>\n",
       "      <td>0.264155</td>\n",
       "    </tr>\n",
       "  </tbody>\n",
       "</table>\n",
       "<p>485 rows × 7 columns</p>\n",
       "</div>"
      ],
      "text/plain": [
       "        acous      dnce      nrgy      live         dB      spch       val\n",
       "0    0.979333  0.162883  0.071317  0.361600 -31.514333  0.040567  0.103783\n",
       "1    0.494780  0.299333  0.450678  0.131000 -16.854000  0.076817  0.221750\n",
       "2    0.762000  0.712000  0.818000  0.126000  -9.180000  0.047000  0.975000\n",
       "3    0.651417  0.529093  0.419146  0.218696 -12.288965  0.107872  0.513604\n",
       "4    0.676557  0.538961  0.316434  0.172254 -12.479387  0.082851  0.448249\n",
       "..        ...       ...       ...       ...        ...       ...       ...\n",
       "520  0.505086  0.580900  0.559000  0.129420  -9.479689  0.059321  0.604678\n",
       "521  0.251021  0.514878  0.625796  0.134136  -9.279401  0.048753  0.600485\n",
       "522  0.290044  0.685524  0.570301  0.126171  -7.644711  0.062089  0.858645\n",
       "523  0.061457  0.605333  0.581000  0.231000  -7.921333  0.044700  0.253000\n",
       "524  0.983754  0.425502  0.084397  0.104321 -22.409077  0.046981  0.264155\n",
       "\n",
       "[485 rows x 7 columns]"
      ]
     },
     "execution_count": 50,
     "metadata": {},
     "output_type": "execute_result"
    }
   ],
   "source": [
    "\n",
    "filtered_df = new_data[~new_data['genres'].str.contains('pop', case=False)]\n",
    "\n",
    "\n",
    "\n",
    "# Show the filtered DataFrame\n",
    "new_df = filtered_df.head(485)\n",
    "\n",
    "new_df.drop(columns = ['mode', 'genres', 'key', 'instrumentalness', 'tempo', 'popularity','duration_ms'], inplace = True)\n",
    "\n",
    "new_df = new_df.rename(columns={'acousticness': 'acous', 'danceability': 'dnce', 'energy': 'nrgy', 'liveness': 'live', 'valence':'val','speechiness':'spch', 'loudness':'dB'})\n",
    "\n",
    "new_df"
   ]
  },
  {
   "cell_type": "code",
   "execution_count": null,
   "id": "7928a490",
   "metadata": {},
   "outputs": [],
   "source": []
  },
  {
   "cell_type": "code",
   "execution_count": null,
   "id": "4306eef0",
   "metadata": {},
   "outputs": [],
   "source": []
  },
  {
   "cell_type": "code",
   "execution_count": 20,
   "id": "318472fc",
   "metadata": {},
   "outputs": [
    {
     "data": {
      "text/html": [
       "<div>\n",
       "<style scoped>\n",
       "    .dataframe tbody tr th:only-of-type {\n",
       "        vertical-align: middle;\n",
       "    }\n",
       "\n",
       "    .dataframe tbody tr th {\n",
       "        vertical-align: top;\n",
       "    }\n",
       "\n",
       "    .dataframe thead th {\n",
       "        text-align: right;\n",
       "    }\n",
       "</style>\n",
       "<table border=\"1\" class=\"dataframe\">\n",
       "  <thead>\n",
       "    <tr style=\"text-align: right;\">\n",
       "      <th></th>\n",
       "      <th>Unnamed: 0</th>\n",
       "      <th>title</th>\n",
       "      <th>artist</th>\n",
       "      <th>top genre</th>\n",
       "      <th>year</th>\n",
       "      <th>bpm</th>\n",
       "      <th>nrgy</th>\n",
       "      <th>dnce</th>\n",
       "      <th>dB</th>\n",
       "      <th>live</th>\n",
       "      <th>val</th>\n",
       "      <th>dur</th>\n",
       "      <th>acous</th>\n",
       "      <th>spch</th>\n",
       "      <th>pop</th>\n",
       "    </tr>\n",
       "  </thead>\n",
       "  <tbody>\n",
       "    <tr>\n",
       "      <th>0</th>\n",
       "      <td>1</td>\n",
       "      <td>Hey, Soul Sister</td>\n",
       "      <td>Train</td>\n",
       "      <td>neo mellow</td>\n",
       "      <td>2010</td>\n",
       "      <td>97</td>\n",
       "      <td>89</td>\n",
       "      <td>67</td>\n",
       "      <td>-4</td>\n",
       "      <td>8</td>\n",
       "      <td>80</td>\n",
       "      <td>217</td>\n",
       "      <td>19</td>\n",
       "      <td>4</td>\n",
       "      <td>83</td>\n",
       "    </tr>\n",
       "    <tr>\n",
       "      <th>1</th>\n",
       "      <td>2</td>\n",
       "      <td>Love The Way You Lie</td>\n",
       "      <td>Eminem</td>\n",
       "      <td>detroit hip hop</td>\n",
       "      <td>2010</td>\n",
       "      <td>87</td>\n",
       "      <td>93</td>\n",
       "      <td>75</td>\n",
       "      <td>-5</td>\n",
       "      <td>52</td>\n",
       "      <td>64</td>\n",
       "      <td>263</td>\n",
       "      <td>24</td>\n",
       "      <td>23</td>\n",
       "      <td>82</td>\n",
       "    </tr>\n",
       "    <tr>\n",
       "      <th>2</th>\n",
       "      <td>3</td>\n",
       "      <td>TiK ToK</td>\n",
       "      <td>Kesha</td>\n",
       "      <td>dance pop</td>\n",
       "      <td>2010</td>\n",
       "      <td>120</td>\n",
       "      <td>84</td>\n",
       "      <td>76</td>\n",
       "      <td>-3</td>\n",
       "      <td>29</td>\n",
       "      <td>71</td>\n",
       "      <td>200</td>\n",
       "      <td>10</td>\n",
       "      <td>14</td>\n",
       "      <td>80</td>\n",
       "    </tr>\n",
       "    <tr>\n",
       "      <th>3</th>\n",
       "      <td>4</td>\n",
       "      <td>Bad Romance</td>\n",
       "      <td>Lady Gaga</td>\n",
       "      <td>dance pop</td>\n",
       "      <td>2010</td>\n",
       "      <td>119</td>\n",
       "      <td>92</td>\n",
       "      <td>70</td>\n",
       "      <td>-4</td>\n",
       "      <td>8</td>\n",
       "      <td>71</td>\n",
       "      <td>295</td>\n",
       "      <td>0</td>\n",
       "      <td>4</td>\n",
       "      <td>79</td>\n",
       "    </tr>\n",
       "    <tr>\n",
       "      <th>4</th>\n",
       "      <td>5</td>\n",
       "      <td>Just the Way You Are</td>\n",
       "      <td>Bruno Mars</td>\n",
       "      <td>pop</td>\n",
       "      <td>2010</td>\n",
       "      <td>109</td>\n",
       "      <td>84</td>\n",
       "      <td>64</td>\n",
       "      <td>-5</td>\n",
       "      <td>9</td>\n",
       "      <td>43</td>\n",
       "      <td>221</td>\n",
       "      <td>2</td>\n",
       "      <td>4</td>\n",
       "      <td>78</td>\n",
       "    </tr>\n",
       "    <tr>\n",
       "      <th>...</th>\n",
       "      <td>...</td>\n",
       "      <td>...</td>\n",
       "      <td>...</td>\n",
       "      <td>...</td>\n",
       "      <td>...</td>\n",
       "      <td>...</td>\n",
       "      <td>...</td>\n",
       "      <td>...</td>\n",
       "      <td>...</td>\n",
       "      <td>...</td>\n",
       "      <td>...</td>\n",
       "      <td>...</td>\n",
       "      <td>...</td>\n",
       "      <td>...</td>\n",
       "      <td>...</td>\n",
       "    </tr>\n",
       "    <tr>\n",
       "      <th>598</th>\n",
       "      <td>599</td>\n",
       "      <td>Find U Again (feat. Camila Cabello)</td>\n",
       "      <td>Mark Ronson</td>\n",
       "      <td>dance pop</td>\n",
       "      <td>2019</td>\n",
       "      <td>104</td>\n",
       "      <td>66</td>\n",
       "      <td>61</td>\n",
       "      <td>-7</td>\n",
       "      <td>20</td>\n",
       "      <td>16</td>\n",
       "      <td>176</td>\n",
       "      <td>1</td>\n",
       "      <td>3</td>\n",
       "      <td>75</td>\n",
       "    </tr>\n",
       "    <tr>\n",
       "      <th>599</th>\n",
       "      <td>600</td>\n",
       "      <td>Cross Me (feat. Chance the Rapper &amp; PnB Rock)</td>\n",
       "      <td>Ed Sheeran</td>\n",
       "      <td>pop</td>\n",
       "      <td>2019</td>\n",
       "      <td>95</td>\n",
       "      <td>79</td>\n",
       "      <td>75</td>\n",
       "      <td>-6</td>\n",
       "      <td>7</td>\n",
       "      <td>61</td>\n",
       "      <td>206</td>\n",
       "      <td>21</td>\n",
       "      <td>12</td>\n",
       "      <td>75</td>\n",
       "    </tr>\n",
       "    <tr>\n",
       "      <th>600</th>\n",
       "      <td>601</td>\n",
       "      <td>No Brainer (feat. Justin Bieber, Chance the Ra...</td>\n",
       "      <td>DJ Khaled</td>\n",
       "      <td>dance pop</td>\n",
       "      <td>2019</td>\n",
       "      <td>136</td>\n",
       "      <td>76</td>\n",
       "      <td>53</td>\n",
       "      <td>-5</td>\n",
       "      <td>9</td>\n",
       "      <td>65</td>\n",
       "      <td>260</td>\n",
       "      <td>7</td>\n",
       "      <td>34</td>\n",
       "      <td>70</td>\n",
       "    </tr>\n",
       "    <tr>\n",
       "      <th>601</th>\n",
       "      <td>602</td>\n",
       "      <td>Nothing Breaks Like a Heart (feat. Miley Cyrus)</td>\n",
       "      <td>Mark Ronson</td>\n",
       "      <td>dance pop</td>\n",
       "      <td>2019</td>\n",
       "      <td>114</td>\n",
       "      <td>79</td>\n",
       "      <td>60</td>\n",
       "      <td>-6</td>\n",
       "      <td>42</td>\n",
       "      <td>24</td>\n",
       "      <td>217</td>\n",
       "      <td>1</td>\n",
       "      <td>7</td>\n",
       "      <td>69</td>\n",
       "    </tr>\n",
       "    <tr>\n",
       "      <th>602</th>\n",
       "      <td>603</td>\n",
       "      <td>Kills You Slowly</td>\n",
       "      <td>The Chainsmokers</td>\n",
       "      <td>electropop</td>\n",
       "      <td>2019</td>\n",
       "      <td>150</td>\n",
       "      <td>44</td>\n",
       "      <td>70</td>\n",
       "      <td>-9</td>\n",
       "      <td>13</td>\n",
       "      <td>23</td>\n",
       "      <td>213</td>\n",
       "      <td>6</td>\n",
       "      <td>6</td>\n",
       "      <td>67</td>\n",
       "    </tr>\n",
       "  </tbody>\n",
       "</table>\n",
       "<p>603 rows × 15 columns</p>\n",
       "</div>"
      ],
      "text/plain": [
       "     Unnamed: 0                                              title  \\\n",
       "0             1                                   Hey, Soul Sister   \n",
       "1             2                               Love The Way You Lie   \n",
       "2             3                                            TiK ToK   \n",
       "3             4                                        Bad Romance   \n",
       "4             5                               Just the Way You Are   \n",
       "..          ...                                                ...   \n",
       "598         599                Find U Again (feat. Camila Cabello)   \n",
       "599         600      Cross Me (feat. Chance the Rapper & PnB Rock)   \n",
       "600         601  No Brainer (feat. Justin Bieber, Chance the Ra...   \n",
       "601         602    Nothing Breaks Like a Heart (feat. Miley Cyrus)   \n",
       "602         603                                   Kills You Slowly   \n",
       "\n",
       "               artist        top genre  year  bpm  nrgy  dnce  dB  live  val  \\\n",
       "0               Train       neo mellow  2010   97    89    67  -4     8   80   \n",
       "1              Eminem  detroit hip hop  2010   87    93    75  -5    52   64   \n",
       "2               Kesha        dance pop  2010  120    84    76  -3    29   71   \n",
       "3           Lady Gaga        dance pop  2010  119    92    70  -4     8   71   \n",
       "4          Bruno Mars              pop  2010  109    84    64  -5     9   43   \n",
       "..                ...              ...   ...  ...   ...   ...  ..   ...  ...   \n",
       "598       Mark Ronson        dance pop  2019  104    66    61  -7    20   16   \n",
       "599        Ed Sheeran              pop  2019   95    79    75  -6     7   61   \n",
       "600         DJ Khaled        dance pop  2019  136    76    53  -5     9   65   \n",
       "601       Mark Ronson        dance pop  2019  114    79    60  -6    42   24   \n",
       "602  The Chainsmokers       electropop  2019  150    44    70  -9    13   23   \n",
       "\n",
       "     dur  acous  spch  pop  \n",
       "0    217     19     4   83  \n",
       "1    263     24    23   82  \n",
       "2    200     10    14   80  \n",
       "3    295      0     4   79  \n",
       "4    221      2     4   78  \n",
       "..   ...    ...   ...  ...  \n",
       "598  176      1     3   75  \n",
       "599  206     21    12   75  \n",
       "600  260      7    34   70  \n",
       "601  217      1     7   69  \n",
       "602  213      6     6   67  \n",
       "\n",
       "[603 rows x 15 columns]"
      ]
     },
     "execution_count": 20,
     "metadata": {},
     "output_type": "execute_result"
    }
   ],
   "source": [
    "data = pd.read_csv(\"top10s.csv\",encoding='latin-1')\n",
    "\n",
    "data"
   ]
  },
  {
   "cell_type": "code",
   "execution_count": 21,
   "id": "503e08b4",
   "metadata": {},
   "outputs": [],
   "source": [
    "\n",
    "df = data\n",
    "\n",
    "Y_data = df['top genre']\n",
    "\n",
    "\n",
    "df.drop(columns = ['Unnamed: 0', 'title', 'artist', 'top genre', 'year', 'pop','dur','bpm'], inplace = True)\n",
    "\n",
    "X_data = df\n",
    "\n"
   ]
  },
  {
   "cell_type": "code",
   "execution_count": 22,
   "id": "9f6c1a27",
   "metadata": {
    "scrolled": true
   },
   "outputs": [],
   "source": [
    "Y_data\n",
    "\n",
    "Y_data = Y_data.apply(lambda x: 'pop' if 'pop' in x else x)\n",
    "Y_data = Y_data.apply(lambda x: 'hip hop' if 'hip hop' in x else x)"
   ]
  },
  {
   "cell_type": "code",
   "execution_count": 38,
   "id": "eda5fd50",
   "metadata": {},
   "outputs": [
    {
     "name": "stdout",
     "output_type": "stream",
     "text": [
      "485\n"
     ]
    }
   ],
   "source": [
    "Y_data\n",
    "\n",
    "count = 0\n",
    "for i in Y_data:\n",
    "    if i == \"pop\":\n",
    "        count += 1\n",
    "        \n",
    "print(count)"
   ]
  },
  {
   "cell_type": "code",
   "execution_count": 24,
   "id": "23cc2efe",
   "metadata": {},
   "outputs": [
    {
     "name": "stdout",
     "output_type": "stream",
     "text": [
      "Accuracy: 0.79\n",
      "Classification Report:\n",
      "                            precision    recall  f1-score   support\n",
      "\n",
      "         australian dance       0.00      0.00      0.00         1\n",
      "                 big room       0.00      0.00      0.00         3\n",
      "                 boy band       0.00      0.00      0.00         3\n",
      "             british soul       0.00      0.00      0.00         2\n",
      "canadian contemporary r&b       0.00      0.00      0.00         1\n",
      "           canadian latin       0.00      0.00      0.00         1\n",
      "              chicago rap       0.00      0.00      0.00         1\n",
      "               complextro       0.00      0.00      0.00         1\n",
      "     contemporary country       0.00      0.00      0.00         1\n",
      "                downtempo       0.00      0.00      0.00         2\n",
      "                      edm       1.00      0.50      0.67         2\n",
      "                  hip hop       0.00      0.00      0.00         1\n",
      "               neo mellow       0.00      0.00      0.00         1\n",
      "           permanent wave       0.00      0.00      0.00         2\n",
      "                      pop       0.83      0.96      0.89        99\n",
      "\n",
      "                 accuracy                           0.79       121\n",
      "                macro avg       0.12      0.10      0.10       121\n",
      "             weighted avg       0.69      0.79      0.74       121\n",
      "\n"
     ]
    },
    {
     "name": "stderr",
     "output_type": "stream",
     "text": [
      "/Library/Frameworks/Python.framework/Versions/3.11/lib/python3.11/site-packages/sklearn/metrics/_classification.py:1344: UndefinedMetricWarning: Precision and F-score are ill-defined and being set to 0.0 in labels with no predicted samples. Use `zero_division` parameter to control this behavior.\n",
      "  _warn_prf(average, modifier, msg_start, len(result))\n",
      "/Library/Frameworks/Python.framework/Versions/3.11/lib/python3.11/site-packages/sklearn/metrics/_classification.py:1344: UndefinedMetricWarning: Precision and F-score are ill-defined and being set to 0.0 in labels with no predicted samples. Use `zero_division` parameter to control this behavior.\n",
      "  _warn_prf(average, modifier, msg_start, len(result))\n",
      "/Library/Frameworks/Python.framework/Versions/3.11/lib/python3.11/site-packages/sklearn/metrics/_classification.py:1344: UndefinedMetricWarning: Precision and F-score are ill-defined and being set to 0.0 in labels with no predicted samples. Use `zero_division` parameter to control this behavior.\n",
      "  _warn_prf(average, modifier, msg_start, len(result))\n"
     ]
    }
   ],
   "source": [
    "\n",
    "\n",
    "X_train, X_test, y_train, y_test = train_test_split(X_data, Y_data, test_size=0.2, random_state=42)\n",
    "\n",
    "knn = KNeighborsClassifier(n_neighbors=5)\n",
    "\n",
    "knn.fit(X_train, y_train)\n",
    "\n",
    "y_pred = knn.predict(X_test)\n",
    "\n",
    "\n",
    "\n",
    "accuracy = accuracy_score(y_test, y_pred)\n",
    "print(f\"Accuracy: {accuracy:.2f}\")\n",
    "\n",
    "\n",
    "report = classification_report(y_test, y_pred)\n",
    "print(\"Classification Report:\\n\", report)"
   ]
  },
  {
   "cell_type": "code",
   "execution_count": 6,
   "id": "73e25dc7",
   "metadata": {},
   "outputs": [
    {
     "name": "stdout",
     "output_type": "stream",
     "text": [
      "Requirement already satisfied: spotipy in /Library/Frameworks/Python.framework/Versions/3.11/lib/python3.11/site-packages (2.23.0)\n",
      "Requirement already satisfied: redis>=3.5.3 in /Library/Frameworks/Python.framework/Versions/3.11/lib/python3.11/site-packages (from spotipy) (4.5.4)\n",
      "Requirement already satisfied: requests>=2.25.0 in /Library/Frameworks/Python.framework/Versions/3.11/lib/python3.11/site-packages (from spotipy) (2.28.1)\n",
      "Requirement already satisfied: six>=1.15.0 in /Library/Frameworks/Python.framework/Versions/3.11/lib/python3.11/site-packages (from spotipy) (1.16.0)\n",
      "Requirement already satisfied: urllib3>=1.26.0 in /Library/Frameworks/Python.framework/Versions/3.11/lib/python3.11/site-packages (from spotipy) (1.26.13)\n",
      "Requirement already satisfied: async-timeout>=4.0.2 in /Library/Frameworks/Python.framework/Versions/3.11/lib/python3.11/site-packages (from redis>=3.5.3->spotipy) (4.0.2)\n",
      "Requirement already satisfied: charset-normalizer<3,>=2 in /Library/Frameworks/Python.framework/Versions/3.11/lib/python3.11/site-packages (from requests>=2.25.0->spotipy) (2.1.1)\n",
      "Requirement already satisfied: idna<4,>=2.5 in /Library/Frameworks/Python.framework/Versions/3.11/lib/python3.11/site-packages (from requests>=2.25.0->spotipy) (3.4)\n",
      "Requirement already satisfied: certifi>=2017.4.17 in /Library/Frameworks/Python.framework/Versions/3.11/lib/python3.11/site-packages (from requests>=2.25.0->spotipy) (2022.12.7)\n",
      "\n",
      "\u001b[1m[\u001b[0m\u001b[34;49mnotice\u001b[0m\u001b[1;39;49m]\u001b[0m\u001b[39;49m A new release of pip available: \u001b[0m\u001b[31;49m22.3.1\u001b[0m\u001b[39;49m -> \u001b[0m\u001b[32;49m23.1\u001b[0m\n",
      "\u001b[1m[\u001b[0m\u001b[34;49mnotice\u001b[0m\u001b[1;39;49m]\u001b[0m\u001b[39;49m To update, run: \u001b[0m\u001b[32;49mpip3 install --upgrade pip\u001b[0m\n",
      "Note: you may need to restart the kernel to use updated packages.\n"
     ]
    }
   ],
   "source": [
    "pip install spotipy --upgrade"
   ]
  },
  {
   "cell_type": "code",
   "execution_count": 4,
   "id": "e5dfb2b0",
   "metadata": {},
   "outputs": [],
   "source": [
    "import os\n",
    "import spotipy\n",
    "from spotipy.oauth2 import SpotifyClientCredentials\n",
    "from youtubesearchpython import VideosSearch\n",
    "\n",
    "\n",
    "# Replace with your own credentials\n",
    "client_id = '733b9bea3f154a83be8779e9180bf784'\n",
    "client_secret = '2c5a00122b8940a9969092fc798bb595'\n",
    "\n",
    "# Set environment variables\n",
    "os.environ['SPOTIPY_CLIENT_ID'] = client_id\n",
    "os.environ['SPOTIPY_CLIENT_SECRET'] = client_secret\n",
    "\n",
    "spotify = spotipy.Spotify(client_credentials_manager=SpotifyClientCredentials())"
   ]
  },
  {
   "cell_type": "code",
   "execution_count": null,
   "id": "44ae8292",
   "metadata": {},
   "outputs": [],
   "source": []
  },
  {
   "cell_type": "code",
   "execution_count": 36,
   "id": "c3be3010",
   "metadata": {},
   "outputs": [
    {
     "name": "stdout",
     "output_type": "stream",
     "text": [
      "Enter a song name: chasin' you\n",
      "Enter the artist of the song: morgan wallen\n",
      "{'danceability': 0.631, 'energy': 0.591, 'key': 7, 'loudness': -5.785, 'mode': 1, 'speechiness': 0.0277, 'acousticness': 0.657, 'instrumentalness': 0, 'liveness': 0.11, 'valence': 0.489, 'tempo': 97.074, 'type': 'audio_features', 'id': '5MwynWK9s4hlyKHqhkNn4A', 'uri': 'spotify:track:5MwynWK9s4hlyKHqhkNn4A', 'track_href': 'https://api.spotify.com/v1/tracks/5MwynWK9s4hlyKHqhkNn4A', 'analysis_url': 'https://api.spotify.com/v1/audio-analysis/5MwynWK9s4hlyKHqhkNn4A', 'duration_ms': 205453, 'time_signature': 4}\n",
      "Audio features for chasin' you by morgan wallen:\n",
      "\n",
      "danceability: 0.631\n",
      "energy: 0.591\n",
      "key: 7\n",
      "loudness: -5.785\n",
      "mode: 1\n",
      "speechiness: 0.0277\n",
      "acousticness: 0.657\n",
      "instrumentalness: 0\n",
      "liveness: 0.11\n",
      "valence: 0.489\n",
      "tempo: 97.074\n",
      "type: audio_features\n",
      "id: 5MwynWK9s4hlyKHqhkNn4A\n",
      "uri: spotify:track:5MwynWK9s4hlyKHqhkNn4A\n",
      "track_href: https://api.spotify.com/v1/tracks/5MwynWK9s4hlyKHqhkNn4A\n",
      "analysis_url: https://api.spotify.com/v1/audio-analysis/5MwynWK9s4hlyKHqhkNn4A\n",
      "duration_ms: 205453\n",
      "time_signature: 4\n",
      "\n",
      "\n",
      "\n",
      "\n",
      "['pop']\n",
      "\n",
      "\n",
      "SONG LINK\n"
     ]
    },
    {
     "name": "stderr",
     "output_type": "stream",
     "text": [
      "/Library/Frameworks/Python.framework/Versions/3.11/lib/python3.11/site-packages/sklearn/base.py:420: UserWarning: X does not have valid feature names, but KNeighborsClassifier was fitted with feature names\n",
      "  warnings.warn(\n"
     ]
    },
    {
     "name": "stdout",
     "output_type": "stream",
     "text": [
      "https://www.youtube.com/watch?v=iBduQb1S-4s\n"
     ]
    }
   ],
   "source": [
    "\n",
    "# Search for the song\n",
    "song_name = input('Enter a song name: ')\n",
    "artist_name = input('Enter the artist of the song: ')\n",
    "query = f\"track:{song_name} artist:{artist_name}\"\n",
    "result = spotify.search(query, type='track', limit=1)\n",
    "\n",
    "\n",
    "# Extract the Spotify ID (URI) of the song\n",
    "track = result['tracks']['items'][0]\n",
    "song_id = track['id']\n",
    "\n",
    "# Retrieve the audio features\n",
    "audio_features = spotify.audio_features([song_id])[0]\n",
    "\n",
    "\n",
    "\n",
    "\n",
    "\n",
    "\n",
    "\n",
    "\n",
    "print(audio_features)\n",
    "\n",
    "nrgy = audio_features['energy']\n",
    "dnce = audio_features['danceability']\n",
    "dB = audio_features['loudness']\n",
    "live = audio_features['liveness']\n",
    "val = audio_features['valence']\n",
    "acous = audio_features['acousticness']\n",
    "spch = audio_features['speechiness']\n",
    "\n",
    "\n",
    "final_features = [nrgy, dnce, dB, live, val, acous, spch]\n",
    "\n",
    "# Print the audio features\n",
    "print(f\"Audio features for {song_name} by {artist_name}:\\n\")\n",
    "for feature, value in audio_features.items():\n",
    "    print(f\"{feature}: {value}\")\n",
    "\n",
    "    \n",
    "print('\\n\\n\\n')\n",
    "    \n",
    "final_features_2d = np.array(final_features).reshape(1, -1)\n",
    "print(knn.predict(final_features_2d))\n",
    "    \n",
    "print('\\n\\nSONG LINK')\n",
    "\n",
    "\n",
    "videosSearch = VideosSearch(query, limit = 1)\n",
    "\n",
    "data = videosSearch.result()\n",
    "\n",
    "link = data['result'][0]['link']\n",
    "\n",
    "print(link)"
   ]
  },
  {
   "cell_type": "code",
   "execution_count": null,
   "id": "35cafe04",
   "metadata": {},
   "outputs": [],
   "source": []
  },
  {
   "cell_type": "code",
   "execution_count": 15,
   "id": "3cbc18c0",
   "metadata": {},
   "outputs": [
    {
     "name": "stdout",
     "output_type": "stream",
     "text": [
      "Collecting youtube-search-python\n",
      "  Downloading youtube_search_python-1.6.6-py3-none-any.whl (89 kB)\n",
      "\u001b[2K     \u001b[90m━━━━━━━━━━━━━━━━━━━━━━━━━━━━━━━━━━━━━━━━\u001b[0m \u001b[32m89.1/89.1 kB\u001b[0m \u001b[31m1.3 MB/s\u001b[0m eta \u001b[36m0:00:00\u001b[0ma \u001b[36m0:00:01\u001b[0m\n",
      "\u001b[?25hCollecting httpx>=0.14.2\n",
      "  Downloading httpx-0.24.0-py3-none-any.whl (75 kB)\n",
      "\u001b[2K     \u001b[90m━━━━━━━━━━━━━━━━━━━━━━━━━━━━━━━━━━━━━━━━\u001b[0m \u001b[32m75.3/75.3 kB\u001b[0m \u001b[31m5.7 MB/s\u001b[0m eta \u001b[36m0:00:00\u001b[0m\n",
      "\u001b[?25hRequirement already satisfied: certifi in /Library/Frameworks/Python.framework/Versions/3.11/lib/python3.11/site-packages (from httpx>=0.14.2->youtube-search-python) (2022.12.7)\n",
      "Collecting httpcore<0.18.0,>=0.15.0\n",
      "  Downloading httpcore-0.17.0-py3-none-any.whl (70 kB)\n",
      "\u001b[2K     \u001b[90m━━━━━━━━━━━━━━━━━━━━━━━━━━━━━━━━━━━━━━━━\u001b[0m \u001b[32m70.6/70.6 kB\u001b[0m \u001b[31m4.1 MB/s\u001b[0m eta \u001b[36m0:00:00\u001b[0m\n",
      "\u001b[?25hRequirement already satisfied: idna in /Library/Frameworks/Python.framework/Versions/3.11/lib/python3.11/site-packages (from httpx>=0.14.2->youtube-search-python) (3.4)\n",
      "Requirement already satisfied: sniffio in /Library/Frameworks/Python.framework/Versions/3.11/lib/python3.11/site-packages (from httpx>=0.14.2->youtube-search-python) (1.3.0)\n",
      "Collecting h11<0.15,>=0.13\n",
      "  Downloading h11-0.14.0-py3-none-any.whl (58 kB)\n",
      "\u001b[2K     \u001b[90m━━━━━━━━━━━━━━━━━━━━━━━━━━━━━━━━━━━━━━━━\u001b[0m \u001b[32m58.3/58.3 kB\u001b[0m \u001b[31m4.2 MB/s\u001b[0m eta \u001b[36m0:00:00\u001b[0m\n",
      "\u001b[?25hRequirement already satisfied: anyio<5.0,>=3.0 in /Library/Frameworks/Python.framework/Versions/3.11/lib/python3.11/site-packages (from httpcore<0.18.0,>=0.15.0->httpx>=0.14.2->youtube-search-python) (3.6.2)\n",
      "Installing collected packages: h11, httpcore, httpx, youtube-search-python\n",
      "Successfully installed h11-0.14.0 httpcore-0.17.0 httpx-0.24.0 youtube-search-python-1.6.6\n",
      "\n",
      "\u001b[1m[\u001b[0m\u001b[34;49mnotice\u001b[0m\u001b[1;39;49m]\u001b[0m\u001b[39;49m A new release of pip available: \u001b[0m\u001b[31;49m22.3.1\u001b[0m\u001b[39;49m -> \u001b[0m\u001b[32;49m23.1\u001b[0m\n",
      "\u001b[1m[\u001b[0m\u001b[34;49mnotice\u001b[0m\u001b[1;39;49m]\u001b[0m\u001b[39;49m To update, run: \u001b[0m\u001b[32;49mpip3 install --upgrade pip\u001b[0m\n",
      "Note: you may need to restart the kernel to use updated packages.\n"
     ]
    }
   ],
   "source": [
    "pip install youtube-search-python"
   ]
  },
  {
   "cell_type": "code",
   "execution_count": null,
   "id": "1fd14725",
   "metadata": {},
   "outputs": [],
   "source": []
  },
  {
   "cell_type": "code",
   "execution_count": null,
   "id": "4b570e92",
   "metadata": {},
   "outputs": [],
   "source": []
  },
  {
   "cell_type": "code",
   "execution_count": null,
   "id": "09325146",
   "metadata": {},
   "outputs": [],
   "source": []
  },
  {
   "cell_type": "code",
   "execution_count": null,
   "id": "95b588d2",
   "metadata": {},
   "outputs": [],
   "source": []
  },
  {
   "cell_type": "code",
   "execution_count": null,
   "id": "ca3e6438",
   "metadata": {},
   "outputs": [],
   "source": []
  },
  {
   "cell_type": "code",
   "execution_count": null,
   "id": "55e60f9f",
   "metadata": {},
   "outputs": [],
   "source": []
  },
  {
   "cell_type": "code",
   "execution_count": null,
   "id": "bc9a5fcc",
   "metadata": {},
   "outputs": [],
   "source": []
  }
 ],
 "metadata": {
  "kernelspec": {
   "display_name": "Python 3 (ipykernel)",
   "language": "python",
   "name": "python3"
  },
  "language_info": {
   "codemirror_mode": {
    "name": "ipython",
    "version": 3
   },
   "file_extension": ".py",
   "mimetype": "text/x-python",
   "name": "python",
   "nbconvert_exporter": "python",
   "pygments_lexer": "ipython3",
   "version": "3.11.1"
  }
 },
 "nbformat": 4,
 "nbformat_minor": 5
}
